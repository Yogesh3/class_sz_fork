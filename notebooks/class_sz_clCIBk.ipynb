{
 "cells": [
  {
   "attachments": {},
   "cell_type": "markdown",
   "metadata": {},
   "source": [
    "This notebook is very similar to `class_sz_CIB.ipynb`. Refer to that notebook for CIB autospectrum with `class_sz`."
   ]
  },
  {
   "cell_type": "code",
   "execution_count": 1,
   "metadata": {},
   "outputs": [
    {
     "name": "stderr",
     "output_type": "stream",
     "text": [
      "2023-03-23 09:48:01.307600: W tensorflow/compiler/tf2tensorrt/utils/py_utils.cc:38] TF-TRT Warning: Could not find TensorRT\n"
     ]
    },
    {
     "name": "stdout",
     "output_type": "stream",
     "text": [
      "WARNING:tensorflow:Please fix your imports. Module tensorflow.python.training.tracking.data_structures has been moved to tensorflow.python.trackable.data_structures. The old module will be deleted in version 2.11.\n"
     ]
    },
    {
     "name": "stderr",
     "output_type": "stream",
     "text": [
      "2023-03-23 09:48:03.073593: W tensorflow/core/common_runtime/gpu/gpu_device.cc:1956] Cannot dlopen some GPU libraries. Please make sure the missing libraries mentioned above are installed properly if you would like to use GPU. Follow the guide at https://www.tensorflow.org/install/gpu for how to download and setup the required libraries for your platform.\n",
      "Skipping registering GPU devices...\n"
     ]
    }
   ],
   "source": [
    "import numpy as np\n",
    "import matplotlib as mpl\n",
    "from matplotlib import pyplot as plt\n",
    "from matplotlib_inline.backend_inline import set_matplotlib_formats\n",
    "set_matplotlib_formats('svg')\n",
    "from classy_sz import Class\n",
    "import os\n",
    "import time"
   ]
  },
  {
   "cell_type": "code",
   "execution_count": 2,
   "metadata": {},
   "outputs": [],
   "source": [
    "# a simple conversion from cl's to dl's\n",
    "def cl_to_dl(lp):\n",
    "    return lp*(lp+1.)/2./np.pi"
   ]
  },
  {
   "attachments": {},
   "cell_type": "markdown",
   "metadata": {},
   "source": [
    "# CIB x $\\kappa$ Power Spectrum"
   ]
  },
  {
   "attachments": {},
   "cell_type": "markdown",
   "metadata": {},
   "source": [
    "## Set Parameters"
   ]
  },
  {
   "attachments": {},
   "cell_type": "markdown",
   "metadata": {},
   "source": [
    "You can set `class_sz` parameters individually, in a single dictionary, or multiple dictionaries."
   ]
  },
  {
   "attachments": {},
   "cell_type": "markdown",
   "metadata": {},
   "source": [
    "First, let's establish the cosmology. McCarthy et al. use Planck 2014 cosmology (https://arxiv.org/pdf/1303.5076.pdf, best-fit)."
   ]
  },
  {
   "cell_type": "code",
   "execution_count": 3,
   "metadata": {},
   "outputs": [],
   "source": [
    "#Parameters for Cosmology Planck 14, https://arxiv.org/pdf/1303.5076.pdf, best-fit\n",
    "p14_dict={}\n",
    "p14_dict['Omega_cdm'] = 0.3175-0.022068/0.6711/0.6711\n",
    "p14_dict['omega_b'] = 0.022068\n",
    "p14_dict['h'] = 0.6711\n",
    "p14_dict['A_s'] = 2.2e-9\n",
    "p14_dict['n_s'] = .9624\n",
    "p14_dict['k_pivot'] = 0.05\n",
    "p14_dict['tau_reio'] = 0.0925\n",
    "p14_dict['N_ncdm'] = 1\n",
    "p14_dict['N_ur'] = 0.00641\n",
    "p14_dict['deg_ncdm'] = 3\n",
    "p14_dict['m_ncdm'] = 0.02\n",
    "p14_dict['T_ncdm'] = 0.71611"
   ]
  },
  {
   "attachments": {},
   "cell_type": "markdown",
   "metadata": {},
   "source": [
    "Halo Model and grid parameters:"
   ]
  },
  {
   "cell_type": "code",
   "execution_count": 15,
   "metadata": {},
   "outputs": [],
   "source": [
    "p_hm_dict = {}\n",
    "\n",
    "p_hm_dict['mass function'] = 'T10'\n",
    "p_hm_dict['concentration parameter'] = 'D08'\n",
    "p_hm_dict['delta for cib'] = '200m'\n",
    "p_hm_dict['hm_consistency'] = 1\n",
    "p_hm_dict['damping_1h_term'] = 0\n",
    "# Precision\n",
    "p_hm_dict['pressure_profile_epsabs'] = 1.e-8\n",
    "p_hm_dict['pressure_profile_epsrel'] = 1.e-3\n",
    "# HOD parameters for CIB\n",
    "p_hm_dict['M_min_HOD'] = pow(10.,10)  # was M_min_HOD_cib\n",
    "\n",
    "#Grid Parameters\n",
    "# Mass bounds\n",
    "p_hm_dict['M_min'] = 1e8*p14_dict['h'] # was M_min_cib\n",
    "p_hm_dict['M_max'] = 1e16*p14_dict['h'] # was M_max_cib\n",
    "# Redshift bounds\n",
    "p_hm_dict['z_min'] = 0.07\n",
    "p_hm_dict['z_max'] = 6. # fiducial for MM20 : 6\n",
    "p_hm_dict['freq_min'] = 10.\n",
    "p_hm_dict['freq_max'] = 5e4 # fiducial for MM20 : 6\n",
    "p_hm_dict['z_max_pk'] = p_hm_dict['z_max']\n",
    "\n",
    "#Precision Parameters\n",
    "# Precision for redshift integal\n",
    "p_hm_dict['redshift_epsabs'] = 1e-40#1.e-40\n",
    "p_hm_dict['redshift_epsrel'] = 1e-4#1.e-10 # fiducial value 1e-8\n",
    "# Precision for mass integal\n",
    "p_hm_dict['mass_epsabs'] = 1e-40 #1.e-40\n",
    "p_hm_dict['mass_epsrel'] = 1e-4#1e-10\n",
    "# Precision for Luminosity integral (sub-halo mass function)\n",
    "p_hm_dict['L_sat_epsabs'] = 1e-40 #1.e-40\n",
    "p_hm_dict['L_sat_epsrel'] = 1e-3#1e-10\n",
    "# Multipole array\n",
    "p_hm_dict['dlogell'] = 0.1\n",
    "p_hm_dict['ell_max'] = 8000.\n",
    "p_hm_dict['ell_min'] = 10"
   ]
  },
  {
   "attachments": {},
   "cell_type": "markdown",
   "metadata": {},
   "source": [
    "CIB Model parameters (see McCarthy et al. at https://journals.aps.org/prd/abstract/10.1103/PhysRevD.103.103515):"
   ]
  },
  {
   "cell_type": "code",
   "execution_count": 5,
   "metadata": {},
   "outputs": [],
   "source": [
    "#CIB Parameters\n",
    "p_CIB_dict = {}\n",
    "p_CIB_dict['Redshift evolution of dust temperature'] =  0.36\n",
    "p_CIB_dict['Dust temperature today in Kelvins'] = 24.4\n",
    "p_CIB_dict['Emissivity index of sed'] = 1.75\n",
    "p_CIB_dict['Power law index of SED at high frequency'] = 1.7\n",
    "p_CIB_dict['Redshift evolution of L - M normalisation'] = 3.6\n",
    "p_CIB_dict['Most efficient halo mass in Msun'] = 10**12.6\n",
    "p_CIB_dict['Normalisation of L - M relation in [Jy MPc2/Msun]'] = 6.4e-8\n",
    "p_CIB_dict['Size of of halo masses sourcing CIB emission'] = 0.5"
   ]
  },
  {
   "attachments": {},
   "cell_type": "markdown",
   "metadata": {},
   "source": [
    "Select your frequencies. Here, we choose some Planck frequencies. Note that the frequency lists (both for the observed CIB frequencies and the flux cuts) must be a single string, not a list of strings."
   ]
  },
  {
   "cell_type": "code",
   "execution_count": 6,
   "metadata": {},
   "outputs": [],
   "source": [
    "nu_list = [353,545,857]\n",
    "nu_list_str = str(nu_list)[1:-1]  # Note: this must be a single string, not a list of strings!\n",
    "\n",
    "#Frequency Parameters\n",
    "p_freq_dict = {}\n",
    "p_freq_dict['cib_frequency_list_num'] = len(nu_list)\n",
    "p_freq_dict['cib_frequency_list_in_GHz'] = nu_list_str"
   ]
  },
  {
   "attachments": {},
   "cell_type": "markdown",
   "metadata": {},
   "source": [
    "We choose flux cuts from Planck 2013 (see https://journals.aps.org/prd/abstract/10.1103/PhysRevD.103.103515)."
   ]
  },
  {
   "cell_type": "code",
   "execution_count": 7,
   "metadata": {},
   "outputs": [],
   "source": [
    "#Flux Cuts\n",
    "cib_fcut_dict = {}\n",
    "\n",
    "#Planck flux cut, Table 1 in https://arxiv.org/pdf/1309.0382.pdf\n",
    "cib_fcut_dict['100'] = 400\n",
    "cib_fcut_dict['143'] = 350\n",
    "cib_fcut_dict['217'] = 225\n",
    "cib_fcut_dict['353'] = 315\n",
    "cib_fcut_dict['545'] = 350\n",
    "cib_fcut_dict['857'] = 710\n",
    "cib_fcut_dict['3000'] = 1000\n",
    "\n",
    "def make_flux_cut_list(cib_flux, nu_list):\n",
    "    \"\"\"\n",
    "    Make a string of flux cut values for given frequency list to pass into class_sz\n",
    "    Beware: if frequency not in the flux_cut dictionary, it assigns 0\n",
    "    \"\"\"\n",
    "    cib_flux_list = []\n",
    "    keys = list(cib_flux.keys())\n",
    "    for i,nu in enumerate(nu_list):\n",
    "        if str(nu) in keys:\n",
    "            cib_flux_list.append(cib_flux[str(nu)])\n",
    "        else:\n",
    "            cib_flux_list.append(0)\n",
    "    return cib_flux_list\n",
    "\n",
    "cib_flux_list = make_flux_cut_list(cib_fcut_dict, nu_list)\n",
    "\n",
    "#Add Flux Cuts\n",
    "p_freq_dict['cib_Snu_cutoff_list [mJy]'] = str(list(cib_flux_list))[1:-1]\n",
    "p_freq_dict['has_cib_flux_cut'] = 1\n"
   ]
  },
  {
   "attachments": {},
   "cell_type": "markdown",
   "metadata": {},
   "source": [
    "## Compute Power Spectrum"
   ]
  },
  {
   "attachments": {},
   "cell_type": "markdown",
   "metadata": {},
   "source": [
    "### Standard `class_sz` computation"
   ]
  },
  {
   "cell_type": "code",
   "execution_count": 16,
   "metadata": {},
   "outputs": [
    {
     "data": {
      "text/plain": [
       "True"
      ]
     },
     "execution_count": 16,
     "metadata": {},
     "output_type": "execute_result"
    }
   ],
   "source": [
    "M = Class()\n",
    "\n",
    "#Set Parameters\n",
    "M.set(p14_dict)\n",
    "M.set(p_hm_dict)\n",
    "M.set(p_CIB_dict)\n",
    "M.set(p_freq_dict)\n",
    "\n",
    "#Tell It What You Want\n",
    "M.set({\n",
    "    # 'output': 'lens_cib_1h,lens_cib_2h' \n",
    "    'output': 'lens_cib_1h,lens_cib_2h,lCl'\n",
    "})"
   ]
  },
  {
   "cell_type": "code",
   "execution_count": 17,
   "metadata": {},
   "outputs": [
    {
     "name": "stdout",
     "output_type": "stream",
     "text": [
      "CPU times: user 1min 45s, sys: 0 ns, total: 1min 45s\n",
      "Wall time: 7.55 s\n"
     ]
    }
   ],
   "source": [
    "%%time\n",
    "#Calculate Spectra\n",
    "M.compute()\n",
    "Dl_lens_cib = M.cl_lens_cib()\n",
    "M.struct_cleanup()\n",
    "M.empty()"
   ]
  },
  {
   "cell_type": "code",
   "execution_count": 10,
   "metadata": {},
   "outputs": [],
   "source": [
    "# M = Class()\n",
    "\n",
    "# #Set Parameters\n",
    "# M.set(p14_dict)\n",
    "# M.set(p_hm_dict)\n",
    "# M.set(p_CIB_dict)\n",
    "# M.set(p_freq_dict)\n",
    "\n",
    "# #Tell It What You Want\n",
    "# M.set({\n",
    "#     'output': 'lens_cib_1h,lens_cib_2h' \n",
    "# })"
   ]
  },
  {
   "cell_type": "code",
   "execution_count": 11,
   "metadata": {},
   "outputs": [],
   "source": [
    "# %%time\n",
    "# #Calculate Spectra\n",
    "# M.compute_class_szfast()\n",
    "# cl_lens_cib = M.cl_lens_cib()\n",
    "# M.struct_cleanup()\n",
    "# M.empty()"
   ]
  },
  {
   "attachments": {},
   "cell_type": "markdown",
   "metadata": {},
   "source": [
    "## Plot"
   ]
  },
  {
   "cell_type": "code",
   "execution_count": 32,
   "metadata": {},
   "outputs": [
    {
     "data": {
      "image/svg+xml": "<?xml version=\"1.0\" encoding=\"utf-8\" standalone=\"no\"?>\n<!DOCTYPE svg PUBLIC \"-//W3C//DTD SVG 1.1//EN\"\n  \"http://www.w3.org/Graphics/SVG/1.1/DTD/svg11.dtd\">\n<svg height=\"383.594375pt\" version=\"1.1\" viewBox=\"0 0 683.50681 383.594375\" width=\"683.50681pt\" xmlns=\"http://www.w3.org/2000/svg\" xmlns:xlink=\"http://www.w3.org/1999/xlink\">\n <metadata>\n  <rdf:RDF xmlns:cc=\"http://creativecommons.org/ns#\" xmlns:dc=\"http://purl.org/dc/elements/1.1/\" xmlns:rdf=\"http://www.w3.org/1999/02/22-rdf-syntax-ns#\">\n   <cc:Work>\n    <dc:type rdf:resource=\"http://purl.org/dc/dcmitype/StillImage\"/>\n    <dc:date>2023-03-23T10:08:44.638661</dc:date>\n    <dc:format>image/svg+xml</dc:format>\n    <dc:creator>\n     <cc:Agent>\n      <dc:title>Matplotlib v3.4.3, https://matplotlib.org/</dc:title>\n     </cc:Agent>\n    </dc:creator>\n   </cc:Work>\n  </rdf:RDF>\n </metadata>\n <defs>\n  <style type=\"text/css\">*{stroke-linecap:butt;stroke-linejoin:round;}</style>\n </defs>\n <g id=\"figure_1\">\n  <g id=\"patch_1\">\n   <path d=\"M 0 383.594375 \nL 683.50681 383.594375 \nL 683.50681 0 \nL 0 0 \nz\n\" style=\"fill:none;\"/>\n  </g>\n  <g id=\"axes_1\">\n   <g id=\"patch_2\">\n    <path d=\"M 51.1875 333.36 \nL 664.9875 333.36 \nL 664.9875 7.2 \nL 51.1875 7.2 \nz\n\" style=\"fill:#ffffff;\"/>\n   </g>\n   <g id=\"matplotlib.axis_1\">\n    <g id=\"xtick_1\">\n     <g id=\"line2d_1\">\n      <path clip-path=\"url(#pad544e29b5)\" d=\"M 79.0875 333.36 \nL 79.0875 7.2 \n\" style=\"fill:none;stroke:#b0b0b0;stroke-dasharray:2.96,1.28;stroke-dashoffset:0;stroke-opacity:0.2;stroke-width:0.8;\"/>\n     </g>\n     <g id=\"line2d_2\">\n      <defs>\n       <path d=\"M 0 0 \nL 0 -5 \n\" id=\"m3c8724c8e8\" style=\"stroke:#000000;stroke-width:0.8;\"/>\n      </defs>\n      <g>\n       <use style=\"stroke:#000000;stroke-width:0.8;\" x=\"79.0875\" xlink:href=\"#m3c8724c8e8\" y=\"333.36\"/>\n      </g>\n     </g>\n     <g id=\"line2d_3\">\n      <defs>\n       <path d=\"M 0 0 \nL 0 5 \n\" id=\"m432af1b4af\" style=\"stroke:#000000;stroke-width:0.8;\"/>\n      </defs>\n      <g>\n       <use style=\"stroke:#000000;stroke-width:0.8;\" x=\"79.0875\" xlink:href=\"#m432af1b4af\" y=\"7.2\"/>\n      </g>\n     </g>\n     <g id=\"text_1\">\n      <!-- $\\mathdefault{10^{1}}$ -->\n      <g transform=\"translate(65.8875 354.757656)scale(0.15 -0.15)\">\n       <defs>\n        <path d=\"M 794 531 \nL 1825 531 \nL 1825 4091 \nL 703 3866 \nL 703 4441 \nL 1819 4666 \nL 2450 4666 \nL 2450 531 \nL 3481 531 \nL 3481 0 \nL 794 0 \nL 794 531 \nz\n\" id=\"DejaVuSans-31\" transform=\"scale(0.015625)\"/>\n        <path d=\"M 2034 4250 \nQ 1547 4250 1301 3770 \nQ 1056 3291 1056 2328 \nQ 1056 1369 1301 889 \nQ 1547 409 2034 409 \nQ 2525 409 2770 889 \nQ 3016 1369 3016 2328 \nQ 3016 3291 2770 3770 \nQ 2525 4250 2034 4250 \nz\nM 2034 4750 \nQ 2819 4750 3233 4129 \nQ 3647 3509 3647 2328 \nQ 3647 1150 3233 529 \nQ 2819 -91 2034 -91 \nQ 1250 -91 836 529 \nQ 422 1150 422 2328 \nQ 422 3509 836 4129 \nQ 1250 4750 2034 4750 \nz\n\" id=\"DejaVuSans-30\" transform=\"scale(0.015625)\"/>\n       </defs>\n       <use transform=\"translate(0 0.684375)\" xlink:href=\"#DejaVuSans-31\"/>\n       <use transform=\"translate(63.623047 0.684375)\" xlink:href=\"#DejaVuSans-30\"/>\n       <use transform=\"translate(128.203125 38.965625)scale(0.7)\" xlink:href=\"#DejaVuSans-31\"/>\n      </g>\n     </g>\n    </g>\n    <g id=\"xtick_2\">\n     <g id=\"line2d_4\">\n      <path clip-path=\"url(#pad544e29b5)\" d=\"M 273.760603 333.36 \nL 273.760603 7.2 \n\" style=\"fill:none;stroke:#b0b0b0;stroke-dasharray:2.96,1.28;stroke-dashoffset:0;stroke-opacity:0.2;stroke-width:0.8;\"/>\n     </g>\n     <g id=\"line2d_5\">\n      <g>\n       <use style=\"stroke:#000000;stroke-width:0.8;\" x=\"273.760603\" xlink:href=\"#m3c8724c8e8\" y=\"333.36\"/>\n      </g>\n     </g>\n     <g id=\"line2d_6\">\n      <g>\n       <use style=\"stroke:#000000;stroke-width:0.8;\" x=\"273.760603\" xlink:href=\"#m432af1b4af\" y=\"7.2\"/>\n      </g>\n     </g>\n     <g id=\"text_2\">\n      <!-- $\\mathdefault{10^{2}}$ -->\n      <g transform=\"translate(260.560603 354.757656)scale(0.15 -0.15)\">\n       <defs>\n        <path d=\"M 1228 531 \nL 3431 531 \nL 3431 0 \nL 469 0 \nL 469 531 \nQ 828 903 1448 1529 \nQ 2069 2156 2228 2338 \nQ 2531 2678 2651 2914 \nQ 2772 3150 2772 3378 \nQ 2772 3750 2511 3984 \nQ 2250 4219 1831 4219 \nQ 1534 4219 1204 4116 \nQ 875 4013 500 3803 \nL 500 4441 \nQ 881 4594 1212 4672 \nQ 1544 4750 1819 4750 \nQ 2544 4750 2975 4387 \nQ 3406 4025 3406 3419 \nQ 3406 3131 3298 2873 \nQ 3191 2616 2906 2266 \nQ 2828 2175 2409 1742 \nQ 1991 1309 1228 531 \nz\n\" id=\"DejaVuSans-32\" transform=\"scale(0.015625)\"/>\n       </defs>\n       <use transform=\"translate(0 0.765625)\" xlink:href=\"#DejaVuSans-31\"/>\n       <use transform=\"translate(63.623047 0.765625)\" xlink:href=\"#DejaVuSans-30\"/>\n       <use transform=\"translate(128.203125 39.046875)scale(0.7)\" xlink:href=\"#DejaVuSans-32\"/>\n      </g>\n     </g>\n    </g>\n    <g id=\"xtick_3\">\n     <g id=\"line2d_7\">\n      <path clip-path=\"url(#pad544e29b5)\" d=\"M 468.433707 333.36 \nL 468.433707 7.2 \n\" style=\"fill:none;stroke:#b0b0b0;stroke-dasharray:2.96,1.28;stroke-dashoffset:0;stroke-opacity:0.2;stroke-width:0.8;\"/>\n     </g>\n     <g id=\"line2d_8\">\n      <g>\n       <use style=\"stroke:#000000;stroke-width:0.8;\" x=\"468.433707\" xlink:href=\"#m3c8724c8e8\" y=\"333.36\"/>\n      </g>\n     </g>\n     <g id=\"line2d_9\">\n      <g>\n       <use style=\"stroke:#000000;stroke-width:0.8;\" x=\"468.433707\" xlink:href=\"#m432af1b4af\" y=\"7.2\"/>\n      </g>\n     </g>\n     <g id=\"text_3\">\n      <!-- $\\mathdefault{10^{3}}$ -->\n      <g transform=\"translate(455.233707 354.757656)scale(0.15 -0.15)\">\n       <defs>\n        <path d=\"M 2597 2516 \nQ 3050 2419 3304 2112 \nQ 3559 1806 3559 1356 \nQ 3559 666 3084 287 \nQ 2609 -91 1734 -91 \nQ 1441 -91 1130 -33 \nQ 819 25 488 141 \nL 488 750 \nQ 750 597 1062 519 \nQ 1375 441 1716 441 \nQ 2309 441 2620 675 \nQ 2931 909 2931 1356 \nQ 2931 1769 2642 2001 \nQ 2353 2234 1838 2234 \nL 1294 2234 \nL 1294 2753 \nL 1863 2753 \nQ 2328 2753 2575 2939 \nQ 2822 3125 2822 3475 \nQ 2822 3834 2567 4026 \nQ 2313 4219 1838 4219 \nQ 1578 4219 1281 4162 \nQ 984 4106 628 3988 \nL 628 4550 \nQ 988 4650 1302 4700 \nQ 1616 4750 1894 4750 \nQ 2613 4750 3031 4423 \nQ 3450 4097 3450 3541 \nQ 3450 3153 3228 2886 \nQ 3006 2619 2597 2516 \nz\n\" id=\"DejaVuSans-33\" transform=\"scale(0.015625)\"/>\n       </defs>\n       <use transform=\"translate(0 0.765625)\" xlink:href=\"#DejaVuSans-31\"/>\n       <use transform=\"translate(63.623047 0.765625)\" xlink:href=\"#DejaVuSans-30\"/>\n       <use transform=\"translate(128.203125 39.046875)scale(0.7)\" xlink:href=\"#DejaVuSans-33\"/>\n      </g>\n     </g>\n    </g>\n    <g id=\"xtick_4\">\n     <g id=\"line2d_10\">\n      <path clip-path=\"url(#pad544e29b5)\" d=\"M 663.10681 333.36 \nL 663.10681 7.2 \n\" style=\"fill:none;stroke:#b0b0b0;stroke-dasharray:2.96,1.28;stroke-dashoffset:0;stroke-opacity:0.2;stroke-width:0.8;\"/>\n     </g>\n     <g id=\"line2d_11\">\n      <g>\n       <use style=\"stroke:#000000;stroke-width:0.8;\" x=\"663.10681\" xlink:href=\"#m3c8724c8e8\" y=\"333.36\"/>\n      </g>\n     </g>\n     <g id=\"line2d_12\">\n      <g>\n       <use style=\"stroke:#000000;stroke-width:0.8;\" x=\"663.10681\" xlink:href=\"#m432af1b4af\" y=\"7.2\"/>\n      </g>\n     </g>\n     <g id=\"text_4\">\n      <!-- $\\mathdefault{10^{4}}$ -->\n      <g transform=\"translate(649.90681 354.757656)scale(0.15 -0.15)\">\n       <defs>\n        <path d=\"M 2419 4116 \nL 825 1625 \nL 2419 1625 \nL 2419 4116 \nz\nM 2253 4666 \nL 3047 4666 \nL 3047 1625 \nL 3713 1625 \nL 3713 1100 \nL 3047 1100 \nL 3047 0 \nL 2419 0 \nL 2419 1100 \nL 313 1100 \nL 313 1709 \nL 2253 4666 \nz\n\" id=\"DejaVuSans-34\" transform=\"scale(0.015625)\"/>\n       </defs>\n       <use transform=\"translate(0 0.684375)\" xlink:href=\"#DejaVuSans-31\"/>\n       <use transform=\"translate(63.623047 0.684375)\" xlink:href=\"#DejaVuSans-30\"/>\n       <use transform=\"translate(128.203125 38.965625)scale(0.7)\" xlink:href=\"#DejaVuSans-34\"/>\n      </g>\n     </g>\n    </g>\n    <g id=\"xtick_5\">\n     <g id=\"line2d_13\">\n      <path clip-path=\"url(#pad544e29b5)\" d=\"M 60.221727 333.36 \nL 60.221727 7.2 \n\" style=\"fill:none;stroke:#b0b0b0;stroke-dasharray:2.96,1.28;stroke-dashoffset:0;stroke-opacity:0.2;stroke-width:0.8;\"/>\n     </g>\n     <g id=\"line2d_14\">\n      <defs>\n       <path d=\"M 0 0 \nL 0 -5 \n\" id=\"md758d3e608\" style=\"stroke:#000000;stroke-width:0.6;\"/>\n      </defs>\n      <g>\n       <use style=\"stroke:#000000;stroke-width:0.6;\" x=\"60.221727\" xlink:href=\"#md758d3e608\" y=\"333.36\"/>\n      </g>\n     </g>\n     <g id=\"line2d_15\">\n      <defs>\n       <path d=\"M 0 0 \nL 0 5 \n\" id=\"m5a11f5bf9c\" style=\"stroke:#000000;stroke-width:0.6;\"/>\n      </defs>\n      <g>\n       <use style=\"stroke:#000000;stroke-width:0.6;\" x=\"60.221727\" xlink:href=\"#m5a11f5bf9c\" y=\"7.2\"/>\n      </g>\n     </g>\n    </g>\n    <g id=\"xtick_6\">\n     <g id=\"line2d_16\">\n      <path clip-path=\"url(#pad544e29b5)\" d=\"M 70.179747 333.36 \nL 70.179747 7.2 \n\" style=\"fill:none;stroke:#b0b0b0;stroke-dasharray:2.96,1.28;stroke-dashoffset:0;stroke-opacity:0.2;stroke-width:0.8;\"/>\n     </g>\n     <g id=\"line2d_17\">\n      <g>\n       <use style=\"stroke:#000000;stroke-width:0.6;\" x=\"70.179747\" xlink:href=\"#md758d3e608\" y=\"333.36\"/>\n      </g>\n     </g>\n     <g id=\"line2d_18\">\n      <g>\n       <use style=\"stroke:#000000;stroke-width:0.6;\" x=\"70.179747\" xlink:href=\"#m5a11f5bf9c\" y=\"7.2\"/>\n      </g>\n     </g>\n    </g>\n    <g id=\"xtick_7\">\n     <g id=\"line2d_19\">\n      <path clip-path=\"url(#pad544e29b5)\" d=\"M 137.689943 333.36 \nL 137.689943 7.2 \n\" style=\"fill:none;stroke:#b0b0b0;stroke-dasharray:2.96,1.28;stroke-dashoffset:0;stroke-opacity:0.2;stroke-width:0.8;\"/>\n     </g>\n     <g id=\"line2d_20\">\n      <g>\n       <use style=\"stroke:#000000;stroke-width:0.6;\" x=\"137.689943\" xlink:href=\"#md758d3e608\" y=\"333.36\"/>\n      </g>\n     </g>\n     <g id=\"line2d_21\">\n      <g>\n       <use style=\"stroke:#000000;stroke-width:0.6;\" x=\"137.689943\" xlink:href=\"#m5a11f5bf9c\" y=\"7.2\"/>\n      </g>\n     </g>\n    </g>\n    <g id=\"xtick_8\">\n     <g id=\"line2d_22\">\n      <path clip-path=\"url(#pad544e29b5)\" d=\"M 171.970175 333.36 \nL 171.970175 7.2 \n\" style=\"fill:none;stroke:#b0b0b0;stroke-dasharray:2.96,1.28;stroke-dashoffset:0;stroke-opacity:0.2;stroke-width:0.8;\"/>\n     </g>\n     <g id=\"line2d_23\">\n      <g>\n       <use style=\"stroke:#000000;stroke-width:0.6;\" x=\"171.970175\" xlink:href=\"#md758d3e608\" y=\"333.36\"/>\n      </g>\n     </g>\n     <g id=\"line2d_24\">\n      <g>\n       <use style=\"stroke:#000000;stroke-width:0.6;\" x=\"171.970175\" xlink:href=\"#m5a11f5bf9c\" y=\"7.2\"/>\n      </g>\n     </g>\n    </g>\n    <g id=\"xtick_9\">\n     <g id=\"line2d_25\">\n      <path clip-path=\"url(#pad544e29b5)\" d=\"M 196.292387 333.36 \nL 196.292387 7.2 \n\" style=\"fill:none;stroke:#b0b0b0;stroke-dasharray:2.96,1.28;stroke-dashoffset:0;stroke-opacity:0.2;stroke-width:0.8;\"/>\n     </g>\n     <g id=\"line2d_26\">\n      <g>\n       <use style=\"stroke:#000000;stroke-width:0.6;\" x=\"196.292387\" xlink:href=\"#md758d3e608\" y=\"333.36\"/>\n      </g>\n     </g>\n     <g id=\"line2d_27\">\n      <g>\n       <use style=\"stroke:#000000;stroke-width:0.6;\" x=\"196.292387\" xlink:href=\"#m5a11f5bf9c\" y=\"7.2\"/>\n      </g>\n     </g>\n    </g>\n    <g id=\"xtick_10\">\n     <g id=\"line2d_28\">\n      <path clip-path=\"url(#pad544e29b5)\" d=\"M 215.15816 333.36 \nL 215.15816 7.2 \n\" style=\"fill:none;stroke:#b0b0b0;stroke-dasharray:2.96,1.28;stroke-dashoffset:0;stroke-opacity:0.2;stroke-width:0.8;\"/>\n     </g>\n     <g id=\"line2d_29\">\n      <g>\n       <use style=\"stroke:#000000;stroke-width:0.6;\" x=\"215.15816\" xlink:href=\"#md758d3e608\" y=\"333.36\"/>\n      </g>\n     </g>\n     <g id=\"line2d_30\">\n      <g>\n       <use style=\"stroke:#000000;stroke-width:0.6;\" x=\"215.15816\" xlink:href=\"#m5a11f5bf9c\" y=\"7.2\"/>\n      </g>\n     </g>\n    </g>\n    <g id=\"xtick_11\">\n     <g id=\"line2d_31\">\n      <path clip-path=\"url(#pad544e29b5)\" d=\"M 230.572619 333.36 \nL 230.572619 7.2 \n\" style=\"fill:none;stroke:#b0b0b0;stroke-dasharray:2.96,1.28;stroke-dashoffset:0;stroke-opacity:0.2;stroke-width:0.8;\"/>\n     </g>\n     <g id=\"line2d_32\">\n      <g>\n       <use style=\"stroke:#000000;stroke-width:0.6;\" x=\"230.572619\" xlink:href=\"#md758d3e608\" y=\"333.36\"/>\n      </g>\n     </g>\n     <g id=\"line2d_33\">\n      <g>\n       <use style=\"stroke:#000000;stroke-width:0.6;\" x=\"230.572619\" xlink:href=\"#m5a11f5bf9c\" y=\"7.2\"/>\n      </g>\n     </g>\n    </g>\n    <g id=\"xtick_12\">\n     <g id=\"line2d_34\">\n      <path clip-path=\"url(#pad544e29b5)\" d=\"M 243.605358 333.36 \nL 243.605358 7.2 \n\" style=\"fill:none;stroke:#b0b0b0;stroke-dasharray:2.96,1.28;stroke-dashoffset:0;stroke-opacity:0.2;stroke-width:0.8;\"/>\n     </g>\n     <g id=\"line2d_35\">\n      <g>\n       <use style=\"stroke:#000000;stroke-width:0.6;\" x=\"243.605358\" xlink:href=\"#md758d3e608\" y=\"333.36\"/>\n      </g>\n     </g>\n     <g id=\"line2d_36\">\n      <g>\n       <use style=\"stroke:#000000;stroke-width:0.6;\" x=\"243.605358\" xlink:href=\"#m5a11f5bf9c\" y=\"7.2\"/>\n      </g>\n     </g>\n    </g>\n    <g id=\"xtick_13\">\n     <g id=\"line2d_37\">\n      <path clip-path=\"url(#pad544e29b5)\" d=\"M 254.89483 333.36 \nL 254.89483 7.2 \n\" style=\"fill:none;stroke:#b0b0b0;stroke-dasharray:2.96,1.28;stroke-dashoffset:0;stroke-opacity:0.2;stroke-width:0.8;\"/>\n     </g>\n     <g id=\"line2d_38\">\n      <g>\n       <use style=\"stroke:#000000;stroke-width:0.6;\" x=\"254.89483\" xlink:href=\"#md758d3e608\" y=\"333.36\"/>\n      </g>\n     </g>\n     <g id=\"line2d_39\">\n      <g>\n       <use style=\"stroke:#000000;stroke-width:0.6;\" x=\"254.89483\" xlink:href=\"#m5a11f5bf9c\" y=\"7.2\"/>\n      </g>\n     </g>\n    </g>\n    <g id=\"xtick_14\">\n     <g id=\"line2d_40\">\n      <path clip-path=\"url(#pad544e29b5)\" d=\"M 264.852851 333.36 \nL 264.852851 7.2 \n\" style=\"fill:none;stroke:#b0b0b0;stroke-dasharray:2.96,1.28;stroke-dashoffset:0;stroke-opacity:0.2;stroke-width:0.8;\"/>\n     </g>\n     <g id=\"line2d_41\">\n      <g>\n       <use style=\"stroke:#000000;stroke-width:0.6;\" x=\"264.852851\" xlink:href=\"#md758d3e608\" y=\"333.36\"/>\n      </g>\n     </g>\n     <g id=\"line2d_42\">\n      <g>\n       <use style=\"stroke:#000000;stroke-width:0.6;\" x=\"264.852851\" xlink:href=\"#m5a11f5bf9c\" y=\"7.2\"/>\n      </g>\n     </g>\n    </g>\n    <g id=\"xtick_15\">\n     <g id=\"line2d_43\">\n      <path clip-path=\"url(#pad544e29b5)\" d=\"M 332.363047 333.36 \nL 332.363047 7.2 \n\" style=\"fill:none;stroke:#b0b0b0;stroke-dasharray:2.96,1.28;stroke-dashoffset:0;stroke-opacity:0.2;stroke-width:0.8;\"/>\n     </g>\n     <g id=\"line2d_44\">\n      <g>\n       <use style=\"stroke:#000000;stroke-width:0.6;\" x=\"332.363047\" xlink:href=\"#md758d3e608\" y=\"333.36\"/>\n      </g>\n     </g>\n     <g id=\"line2d_45\">\n      <g>\n       <use style=\"stroke:#000000;stroke-width:0.6;\" x=\"332.363047\" xlink:href=\"#m5a11f5bf9c\" y=\"7.2\"/>\n      </g>\n     </g>\n    </g>\n    <g id=\"xtick_16\">\n     <g id=\"line2d_46\">\n      <path clip-path=\"url(#pad544e29b5)\" d=\"M 366.643279 333.36 \nL 366.643279 7.2 \n\" style=\"fill:none;stroke:#b0b0b0;stroke-dasharray:2.96,1.28;stroke-dashoffset:0;stroke-opacity:0.2;stroke-width:0.8;\"/>\n     </g>\n     <g id=\"line2d_47\">\n      <g>\n       <use style=\"stroke:#000000;stroke-width:0.6;\" x=\"366.643279\" xlink:href=\"#md758d3e608\" y=\"333.36\"/>\n      </g>\n     </g>\n     <g id=\"line2d_48\">\n      <g>\n       <use style=\"stroke:#000000;stroke-width:0.6;\" x=\"366.643279\" xlink:href=\"#m5a11f5bf9c\" y=\"7.2\"/>\n      </g>\n     </g>\n    </g>\n    <g id=\"xtick_17\">\n     <g id=\"line2d_49\">\n      <path clip-path=\"url(#pad544e29b5)\" d=\"M 390.96549 333.36 \nL 390.96549 7.2 \n\" style=\"fill:none;stroke:#b0b0b0;stroke-dasharray:2.96,1.28;stroke-dashoffset:0;stroke-opacity:0.2;stroke-width:0.8;\"/>\n     </g>\n     <g id=\"line2d_50\">\n      <g>\n       <use style=\"stroke:#000000;stroke-width:0.6;\" x=\"390.96549\" xlink:href=\"#md758d3e608\" y=\"333.36\"/>\n      </g>\n     </g>\n     <g id=\"line2d_51\">\n      <g>\n       <use style=\"stroke:#000000;stroke-width:0.6;\" x=\"390.96549\" xlink:href=\"#m5a11f5bf9c\" y=\"7.2\"/>\n      </g>\n     </g>\n    </g>\n    <g id=\"xtick_18\">\n     <g id=\"line2d_52\">\n      <path clip-path=\"url(#pad544e29b5)\" d=\"M 409.831263 333.36 \nL 409.831263 7.2 \n\" style=\"fill:none;stroke:#b0b0b0;stroke-dasharray:2.96,1.28;stroke-dashoffset:0;stroke-opacity:0.2;stroke-width:0.8;\"/>\n     </g>\n     <g id=\"line2d_53\">\n      <g>\n       <use style=\"stroke:#000000;stroke-width:0.6;\" x=\"409.831263\" xlink:href=\"#md758d3e608\" y=\"333.36\"/>\n      </g>\n     </g>\n     <g id=\"line2d_54\">\n      <g>\n       <use style=\"stroke:#000000;stroke-width:0.6;\" x=\"409.831263\" xlink:href=\"#m5a11f5bf9c\" y=\"7.2\"/>\n      </g>\n     </g>\n    </g>\n    <g id=\"xtick_19\">\n     <g id=\"line2d_55\">\n      <path clip-path=\"url(#pad544e29b5)\" d=\"M 425.245722 333.36 \nL 425.245722 7.2 \n\" style=\"fill:none;stroke:#b0b0b0;stroke-dasharray:2.96,1.28;stroke-dashoffset:0;stroke-opacity:0.2;stroke-width:0.8;\"/>\n     </g>\n     <g id=\"line2d_56\">\n      <g>\n       <use style=\"stroke:#000000;stroke-width:0.6;\" x=\"425.245722\" xlink:href=\"#md758d3e608\" y=\"333.36\"/>\n      </g>\n     </g>\n     <g id=\"line2d_57\">\n      <g>\n       <use style=\"stroke:#000000;stroke-width:0.6;\" x=\"425.245722\" xlink:href=\"#m5a11f5bf9c\" y=\"7.2\"/>\n      </g>\n     </g>\n    </g>\n    <g id=\"xtick_20\">\n     <g id=\"line2d_58\">\n      <path clip-path=\"url(#pad544e29b5)\" d=\"M 438.278461 333.36 \nL 438.278461 7.2 \n\" style=\"fill:none;stroke:#b0b0b0;stroke-dasharray:2.96,1.28;stroke-dashoffset:0;stroke-opacity:0.2;stroke-width:0.8;\"/>\n     </g>\n     <g id=\"line2d_59\">\n      <g>\n       <use style=\"stroke:#000000;stroke-width:0.6;\" x=\"438.278461\" xlink:href=\"#md758d3e608\" y=\"333.36\"/>\n      </g>\n     </g>\n     <g id=\"line2d_60\">\n      <g>\n       <use style=\"stroke:#000000;stroke-width:0.6;\" x=\"438.278461\" xlink:href=\"#m5a11f5bf9c\" y=\"7.2\"/>\n      </g>\n     </g>\n    </g>\n    <g id=\"xtick_21\">\n     <g id=\"line2d_61\">\n      <path clip-path=\"url(#pad544e29b5)\" d=\"M 449.567934 333.36 \nL 449.567934 7.2 \n\" style=\"fill:none;stroke:#b0b0b0;stroke-dasharray:2.96,1.28;stroke-dashoffset:0;stroke-opacity:0.2;stroke-width:0.8;\"/>\n     </g>\n     <g id=\"line2d_62\">\n      <g>\n       <use style=\"stroke:#000000;stroke-width:0.6;\" x=\"449.567934\" xlink:href=\"#md758d3e608\" y=\"333.36\"/>\n      </g>\n     </g>\n     <g id=\"line2d_63\">\n      <g>\n       <use style=\"stroke:#000000;stroke-width:0.6;\" x=\"449.567934\" xlink:href=\"#m5a11f5bf9c\" y=\"7.2\"/>\n      </g>\n     </g>\n    </g>\n    <g id=\"xtick_22\">\n     <g id=\"line2d_64\">\n      <path clip-path=\"url(#pad544e29b5)\" d=\"M 459.525954 333.36 \nL 459.525954 7.2 \n\" style=\"fill:none;stroke:#b0b0b0;stroke-dasharray:2.96,1.28;stroke-dashoffset:0;stroke-opacity:0.2;stroke-width:0.8;\"/>\n     </g>\n     <g id=\"line2d_65\">\n      <g>\n       <use style=\"stroke:#000000;stroke-width:0.6;\" x=\"459.525954\" xlink:href=\"#md758d3e608\" y=\"333.36\"/>\n      </g>\n     </g>\n     <g id=\"line2d_66\">\n      <g>\n       <use style=\"stroke:#000000;stroke-width:0.6;\" x=\"459.525954\" xlink:href=\"#m5a11f5bf9c\" y=\"7.2\"/>\n      </g>\n     </g>\n    </g>\n    <g id=\"xtick_23\">\n     <g id=\"line2d_67\">\n      <path clip-path=\"url(#pad544e29b5)\" d=\"M 527.03615 333.36 \nL 527.03615 7.2 \n\" style=\"fill:none;stroke:#b0b0b0;stroke-dasharray:2.96,1.28;stroke-dashoffset:0;stroke-opacity:0.2;stroke-width:0.8;\"/>\n     </g>\n     <g id=\"line2d_68\">\n      <g>\n       <use style=\"stroke:#000000;stroke-width:0.6;\" x=\"527.03615\" xlink:href=\"#md758d3e608\" y=\"333.36\"/>\n      </g>\n     </g>\n     <g id=\"line2d_69\">\n      <g>\n       <use style=\"stroke:#000000;stroke-width:0.6;\" x=\"527.03615\" xlink:href=\"#m5a11f5bf9c\" y=\"7.2\"/>\n      </g>\n     </g>\n    </g>\n    <g id=\"xtick_24\">\n     <g id=\"line2d_70\">\n      <path clip-path=\"url(#pad544e29b5)\" d=\"M 561.316382 333.36 \nL 561.316382 7.2 \n\" style=\"fill:none;stroke:#b0b0b0;stroke-dasharray:2.96,1.28;stroke-dashoffset:0;stroke-opacity:0.2;stroke-width:0.8;\"/>\n     </g>\n     <g id=\"line2d_71\">\n      <g>\n       <use style=\"stroke:#000000;stroke-width:0.6;\" x=\"561.316382\" xlink:href=\"#md758d3e608\" y=\"333.36\"/>\n      </g>\n     </g>\n     <g id=\"line2d_72\">\n      <g>\n       <use style=\"stroke:#000000;stroke-width:0.6;\" x=\"561.316382\" xlink:href=\"#m5a11f5bf9c\" y=\"7.2\"/>\n      </g>\n     </g>\n    </g>\n    <g id=\"xtick_25\">\n     <g id=\"line2d_73\">\n      <path clip-path=\"url(#pad544e29b5)\" d=\"M 585.638594 333.36 \nL 585.638594 7.2 \n\" style=\"fill:none;stroke:#b0b0b0;stroke-dasharray:2.96,1.28;stroke-dashoffset:0;stroke-opacity:0.2;stroke-width:0.8;\"/>\n     </g>\n     <g id=\"line2d_74\">\n      <g>\n       <use style=\"stroke:#000000;stroke-width:0.6;\" x=\"585.638594\" xlink:href=\"#md758d3e608\" y=\"333.36\"/>\n      </g>\n     </g>\n     <g id=\"line2d_75\">\n      <g>\n       <use style=\"stroke:#000000;stroke-width:0.6;\" x=\"585.638594\" xlink:href=\"#m5a11f5bf9c\" y=\"7.2\"/>\n      </g>\n     </g>\n    </g>\n    <g id=\"xtick_26\">\n     <g id=\"line2d_76\">\n      <path clip-path=\"url(#pad544e29b5)\" d=\"M 604.504367 333.36 \nL 604.504367 7.2 \n\" style=\"fill:none;stroke:#b0b0b0;stroke-dasharray:2.96,1.28;stroke-dashoffset:0;stroke-opacity:0.2;stroke-width:0.8;\"/>\n     </g>\n     <g id=\"line2d_77\">\n      <g>\n       <use style=\"stroke:#000000;stroke-width:0.6;\" x=\"604.504367\" xlink:href=\"#md758d3e608\" y=\"333.36\"/>\n      </g>\n     </g>\n     <g id=\"line2d_78\">\n      <g>\n       <use style=\"stroke:#000000;stroke-width:0.6;\" x=\"604.504367\" xlink:href=\"#m5a11f5bf9c\" y=\"7.2\"/>\n      </g>\n     </g>\n    </g>\n    <g id=\"xtick_27\">\n     <g id=\"line2d_79\">\n      <path clip-path=\"url(#pad544e29b5)\" d=\"M 619.918825 333.36 \nL 619.918825 7.2 \n\" style=\"fill:none;stroke:#b0b0b0;stroke-dasharray:2.96,1.28;stroke-dashoffset:0;stroke-opacity:0.2;stroke-width:0.8;\"/>\n     </g>\n     <g id=\"line2d_80\">\n      <g>\n       <use style=\"stroke:#000000;stroke-width:0.6;\" x=\"619.918825\" xlink:href=\"#md758d3e608\" y=\"333.36\"/>\n      </g>\n     </g>\n     <g id=\"line2d_81\">\n      <g>\n       <use style=\"stroke:#000000;stroke-width:0.6;\" x=\"619.918825\" xlink:href=\"#m5a11f5bf9c\" y=\"7.2\"/>\n      </g>\n     </g>\n    </g>\n    <g id=\"xtick_28\">\n     <g id=\"line2d_82\">\n      <path clip-path=\"url(#pad544e29b5)\" d=\"M 632.951565 333.36 \nL 632.951565 7.2 \n\" style=\"fill:none;stroke:#b0b0b0;stroke-dasharray:2.96,1.28;stroke-dashoffset:0;stroke-opacity:0.2;stroke-width:0.8;\"/>\n     </g>\n     <g id=\"line2d_83\">\n      <g>\n       <use style=\"stroke:#000000;stroke-width:0.6;\" x=\"632.951565\" xlink:href=\"#md758d3e608\" y=\"333.36\"/>\n      </g>\n     </g>\n     <g id=\"line2d_84\">\n      <g>\n       <use style=\"stroke:#000000;stroke-width:0.6;\" x=\"632.951565\" xlink:href=\"#m5a11f5bf9c\" y=\"7.2\"/>\n      </g>\n     </g>\n    </g>\n    <g id=\"xtick_29\">\n     <g id=\"line2d_85\">\n      <path clip-path=\"url(#pad544e29b5)\" d=\"M 644.241037 333.36 \nL 644.241037 7.2 \n\" style=\"fill:none;stroke:#b0b0b0;stroke-dasharray:2.96,1.28;stroke-dashoffset:0;stroke-opacity:0.2;stroke-width:0.8;\"/>\n     </g>\n     <g id=\"line2d_86\">\n      <g>\n       <use style=\"stroke:#000000;stroke-width:0.6;\" x=\"644.241037\" xlink:href=\"#md758d3e608\" y=\"333.36\"/>\n      </g>\n     </g>\n     <g id=\"line2d_87\">\n      <g>\n       <use style=\"stroke:#000000;stroke-width:0.6;\" x=\"644.241037\" xlink:href=\"#m5a11f5bf9c\" y=\"7.2\"/>\n      </g>\n     </g>\n    </g>\n    <g id=\"xtick_30\">\n     <g id=\"line2d_88\">\n      <path clip-path=\"url(#pad544e29b5)\" d=\"M 654.199057 333.36 \nL 654.199057 7.2 \n\" style=\"fill:none;stroke:#b0b0b0;stroke-dasharray:2.96,1.28;stroke-dashoffset:0;stroke-opacity:0.2;stroke-width:0.8;\"/>\n     </g>\n     <g id=\"line2d_89\">\n      <g>\n       <use style=\"stroke:#000000;stroke-width:0.6;\" x=\"654.199057\" xlink:href=\"#md758d3e608\" y=\"333.36\"/>\n      </g>\n     </g>\n     <g id=\"line2d_90\">\n      <g>\n       <use style=\"stroke:#000000;stroke-width:0.6;\" x=\"654.199057\" xlink:href=\"#m5a11f5bf9c\" y=\"7.2\"/>\n      </g>\n     </g>\n    </g>\n    <g id=\"text_5\">\n     <!-- $\\ell$ -->\n     <g transform=\"translate(354.9375 373.274844)scale(0.15 -0.15)\">\n      <defs>\n       <path d=\"M 950 838 \nQ 1078 213 1350 213 \nQ 1531 213 1766 572 \nL 2181 572 \nQ 1994 253 1775 88 \nQ 1538 -91 1319 -91 \nQ 831 -91 634 344 \nL 400 0 \nL -88 0 \nQ 250 459 500 888 \nQ 469 1131 469 1397 \nQ 469 1872 566 2347 \nQ 931 4131 1256 4497 \nQ 1481 4750 1866 4750 \nQ 2256 4750 2256 4209 \nQ 2253 3966 2197 3675 \nQ 1972 2484 950 838 \nz\nM 947 1656 \nQ 1531 2744 1709 3613 \nQ 1803 4072 1803 4191 \nQ 1803 4406 1725 4406 \nQ 1384 4134 1081 2516 \nQ 997 2063 947 1656 \nz\n\" id=\"DejaVuSans-Oblique-2113\" transform=\"scale(0.015625)\"/>\n      </defs>\n      <use transform=\"translate(0 0.78125)\" xlink:href=\"#DejaVuSans-Oblique-2113\"/>\n     </g>\n    </g>\n   </g>\n   <g id=\"matplotlib.axis_2\">\n    <g id=\"ytick_1\">\n     <g id=\"line2d_91\">\n      <path clip-path=\"url(#pad544e29b5)\" d=\"M 51.1875 318.589187 \nL 664.9875 318.589187 \n\" style=\"fill:none;stroke:#b0b0b0;stroke-dasharray:2.96,1.28;stroke-dashoffset:0;stroke-opacity:0.2;stroke-width:0.8;\"/>\n     </g>\n     <g id=\"line2d_92\">\n      <defs>\n       <path d=\"M 0 0 \nL 5 0 \n\" id=\"mc3c1e193dc\" style=\"stroke:#000000;stroke-width:0.8;\"/>\n      </defs>\n      <g>\n       <use style=\"stroke:#000000;stroke-width:0.8;\" x=\"51.1875\" xlink:href=\"#mc3c1e193dc\" y=\"318.589187\"/>\n      </g>\n     </g>\n     <g id=\"line2d_93\">\n      <defs>\n       <path d=\"M 0 0 \nL -5 0 \n\" id=\"m63cda895f3\" style=\"stroke:#000000;stroke-width:0.8;\"/>\n      </defs>\n      <g>\n       <use style=\"stroke:#000000;stroke-width:0.8;\" x=\"664.9875\" xlink:href=\"#m63cda895f3\" y=\"318.589187\"/>\n      </g>\n     </g>\n     <g id=\"text_6\">\n      <!-- 0 -->\n      <g transform=\"translate(36.64375 324.288015)scale(0.15 -0.15)\">\n       <use xlink:href=\"#DejaVuSans-30\"/>\n      </g>\n     </g>\n    </g>\n    <g id=\"ytick_2\">\n     <g id=\"line2d_94\">\n      <path clip-path=\"url(#pad544e29b5)\" d=\"M 51.1875 277.493358 \nL 664.9875 277.493358 \n\" style=\"fill:none;stroke:#b0b0b0;stroke-dasharray:2.96,1.28;stroke-dashoffset:0;stroke-opacity:0.2;stroke-width:0.8;\"/>\n     </g>\n     <g id=\"line2d_95\">\n      <g>\n       <use style=\"stroke:#000000;stroke-width:0.8;\" x=\"51.1875\" xlink:href=\"#mc3c1e193dc\" y=\"277.493358\"/>\n      </g>\n     </g>\n     <g id=\"line2d_96\">\n      <g>\n       <use style=\"stroke:#000000;stroke-width:0.8;\" x=\"664.9875\" xlink:href=\"#m63cda895f3\" y=\"277.493358\"/>\n      </g>\n     </g>\n     <g id=\"text_7\">\n      <!-- 2 -->\n      <g transform=\"translate(36.64375 283.192186)scale(0.15 -0.15)\">\n       <use xlink:href=\"#DejaVuSans-32\"/>\n      </g>\n     </g>\n    </g>\n    <g id=\"ytick_3\">\n     <g id=\"line2d_97\">\n      <path clip-path=\"url(#pad544e29b5)\" d=\"M 51.1875 236.397529 \nL 664.9875 236.397529 \n\" style=\"fill:none;stroke:#b0b0b0;stroke-dasharray:2.96,1.28;stroke-dashoffset:0;stroke-opacity:0.2;stroke-width:0.8;\"/>\n     </g>\n     <g id=\"line2d_98\">\n      <g>\n       <use style=\"stroke:#000000;stroke-width:0.8;\" x=\"51.1875\" xlink:href=\"#mc3c1e193dc\" y=\"236.397529\"/>\n      </g>\n     </g>\n     <g id=\"line2d_99\">\n      <g>\n       <use style=\"stroke:#000000;stroke-width:0.8;\" x=\"664.9875\" xlink:href=\"#m63cda895f3\" y=\"236.397529\"/>\n      </g>\n     </g>\n     <g id=\"text_8\">\n      <!-- 4 -->\n      <g transform=\"translate(36.64375 242.096357)scale(0.15 -0.15)\">\n       <use xlink:href=\"#DejaVuSans-34\"/>\n      </g>\n     </g>\n    </g>\n    <g id=\"ytick_4\">\n     <g id=\"line2d_100\">\n      <path clip-path=\"url(#pad544e29b5)\" d=\"M 51.1875 195.301699 \nL 664.9875 195.301699 \n\" style=\"fill:none;stroke:#b0b0b0;stroke-dasharray:2.96,1.28;stroke-dashoffset:0;stroke-opacity:0.2;stroke-width:0.8;\"/>\n     </g>\n     <g id=\"line2d_101\">\n      <g>\n       <use style=\"stroke:#000000;stroke-width:0.8;\" x=\"51.1875\" xlink:href=\"#mc3c1e193dc\" y=\"195.301699\"/>\n      </g>\n     </g>\n     <g id=\"line2d_102\">\n      <g>\n       <use style=\"stroke:#000000;stroke-width:0.8;\" x=\"664.9875\" xlink:href=\"#m63cda895f3\" y=\"195.301699\"/>\n      </g>\n     </g>\n     <g id=\"text_9\">\n      <!-- 6 -->\n      <g transform=\"translate(36.64375 201.000528)scale(0.15 -0.15)\">\n       <defs>\n        <path d=\"M 2113 2584 \nQ 1688 2584 1439 2293 \nQ 1191 2003 1191 1497 \nQ 1191 994 1439 701 \nQ 1688 409 2113 409 \nQ 2538 409 2786 701 \nQ 3034 994 3034 1497 \nQ 3034 2003 2786 2293 \nQ 2538 2584 2113 2584 \nz\nM 3366 4563 \nL 3366 3988 \nQ 3128 4100 2886 4159 \nQ 2644 4219 2406 4219 \nQ 1781 4219 1451 3797 \nQ 1122 3375 1075 2522 \nQ 1259 2794 1537 2939 \nQ 1816 3084 2150 3084 \nQ 2853 3084 3261 2657 \nQ 3669 2231 3669 1497 \nQ 3669 778 3244 343 \nQ 2819 -91 2113 -91 \nQ 1303 -91 875 529 \nQ 447 1150 447 2328 \nQ 447 3434 972 4092 \nQ 1497 4750 2381 4750 \nQ 2619 4750 2861 4703 \nQ 3103 4656 3366 4563 \nz\n\" id=\"DejaVuSans-36\" transform=\"scale(0.015625)\"/>\n       </defs>\n       <use xlink:href=\"#DejaVuSans-36\"/>\n      </g>\n     </g>\n    </g>\n    <g id=\"ytick_5\">\n     <g id=\"line2d_103\">\n      <path clip-path=\"url(#pad544e29b5)\" d=\"M 51.1875 154.20587 \nL 664.9875 154.20587 \n\" style=\"fill:none;stroke:#b0b0b0;stroke-dasharray:2.96,1.28;stroke-dashoffset:0;stroke-opacity:0.2;stroke-width:0.8;\"/>\n     </g>\n     <g id=\"line2d_104\">\n      <g>\n       <use style=\"stroke:#000000;stroke-width:0.8;\" x=\"51.1875\" xlink:href=\"#mc3c1e193dc\" y=\"154.20587\"/>\n      </g>\n     </g>\n     <g id=\"line2d_105\">\n      <g>\n       <use style=\"stroke:#000000;stroke-width:0.8;\" x=\"664.9875\" xlink:href=\"#m63cda895f3\" y=\"154.20587\"/>\n      </g>\n     </g>\n     <g id=\"text_10\">\n      <!-- 8 -->\n      <g transform=\"translate(36.64375 159.904698)scale(0.15 -0.15)\">\n       <defs>\n        <path d=\"M 2034 2216 \nQ 1584 2216 1326 1975 \nQ 1069 1734 1069 1313 \nQ 1069 891 1326 650 \nQ 1584 409 2034 409 \nQ 2484 409 2743 651 \nQ 3003 894 3003 1313 \nQ 3003 1734 2745 1975 \nQ 2488 2216 2034 2216 \nz\nM 1403 2484 \nQ 997 2584 770 2862 \nQ 544 3141 544 3541 \nQ 544 4100 942 4425 \nQ 1341 4750 2034 4750 \nQ 2731 4750 3128 4425 \nQ 3525 4100 3525 3541 \nQ 3525 3141 3298 2862 \nQ 3072 2584 2669 2484 \nQ 3125 2378 3379 2068 \nQ 3634 1759 3634 1313 \nQ 3634 634 3220 271 \nQ 2806 -91 2034 -91 \nQ 1263 -91 848 271 \nQ 434 634 434 1313 \nQ 434 1759 690 2068 \nQ 947 2378 1403 2484 \nz\nM 1172 3481 \nQ 1172 3119 1398 2916 \nQ 1625 2713 2034 2713 \nQ 2441 2713 2670 2916 \nQ 2900 3119 2900 3481 \nQ 2900 3844 2670 4047 \nQ 2441 4250 2034 4250 \nQ 1625 4250 1398 4047 \nQ 1172 3844 1172 3481 \nz\n\" id=\"DejaVuSans-38\" transform=\"scale(0.015625)\"/>\n       </defs>\n       <use xlink:href=\"#DejaVuSans-38\"/>\n      </g>\n     </g>\n    </g>\n    <g id=\"ytick_6\">\n     <g id=\"line2d_106\">\n      <path clip-path=\"url(#pad544e29b5)\" d=\"M 51.1875 113.110041 \nL 664.9875 113.110041 \n\" style=\"fill:none;stroke:#b0b0b0;stroke-dasharray:2.96,1.28;stroke-dashoffset:0;stroke-opacity:0.2;stroke-width:0.8;\"/>\n     </g>\n     <g id=\"line2d_107\">\n      <g>\n       <use style=\"stroke:#000000;stroke-width:0.8;\" x=\"51.1875\" xlink:href=\"#mc3c1e193dc\" y=\"113.110041\"/>\n      </g>\n     </g>\n     <g id=\"line2d_108\">\n      <g>\n       <use style=\"stroke:#000000;stroke-width:0.8;\" x=\"664.9875\" xlink:href=\"#m63cda895f3\" y=\"113.110041\"/>\n      </g>\n     </g>\n     <g id=\"text_11\">\n      <!-- 10 -->\n      <g transform=\"translate(27.1 118.808869)scale(0.15 -0.15)\">\n       <use xlink:href=\"#DejaVuSans-31\"/>\n       <use x=\"63.623047\" xlink:href=\"#DejaVuSans-30\"/>\n      </g>\n     </g>\n    </g>\n    <g id=\"ytick_7\">\n     <g id=\"line2d_109\">\n      <path clip-path=\"url(#pad544e29b5)\" d=\"M 51.1875 72.014212 \nL 664.9875 72.014212 \n\" style=\"fill:none;stroke:#b0b0b0;stroke-dasharray:2.96,1.28;stroke-dashoffset:0;stroke-opacity:0.2;stroke-width:0.8;\"/>\n     </g>\n     <g id=\"line2d_110\">\n      <g>\n       <use style=\"stroke:#000000;stroke-width:0.8;\" x=\"51.1875\" xlink:href=\"#mc3c1e193dc\" y=\"72.014212\"/>\n      </g>\n     </g>\n     <g id=\"line2d_111\">\n      <g>\n       <use style=\"stroke:#000000;stroke-width:0.8;\" x=\"664.9875\" xlink:href=\"#m63cda895f3\" y=\"72.014212\"/>\n      </g>\n     </g>\n     <g id=\"text_12\">\n      <!-- 12 -->\n      <g transform=\"translate(27.1 77.71304)scale(0.15 -0.15)\">\n       <use xlink:href=\"#DejaVuSans-31\"/>\n       <use x=\"63.623047\" xlink:href=\"#DejaVuSans-32\"/>\n      </g>\n     </g>\n    </g>\n    <g id=\"ytick_8\">\n     <g id=\"line2d_112\">\n      <path clip-path=\"url(#pad544e29b5)\" d=\"M 51.1875 30.918383 \nL 664.9875 30.918383 \n\" style=\"fill:none;stroke:#b0b0b0;stroke-dasharray:2.96,1.28;stroke-dashoffset:0;stroke-opacity:0.2;stroke-width:0.8;\"/>\n     </g>\n     <g id=\"line2d_113\">\n      <g>\n       <use style=\"stroke:#000000;stroke-width:0.8;\" x=\"51.1875\" xlink:href=\"#mc3c1e193dc\" y=\"30.918383\"/>\n      </g>\n     </g>\n     <g id=\"line2d_114\">\n      <g>\n       <use style=\"stroke:#000000;stroke-width:0.8;\" x=\"664.9875\" xlink:href=\"#m63cda895f3\" y=\"30.918383\"/>\n      </g>\n     </g>\n     <g id=\"text_13\">\n      <!-- 14 -->\n      <g transform=\"translate(27.1 36.617211)scale(0.15 -0.15)\">\n       <use xlink:href=\"#DejaVuSans-31\"/>\n       <use x=\"63.623047\" xlink:href=\"#DejaVuSans-34\"/>\n      </g>\n     </g>\n    </g>\n    <g id=\"ytick_9\">\n     <g id=\"line2d_115\">\n      <path clip-path=\"url(#pad544e29b5)\" d=\"M 51.1875 328.863144 \nL 664.9875 328.863144 \n\" style=\"fill:none;stroke:#b0b0b0;stroke-dasharray:2.96,1.28;stroke-dashoffset:0;stroke-opacity:0.2;stroke-width:0.8;\"/>\n     </g>\n     <g id=\"line2d_116\">\n      <defs>\n       <path d=\"M 0 0 \nL 5 0 \n\" id=\"m341abad80a\" style=\"stroke:#000000;stroke-width:0.6;\"/>\n      </defs>\n      <g>\n       <use style=\"stroke:#000000;stroke-width:0.6;\" x=\"51.1875\" xlink:href=\"#m341abad80a\" y=\"328.863144\"/>\n      </g>\n     </g>\n     <g id=\"line2d_117\">\n      <defs>\n       <path d=\"M 0 0 \nL -5 0 \n\" id=\"m1d61e12f4f\" style=\"stroke:#000000;stroke-width:0.6;\"/>\n      </defs>\n      <g>\n       <use style=\"stroke:#000000;stroke-width:0.6;\" x=\"664.9875\" xlink:href=\"#m1d61e12f4f\" y=\"328.863144\"/>\n      </g>\n     </g>\n    </g>\n    <g id=\"ytick_10\">\n     <g id=\"line2d_118\">\n      <path clip-path=\"url(#pad544e29b5)\" d=\"M 51.1875 308.31523 \nL 664.9875 308.31523 \n\" style=\"fill:none;stroke:#b0b0b0;stroke-dasharray:2.96,1.28;stroke-dashoffset:0;stroke-opacity:0.2;stroke-width:0.8;\"/>\n     </g>\n     <g id=\"line2d_119\">\n      <g>\n       <use style=\"stroke:#000000;stroke-width:0.6;\" x=\"51.1875\" xlink:href=\"#m341abad80a\" y=\"308.31523\"/>\n      </g>\n     </g>\n     <g id=\"line2d_120\">\n      <g>\n       <use style=\"stroke:#000000;stroke-width:0.6;\" x=\"664.9875\" xlink:href=\"#m1d61e12f4f\" y=\"308.31523\"/>\n      </g>\n     </g>\n    </g>\n    <g id=\"ytick_11\">\n     <g id=\"line2d_121\">\n      <path clip-path=\"url(#pad544e29b5)\" d=\"M 51.1875 298.041272 \nL 664.9875 298.041272 \n\" style=\"fill:none;stroke:#b0b0b0;stroke-dasharray:2.96,1.28;stroke-dashoffset:0;stroke-opacity:0.2;stroke-width:0.8;\"/>\n     </g>\n     <g id=\"line2d_122\">\n      <g>\n       <use style=\"stroke:#000000;stroke-width:0.6;\" x=\"51.1875\" xlink:href=\"#m341abad80a\" y=\"298.041272\"/>\n      </g>\n     </g>\n     <g id=\"line2d_123\">\n      <g>\n       <use style=\"stroke:#000000;stroke-width:0.6;\" x=\"664.9875\" xlink:href=\"#m1d61e12f4f\" y=\"298.041272\"/>\n      </g>\n     </g>\n    </g>\n    <g id=\"ytick_12\">\n     <g id=\"line2d_124\">\n      <path clip-path=\"url(#pad544e29b5)\" d=\"M 51.1875 287.767315 \nL 664.9875 287.767315 \n\" style=\"fill:none;stroke:#b0b0b0;stroke-dasharray:2.96,1.28;stroke-dashoffset:0;stroke-opacity:0.2;stroke-width:0.8;\"/>\n     </g>\n     <g id=\"line2d_125\">\n      <g>\n       <use style=\"stroke:#000000;stroke-width:0.6;\" x=\"51.1875\" xlink:href=\"#m341abad80a\" y=\"287.767315\"/>\n      </g>\n     </g>\n     <g id=\"line2d_126\">\n      <g>\n       <use style=\"stroke:#000000;stroke-width:0.6;\" x=\"664.9875\" xlink:href=\"#m1d61e12f4f\" y=\"287.767315\"/>\n      </g>\n     </g>\n    </g>\n    <g id=\"ytick_13\">\n     <g id=\"line2d_127\">\n      <path clip-path=\"url(#pad544e29b5)\" d=\"M 51.1875 267.2194 \nL 664.9875 267.2194 \n\" style=\"fill:none;stroke:#b0b0b0;stroke-dasharray:2.96,1.28;stroke-dashoffset:0;stroke-opacity:0.2;stroke-width:0.8;\"/>\n     </g>\n     <g id=\"line2d_128\">\n      <g>\n       <use style=\"stroke:#000000;stroke-width:0.6;\" x=\"51.1875\" xlink:href=\"#m341abad80a\" y=\"267.2194\"/>\n      </g>\n     </g>\n     <g id=\"line2d_129\">\n      <g>\n       <use style=\"stroke:#000000;stroke-width:0.6;\" x=\"664.9875\" xlink:href=\"#m1d61e12f4f\" y=\"267.2194\"/>\n      </g>\n     </g>\n    </g>\n    <g id=\"ytick_14\">\n     <g id=\"line2d_130\">\n      <path clip-path=\"url(#pad544e29b5)\" d=\"M 51.1875 256.945443 \nL 664.9875 256.945443 \n\" style=\"fill:none;stroke:#b0b0b0;stroke-dasharray:2.96,1.28;stroke-dashoffset:0;stroke-opacity:0.2;stroke-width:0.8;\"/>\n     </g>\n     <g id=\"line2d_131\">\n      <g>\n       <use style=\"stroke:#000000;stroke-width:0.6;\" x=\"51.1875\" xlink:href=\"#m341abad80a\" y=\"256.945443\"/>\n      </g>\n     </g>\n     <g id=\"line2d_132\">\n      <g>\n       <use style=\"stroke:#000000;stroke-width:0.6;\" x=\"664.9875\" xlink:href=\"#m1d61e12f4f\" y=\"256.945443\"/>\n      </g>\n     </g>\n    </g>\n    <g id=\"ytick_15\">\n     <g id=\"line2d_133\">\n      <path clip-path=\"url(#pad544e29b5)\" d=\"M 51.1875 246.671486 \nL 664.9875 246.671486 \n\" style=\"fill:none;stroke:#b0b0b0;stroke-dasharray:2.96,1.28;stroke-dashoffset:0;stroke-opacity:0.2;stroke-width:0.8;\"/>\n     </g>\n     <g id=\"line2d_134\">\n      <g>\n       <use style=\"stroke:#000000;stroke-width:0.6;\" x=\"51.1875\" xlink:href=\"#m341abad80a\" y=\"246.671486\"/>\n      </g>\n     </g>\n     <g id=\"line2d_135\">\n      <g>\n       <use style=\"stroke:#000000;stroke-width:0.6;\" x=\"664.9875\" xlink:href=\"#m1d61e12f4f\" y=\"246.671486\"/>\n      </g>\n     </g>\n    </g>\n    <g id=\"ytick_16\">\n     <g id=\"line2d_136\">\n      <path clip-path=\"url(#pad544e29b5)\" d=\"M 51.1875 226.123571 \nL 664.9875 226.123571 \n\" style=\"fill:none;stroke:#b0b0b0;stroke-dasharray:2.96,1.28;stroke-dashoffset:0;stroke-opacity:0.2;stroke-width:0.8;\"/>\n     </g>\n     <g id=\"line2d_137\">\n      <g>\n       <use style=\"stroke:#000000;stroke-width:0.6;\" x=\"51.1875\" xlink:href=\"#m341abad80a\" y=\"226.123571\"/>\n      </g>\n     </g>\n     <g id=\"line2d_138\">\n      <g>\n       <use style=\"stroke:#000000;stroke-width:0.6;\" x=\"664.9875\" xlink:href=\"#m1d61e12f4f\" y=\"226.123571\"/>\n      </g>\n     </g>\n    </g>\n    <g id=\"ytick_17\">\n     <g id=\"line2d_139\">\n      <path clip-path=\"url(#pad544e29b5)\" d=\"M 51.1875 215.849614 \nL 664.9875 215.849614 \n\" style=\"fill:none;stroke:#b0b0b0;stroke-dasharray:2.96,1.28;stroke-dashoffset:0;stroke-opacity:0.2;stroke-width:0.8;\"/>\n     </g>\n     <g id=\"line2d_140\">\n      <g>\n       <use style=\"stroke:#000000;stroke-width:0.6;\" x=\"51.1875\" xlink:href=\"#m341abad80a\" y=\"215.849614\"/>\n      </g>\n     </g>\n     <g id=\"line2d_141\">\n      <g>\n       <use style=\"stroke:#000000;stroke-width:0.6;\" x=\"664.9875\" xlink:href=\"#m1d61e12f4f\" y=\"215.849614\"/>\n      </g>\n     </g>\n    </g>\n    <g id=\"ytick_18\">\n     <g id=\"line2d_142\">\n      <path clip-path=\"url(#pad544e29b5)\" d=\"M 51.1875 205.575657 \nL 664.9875 205.575657 \n\" style=\"fill:none;stroke:#b0b0b0;stroke-dasharray:2.96,1.28;stroke-dashoffset:0;stroke-opacity:0.2;stroke-width:0.8;\"/>\n     </g>\n     <g id=\"line2d_143\">\n      <g>\n       <use style=\"stroke:#000000;stroke-width:0.6;\" x=\"51.1875\" xlink:href=\"#m341abad80a\" y=\"205.575657\"/>\n      </g>\n     </g>\n     <g id=\"line2d_144\">\n      <g>\n       <use style=\"stroke:#000000;stroke-width:0.6;\" x=\"664.9875\" xlink:href=\"#m1d61e12f4f\" y=\"205.575657\"/>\n      </g>\n     </g>\n    </g>\n    <g id=\"ytick_19\">\n     <g id=\"line2d_145\">\n      <path clip-path=\"url(#pad544e29b5)\" d=\"M 51.1875 185.027742 \nL 664.9875 185.027742 \n\" style=\"fill:none;stroke:#b0b0b0;stroke-dasharray:2.96,1.28;stroke-dashoffset:0;stroke-opacity:0.2;stroke-width:0.8;\"/>\n     </g>\n     <g id=\"line2d_146\">\n      <g>\n       <use style=\"stroke:#000000;stroke-width:0.6;\" x=\"51.1875\" xlink:href=\"#m341abad80a\" y=\"185.027742\"/>\n      </g>\n     </g>\n     <g id=\"line2d_147\">\n      <g>\n       <use style=\"stroke:#000000;stroke-width:0.6;\" x=\"664.9875\" xlink:href=\"#m1d61e12f4f\" y=\"185.027742\"/>\n      </g>\n     </g>\n    </g>\n    <g id=\"ytick_20\">\n     <g id=\"line2d_148\">\n      <path clip-path=\"url(#pad544e29b5)\" d=\"M 51.1875 174.753785 \nL 664.9875 174.753785 \n\" style=\"fill:none;stroke:#b0b0b0;stroke-dasharray:2.96,1.28;stroke-dashoffset:0;stroke-opacity:0.2;stroke-width:0.8;\"/>\n     </g>\n     <g id=\"line2d_149\">\n      <g>\n       <use style=\"stroke:#000000;stroke-width:0.6;\" x=\"51.1875\" xlink:href=\"#m341abad80a\" y=\"174.753785\"/>\n      </g>\n     </g>\n     <g id=\"line2d_150\">\n      <g>\n       <use style=\"stroke:#000000;stroke-width:0.6;\" x=\"664.9875\" xlink:href=\"#m1d61e12f4f\" y=\"174.753785\"/>\n      </g>\n     </g>\n    </g>\n    <g id=\"ytick_21\">\n     <g id=\"line2d_151\">\n      <path clip-path=\"url(#pad544e29b5)\" d=\"M 51.1875 164.479827 \nL 664.9875 164.479827 \n\" style=\"fill:none;stroke:#b0b0b0;stroke-dasharray:2.96,1.28;stroke-dashoffset:0;stroke-opacity:0.2;stroke-width:0.8;\"/>\n     </g>\n     <g id=\"line2d_152\">\n      <g>\n       <use style=\"stroke:#000000;stroke-width:0.6;\" x=\"51.1875\" xlink:href=\"#m341abad80a\" y=\"164.479827\"/>\n      </g>\n     </g>\n     <g id=\"line2d_153\">\n      <g>\n       <use style=\"stroke:#000000;stroke-width:0.6;\" x=\"664.9875\" xlink:href=\"#m1d61e12f4f\" y=\"164.479827\"/>\n      </g>\n     </g>\n    </g>\n    <g id=\"ytick_22\">\n     <g id=\"line2d_154\">\n      <path clip-path=\"url(#pad544e29b5)\" d=\"M 51.1875 143.931913 \nL 664.9875 143.931913 \n\" style=\"fill:none;stroke:#b0b0b0;stroke-dasharray:2.96,1.28;stroke-dashoffset:0;stroke-opacity:0.2;stroke-width:0.8;\"/>\n     </g>\n     <g id=\"line2d_155\">\n      <g>\n       <use style=\"stroke:#000000;stroke-width:0.6;\" x=\"51.1875\" xlink:href=\"#m341abad80a\" y=\"143.931913\"/>\n      </g>\n     </g>\n     <g id=\"line2d_156\">\n      <g>\n       <use style=\"stroke:#000000;stroke-width:0.6;\" x=\"664.9875\" xlink:href=\"#m1d61e12f4f\" y=\"143.931913\"/>\n      </g>\n     </g>\n    </g>\n    <g id=\"ytick_23\">\n     <g id=\"line2d_157\">\n      <path clip-path=\"url(#pad544e29b5)\" d=\"M 51.1875 133.657956 \nL 664.9875 133.657956 \n\" style=\"fill:none;stroke:#b0b0b0;stroke-dasharray:2.96,1.28;stroke-dashoffset:0;stroke-opacity:0.2;stroke-width:0.8;\"/>\n     </g>\n     <g id=\"line2d_158\">\n      <g>\n       <use style=\"stroke:#000000;stroke-width:0.6;\" x=\"51.1875\" xlink:href=\"#m341abad80a\" y=\"133.657956\"/>\n      </g>\n     </g>\n     <g id=\"line2d_159\">\n      <g>\n       <use style=\"stroke:#000000;stroke-width:0.6;\" x=\"664.9875\" xlink:href=\"#m1d61e12f4f\" y=\"133.657956\"/>\n      </g>\n     </g>\n    </g>\n    <g id=\"ytick_24\">\n     <g id=\"line2d_160\">\n      <path clip-path=\"url(#pad544e29b5)\" d=\"M 51.1875 123.383998 \nL 664.9875 123.383998 \n\" style=\"fill:none;stroke:#b0b0b0;stroke-dasharray:2.96,1.28;stroke-dashoffset:0;stroke-opacity:0.2;stroke-width:0.8;\"/>\n     </g>\n     <g id=\"line2d_161\">\n      <g>\n       <use style=\"stroke:#000000;stroke-width:0.6;\" x=\"51.1875\" xlink:href=\"#m341abad80a\" y=\"123.383998\"/>\n      </g>\n     </g>\n     <g id=\"line2d_162\">\n      <g>\n       <use style=\"stroke:#000000;stroke-width:0.6;\" x=\"664.9875\" xlink:href=\"#m1d61e12f4f\" y=\"123.383998\"/>\n      </g>\n     </g>\n    </g>\n    <g id=\"ytick_25\">\n     <g id=\"line2d_163\">\n      <path clip-path=\"url(#pad544e29b5)\" d=\"M 51.1875 102.836084 \nL 664.9875 102.836084 \n\" style=\"fill:none;stroke:#b0b0b0;stroke-dasharray:2.96,1.28;stroke-dashoffset:0;stroke-opacity:0.2;stroke-width:0.8;\"/>\n     </g>\n     <g id=\"line2d_164\">\n      <g>\n       <use style=\"stroke:#000000;stroke-width:0.6;\" x=\"51.1875\" xlink:href=\"#m341abad80a\" y=\"102.836084\"/>\n      </g>\n     </g>\n     <g id=\"line2d_165\">\n      <g>\n       <use style=\"stroke:#000000;stroke-width:0.6;\" x=\"664.9875\" xlink:href=\"#m1d61e12f4f\" y=\"102.836084\"/>\n      </g>\n     </g>\n    </g>\n    <g id=\"ytick_26\">\n     <g id=\"line2d_166\">\n      <path clip-path=\"url(#pad544e29b5)\" d=\"M 51.1875 92.562126 \nL 664.9875 92.562126 \n\" style=\"fill:none;stroke:#b0b0b0;stroke-dasharray:2.96,1.28;stroke-dashoffset:0;stroke-opacity:0.2;stroke-width:0.8;\"/>\n     </g>\n     <g id=\"line2d_167\">\n      <g>\n       <use style=\"stroke:#000000;stroke-width:0.6;\" x=\"51.1875\" xlink:href=\"#m341abad80a\" y=\"92.562126\"/>\n      </g>\n     </g>\n     <g id=\"line2d_168\">\n      <g>\n       <use style=\"stroke:#000000;stroke-width:0.6;\" x=\"664.9875\" xlink:href=\"#m1d61e12f4f\" y=\"92.562126\"/>\n      </g>\n     </g>\n    </g>\n    <g id=\"ytick_27\">\n     <g id=\"line2d_169\">\n      <path clip-path=\"url(#pad544e29b5)\" d=\"M 51.1875 82.288169 \nL 664.9875 82.288169 \n\" style=\"fill:none;stroke:#b0b0b0;stroke-dasharray:2.96,1.28;stroke-dashoffset:0;stroke-opacity:0.2;stroke-width:0.8;\"/>\n     </g>\n     <g id=\"line2d_170\">\n      <g>\n       <use style=\"stroke:#000000;stroke-width:0.6;\" x=\"51.1875\" xlink:href=\"#m341abad80a\" y=\"82.288169\"/>\n      </g>\n     </g>\n     <g id=\"line2d_171\">\n      <g>\n       <use style=\"stroke:#000000;stroke-width:0.6;\" x=\"664.9875\" xlink:href=\"#m1d61e12f4f\" y=\"82.288169\"/>\n      </g>\n     </g>\n    </g>\n    <g id=\"ytick_28\">\n     <g id=\"line2d_172\">\n      <path clip-path=\"url(#pad544e29b5)\" d=\"M 51.1875 61.740255 \nL 664.9875 61.740255 \n\" style=\"fill:none;stroke:#b0b0b0;stroke-dasharray:2.96,1.28;stroke-dashoffset:0;stroke-opacity:0.2;stroke-width:0.8;\"/>\n     </g>\n     <g id=\"line2d_173\">\n      <g>\n       <use style=\"stroke:#000000;stroke-width:0.6;\" x=\"51.1875\" xlink:href=\"#m341abad80a\" y=\"61.740255\"/>\n      </g>\n     </g>\n     <g id=\"line2d_174\">\n      <g>\n       <use style=\"stroke:#000000;stroke-width:0.6;\" x=\"664.9875\" xlink:href=\"#m1d61e12f4f\" y=\"61.740255\"/>\n      </g>\n     </g>\n    </g>\n    <g id=\"ytick_29\">\n     <g id=\"line2d_175\">\n      <path clip-path=\"url(#pad544e29b5)\" d=\"M 51.1875 51.466297 \nL 664.9875 51.466297 \n\" style=\"fill:none;stroke:#b0b0b0;stroke-dasharray:2.96,1.28;stroke-dashoffset:0;stroke-opacity:0.2;stroke-width:0.8;\"/>\n     </g>\n     <g id=\"line2d_176\">\n      <g>\n       <use style=\"stroke:#000000;stroke-width:0.6;\" x=\"51.1875\" xlink:href=\"#m341abad80a\" y=\"51.466297\"/>\n      </g>\n     </g>\n     <g id=\"line2d_177\">\n      <g>\n       <use style=\"stroke:#000000;stroke-width:0.6;\" x=\"664.9875\" xlink:href=\"#m1d61e12f4f\" y=\"51.466297\"/>\n      </g>\n     </g>\n    </g>\n    <g id=\"ytick_30\">\n     <g id=\"line2d_178\">\n      <path clip-path=\"url(#pad544e29b5)\" d=\"M 51.1875 41.19234 \nL 664.9875 41.19234 \n\" style=\"fill:none;stroke:#b0b0b0;stroke-dasharray:2.96,1.28;stroke-dashoffset:0;stroke-opacity:0.2;stroke-width:0.8;\"/>\n     </g>\n     <g id=\"line2d_179\">\n      <g>\n       <use style=\"stroke:#000000;stroke-width:0.6;\" x=\"51.1875\" xlink:href=\"#m341abad80a\" y=\"41.19234\"/>\n      </g>\n     </g>\n     <g id=\"line2d_180\">\n      <g>\n       <use style=\"stroke:#000000;stroke-width:0.6;\" x=\"664.9875\" xlink:href=\"#m1d61e12f4f\" y=\"41.19234\"/>\n      </g>\n     </g>\n    </g>\n    <g id=\"ytick_31\">\n     <g id=\"line2d_181\">\n      <path clip-path=\"url(#pad544e29b5)\" d=\"M 51.1875 20.644425 \nL 664.9875 20.644425 \n\" style=\"fill:none;stroke:#b0b0b0;stroke-dasharray:2.96,1.28;stroke-dashoffset:0;stroke-opacity:0.2;stroke-width:0.8;\"/>\n     </g>\n     <g id=\"line2d_182\">\n      <g>\n       <use style=\"stroke:#000000;stroke-width:0.6;\" x=\"51.1875\" xlink:href=\"#m341abad80a\" y=\"20.644425\"/>\n      </g>\n     </g>\n     <g id=\"line2d_183\">\n      <g>\n       <use style=\"stroke:#000000;stroke-width:0.6;\" x=\"664.9875\" xlink:href=\"#m1d61e12f4f\" y=\"20.644425\"/>\n      </g>\n     </g>\n    </g>\n    <g id=\"ytick_32\">\n     <g id=\"line2d_184\">\n      <path clip-path=\"url(#pad544e29b5)\" d=\"M 51.1875 10.370468 \nL 664.9875 10.370468 \n\" style=\"fill:none;stroke:#b0b0b0;stroke-dasharray:2.96,1.28;stroke-dashoffset:0;stroke-opacity:0.2;stroke-width:0.8;\"/>\n     </g>\n     <g id=\"line2d_185\">\n      <g>\n       <use style=\"stroke:#000000;stroke-width:0.6;\" x=\"51.1875\" xlink:href=\"#m341abad80a\" y=\"10.370468\"/>\n      </g>\n     </g>\n     <g id=\"line2d_186\">\n      <g>\n       <use style=\"stroke:#000000;stroke-width:0.6;\" x=\"664.9875\" xlink:href=\"#m1d61e12f4f\" y=\"10.370468\"/>\n      </g>\n     </g>\n    </g>\n    <g id=\"text_14\">\n     <!-- $\\ell C^{\\nu\\kappa}_{\\ell}$ \\[Jy/sr\\] -->\n     <g transform=\"translate(18.75 214.905)rotate(-90)scale(0.15 -0.15)\">\n      <defs>\n       <path d=\"M 4447 4306 \nL 4319 3641 \nQ 4019 3944 3683 4091 \nQ 3347 4238 2956 4238 \nQ 2422 4238 2017 3981 \nQ 1613 3725 1319 3200 \nQ 1131 2863 1032 2486 \nQ 934 2109 934 1728 \nQ 934 1091 1264 756 \nQ 1594 422 2222 422 \nQ 2656 422 3056 561 \nQ 3456 700 3834 978 \nL 3688 231 \nQ 3316 72 2936 -9 \nQ 2556 -91 2175 -91 \nQ 1278 -91 773 396 \nQ 269 884 269 1753 \nQ 269 2309 461 2846 \nQ 653 3384 1013 3828 \nQ 1394 4300 1883 4525 \nQ 2372 4750 3022 4750 \nQ 3422 4750 3780 4639 \nQ 4138 4528 4447 4306 \nz\n\" id=\"DejaVuSans-Oblique-43\" transform=\"scale(0.015625)\"/>\n       <path d=\"M 959 0 \nL 572 3500 \nL 1191 3500 \nL 1522 563 \nQ 1972 950 2391 1488 \nQ 2706 1891 2788 2241 \nQ 2825 2406 2809 2719 \nQ 2794 3091 2544 3500 \nL 3125 3500 \nL 3125 3500 \nQ 3288 3222 3353 2834 \nQ 3416 2478 3369 2234 \nQ 3250 1622 2719 1075 \nQ 2025 363 1572 0 \nL 959 0 \nz\n\" id=\"DejaVuSans-Oblique-3bd\" transform=\"scale(0.015625)\"/>\n       <path d=\"M 938 3500 \nL 1531 3500 \nL 1247 2047 \nL 3041 3500 \nL 3741 3500 \nL 2106 2181 \nL 3275 0 \nL 2572 0 \nL 1628 1806 \nL 1122 1403 \nL 850 0 \nL 256 0 \nL 938 3500 \nz\n\" id=\"DejaVuSans-Oblique-3ba\" transform=\"scale(0.015625)\"/>\n       <path id=\"DejaVuSans-20\" transform=\"scale(0.015625)\"/>\n       <path d=\"M 531 4666 \nL 2156 -594 \nL 1625 -594 \nL 0 4666 \nL 531 4666 \nz\n\" id=\"DejaVuSans-5c\" transform=\"scale(0.015625)\"/>\n       <path d=\"M 550 4863 \nL 1875 4863 \nL 1875 4416 \nL 1125 4416 \nL 1125 -397 \nL 1875 -397 \nL 1875 -844 \nL 550 -844 \nL 550 4863 \nz\n\" id=\"DejaVuSans-5b\" transform=\"scale(0.015625)\"/>\n       <path d=\"M 628 4666 \nL 1259 4666 \nL 1259 325 \nQ 1259 -519 939 -900 \nQ 619 -1281 -91 -1281 \nL -331 -1281 \nL -331 -750 \nL -134 -750 \nQ 284 -750 456 -515 \nQ 628 -281 628 325 \nL 628 4666 \nz\n\" id=\"DejaVuSans-4a\" transform=\"scale(0.015625)\"/>\n       <path d=\"M 2059 -325 \nQ 1816 -950 1584 -1140 \nQ 1353 -1331 966 -1331 \nL 506 -1331 \nL 506 -850 \nL 844 -850 \nQ 1081 -850 1212 -737 \nQ 1344 -625 1503 -206 \nL 1606 56 \nL 191 3500 \nL 800 3500 \nL 1894 763 \nL 2988 3500 \nL 3597 3500 \nL 2059 -325 \nz\n\" id=\"DejaVuSans-79\" transform=\"scale(0.015625)\"/>\n       <path d=\"M 1625 4666 \nL 2156 4666 \nL 531 -594 \nL 0 -594 \nL 1625 4666 \nz\n\" id=\"DejaVuSans-2f\" transform=\"scale(0.015625)\"/>\n       <path d=\"M 2834 3397 \nL 2834 2853 \nQ 2591 2978 2328 3040 \nQ 2066 3103 1784 3103 \nQ 1356 3103 1142 2972 \nQ 928 2841 928 2578 \nQ 928 2378 1081 2264 \nQ 1234 2150 1697 2047 \nL 1894 2003 \nQ 2506 1872 2764 1633 \nQ 3022 1394 3022 966 \nQ 3022 478 2636 193 \nQ 2250 -91 1575 -91 \nQ 1294 -91 989 -36 \nQ 684 19 347 128 \nL 347 722 \nQ 666 556 975 473 \nQ 1284 391 1588 391 \nQ 1994 391 2212 530 \nQ 2431 669 2431 922 \nQ 2431 1156 2273 1281 \nQ 2116 1406 1581 1522 \nL 1381 1569 \nQ 847 1681 609 1914 \nQ 372 2147 372 2553 \nQ 372 3047 722 3315 \nQ 1072 3584 1716 3584 \nQ 2034 3584 2315 3537 \nQ 2597 3491 2834 3397 \nz\n\" id=\"DejaVuSans-73\" transform=\"scale(0.015625)\"/>\n       <path d=\"M 2631 2963 \nQ 2534 3019 2420 3045 \nQ 2306 3072 2169 3072 \nQ 1681 3072 1420 2755 \nQ 1159 2438 1159 1844 \nL 1159 0 \nL 581 0 \nL 581 3500 \nL 1159 3500 \nL 1159 2956 \nQ 1341 3275 1631 3429 \nQ 1922 3584 2338 3584 \nQ 2397 3584 2469 3576 \nQ 2541 3569 2628 3553 \nL 2631 2963 \nz\n\" id=\"DejaVuSans-72\" transform=\"scale(0.015625)\"/>\n       <path d=\"M 1947 4863 \nL 1947 -844 \nL 622 -844 \nL 622 -397 \nL 1369 -397 \nL 1369 4416 \nL 622 4416 \nL 622 4863 \nL 1947 4863 \nz\n\" id=\"DejaVuSans-5d\" transform=\"scale(0.015625)\"/>\n      </defs>\n      <use transform=\"translate(0 0.4375)\" xlink:href=\"#DejaVuSans-Oblique-2113\"/>\n      <use transform=\"translate(41.308594 0.4375)\" xlink:href=\"#DejaVuSans-Oblique-43\"/>\n      <use transform=\"translate(118.333333 38.71875)scale(0.7)\" xlink:href=\"#DejaVuSans-Oblique-3bd\"/>\n      <use transform=\"translate(157.434896 38.71875)scale(0.7)\" xlink:href=\"#DejaVuSans-Oblique-3ba\"/>\n      <use transform=\"translate(111.132812 -26.90625)scale(0.7)\" xlink:href=\"#DejaVuSans-Oblique-2113\"/>\n      <use transform=\"translate(201.424154 0.4375)\" xlink:href=\"#DejaVuSans-20\"/>\n      <use transform=\"translate(233.211263 0.4375)\" xlink:href=\"#DejaVuSans-5c\"/>\n      <use transform=\"translate(266.902669 0.4375)\" xlink:href=\"#DejaVuSans-5b\"/>\n      <use transform=\"translate(305.916341 0.4375)\" xlink:href=\"#DejaVuSans-4a\"/>\n      <use transform=\"translate(335.408529 0.4375)\" xlink:href=\"#DejaVuSans-79\"/>\n      <use transform=\"translate(394.588216 0.4375)\" xlink:href=\"#DejaVuSans-2f\"/>\n      <use transform=\"translate(428.279622 0.4375)\" xlink:href=\"#DejaVuSans-73\"/>\n      <use transform=\"translate(480.379232 0.4375)\" xlink:href=\"#DejaVuSans-72\"/>\n      <use transform=\"translate(521.492513 0.4375)\" xlink:href=\"#DejaVuSans-5c\"/>\n      <use transform=\"translate(555.183919 0.4375)\" xlink:href=\"#DejaVuSans-5d\"/>\n     </g>\n    </g>\n   </g>\n   <g id=\"line2d_187\">\n    <path clip-path=\"url(#pad544e29b5)\" d=\"M 79.0875 315.503884 \nL 87.542045 315.00861 \nL 95.996591 314.440527 \nL 104.451136 313.790848 \nL 112.905682 313.050629 \nL 121.360227 312.210944 \nL 129.814773 311.262999 \nL 138.269318 310.198053 \nL 146.723864 309.0075 \nL 155.178409 307.683546 \nL 163.632955 306.220603 \nL 172.0875 304.616717 \nL 180.542045 302.873824 \nL 188.996591 300.997459 \nL 197.451136 298.994228 \nL 205.905682 296.895145 \nL 214.360227 294.71393 \nL 222.814773 292.488013 \nL 231.269318 290.259324 \nL 239.723864 288.076602 \nL 248.178409 285.993216 \nL 256.632955 284.06387 \nL 265.0875 282.339391 \nL 273.542045 280.860817 \nL 281.996591 279.652687 \nL 290.451136 278.717288 \nL 298.905682 278.031767 \nL 307.360227 277.550178 \nL 315.814773 277.202554 \nL 324.269318 276.960382 \nL 332.723864 276.757533 \nL 341.178409 276.622593 \nL 349.632955 276.607593 \nL 358.0875 276.852344 \nL 366.542045 277.456514 \nL 374.996591 278.498737 \nL 383.451136 279.939587 \nL 391.905682 281.612077 \nL 400.360227 283.297023 \nL 408.814773 284.823289 \nL 417.269318 286.208532 \nL 425.723864 287.601657 \nL 434.178409 289.143891 \nL 442.632955 290.791491 \nL 451.0875 292.340637 \nL 459.542045 293.687775 \nL 467.996591 294.953068 \nL 476.451136 296.181706 \nL 484.905682 297.286857 \nL 493.360227 298.229313 \nL 501.814773 299.0755 \nL 510.269318 299.78099 \nL 518.723864 300.348829 \nL 527.178409 300.786749 \nL 535.632955 301.088479 \nL 544.0875 301.260507 \nL 552.542045 301.305335 \nL 560.996591 301.227023 \nL 569.451136 301.031733 \nL 577.905682 300.724654 \nL 586.360227 300.314091 \nL 594.814773 299.806349 \nL 603.269318 299.210114 \nL 611.723864 298.53496 \nL 620.178409 297.789893 \nL 628.632955 296.985747 \nL 637.0875 296.134121 \n\" style=\"fill:none;stroke:#1f77b4;stroke-linecap:square;stroke-width:1.5;\"/>\n   </g>\n   <g id=\"line2d_188\">\n    <path clip-path=\"url(#pad544e29b5)\" d=\"M 79.0875 318.534545 \nL 87.542045 318.528799 \nL 95.996591 318.522456 \nL 104.451136 318.515431 \nL 112.905682 318.507675 \nL 121.360227 318.499103 \nL 129.814773 318.489631 \nL 138.269318 318.479163 \nL 146.723864 318.467595 \nL 155.178409 318.454812 \nL 163.632955 318.440685 \nL 172.0875 318.425075 \nL 180.542045 318.407827 \nL 188.996591 318.388768 \nL 197.451136 318.36771 \nL 205.905682 318.344443 \nL 214.360227 318.31874 \nL 222.814773 318.290345 \nL 231.269318 318.258982 \nL 239.723864 318.224342 \nL 248.178409 318.186089 \nL 256.632955 318.143854 \nL 265.0875 318.097231 \nL 273.542045 318.045778 \nL 281.996591 317.989009 \nL 290.451136 317.926405 \nL 298.905682 317.857383 \nL 307.360227 317.781322 \nL 315.814773 317.697556 \nL 324.269318 317.605449 \nL 332.723864 317.504064 \nL 341.178409 317.392657 \nL 349.632955 317.270351 \nL 358.0875 317.136216 \nL 366.542045 316.98927 \nL 374.996591 316.828472 \nL 383.451136 316.652726 \nL 391.905682 316.460869 \nL 400.360227 316.251509 \nL 408.814773 316.02365 \nL 417.269318 315.775762 \nL 425.723864 315.506382 \nL 434.178409 315.213971 \nL 442.632955 314.896913 \nL 451.0875 314.55353 \nL 459.542045 314.182085 \nL 467.996591 313.791596 \nL 476.451136 313.347916 \nL 484.905682 312.881613 \nL 493.360227 312.380034 \nL 501.814773 311.841607 \nL 510.269318 311.264661 \nL 518.723864 310.647684 \nL 527.178409 309.989401 \nL 535.632955 309.288703 \nL 544.0875 308.544904 \nL 552.542045 307.757561 \nL 560.996591 306.926431 \nL 569.451136 306.052457 \nL 577.905682 305.135863 \nL 586.360227 304.179835 \nL 594.814773 303.185553 \nL 603.269318 302.156699 \nL 611.723864 301.09804 \nL 620.178409 300.013997 \nL 628.632955 298.91107 \nL 637.0875 297.796814 \n\" style=\"fill:none;stroke:#1f77b4;stroke-dasharray:9.6,2.4,1.5,2.4;stroke-dashoffset:0;stroke-opacity:0.5;stroke-width:1.5;\"/>\n   </g>\n   <g id=\"line2d_189\">\n    <path clip-path=\"url(#pad544e29b5)\" d=\"M 79.0875 315.558525 \nL 87.542045 315.068997 \nL 95.996591 314.507258 \nL 104.451136 313.864604 \nL 112.905682 313.132141 \nL 121.360227 312.301028 \nL 129.814773 311.362555 \nL 138.269318 310.308077 \nL 146.723864 309.129092 \nL 155.178409 307.817921 \nL 163.632955 306.369105 \nL 172.0875 304.780829 \nL 180.542045 303.055184 \nL 188.996591 301.197878 \nL 197.451136 299.215705 \nL 205.905682 297.139888 \nL 214.360227 294.984377 \nL 222.814773 292.786854 \nL 231.269318 290.589529 \nL 239.723864 288.441447 \nL 248.178409 286.396314 \nL 256.632955 284.509203 \nL 265.0875 282.831346 \nL 273.542045 281.404226 \nL 281.996591 280.252865 \nL 290.451136 279.38007 \nL 298.905682 278.763571 \nL 307.360227 278.358042 \nL 315.814773 278.094184 \nL 324.269318 277.94412 \nL 332.723864 277.842655 \nL 341.178409 277.819123 \nL 349.632955 277.926429 \nL 358.0875 278.305314 \nL 366.542045 279.056431 \nL 374.996591 280.259451 \nL 383.451136 281.876049 \nL 391.905682 283.740395 \nL 400.360227 285.634701 \nL 408.814773 287.388826 \nL 417.269318 289.021957 \nL 425.723864 290.684462 \nL 434.178409 292.519107 \nL 442.632955 294.483765 \nL 451.0875 296.376294 \nL 459.542045 298.094878 \nL 467.996591 299.750659 \nL 476.451136 301.422977 \nL 484.905682 302.994431 \nL 493.360227 304.438466 \nL 501.814773 305.823081 \nL 510.269318 307.105516 \nL 518.723864 308.290332 \nL 527.178409 309.386536 \nL 535.632955 310.388964 \nL 544.0875 311.30479 \nL 552.542045 312.136961 \nL 560.996591 312.889779 \nL 569.451136 313.568463 \nL 577.905682 314.177978 \nL 586.360227 314.723444 \nL 594.814773 315.209983 \nL 603.269318 315.642602 \nL 611.723864 316.026106 \nL 620.178409 316.365083 \nL 628.632955 316.663863 \nL 637.0875 316.926494 \n\" style=\"fill:none;stroke:#1f77b4;stroke-dasharray:5.55,2.4;stroke-dashoffset:0;stroke-opacity:0.5;stroke-width:1.5;\"/>\n   </g>\n   <g id=\"line2d_190\">\n    <path clip-path=\"url(#pad544e29b5)\" d=\"M 79.0875 307.921817 \nL 87.542045 306.252757 \nL 95.996591 304.347568 \nL 104.451136 302.179569 \nL 112.905682 299.722055 \nL 121.360227 296.949214 \nL 129.814773 293.836423 \nL 138.269318 290.359907 \nL 146.723864 286.496859 \nL 155.178409 282.227641 \nL 163.632955 277.540578 \nL 172.0875 272.436785 \nL 180.542045 266.930572 \nL 188.996591 261.036503 \nL 197.451136 254.829588 \nL 205.905682 248.343184 \nL 214.360227 241.677588 \nL 222.814773 234.941594 \nL 231.269318 228.268091 \nL 239.723864 221.80654 \nL 248.178409 215.692543 \nL 256.632955 210.149437 \nL 265.0875 205.247132 \nL 273.542045 201.109799 \nL 281.996591 197.785479 \nL 290.451136 195.235908 \nL 298.905682 193.431692 \nL 307.360227 192.169458 \nL 315.814773 191.300015 \nL 324.269318 190.681804 \nL 332.723864 190.253604 \nL 341.178409 190.119849 \nL 349.632955 190.480839 \nL 358.0875 191.696266 \nL 366.542045 194.03588 \nL 374.996591 197.604037 \nL 383.451136 202.168877 \nL 391.905682 207.205109 \nL 400.360227 212.148239 \nL 408.814773 216.652411 \nL 417.269318 220.875491 \nL 425.723864 225.201744 \nL 434.178409 229.87608 \nL 442.632955 234.677969 \nL 451.0875 239.119033 \nL 459.542045 243.038668 \nL 467.996591 246.700018 \nL 476.451136 250.215575 \nL 484.905682 253.303055 \nL 493.360227 255.933718 \nL 501.814773 258.235512 \nL 510.269318 260.107404 \nL 518.723864 261.565162 \nL 527.178409 262.624348 \nL 535.632955 263.277361 \nL 544.0875 263.541475 \nL 552.542045 263.428572 \nL 560.996591 262.953456 \nL 569.451136 262.137428 \nL 577.905682 260.999169 \nL 586.360227 259.5672 \nL 594.814773 257.867548 \nL 603.269318 255.921487 \nL 611.723864 253.758367 \nL 620.178409 251.420735 \nL 628.632955 248.938693 \nL 637.0875 246.350103 \n\" style=\"fill:none;stroke:#ff7f0e;stroke-linecap:square;stroke-width:1.5;\"/>\n   </g>\n   <g id=\"line2d_191\">\n    <path clip-path=\"url(#pad544e29b5)\" d=\"M 79.0875 318.401225 \nL 87.542045 318.381458 \nL 95.996591 318.359612 \nL 104.451136 318.335469 \nL 112.905682 318.308788 \nL 121.360227 318.279301 \nL 129.814773 318.246715 \nL 138.269318 318.210703 \nL 146.723864 318.170906 \nL 155.178409 318.126926 \nL 163.632955 318.078325 \nL 172.0875 318.024617 \nL 180.542045 317.965268 \nL 188.996591 317.899686 \nL 197.451136 317.82722 \nL 205.905682 317.747149 \nL 214.360227 317.658681 \nL 222.814773 317.560939 \nL 231.269318 317.45296 \nL 239.723864 317.33368 \nL 248.178409 317.201932 \nL 256.632955 317.056429 \nL 265.0875 316.89576 \nL 273.542045 316.718378 \nL 281.996591 316.522587 \nL 290.451136 316.306536 \nL 298.905682 316.068204 \nL 307.360227 315.805398 \nL 315.814773 315.515741 \nL 324.269318 315.196667 \nL 332.723864 314.845424 \nL 341.178409 314.459072 \nL 349.632955 314.032961 \nL 358.0875 313.566816 \nL 366.542045 313.055751 \nL 374.996591 312.497855 \nL 383.451136 311.885197 \nL 391.905682 311.217598 \nL 400.360227 310.490322 \nL 408.814773 309.699501 \nL 417.269318 308.841167 \nL 425.723864 307.911207 \nL 434.178409 306.905291 \nL 442.632955 305.818808 \nL 451.0875 304.646594 \nL 459.542045 303.384112 \nL 467.996591 302.024979 \nL 476.451136 300.564518 \nL 484.905682 298.998152 \nL 493.360227 297.319432 \nL 501.814773 295.523618 \nL 510.269318 293.607681 \nL 518.723864 291.566618 \nL 527.178409 289.400571 \nL 535.632955 287.106321 \nL 544.0875 284.683455 \nL 552.542045 282.132686 \nL 560.996591 279.455224 \nL 569.451136 276.656593 \nL 577.905682 273.740153 \nL 586.360227 270.718871 \nL 594.814773 267.603332 \nL 603.269318 264.399816 \nL 611.723864 261.123311 \nL 620.178409 257.802723 \nL 628.632955 254.455316 \nL 637.0875 251.106983 \n\" style=\"fill:none;stroke:#ff7f0e;stroke-dasharray:9.6,2.4,1.5,2.4;stroke-dashoffset:0;stroke-opacity:0.5;stroke-width:1.5;\"/>\n   </g>\n   <g id=\"line2d_192\">\n    <path clip-path=\"url(#pad544e29b5)\" d=\"M 79.0875 308.10978 \nL 87.542045 306.460486 \nL 95.996591 304.577144 \nL 104.451136 302.433287 \nL 112.905682 300.002454 \nL 121.360227 297.2591 \nL 129.814773 294.178895 \nL 138.269318 290.738391 \nL 146.723864 286.91514 \nL 155.178409 282.689902 \nL 163.632955 278.05144 \nL 172.0875 273.001356 \nL 180.542045 267.554491 \nL 188.996591 261.726004 \nL 197.451136 255.591555 \nL 205.905682 249.185222 \nL 214.360227 242.608094 \nL 222.814773 235.969842 \nL 231.269318 229.404318 \nL 239.723864 223.062046 \nL 248.178409 217.079798 \nL 256.632955 211.682195 \nL 265.0875 206.940558 \nL 273.542045 202.980607 \nL 281.996591 199.852079 \nL 290.451136 197.518559 \nL 298.905682 195.952675 \nL 307.360227 194.953247 \nL 315.814773 194.373462 \nL 324.269318 194.074324 \nL 332.723864 193.997367 \nL 341.178409 194.249964 \nL 349.632955 195.037065 \nL 358.0875 196.718637 \nL 366.542045 199.569316 \nL 374.996591 203.695368 \nL 383.451136 208.872867 \nL 391.905682 214.576698 \nL 400.360227 220.247104 \nL 408.814773 225.542097 \nL 417.269318 230.623511 \nL 425.723864 235.879724 \nL 434.178409 241.559976 \nL 442.632955 247.448347 \nL 451.0875 253.061626 \nL 459.542045 258.243743 \nL 467.996591 263.264226 \nL 476.451136 268.240244 \nL 484.905682 272.89409 \nL 493.360227 277.203473 \nL 501.814773 281.30108 \nL 510.269318 285.08891 \nL 518.723864 288.587731 \nL 527.178409 291.812964 \nL 535.632955 294.760227 \nL 544.0875 297.447207 \nL 552.542045 299.885073 \nL 560.996591 302.087419 \nL 569.451136 304.070021 \nL 577.905682 305.848203 \nL 586.360227 307.437516 \nL 594.814773 308.853403 \nL 603.269318 310.110858 \nL 611.723864 311.224243 \nL 620.178409 312.207199 \nL 628.632955 313.072564 \nL 637.0875 313.832307 \n\" style=\"fill:none;stroke:#ff7f0e;stroke-dasharray:5.55,2.4;stroke-dashoffset:0;stroke-opacity:0.5;stroke-width:1.5;\"/>\n   </g>\n   <g id=\"line2d_193\">\n    <path clip-path=\"url(#pad544e29b5)\" d=\"M 79.0875 288.181407 \nL 87.542045 283.63351 \nL 95.996591 278.486905 \nL 104.451136 272.694326 \nL 112.905682 266.176934 \nL 121.360227 258.895058 \nL 129.814773 250.789117 \nL 138.269318 241.849194 \nL 146.723864 232.026007 \nL 155.178409 221.315197 \nL 163.632955 209.674733 \nL 172.0875 197.158377 \nL 180.542045 183.835879 \nL 188.996591 169.802084 \nL 197.451136 155.188416 \nL 205.905682 140.147563 \nL 214.360227 125.029476 \nL 222.814773 109.991884 \nL 231.269318 95.33761 \nL 239.723864 81.546085 \nL 248.178409 68.799954 \nL 256.632955 57.44866 \nL 265.0875 47.713508 \nL 273.542045 39.771677 \nL 281.996591 33.593012 \nL 290.451136 29.049257 \nL 298.905682 25.940043 \nL 307.360227 23.888185 \nL 315.814773 22.656508 \nL 324.269318 22.025455 \nL 332.723864 22.049472 \nL 341.178409 23.099765 \nL 349.632955 25.661082 \nL 358.0875 30.372452 \nL 366.542045 37.508038 \nL 374.996591 46.866369 \nL 383.451136 57.700464 \nL 391.905682 68.842498 \nL 400.360227 79.473582 \nL 408.814773 89.354478 \nL 417.269318 99.016473 \nL 425.723864 108.964871 \nL 434.178409 119.242912 \nL 442.632955 129.198857 \nL 451.0875 138.255223 \nL 459.542045 146.381372 \nL 467.996591 153.90019 \nL 476.451136 160.780152 \nL 484.905682 166.691876 \nL 493.360227 171.638498 \nL 501.814773 175.741075 \nL 510.269318 178.875391 \nL 518.723864 181.087373 \nL 527.178409 182.402182 \nL 535.632955 182.82698 \nL 544.0875 182.397889 \nL 552.542045 181.181865 \nL 560.996591 179.213599 \nL 569.451136 176.525109 \nL 577.905682 173.226489 \nL 586.360227 169.343882 \nL 594.814773 164.956346 \nL 603.269318 160.141806 \nL 611.723864 154.981265 \nL 620.178409 149.568542 \nL 628.632955 143.968354 \nL 637.0875 138.291526 \n\" style=\"fill:none;stroke:#2ca02c;stroke-linecap:square;stroke-width:1.5;\"/>\n   </g>\n   <g id=\"line2d_194\">\n    <path clip-path=\"url(#pad544e29b5)\" d=\"M 79.0875 318.061824 \nL 87.542045 318.006364 \nL 95.996591 317.945071 \nL 104.451136 317.877332 \nL 112.905682 317.802472 \nL 121.360227 317.71974 \nL 129.814773 317.628309 \nL 138.269318 317.527267 \nL 146.723864 317.415602 \nL 155.178409 317.2922 \nL 163.632955 317.155829 \nL 172.0875 317.005126 \nL 180.542045 316.83859 \nL 188.996591 316.654561 \nL 197.451136 316.451205 \nL 205.905682 316.226501 \nL 214.360227 315.978217 \nL 222.814773 315.70389 \nL 231.269318 315.400807 \nL 239.723864 315.065975 \nL 248.178409 314.6961 \nL 256.632955 314.287557 \nL 265.0875 313.836356 \nL 273.542045 313.338122 \nL 281.996591 312.78805 \nL 290.451136 312.180882 \nL 298.905682 311.510875 \nL 307.360227 310.771765 \nL 315.814773 309.956749 \nL 324.269318 309.058461 \nL 332.723864 308.068964 \nL 341.178409 306.97975 \nL 349.632955 305.781763 \nL 358.0875 304.465438 \nL 366.542045 303.020773 \nL 374.996591 301.437394 \nL 383.451136 299.704833 \nL 391.905682 297.812488 \nL 400.360227 295.749993 \nL 408.814773 293.50725 \nL 417.269318 291.074744 \nL 425.723864 288.443744 \nL 434.178409 285.606476 \nL 442.632955 282.538156 \nL 451.0875 279.267054 \nL 459.542045 275.768069 \nL 467.996591 272.033502 \nL 476.451136 268.049727 \nL 484.905682 263.823029 \nL 493.360227 259.327164 \nL 501.814773 254.561101 \nL 510.269318 249.516927 \nL 518.723864 244.191528 \nL 527.178409 238.593775 \nL 535.632955 232.715239 \nL 544.0875 226.559095 \nL 552.542045 220.161575 \nL 560.996591 213.524452 \nL 569.451136 206.643915 \nL 577.905682 199.594679 \nL 586.360227 192.367745 \nL 594.814773 185.007676 \nL 603.269318 177.559234 \nL 611.723864 170.07183 \nL 620.178409 162.609509 \nL 628.632955 155.209096 \nL 637.0875 147.955541 \n\" style=\"fill:none;stroke:#2ca02c;stroke-dasharray:9.6,2.4,1.5,2.4;stroke-dashoffset:0;stroke-opacity:0.5;stroke-width:1.5;\"/>\n   </g>\n   <g id=\"line2d_195\">\n    <path clip-path=\"url(#pad544e29b5)\" d=\"M 79.0875 288.708769 \nL 87.542045 284.216333 \nL 95.996591 279.131021 \nL 104.451136 273.40618 \nL 112.905682 266.963649 \nL 121.360227 259.764506 \nL 129.814773 251.749995 \nL 138.269318 242.911114 \nL 146.723864 233.199592 \nL 155.178409 222.612183 \nL 163.632955 211.108091 \nL 172.0875 198.742437 \nL 180.542045 185.586475 \nL 188.996591 171.73671 \nL 197.451136 157.326397 \nL 205.905682 142.510249 \nL 214.360227 127.640446 \nL 222.814773 112.877181 \nL 231.269318 98.52599 \nL 239.723864 85.069297 \nL 248.178409 72.69304 \nL 256.632955 61.75029 \nL 265.0875 52.466338 \nL 273.542045 45.022743 \nL 281.996591 39.394149 \nL 290.451136 35.457561 \nL 298.905682 33.018355 \nL 307.360227 31.705607 \nL 315.814773 31.288945 \nL 324.269318 31.55618 \nL 332.723864 32.569695 \nL 341.178409 34.709202 \nL 349.632955 38.468506 \nL 358.0875 44.496201 \nL 366.542045 53.076451 \nL 374.996591 64.018161 \nL 383.451136 76.584818 \nL 391.905682 89.619198 \nL 400.360227 102.312776 \nL 408.814773 114.436414 \nL 417.269318 126.530916 \nL 425.723864 139.110314 \nL 434.178409 152.225623 \nL 442.632955 165.249888 \nL 451.0875 177.577355 \nL 459.542045 189.20249 \nL 467.996591 200.455875 \nL 476.451136 211.319613 \nL 484.905682 221.458034 \nL 493.360227 230.90052 \nL 501.814773 239.769161 \nL 510.269318 247.947651 \nL 518.723864 255.485032 \nL 527.178409 262.397594 \nL 535.632955 268.700928 \nL 544.0875 274.427981 \nL 552.542045 279.609476 \nL 560.996591 284.278334 \nL 569.451136 288.470382 \nL 577.905682 292.220997 \nL 586.360227 295.565324 \nL 594.814773 298.537857 \nL 603.269318 301.171758 \nL 611.723864 303.498622 \nL 620.178409 305.54822 \nL 628.632955 307.348445 \nL 637.0875 308.925171 \n\" style=\"fill:none;stroke:#2ca02c;stroke-dasharray:5.55,2.4;stroke-dashoffset:0;stroke-opacity:0.5;stroke-width:1.5;\"/>\n   </g>\n   <g id=\"patch_3\">\n    <path d=\"M 51.1875 333.36 \nL 51.1875 7.2 \n\" style=\"fill:none;stroke:#000000;stroke-linecap:square;stroke-linejoin:miter;stroke-width:0.8;\"/>\n   </g>\n   <g id=\"patch_4\">\n    <path d=\"M 664.9875 333.36 \nL 664.9875 7.2 \n\" style=\"fill:none;stroke:#000000;stroke-linecap:square;stroke-linejoin:miter;stroke-width:0.8;\"/>\n   </g>\n   <g id=\"patch_5\">\n    <path d=\"M 51.1875 333.36 \nL 664.9875 333.36 \n\" style=\"fill:none;stroke:#000000;stroke-linecap:square;stroke-linejoin:miter;stroke-width:0.8;\"/>\n   </g>\n   <g id=\"patch_6\">\n    <path d=\"M 51.1875 7.2 \nL 664.9875 7.2 \n\" style=\"fill:none;stroke:#000000;stroke-linecap:square;stroke-linejoin:miter;stroke-width:0.8;\"/>\n   </g>\n   <g id=\"legend_1\">\n    <g id=\"patch_7\">\n     <path d=\"M 583.204688 88.590625 \nL 657.9875 88.590625 \nQ 659.9875 88.590625 659.9875 86.590625 \nL 659.9875 14.2 \nQ 659.9875 12.2 657.9875 12.2 \nL 583.204688 12.2 \nQ 581.204688 12.2 581.204688 14.2 \nL 581.204688 86.590625 \nQ 581.204688 88.590625 583.204688 88.590625 \nz\n\" style=\"fill:#ffffff;opacity:0.8;stroke:#cccccc;stroke-linejoin:miter;\"/>\n    </g>\n    <g id=\"line2d_196\">\n     <path d=\"M 585.204688 20.298437 \nL 605.204688 20.298437 \n\" style=\"fill:none;stroke:#1f77b4;stroke-linecap:square;stroke-width:1.5;\"/>\n    </g>\n    <g id=\"line2d_197\"/>\n    <g id=\"text_15\">\n     <!-- 353 GHz -->\n     <g transform=\"translate(613.204688 23.798437)scale(0.1 -0.1)\">\n      <defs>\n       <path d=\"M 691 4666 \nL 3169 4666 \nL 3169 4134 \nL 1269 4134 \nL 1269 2991 \nQ 1406 3038 1543 3061 \nQ 1681 3084 1819 3084 \nQ 2600 3084 3056 2656 \nQ 3513 2228 3513 1497 \nQ 3513 744 3044 326 \nQ 2575 -91 1722 -91 \nQ 1428 -91 1123 -41 \nQ 819 9 494 109 \nL 494 744 \nQ 775 591 1075 516 \nQ 1375 441 1709 441 \nQ 2250 441 2565 725 \nQ 2881 1009 2881 1497 \nQ 2881 1984 2565 2268 \nQ 2250 2553 1709 2553 \nQ 1456 2553 1204 2497 \nQ 953 2441 691 2322 \nL 691 4666 \nz\n\" id=\"DejaVuSans-35\" transform=\"scale(0.015625)\"/>\n       <path d=\"M 3809 666 \nL 3809 1919 \nL 2778 1919 \nL 2778 2438 \nL 4434 2438 \nL 4434 434 \nQ 4069 175 3628 42 \nQ 3188 -91 2688 -91 \nQ 1594 -91 976 548 \nQ 359 1188 359 2328 \nQ 359 3472 976 4111 \nQ 1594 4750 2688 4750 \nQ 3144 4750 3555 4637 \nQ 3966 4525 4313 4306 \nL 4313 3634 \nQ 3963 3931 3569 4081 \nQ 3175 4231 2741 4231 \nQ 1884 4231 1454 3753 \nQ 1025 3275 1025 2328 \nQ 1025 1384 1454 906 \nQ 1884 428 2741 428 \nQ 3075 428 3337 486 \nQ 3600 544 3809 666 \nz\n\" id=\"DejaVuSans-47\" transform=\"scale(0.015625)\"/>\n       <path d=\"M 628 4666 \nL 1259 4666 \nL 1259 2753 \nL 3553 2753 \nL 3553 4666 \nL 4184 4666 \nL 4184 0 \nL 3553 0 \nL 3553 2222 \nL 1259 2222 \nL 1259 0 \nL 628 0 \nL 628 4666 \nz\n\" id=\"DejaVuSans-48\" transform=\"scale(0.015625)\"/>\n       <path d=\"M 353 3500 \nL 3084 3500 \nL 3084 2975 \nL 922 459 \nL 3084 459 \nL 3084 0 \nL 275 0 \nL 275 525 \nL 2438 3041 \nL 353 3041 \nL 353 3500 \nz\n\" id=\"DejaVuSans-7a\" transform=\"scale(0.015625)\"/>\n      </defs>\n      <use xlink:href=\"#DejaVuSans-33\"/>\n      <use x=\"63.623047\" xlink:href=\"#DejaVuSans-35\"/>\n      <use x=\"127.246094\" xlink:href=\"#DejaVuSans-33\"/>\n      <use x=\"190.869141\" xlink:href=\"#DejaVuSans-20\"/>\n      <use x=\"222.65625\" xlink:href=\"#DejaVuSans-47\"/>\n      <use x=\"300.146484\" xlink:href=\"#DejaVuSans-48\"/>\n      <use x=\"375.341797\" xlink:href=\"#DejaVuSans-7a\"/>\n     </g>\n    </g>\n    <g id=\"line2d_198\">\n     <path d=\"M 585.204688 34.976562 \nL 605.204688 34.976562 \n\" style=\"fill:none;stroke:#ff7f0e;stroke-linecap:square;stroke-width:1.5;\"/>\n    </g>\n    <g id=\"line2d_199\"/>\n    <g id=\"text_16\">\n     <!-- 545 GHz -->\n     <g transform=\"translate(613.204688 38.476562)scale(0.1 -0.1)\">\n      <use xlink:href=\"#DejaVuSans-35\"/>\n      <use x=\"63.623047\" xlink:href=\"#DejaVuSans-34\"/>\n      <use x=\"127.246094\" xlink:href=\"#DejaVuSans-35\"/>\n      <use x=\"190.869141\" xlink:href=\"#DejaVuSans-20\"/>\n      <use x=\"222.65625\" xlink:href=\"#DejaVuSans-47\"/>\n      <use x=\"300.146484\" xlink:href=\"#DejaVuSans-48\"/>\n      <use x=\"375.341797\" xlink:href=\"#DejaVuSans-7a\"/>\n     </g>\n    </g>\n    <g id=\"line2d_200\">\n     <path d=\"M 585.204688 49.654687 \nL 605.204688 49.654687 \n\" style=\"fill:none;stroke:#2ca02c;stroke-linecap:square;stroke-width:1.5;\"/>\n    </g>\n    <g id=\"line2d_201\"/>\n    <g id=\"text_17\">\n     <!-- 857 GHz -->\n     <g transform=\"translate(613.204688 53.154687)scale(0.1 -0.1)\">\n      <defs>\n       <path d=\"M 525 4666 \nL 3525 4666 \nL 3525 4397 \nL 1831 0 \nL 1172 0 \nL 2766 4134 \nL 525 4134 \nL 525 4666 \nz\n\" id=\"DejaVuSans-37\" transform=\"scale(0.015625)\"/>\n      </defs>\n      <use xlink:href=\"#DejaVuSans-38\"/>\n      <use x=\"63.623047\" xlink:href=\"#DejaVuSans-35\"/>\n      <use x=\"127.246094\" xlink:href=\"#DejaVuSans-37\"/>\n      <use x=\"190.869141\" xlink:href=\"#DejaVuSans-20\"/>\n      <use x=\"222.65625\" xlink:href=\"#DejaVuSans-47\"/>\n      <use x=\"300.146484\" xlink:href=\"#DejaVuSans-48\"/>\n      <use x=\"375.341797\" xlink:href=\"#DejaVuSans-7a\"/>\n     </g>\n    </g>\n    <g id=\"line2d_202\">\n     <path d=\"M 585.204688 64.332812 \nL 605.204688 64.332812 \n\" style=\"fill:none;stroke:#000000;stroke-dasharray:5.55,2.4;stroke-dashoffset:0;stroke-opacity:0.5;stroke-width:1.5;\"/>\n    </g>\n    <g id=\"line2d_203\"/>\n    <g id=\"text_18\">\n     <!-- 1h -->\n     <g transform=\"translate(613.204688 67.832812)scale(0.1 -0.1)\">\n      <defs>\n       <path d=\"M 3513 2113 \nL 3513 0 \nL 2938 0 \nL 2938 2094 \nQ 2938 2591 2744 2837 \nQ 2550 3084 2163 3084 \nQ 1697 3084 1428 2787 \nQ 1159 2491 1159 1978 \nL 1159 0 \nL 581 0 \nL 581 4863 \nL 1159 4863 \nL 1159 2956 \nQ 1366 3272 1645 3428 \nQ 1925 3584 2291 3584 \nQ 2894 3584 3203 3211 \nQ 3513 2838 3513 2113 \nz\n\" id=\"DejaVuSans-68\" transform=\"scale(0.015625)\"/>\n      </defs>\n      <use xlink:href=\"#DejaVuSans-31\"/>\n      <use x=\"63.623047\" xlink:href=\"#DejaVuSans-68\"/>\n     </g>\n    </g>\n    <g id=\"line2d_204\">\n     <path d=\"M 585.204688 79.010937 \nL 605.204688 79.010937 \n\" style=\"fill:none;stroke:#000000;stroke-dasharray:5.55,2.4;stroke-dashoffset:0;stroke-width:1.5;\"/>\n    </g>\n    <g id=\"line2d_205\"/>\n    <g id=\"text_19\">\n     <!-- 2h -->\n     <g transform=\"translate(613.204688 82.510937)scale(0.1 -0.1)\">\n      <use xlink:href=\"#DejaVuSans-32\"/>\n      <use x=\"63.623047\" xlink:href=\"#DejaVuSans-68\"/>\n     </g>\n    </g>\n   </g>\n  </g>\n </g>\n <defs>\n  <clipPath id=\"pad544e29b5\">\n   <rect height=\"326.16\" width=\"613.8\" x=\"51.1875\" y=\"7.2\"/>\n  </clipPath>\n </defs>\n</svg>\n",
      "text/plain": [
       "<Figure size 792x432 with 1 Axes>"
      ]
     },
     "metadata": {
      "needs_background": "light"
     },
     "output_type": "display_data"
    }
   ],
   "source": [
    "#Get Data\n",
    "ells = np.asarray(Dl_lens_cib['545']['ell'])\n",
    "factor = cl_to_dl(ells)\n",
    "\n",
    "label_size = 15\n",
    "title_size = 30\n",
    "legend_size = 13\n",
    "    \n",
    "#Colors\n",
    "# plt.rcParams['axes.prop_cycle'] = 'tab10'\n",
    "colors = plt.rcParams['axes.prop_cycle'].by_key()['color']\n",
    "a = 0.5\n",
    "\n",
    "for i, nu in enumerate(nu_list):\n",
    "    #Extract Data\n",
    "    nu_name = str(nu)\n",
    "    cl_1h = np.asarray(Dl_lens_cib[str(nu)]['1h']) / factor\n",
    "    cl_2h = np.asarray(Dl_lens_cib[str(nu)]['2h']) / factor\n",
    "    cl_tot = cl_1h + cl_2h\n",
    "\n",
    "    #Plot\n",
    "    plt.plot(ells, ells * cl_tot, label= nu_name + ' GHz', color=colors[i])\n",
    "    plt.plot(ells, ells * cl_1h, '-.', alpha= a, color=colors[i])\n",
    "    plt.plot(ells, ells * cl_2h, '--', alpha= a, color=colors[i])\n",
    "\n",
    "    #Figure Size\n",
    "    ax = plt.gca()\n",
    "    fig = plt.gcf()\n",
    "    fig.set_figheight(6)\n",
    "    fig.set_figwidth(11)\n",
    "    \n",
    "\n",
    "    #Legend\n",
    "    line_1h = mpl.lines.Line2D([0], [0], label='1h', color='black', linestyle='--', alpha= a)\n",
    "    line_2h = mpl.lines.Line2D([0], [0], label='2h', color='black', linestyle='--')\n",
    "    h, l = ax.get_legend_handles_labels()\n",
    "    h.extend([line_1h, line_2h])\n",
    "    plt.legend(handles= h)\n",
    "\n",
    "    #Labels\n",
    "    plt.xlabel(r'$\\ell$', fontsize= label_size)\n",
    "    plt.ylabel(r'$\\ell C^{\\nu\\kappa}_{\\ell}$ \\[Jy/sr\\]', size= label_size)\n",
    "    plt.xscale('log')\n",
    "    \n",
    "    #Ticks\n",
    "    ax.yaxis.set_minor_locator(mpl.ticker.MultipleLocator(0.5))\n",
    "    ax.tick_params(axis = 'x',which='both',length=5,direction='in', top=True, right=True, labelsize=label_size, pad=10)\n",
    "    ax.tick_params(axis = 'y',which='both',length=5,direction='in', top=True, right=True, labelsize=label_size, pad=5)\n",
    "    ax.grid( visible=True, which=\"both\", alpha=0.2, linestyle='--')"
   ]
  },
  {
   "cell_type": "code",
   "execution_count": null,
   "metadata": {},
   "outputs": [],
   "source": []
  }
 ],
 "metadata": {
  "kernelspec": {
   "display_name": "Python 3.9.13 ('base': conda)",
   "language": "python",
   "name": "python3"
  },
  "language_info": {
   "codemirror_mode": {
    "name": "ipython",
    "version": 3
   },
   "file_extension": ".py",
   "mimetype": "text/x-python",
   "name": "python",
   "nbconvert_exporter": "python",
   "pygments_lexer": "ipython3",
   "version": "3.9.13"
  },
  "orig_nbformat": 4,
  "vscode": {
   "interpreter": {
    "hash": "2ad565f1b5e7dbf9f0330bb692af7394eacf839d42e6c67731ff37b5e1249471"
   }
  }
 },
 "nbformat": 4,
 "nbformat_minor": 2
}
