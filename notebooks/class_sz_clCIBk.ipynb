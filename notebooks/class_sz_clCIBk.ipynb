{
 "cells": [
  {
   "attachments": {},
   "cell_type": "markdown",
   "metadata": {},
   "source": [
    "This notebook is very similar to `class_sz_CIB.ipynb`. Refer to that notebook for CIB autospectrum with `class_sz`."
   ]
  },
  {
   "cell_type": "code",
   "execution_count": 1,
   "metadata": {},
   "outputs": [
    {
     "name": "stderr",
     "output_type": "stream",
     "text": [
      "2023-03-23 08:33:53.585084: W tensorflow/compiler/tf2tensorrt/utils/py_utils.cc:38] TF-TRT Warning: Could not find TensorRT\n"
     ]
    },
    {
     "name": "stdout",
     "output_type": "stream",
     "text": [
      "WARNING:tensorflow:Please fix your imports. Module tensorflow.python.training.tracking.data_structures has been moved to tensorflow.python.trackable.data_structures. The old module will be deleted in version 2.11.\n"
     ]
    },
    {
     "name": "stderr",
     "output_type": "stream",
     "text": [
      "2023-03-23 08:33:55.190877: W tensorflow/core/common_runtime/gpu/gpu_device.cc:1956] Cannot dlopen some GPU libraries. Please make sure the missing libraries mentioned above are installed properly if you would like to use GPU. Follow the guide at https://www.tensorflow.org/install/gpu for how to download and setup the required libraries for your platform.\n",
      "Skipping registering GPU devices...\n"
     ]
    }
   ],
   "source": [
    "import numpy as np\n",
    "import matplotlib as mpl\n",
    "from matplotlib import pyplot as plt\n",
    "from matplotlib_inline.backend_inline import set_matplotlib_formats\n",
    "set_matplotlib_formats('svg')\n",
    "from classy_sz import Class\n",
    "import os\n",
    "import time"
   ]
  },
  {
   "cell_type": "code",
   "execution_count": 2,
   "metadata": {},
   "outputs": [],
   "source": [
    "# a simple conversion from cl's to dl's\n",
    "def cl_to_dl(lp):\n",
    "    return lp*(lp+1.)/2./np.pi"
   ]
  },
  {
   "attachments": {},
   "cell_type": "markdown",
   "metadata": {},
   "source": [
    "# CIB x $\\kappa$ Power Spectrum"
   ]
  },
  {
   "attachments": {},
   "cell_type": "markdown",
   "metadata": {},
   "source": [
    "## Set Parameters"
   ]
  },
  {
   "attachments": {},
   "cell_type": "markdown",
   "metadata": {},
   "source": [
    "You can set `class_sz` parameters individually, in a single dictionary, or multiple dictionaries."
   ]
  },
  {
   "attachments": {},
   "cell_type": "markdown",
   "metadata": {},
   "source": [
    "First, let's establish the cosmology. McCarthy et al. use Planck 2014 cosmology (https://arxiv.org/pdf/1303.5076.pdf, best-fit)."
   ]
  },
  {
   "cell_type": "code",
   "execution_count": 3,
   "metadata": {},
   "outputs": [],
   "source": [
    "#Parameters for Cosmology Planck 14, https://arxiv.org/pdf/1303.5076.pdf, best-fit\n",
    "p14_dict={}\n",
    "p14_dict['Omega_cdm'] = 0.3175-0.022068/0.6711/0.6711\n",
    "p14_dict['omega_b'] = 0.022068\n",
    "p14_dict['h'] = 0.6711\n",
    "p14_dict['A_s'] = 2.2e-9\n",
    "p14_dict['n_s'] = .9624\n",
    "p14_dict['k_pivot'] = 0.05\n",
    "p14_dict['tau_reio'] = 0.0925\n",
    "p14_dict['N_ncdm'] = 1\n",
    "p14_dict['N_ur'] = 0.00641\n",
    "p14_dict['deg_ncdm'] = 3\n",
    "p14_dict['m_ncdm'] = 0.02\n",
    "p14_dict['T_ncdm'] = 0.71611"
   ]
  },
  {
   "attachments": {},
   "cell_type": "markdown",
   "metadata": {},
   "source": [
    "Halo Model and grid parameters:"
   ]
  },
  {
   "cell_type": "code",
   "execution_count": 4,
   "metadata": {},
   "outputs": [],
   "source": [
    "p_hm_dict = {}\n",
    "\n",
    "p_hm_dict['mass function'] = 'T10'\n",
    "p_hm_dict['concentration parameter'] = 'D08'\n",
    "p_hm_dict['delta for cib'] = '200m'\n",
    "p_hm_dict['hm_consistency'] = 1\n",
    "p_hm_dict['damping_1h_term'] = 0\n",
    "# Precision\n",
    "p_hm_dict['pressure_profile_epsabs'] = 1.e-8\n",
    "p_hm_dict['pressure_profile_epsrel'] = 1.e-3\n",
    "# HOD parameters for CIB\n",
    "p_hm_dict['M_min_HOD'] = pow(10.,10)  # was M_min_HOD_cib\n",
    "\n",
    "#Grid Parameters\n",
    "# Mass bounds\n",
    "p_hm_dict['M_min'] = 1e8*p14_dict['h'] # was M_min_cib\n",
    "p_hm_dict['M_max'] = 1e16*p14_dict['h'] # was M_max_cib\n",
    "# Redshift bounds\n",
    "p_hm_dict['z_min'] = 0.07\n",
    "p_hm_dict['z_max'] = 6. # fiducial for MM20 : 6\n",
    "p_hm_dict['freq_min'] = 10.\n",
    "p_hm_dict['freq_max'] = 5e4 # fiducial for MM20 : 6\n",
    "p_hm_dict['z_max_pk'] = p_hm_dict['z_max']\n",
    "\n",
    "#Precision Parameters\n",
    "# Precision for redshift integal\n",
    "p_hm_dict['redshift_epsabs'] = 1e-40#1.e-40\n",
    "p_hm_dict['redshift_epsrel'] = 1e-4#1.e-10 # fiducial value 1e-8\n",
    "# Precision for mass integal\n",
    "p_hm_dict['mass_epsabs'] = 1e-40 #1.e-40\n",
    "p_hm_dict['mass_epsrel'] = 1e-4#1e-10\n",
    "# Precision for Luminosity integral (sub-halo mass function)\n",
    "p_hm_dict['L_sat_epsabs'] = 1e-40 #1.e-40\n",
    "p_hm_dict['L_sat_epsrel'] = 1e-3#1e-10\n",
    "# Multipole array\n",
    "p_hm_dict['dlogell'] = 0.2\n",
    "p_hm_dict['ell_max'] = 8000.\n",
    "p_hm_dict['ell_min'] = 10"
   ]
  },
  {
   "attachments": {},
   "cell_type": "markdown",
   "metadata": {},
   "source": [
    "CIB Model parameters (see McCarthy et al. at https://journals.aps.org/prd/abstract/10.1103/PhysRevD.103.103515):"
   ]
  },
  {
   "cell_type": "code",
   "execution_count": 5,
   "metadata": {},
   "outputs": [],
   "source": [
    "#CIB Parameters\n",
    "p_CIB_dict = {}\n",
    "p_CIB_dict['Redshift evolution of dust temperature'] =  0.36\n",
    "p_CIB_dict['Dust temperature today in Kelvins'] = 24.4\n",
    "p_CIB_dict['Emissivity index of sed'] = 1.75\n",
    "p_CIB_dict['Power law index of SED at high frequency'] = 1.7\n",
    "p_CIB_dict['Redshift evolution of L - M normalisation'] = 3.6\n",
    "p_CIB_dict['Most efficient halo mass in Msun'] = 10**12.6\n",
    "p_CIB_dict['Normalisation of L - M relation in [Jy MPc2/Msun]'] = 6.4e-8\n",
    "p_CIB_dict['Size of of halo masses sourcing CIB emission'] = 0.5"
   ]
  },
  {
   "attachments": {},
   "cell_type": "markdown",
   "metadata": {},
   "source": [
    "Select your frequencies. Here, we choose some Planck frequencies. Note that the frequency lists (both for the observed CIB frequencies and the flux cuts) must be a single string, not a list of strings."
   ]
  },
  {
   "cell_type": "code",
   "execution_count": 6,
   "metadata": {},
   "outputs": [],
   "source": [
    "nu_list = [353,545,857]\n",
    "nu_list_str = str(nu_list)[1:-1]  # Note: this must be a single string, not a list of strings!\n",
    "\n",
    "#Frequency Parameters\n",
    "p_freq_dict = {}\n",
    "p_freq_dict['cib_frequency_list_num'] = len(nu_list)\n",
    "p_freq_dict['cib_frequency_list_in_GHz'] = nu_list_str"
   ]
  },
  {
   "attachments": {},
   "cell_type": "markdown",
   "metadata": {},
   "source": [
    "We choose flux cuts from Planck 2013 (see https://journals.aps.org/prd/abstract/10.1103/PhysRevD.103.103515)."
   ]
  },
  {
   "cell_type": "code",
   "execution_count": 7,
   "metadata": {},
   "outputs": [],
   "source": [
    "#Flux Cuts\n",
    "cib_fcut_dict = {}\n",
    "\n",
    "#Planck flux cut, Table 1 in https://arxiv.org/pdf/1309.0382.pdf\n",
    "cib_fcut_dict['100'] = 400\n",
    "cib_fcut_dict['143'] = 350\n",
    "cib_fcut_dict['217'] = 225\n",
    "cib_fcut_dict['353'] = 315\n",
    "cib_fcut_dict['545'] = 350\n",
    "cib_fcut_dict['857'] = 710\n",
    "cib_fcut_dict['3000'] = 1000\n",
    "\n",
    "def make_flux_cut_list(cib_flux, nu_list):\n",
    "    \"\"\"\n",
    "    Make a string of flux cut values for given frequency list to pass into class_sz\n",
    "    Beware: if frequency not in the flux_cut dictionary, it assigns 0\n",
    "    \"\"\"\n",
    "    cib_flux_list = []\n",
    "    keys = list(cib_flux.keys())\n",
    "    for i,nu in enumerate(nu_list):\n",
    "        if str(nu) in keys:\n",
    "            cib_flux_list.append(cib_flux[str(nu)])\n",
    "        else:\n",
    "            cib_flux_list.append(0)\n",
    "    return cib_flux_list\n",
    "\n",
    "cib_flux_list = make_flux_cut_list(cib_fcut_dict, nu_list)\n",
    "\n",
    "#Add Flux Cuts\n",
    "p_freq_dict['cib_Snu_cutoff_list [mJy]'] = str(list(cib_flux_list))[1:-1]\n",
    "p_freq_dict['has_cib_flux_cut'] = 1\n"
   ]
  },
  {
   "attachments": {},
   "cell_type": "markdown",
   "metadata": {},
   "source": [
    "## Compute Power Spectrum"
   ]
  },
  {
   "attachments": {},
   "cell_type": "markdown",
   "metadata": {},
   "source": [
    "### Standard `class_sz` computation"
   ]
  },
  {
   "cell_type": "code",
   "execution_count": 8,
   "metadata": {},
   "outputs": [
    {
     "data": {
      "text/plain": [
       "True"
      ]
     },
     "execution_count": 8,
     "metadata": {},
     "output_type": "execute_result"
    }
   ],
   "source": [
    "M = Class()\n",
    "\n",
    "#Set Parameters\n",
    "M.set(p14_dict)\n",
    "M.set(p_hm_dict)\n",
    "M.set(p_CIB_dict)\n",
    "M.set(p_freq_dict)\n",
    "\n",
    "#Tell It What You Want\n",
    "M.set({\n",
    "    'output': 'lens_cib_1h,lens_cib_2h' \n",
    "})"
   ]
  },
  {
   "cell_type": "code",
   "execution_count": 9,
   "metadata": {},
   "outputs": [
    {
     "ename": "CosmoSevereError",
     "evalue": "\n\nError in Class: Class did not read input parameter(s): Redshift evolution of L - M normalisation, Normalisation of L - M relation in [Jy MPc2/Msun]\n",
     "output_type": "error",
     "traceback": [
      "\u001b[0;31m---------------------------------------------------------------------------\u001b[0m",
      "\u001b[0;31mCosmoSevereError\u001b[0m                          Traceback (most recent call last)",
      "\u001b[0;32m<timed exec>\u001b[0m in \u001b[0;36m<module>\u001b[0;34m\u001b[0m\n",
      "\u001b[0;32mclassy.pyx\u001b[0m in \u001b[0;36mclassy_sz.Class.compute\u001b[0;34m()\u001b[0m\n",
      "\u001b[0;31mCosmoSevereError\u001b[0m: \n\nError in Class: Class did not read input parameter(s): Redshift evolution of L - M normalisation, Normalisation of L - M relation in [Jy MPc2/Msun]\n"
     ]
    }
   ],
   "source": [
    "%%time\n",
    "#Calculate Spectra\n",
    "M.compute()\n",
    "cl_lens_cib = M.cl_lens_cib()\n",
    "M.struct_cleanup()\n",
    "M.empty()"
   ]
  },
  {
   "cell_type": "code",
   "execution_count": 46,
   "metadata": {},
   "outputs": [
    {
     "data": {
      "text/plain": [
       "True"
      ]
     },
     "execution_count": 46,
     "metadata": {},
     "output_type": "execute_result"
    }
   ],
   "source": [
    "M = Class()\n",
    "\n",
    "#Set Parameters\n",
    "M.set(p14_dict)\n",
    "M.set(p_hm_dict)\n",
    "M.set(p_CIB_dict)\n",
    "M.set(p_freq_dict)\n",
    "\n",
    "#Tell It What You Want\n",
    "M.set({\n",
    "    'output': 'lens_cib_1h,lens_cib_2h' \n",
    "})"
   ]
  },
  {
   "cell_type": "code",
   "execution_count": 47,
   "metadata": {},
   "outputs": [
    {
     "ename": "AttributeError",
     "evalue": "'classy_sz.Class' object has no attribute 'compute_class_szfast'",
     "output_type": "error",
     "traceback": [
      "\u001b[0;31m---------------------------------------------------------------------------\u001b[0m",
      "\u001b[0;31mAttributeError\u001b[0m                            Traceback (most recent call last)",
      "\u001b[0;32m<timed exec>\u001b[0m in \u001b[0;36m<module>\u001b[0;34m\u001b[0m\n",
      "\u001b[0;31mAttributeError\u001b[0m: 'classy_sz.Class' object has no attribute 'compute_class_szfast'"
     ]
    }
   ],
   "source": [
    "%%time\n",
    "#Calculate Spectra\n",
    "M.compute_class_szfast()\n",
    "cl_lens_cib = M.cl_lens_cib()\n",
    "M.struct_cleanup()\n",
    "M.empty()"
   ]
  },
  {
   "cell_type": "code",
   "execution_count": 2,
   "metadata": {},
   "outputs": [
    {
     "ename": "NameError",
     "evalue": "name 'cl_lens_cib' is not defined",
     "output_type": "error",
     "traceback": [
      "\u001b[0;31m---------------------------------------------------------------------------\u001b[0m",
      "\u001b[0;31mNameError\u001b[0m                                 Traceback (most recent call last)",
      "\u001b[0;32m/tmp/ipykernel_10811/611026512.py\u001b[0m in \u001b[0;36m<module>\u001b[0;34m\u001b[0m\n\u001b[0;32m----> 1\u001b[0;31m \u001b[0mells\u001b[0m \u001b[0;34m=\u001b[0m \u001b[0mnp\u001b[0m\u001b[0;34m.\u001b[0m\u001b[0masarray\u001b[0m\u001b[0;34m(\u001b[0m\u001b[0mcl_lens_cib\u001b[0m\u001b[0;34m[\u001b[0m\u001b[0;34m'545'\u001b[0m\u001b[0;34m]\u001b[0m\u001b[0;34m[\u001b[0m\u001b[0;34m'ell'\u001b[0m\u001b[0;34m]\u001b[0m\u001b[0;34m)\u001b[0m\u001b[0;34m\u001b[0m\u001b[0;34m\u001b[0m\u001b[0m\n\u001b[0m\u001b[1;32m      2\u001b[0m \u001b[0mfactor\u001b[0m \u001b[0;34m=\u001b[0m \u001b[0mcl_to_dl\u001b[0m\u001b[0;34m(\u001b[0m\u001b[0mells\u001b[0m\u001b[0;34m)\u001b[0m\u001b[0;34m\u001b[0m\u001b[0;34m\u001b[0m\u001b[0m\n",
      "\u001b[0;31mNameError\u001b[0m: name 'cl_lens_cib' is not defined"
     ]
    }
   ],
   "source": [
    "ells = np.asarray(cl_lens_cib['545']['ell'])\n",
    "factor = cl_to_dl(ells)\n"
   ]
  },
  {
   "attachments": {},
   "cell_type": "markdown",
   "metadata": {},
   "source": [
    "## Plot"
   ]
  },
  {
   "cell_type": "code",
   "execution_count": 44,
   "metadata": {},
   "outputs": [
    {
     "data": {
      "image/svg+xml": "<?xml version=\"1.0\" encoding=\"utf-8\" standalone=\"no\"?>\n<!DOCTYPE svg PUBLIC \"-//W3C//DTD SVG 1.1//EN\"\n  \"http://www.w3.org/Graphics/SVG/1.1/DTD/svg11.dtd\">\n<svg height=\"248.518125pt\" version=\"1.1\" viewBox=\"0 0 388.0125 248.518125\" width=\"388.0125pt\" xmlns=\"http://www.w3.org/2000/svg\" xmlns:xlink=\"http://www.w3.org/1999/xlink\">\n <metadata>\n  <rdf:RDF xmlns:cc=\"http://creativecommons.org/ns#\" xmlns:dc=\"http://purl.org/dc/elements/1.1/\" xmlns:rdf=\"http://www.w3.org/1999/02/22-rdf-syntax-ns#\">\n   <cc:Work>\n    <dc:type rdf:resource=\"http://purl.org/dc/dcmitype/StillImage\"/>\n    <dc:date>2023-03-22T22:34:00.649069</dc:date>\n    <dc:format>image/svg+xml</dc:format>\n    <dc:creator>\n     <cc:Agent>\n      <dc:title>Matplotlib v3.4.3, https://matplotlib.org/</dc:title>\n     </cc:Agent>\n    </dc:creator>\n   </cc:Work>\n  </rdf:RDF>\n </metadata>\n <defs>\n  <style type=\"text/css\">*{stroke-linecap:butt;stroke-linejoin:round;}</style>\n </defs>\n <g id=\"figure_1\">\n  <g id=\"patch_1\">\n   <path d=\"M 0 248.518125 \nL 388.0125 248.518125 \nL 388.0125 0 \nL 0 0 \nz\n\" style=\"fill:none;\"/>\n  </g>\n  <g id=\"axes_1\">\n   <g id=\"patch_2\">\n    <path d=\"M 46.0125 224.64 \nL 380.8125 224.64 \nL 380.8125 7.2 \nL 46.0125 7.2 \nz\n\" style=\"fill:#ffffff;\"/>\n   </g>\n   <g id=\"matplotlib.axis_1\">\n    <g id=\"xtick_1\">\n     <g id=\"line2d_1\">\n      <defs>\n       <path d=\"M 0 0 \nL 0 3.5 \n\" id=\"m8a76e93dd4\" style=\"stroke:#000000;stroke-width:0.8;\"/>\n      </defs>\n      <g>\n       <use style=\"stroke:#000000;stroke-width:0.8;\" x=\"60.816071\" xlink:href=\"#m8a76e93dd4\" y=\"224.64\"/>\n      </g>\n     </g>\n     <g id=\"text_1\">\n      <!-- 0 -->\n      <g transform=\"translate(57.634821 239.238437)scale(0.1 -0.1)\">\n       <defs>\n        <path d=\"M 2034 4250 \nQ 1547 4250 1301 3770 \nQ 1056 3291 1056 2328 \nQ 1056 1369 1301 889 \nQ 1547 409 2034 409 \nQ 2525 409 2770 889 \nQ 3016 1369 3016 2328 \nQ 3016 3291 2770 3770 \nQ 2525 4250 2034 4250 \nz\nM 2034 4750 \nQ 2819 4750 3233 4129 \nQ 3647 3509 3647 2328 \nQ 3647 1150 3233 529 \nQ 2819 -91 2034 -91 \nQ 1250 -91 836 529 \nQ 422 1150 422 2328 \nQ 422 3509 836 4129 \nQ 1250 4750 2034 4750 \nz\n\" id=\"DejaVuSans-30\" transform=\"scale(0.015625)\"/>\n       </defs>\n       <use xlink:href=\"#DejaVuSans-30\"/>\n      </g>\n     </g>\n    </g>\n    <g id=\"xtick_2\">\n     <g id=\"line2d_2\">\n      <g>\n       <use style=\"stroke:#000000;stroke-width:0.8;\" x=\"102.27713\" xlink:href=\"#m8a76e93dd4\" y=\"224.64\"/>\n      </g>\n     </g>\n     <g id=\"text_2\">\n      <!-- 1000 -->\n      <g transform=\"translate(89.55213 239.238437)scale(0.1 -0.1)\">\n       <defs>\n        <path d=\"M 794 531 \nL 1825 531 \nL 1825 4091 \nL 703 3866 \nL 703 4441 \nL 1819 4666 \nL 2450 4666 \nL 2450 531 \nL 3481 531 \nL 3481 0 \nL 794 0 \nL 794 531 \nz\n\" id=\"DejaVuSans-31\" transform=\"scale(0.015625)\"/>\n       </defs>\n       <use xlink:href=\"#DejaVuSans-31\"/>\n       <use x=\"63.623047\" xlink:href=\"#DejaVuSans-30\"/>\n       <use x=\"127.246094\" xlink:href=\"#DejaVuSans-30\"/>\n       <use x=\"190.869141\" xlink:href=\"#DejaVuSans-30\"/>\n      </g>\n     </g>\n    </g>\n    <g id=\"xtick_3\">\n     <g id=\"line2d_3\">\n      <g>\n       <use style=\"stroke:#000000;stroke-width:0.8;\" x=\"143.738188\" xlink:href=\"#m8a76e93dd4\" y=\"224.64\"/>\n      </g>\n     </g>\n     <g id=\"text_3\">\n      <!-- 2000 -->\n      <g transform=\"translate(131.013188 239.238437)scale(0.1 -0.1)\">\n       <defs>\n        <path d=\"M 1228 531 \nL 3431 531 \nL 3431 0 \nL 469 0 \nL 469 531 \nQ 828 903 1448 1529 \nQ 2069 2156 2228 2338 \nQ 2531 2678 2651 2914 \nQ 2772 3150 2772 3378 \nQ 2772 3750 2511 3984 \nQ 2250 4219 1831 4219 \nQ 1534 4219 1204 4116 \nQ 875 4013 500 3803 \nL 500 4441 \nQ 881 4594 1212 4672 \nQ 1544 4750 1819 4750 \nQ 2544 4750 2975 4387 \nQ 3406 4025 3406 3419 \nQ 3406 3131 3298 2873 \nQ 3191 2616 2906 2266 \nQ 2828 2175 2409 1742 \nQ 1991 1309 1228 531 \nz\n\" id=\"DejaVuSans-32\" transform=\"scale(0.015625)\"/>\n       </defs>\n       <use xlink:href=\"#DejaVuSans-32\"/>\n       <use x=\"63.623047\" xlink:href=\"#DejaVuSans-30\"/>\n       <use x=\"127.246094\" xlink:href=\"#DejaVuSans-30\"/>\n       <use x=\"190.869141\" xlink:href=\"#DejaVuSans-30\"/>\n      </g>\n     </g>\n    </g>\n    <g id=\"xtick_4\">\n     <g id=\"line2d_4\">\n      <g>\n       <use style=\"stroke:#000000;stroke-width:0.8;\" x=\"185.199247\" xlink:href=\"#m8a76e93dd4\" y=\"224.64\"/>\n      </g>\n     </g>\n     <g id=\"text_4\">\n      <!-- 3000 -->\n      <g transform=\"translate(172.474247 239.238437)scale(0.1 -0.1)\">\n       <defs>\n        <path d=\"M 2597 2516 \nQ 3050 2419 3304 2112 \nQ 3559 1806 3559 1356 \nQ 3559 666 3084 287 \nQ 2609 -91 1734 -91 \nQ 1441 -91 1130 -33 \nQ 819 25 488 141 \nL 488 750 \nQ 750 597 1062 519 \nQ 1375 441 1716 441 \nQ 2309 441 2620 675 \nQ 2931 909 2931 1356 \nQ 2931 1769 2642 2001 \nQ 2353 2234 1838 2234 \nL 1294 2234 \nL 1294 2753 \nL 1863 2753 \nQ 2328 2753 2575 2939 \nQ 2822 3125 2822 3475 \nQ 2822 3834 2567 4026 \nQ 2313 4219 1838 4219 \nQ 1578 4219 1281 4162 \nQ 984 4106 628 3988 \nL 628 4550 \nQ 988 4650 1302 4700 \nQ 1616 4750 1894 4750 \nQ 2613 4750 3031 4423 \nQ 3450 4097 3450 3541 \nQ 3450 3153 3228 2886 \nQ 3006 2619 2597 2516 \nz\n\" id=\"DejaVuSans-33\" transform=\"scale(0.015625)\"/>\n       </defs>\n       <use xlink:href=\"#DejaVuSans-33\"/>\n       <use x=\"63.623047\" xlink:href=\"#DejaVuSans-30\"/>\n       <use x=\"127.246094\" xlink:href=\"#DejaVuSans-30\"/>\n       <use x=\"190.869141\" xlink:href=\"#DejaVuSans-30\"/>\n      </g>\n     </g>\n    </g>\n    <g id=\"xtick_5\">\n     <g id=\"line2d_5\">\n      <g>\n       <use style=\"stroke:#000000;stroke-width:0.8;\" x=\"226.660306\" xlink:href=\"#m8a76e93dd4\" y=\"224.64\"/>\n      </g>\n     </g>\n     <g id=\"text_5\">\n      <!-- 4000 -->\n      <g transform=\"translate(213.935306 239.238437)scale(0.1 -0.1)\">\n       <defs>\n        <path d=\"M 2419 4116 \nL 825 1625 \nL 2419 1625 \nL 2419 4116 \nz\nM 2253 4666 \nL 3047 4666 \nL 3047 1625 \nL 3713 1625 \nL 3713 1100 \nL 3047 1100 \nL 3047 0 \nL 2419 0 \nL 2419 1100 \nL 313 1100 \nL 313 1709 \nL 2253 4666 \nz\n\" id=\"DejaVuSans-34\" transform=\"scale(0.015625)\"/>\n       </defs>\n       <use xlink:href=\"#DejaVuSans-34\"/>\n       <use x=\"63.623047\" xlink:href=\"#DejaVuSans-30\"/>\n       <use x=\"127.246094\" xlink:href=\"#DejaVuSans-30\"/>\n       <use x=\"190.869141\" xlink:href=\"#DejaVuSans-30\"/>\n      </g>\n     </g>\n    </g>\n    <g id=\"xtick_6\">\n     <g id=\"line2d_6\">\n      <g>\n       <use style=\"stroke:#000000;stroke-width:0.8;\" x=\"268.121364\" xlink:href=\"#m8a76e93dd4\" y=\"224.64\"/>\n      </g>\n     </g>\n     <g id=\"text_6\">\n      <!-- 5000 -->\n      <g transform=\"translate(255.396364 239.238437)scale(0.1 -0.1)\">\n       <defs>\n        <path d=\"M 691 4666 \nL 3169 4666 \nL 3169 4134 \nL 1269 4134 \nL 1269 2991 \nQ 1406 3038 1543 3061 \nQ 1681 3084 1819 3084 \nQ 2600 3084 3056 2656 \nQ 3513 2228 3513 1497 \nQ 3513 744 3044 326 \nQ 2575 -91 1722 -91 \nQ 1428 -91 1123 -41 \nQ 819 9 494 109 \nL 494 744 \nQ 775 591 1075 516 \nQ 1375 441 1709 441 \nQ 2250 441 2565 725 \nQ 2881 1009 2881 1497 \nQ 2881 1984 2565 2268 \nQ 2250 2553 1709 2553 \nQ 1456 2553 1204 2497 \nQ 953 2441 691 2322 \nL 691 4666 \nz\n\" id=\"DejaVuSans-35\" transform=\"scale(0.015625)\"/>\n       </defs>\n       <use xlink:href=\"#DejaVuSans-35\"/>\n       <use x=\"63.623047\" xlink:href=\"#DejaVuSans-30\"/>\n       <use x=\"127.246094\" xlink:href=\"#DejaVuSans-30\"/>\n       <use x=\"190.869141\" xlink:href=\"#DejaVuSans-30\"/>\n      </g>\n     </g>\n    </g>\n    <g id=\"xtick_7\">\n     <g id=\"line2d_7\">\n      <g>\n       <use style=\"stroke:#000000;stroke-width:0.8;\" x=\"309.582423\" xlink:href=\"#m8a76e93dd4\" y=\"224.64\"/>\n      </g>\n     </g>\n     <g id=\"text_7\">\n      <!-- 6000 -->\n      <g transform=\"translate(296.857423 239.238437)scale(0.1 -0.1)\">\n       <defs>\n        <path d=\"M 2113 2584 \nQ 1688 2584 1439 2293 \nQ 1191 2003 1191 1497 \nQ 1191 994 1439 701 \nQ 1688 409 2113 409 \nQ 2538 409 2786 701 \nQ 3034 994 3034 1497 \nQ 3034 2003 2786 2293 \nQ 2538 2584 2113 2584 \nz\nM 3366 4563 \nL 3366 3988 \nQ 3128 4100 2886 4159 \nQ 2644 4219 2406 4219 \nQ 1781 4219 1451 3797 \nQ 1122 3375 1075 2522 \nQ 1259 2794 1537 2939 \nQ 1816 3084 2150 3084 \nQ 2853 3084 3261 2657 \nQ 3669 2231 3669 1497 \nQ 3669 778 3244 343 \nQ 2819 -91 2113 -91 \nQ 1303 -91 875 529 \nQ 447 1150 447 2328 \nQ 447 3434 972 4092 \nQ 1497 4750 2381 4750 \nQ 2619 4750 2861 4703 \nQ 3103 4656 3366 4563 \nz\n\" id=\"DejaVuSans-36\" transform=\"scale(0.015625)\"/>\n       </defs>\n       <use xlink:href=\"#DejaVuSans-36\"/>\n       <use x=\"63.623047\" xlink:href=\"#DejaVuSans-30\"/>\n       <use x=\"127.246094\" xlink:href=\"#DejaVuSans-30\"/>\n       <use x=\"190.869141\" xlink:href=\"#DejaVuSans-30\"/>\n      </g>\n     </g>\n    </g>\n    <g id=\"xtick_8\">\n     <g id=\"line2d_8\">\n      <g>\n       <use style=\"stroke:#000000;stroke-width:0.8;\" x=\"351.043481\" xlink:href=\"#m8a76e93dd4\" y=\"224.64\"/>\n      </g>\n     </g>\n     <g id=\"text_8\">\n      <!-- 7000 -->\n      <g transform=\"translate(338.318481 239.238437)scale(0.1 -0.1)\">\n       <defs>\n        <path d=\"M 525 4666 \nL 3525 4666 \nL 3525 4397 \nL 1831 0 \nL 1172 0 \nL 2766 4134 \nL 525 4134 \nL 525 4666 \nz\n\" id=\"DejaVuSans-37\" transform=\"scale(0.015625)\"/>\n       </defs>\n       <use xlink:href=\"#DejaVuSans-37\"/>\n       <use x=\"63.623047\" xlink:href=\"#DejaVuSans-30\"/>\n       <use x=\"127.246094\" xlink:href=\"#DejaVuSans-30\"/>\n       <use x=\"190.869141\" xlink:href=\"#DejaVuSans-30\"/>\n      </g>\n     </g>\n    </g>\n   </g>\n   <g id=\"matplotlib.axis_2\">\n    <g id=\"ytick_1\">\n     <g id=\"line2d_9\">\n      <defs>\n       <path d=\"M 0 0 \nL -3.5 0 \n\" id=\"me642dfe239\" style=\"stroke:#000000;stroke-width:0.8;\"/>\n      </defs>\n      <g>\n       <use style=\"stroke:#000000;stroke-width:0.8;\" x=\"46.0125\" xlink:href=\"#me642dfe239\" y=\"214.756459\"/>\n      </g>\n     </g>\n     <g id=\"text_9\">\n      <!-- 0 -->\n      <g transform=\"translate(32.65 218.555677)scale(0.1 -0.1)\">\n       <use xlink:href=\"#DejaVuSans-30\"/>\n      </g>\n     </g>\n    </g>\n    <g id=\"ytick_2\">\n     <g id=\"line2d_10\">\n      <g>\n       <use style=\"stroke:#000000;stroke-width:0.8;\" x=\"46.0125\" xlink:href=\"#me642dfe239\" y=\"174.48893\"/>\n      </g>\n     </g>\n     <g id=\"text_10\">\n      <!-- 2000 -->\n      <g transform=\"translate(13.5625 178.288149)scale(0.1 -0.1)\">\n       <use xlink:href=\"#DejaVuSans-32\"/>\n       <use x=\"63.623047\" xlink:href=\"#DejaVuSans-30\"/>\n       <use x=\"127.246094\" xlink:href=\"#DejaVuSans-30\"/>\n       <use x=\"190.869141\" xlink:href=\"#DejaVuSans-30\"/>\n      </g>\n     </g>\n    </g>\n    <g id=\"ytick_3\">\n     <g id=\"line2d_11\">\n      <g>\n       <use style=\"stroke:#000000;stroke-width:0.8;\" x=\"46.0125\" xlink:href=\"#me642dfe239\" y=\"134.221402\"/>\n      </g>\n     </g>\n     <g id=\"text_11\">\n      <!-- 4000 -->\n      <g transform=\"translate(13.5625 138.020621)scale(0.1 -0.1)\">\n       <use xlink:href=\"#DejaVuSans-34\"/>\n       <use x=\"63.623047\" xlink:href=\"#DejaVuSans-30\"/>\n       <use x=\"127.246094\" xlink:href=\"#DejaVuSans-30\"/>\n       <use x=\"190.869141\" xlink:href=\"#DejaVuSans-30\"/>\n      </g>\n     </g>\n    </g>\n    <g id=\"ytick_4\">\n     <g id=\"line2d_12\">\n      <g>\n       <use style=\"stroke:#000000;stroke-width:0.8;\" x=\"46.0125\" xlink:href=\"#me642dfe239\" y=\"93.953874\"/>\n      </g>\n     </g>\n     <g id=\"text_12\">\n      <!-- 6000 -->\n      <g transform=\"translate(13.5625 97.753092)scale(0.1 -0.1)\">\n       <use xlink:href=\"#DejaVuSans-36\"/>\n       <use x=\"63.623047\" xlink:href=\"#DejaVuSans-30\"/>\n       <use x=\"127.246094\" xlink:href=\"#DejaVuSans-30\"/>\n       <use x=\"190.869141\" xlink:href=\"#DejaVuSans-30\"/>\n      </g>\n     </g>\n    </g>\n    <g id=\"ytick_5\">\n     <g id=\"line2d_13\">\n      <g>\n       <use style=\"stroke:#000000;stroke-width:0.8;\" x=\"46.0125\" xlink:href=\"#me642dfe239\" y=\"53.686345\"/>\n      </g>\n     </g>\n     <g id=\"text_13\">\n      <!-- 8000 -->\n      <g transform=\"translate(13.5625 57.485564)scale(0.1 -0.1)\">\n       <defs>\n        <path d=\"M 2034 2216 \nQ 1584 2216 1326 1975 \nQ 1069 1734 1069 1313 \nQ 1069 891 1326 650 \nQ 1584 409 2034 409 \nQ 2484 409 2743 651 \nQ 3003 894 3003 1313 \nQ 3003 1734 2745 1975 \nQ 2488 2216 2034 2216 \nz\nM 1403 2484 \nQ 997 2584 770 2862 \nQ 544 3141 544 3541 \nQ 544 4100 942 4425 \nQ 1341 4750 2034 4750 \nQ 2731 4750 3128 4425 \nQ 3525 4100 3525 3541 \nQ 3525 3141 3298 2862 \nQ 3072 2584 2669 2484 \nQ 3125 2378 3379 2068 \nQ 3634 1759 3634 1313 \nQ 3634 634 3220 271 \nQ 2806 -91 2034 -91 \nQ 1263 -91 848 271 \nQ 434 634 434 1313 \nQ 434 1759 690 2068 \nQ 947 2378 1403 2484 \nz\nM 1172 3481 \nQ 1172 3119 1398 2916 \nQ 1625 2713 2034 2713 \nQ 2441 2713 2670 2916 \nQ 2900 3119 2900 3481 \nQ 2900 3844 2670 4047 \nQ 2441 4250 2034 4250 \nQ 1625 4250 1398 4047 \nQ 1172 3844 1172 3481 \nz\n\" id=\"DejaVuSans-38\" transform=\"scale(0.015625)\"/>\n       </defs>\n       <use xlink:href=\"#DejaVuSans-38\"/>\n       <use x=\"63.623047\" xlink:href=\"#DejaVuSans-30\"/>\n       <use x=\"127.246094\" xlink:href=\"#DejaVuSans-30\"/>\n       <use x=\"190.869141\" xlink:href=\"#DejaVuSans-30\"/>\n      </g>\n     </g>\n    </g>\n    <g id=\"ytick_6\">\n     <g id=\"line2d_14\">\n      <g>\n       <use style=\"stroke:#000000;stroke-width:0.8;\" x=\"46.0125\" xlink:href=\"#me642dfe239\" y=\"13.418817\"/>\n      </g>\n     </g>\n     <g id=\"text_14\">\n      <!-- 10000 -->\n      <g transform=\"translate(7.2 17.218036)scale(0.1 -0.1)\">\n       <use xlink:href=\"#DejaVuSans-31\"/>\n       <use x=\"63.623047\" xlink:href=\"#DejaVuSans-30\"/>\n       <use x=\"127.246094\" xlink:href=\"#DejaVuSans-30\"/>\n       <use x=\"190.869141\" xlink:href=\"#DejaVuSans-30\"/>\n       <use x=\"254.492188\" xlink:href=\"#DejaVuSans-30\"/>\n      </g>\n     </g>\n    </g>\n   </g>\n   <g id=\"line2d_15\">\n    <path clip-path=\"url(#p26ae4167a1)\" d=\"M 61.230682 214.756364 \nL 61.322478 214.756319 \nL 61.434598 214.756254 \nL 61.571541 214.756156 \nL 61.738804 214.756012 \nL 61.9431 214.755798 \nL 62.192627 214.755479 \nL 62.4974 214.755005 \nL 62.869651 214.7543 \nL 63.324319 214.753252 \nL 63.879652 214.751691 \nL 64.557937 214.749369 \nL 65.386397 214.745916 \nL 66.39828 214.740783 \nL 67.634196 214.733164 \nL 69.143747 214.721868 \nL 70.987518 214.705154 \nL 73.239504 214.6805 \nL 75.990087 214.644248 \nL 79.349656 214.591107 \nL 83.453042 214.513511 \nL 88.46493 214.400591 \nL 94.586464 214.236998 \nL 102.063322 214.000721 \nL 111.195577 213.661091 \nL 122.349738 213.175151 \nL 135.973462 212.48372 \nL 152.613515 211.506033 \nL 172.937722 210.133336 \nL 197.761765 208.221534 \nL 228.08192 205.583196 \nL 265.11504 201.979936 \nL 310.347395 197.11654 \nL 365.594318 190.639628 \n\" style=\"fill:none;stroke:#1f77b4;stroke-linecap:square;stroke-width:1.5;\"/>\n   </g>\n   <g id=\"line2d_16\">\n    <path clip-path=\"url(#p26ae4167a1)\" d=\"M 61.230682 214.756132 \nL 61.322478 214.75598 \nL 61.434598 214.755754 \nL 61.571541 214.75542 \nL 61.738804 214.754923 \nL 61.9431 214.754186 \nL 62.192627 214.75309 \nL 62.4974 214.751461 \nL 62.869651 214.749037 \nL 63.324319 214.745429 \nL 63.879652 214.740059 \nL 64.557937 214.732067 \nL 65.386397 214.720174 \nL 66.39828 214.702485 \nL 67.634196 214.676153 \nL 69.143747 214.637178 \nL 70.987518 214.57932 \nL 73.239504 214.493965 \nL 75.990087 214.368213 \nL 79.349656 214.183842 \nL 83.453042 213.91503 \nL 88.46493 213.525107 \nL 94.586464 212.962411 \nL 102.063322 212.153976 \nL 111.195577 210.997842 \nL 122.349738 209.352661 \nL 135.973462 207.02555 \nL 152.613515 203.757435 \nL 172.937722 199.202144 \nL 197.761765 192.907512 \nL 228.08192 184.29413 \nL 265.11504 172.642741 \nL 310.347395 157.056499 \nL 365.594318 136.520818 \n\" style=\"fill:none;stroke:#ff7f0e;stroke-linecap:square;stroke-width:1.5;\"/>\n   </g>\n   <g id=\"line2d_17\">\n    <path clip-path=\"url(#p26ae4167a1)\" d=\"M 61.230682 214.755543 \nL 61.322478 214.755116 \nL 61.434598 214.754483 \nL 61.571541 214.753545 \nL 61.738804 214.752153 \nL 61.9431 214.750086 \nL 62.192627 214.747014 \nL 62.4974 214.742444 \nL 62.869651 214.735646 \nL 63.324319 214.725527 \nL 63.879652 214.710465 \nL 64.557937 214.688042 \nL 65.386397 214.654666 \nL 66.39828 214.605004 \nL 67.634196 214.531158 \nL 69.143747 214.421466 \nL 70.987518 214.258792 \nL 73.239504 214.01812 \nL 75.990087 213.66325 \nL 79.349656 213.142402 \nL 83.453042 212.382532 \nL 88.46493 211.28199 \nL 94.586464 209.698731 \nL 102.063322 207.444736 \nL 111.195577 204.253829 \nL 122.349738 199.764098 \nL 135.973462 193.483011 \nL 152.613515 184.770181 \nL 172.937722 172.786089 \nL 197.761765 156.467047 \nL 228.08192 134.489229 \nL 265.11504 105.227548 \nL 310.347395 66.811332 \nL 365.594318 17.083636 \n\" style=\"fill:none;stroke:#2ca02c;stroke-linecap:square;stroke-width:1.5;\"/>\n   </g>\n   <g id=\"patch_3\">\n    <path d=\"M 46.0125 224.64 \nL 46.0125 7.2 \n\" style=\"fill:none;stroke:#000000;stroke-linecap:square;stroke-linejoin:miter;stroke-width:0.8;\"/>\n   </g>\n   <g id=\"patch_4\">\n    <path d=\"M 380.8125 224.64 \nL 380.8125 7.2 \n\" style=\"fill:none;stroke:#000000;stroke-linecap:square;stroke-linejoin:miter;stroke-width:0.8;\"/>\n   </g>\n   <g id=\"patch_5\">\n    <path d=\"M 46.0125 224.64 \nL 380.8125 224.64 \n\" style=\"fill:none;stroke:#000000;stroke-linecap:square;stroke-linejoin:miter;stroke-width:0.8;\"/>\n   </g>\n   <g id=\"patch_6\">\n    <path d=\"M 46.0125 7.2 \nL 380.8125 7.2 \n\" style=\"fill:none;stroke:#000000;stroke-linecap:square;stroke-linejoin:miter;stroke-width:0.8;\"/>\n   </g>\n  </g>\n </g>\n <defs>\n  <clipPath id=\"p26ae4167a1\">\n   <rect height=\"217.44\" width=\"334.8\" x=\"46.0125\" y=\"7.2\"/>\n  </clipPath>\n </defs>\n</svg>\n",
      "text/plain": [
       "<Figure size 432x288 with 1 Axes>"
      ]
     },
     "metadata": {
      "needs_background": "light"
     },
     "output_type": "display_data"
    }
   ],
   "source": [
    "a = 0.5\n",
    "label_size = 15\n",
    "title_size = 20\n",
    "legend_size = 13\n",
    "\n",
    "for i, nu in enumerate(nu_list):\n",
    "    #Extract Data\n",
    "    nu_name = str(nu)\n",
    "    cl_1h = np.asarray(cl_lens_cib[str(nu)]['1h']) / factor\n",
    "    cl_2h = np.asarray(cl_lens_cib[str(nu)]['2h']) / factor\n",
    "    cl_tot = cl_1h + cl_2h\n",
    "    \n",
    "    #Colors\n",
    "    colors = plt.rcParams['axes.prop_cycle'].by_key()['color']\n",
    "\n",
    "    #Plot\n",
    "    plt.plot(ells, cl_tot, label= nu_name + ' GHz', color=colors[i])\n",
    "    plt.plot(ells, cl_1h, '-.', alpha= a, color=colors[i])\n",
    "    plt.plot(ells, cl_2h,, '--', alpha= a, color=colors[i])\n",
    "\n",
    "    ax = plt.gca()\n",
    "    fig = plt.gcf()\n",
    "\n",
    "    #Legend\n",
    "    1h_line = mpl.lines.Line2D([0], [0], label='1h', color='black', linestyle='--', alpha= a)\n",
    "    2h_line = mpl.lines.Line2D([0], [0], label='2h', color='black', linestyle='--')\n",
    "    h, l = ax.get_legend_handles_labels()\n",
    "    h.extend([1h_line, 2h_line])\n",
    "    plt.legend(handles= h)\n",
    "\n",
    "    #Labels\n",
    "    plt.xlabel(r'$\\ell$')\n",
    "    plt.ylabel(r'$\\ell C^{\\nu\\kappa}_{\\ell}$ \\[Jy/sr\\]')\n",
    "    plt.xscale('log')\n",
    "    \n",
    "    #Ticks\n",
    "    ax.tick_params(axis = 'x',which='both',length=5,direction='in', pad=10)\n",
    "    ax.tick_params(axis = 'y',which='both',length=5,direction='in', pad=5)\n",
    "    ax.xaxis.set_ticks_position('both')\n",
    "    ax.yaxis.set_ticks_position('both')\n",
    "    plt.setp(ax.get_yticklabels(), rotation='horizontal', fontsize=label_size)\n",
    "    plt.setp(ax.get_xticklabels(), fontsize=label_size)\n",
    "    ax.grid( visible=True, which=\"both\", alpha=0.2, linestyle='--')"
   ]
  },
  {
   "cell_type": "code",
   "execution_count": null,
   "metadata": {},
   "outputs": [],
   "source": []
  }
 ],
 "metadata": {
  "kernelspec": {
   "display_name": "Python 3.9.13 ('base': conda)",
   "language": "python",
   "name": "python3"
  },
  "language_info": {
   "codemirror_mode": {
    "name": "ipython",
    "version": 3
   },
   "file_extension": ".py",
   "mimetype": "text/x-python",
   "name": "python",
   "nbconvert_exporter": "python",
   "pygments_lexer": "ipython3",
   "version": "3.9.13"
  },
  "orig_nbformat": 4,
  "vscode": {
   "interpreter": {
    "hash": "2ad565f1b5e7dbf9f0330bb692af7394eacf839d42e6c67731ff37b5e1249471"
   }
  }
 },
 "nbformat": 4,
 "nbformat_minor": 2
}
