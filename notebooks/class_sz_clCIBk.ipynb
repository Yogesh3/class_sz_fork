{
 "cells": [
  {
   "attachments": {},
   "cell_type": "markdown",
   "metadata": {},
   "source": [
    "This notebook is very similar to `class_sz_CIB.ipynb`. Refer to that notebook for CIB autospectrum with `class_sz`."
   ]
  },
  {
   "cell_type": "code",
   "execution_count": 1,
   "metadata": {},
   "outputs": [
    {
     "name": "stderr",
     "output_type": "stream",
     "text": [
      "2023-03-23 14:11:50.588746: W tensorflow/compiler/tf2tensorrt/utils/py_utils.cc:38] TF-TRT Warning: Could not find TensorRT\n"
     ]
    },
    {
     "name": "stdout",
     "output_type": "stream",
     "text": [
      "WARNING:tensorflow:Please fix your imports. Module tensorflow.python.training.tracking.data_structures has been moved to tensorflow.python.trackable.data_structures. The old module will be deleted in version 2.11.\n"
     ]
    },
    {
     "name": "stderr",
     "output_type": "stream",
     "text": [
      "2023-03-23 14:11:52.308067: W tensorflow/core/common_runtime/gpu/gpu_device.cc:1956] Cannot dlopen some GPU libraries. Please make sure the missing libraries mentioned above are installed properly if you would like to use GPU. Follow the guide at https://www.tensorflow.org/install/gpu for how to download and setup the required libraries for your platform.\n",
      "Skipping registering GPU devices...\n"
     ]
    }
   ],
   "source": [
    "import numpy as np\n",
    "import matplotlib as mpl\n",
    "from matplotlib import pyplot as plt\n",
    "from matplotlib_inline.backend_inline import set_matplotlib_formats\n",
    "set_matplotlib_formats('svg')\n",
    "from classy_sz import Class\n",
    "import os\n",
    "import time"
   ]
  },
  {
   "cell_type": "code",
   "execution_count": 2,
   "metadata": {},
   "outputs": [],
   "source": [
    "# a simple conversion from cl's to dl's\n",
    "def cl_to_dl(lp):\n",
    "    return lp*(lp+1.)/2./np.pi"
   ]
  },
  {
   "attachments": {},
   "cell_type": "markdown",
   "metadata": {},
   "source": [
    "# CIB x $\\kappa$ Power Spectrum"
   ]
  },
  {
   "attachments": {},
   "cell_type": "markdown",
   "metadata": {},
   "source": [
    "## Set Parameters"
   ]
  },
  {
   "attachments": {},
   "cell_type": "markdown",
   "metadata": {},
   "source": [
    "You can set `class_sz` parameters individually, in a single dictionary, or multiple dictionaries."
   ]
  },
  {
   "attachments": {},
   "cell_type": "markdown",
   "metadata": {},
   "source": [
    "First, let's establish the cosmology. McCarthy et al. use Planck 2014 cosmology (https://arxiv.org/pdf/1303.5076.pdf, best-fit)."
   ]
  },
  {
   "cell_type": "code",
   "execution_count": 3,
   "metadata": {},
   "outputs": [],
   "source": [
    "#Parameters for Cosmology Planck 14, https://arxiv.org/pdf/1303.5076.pdf, best-fit\n",
    "p14_dict={}\n",
    "p14_dict['h'] = 0.6711      \n",
    "p14_dict['omega_b'] = 0.022068\n",
    "p14_dict['Omega_cdm'] = 0.3175-0.022068/0.6711/0.6711\n",
    "p14_dict['A_s'] = 2.2e-9\n",
    "p14_dict['n_s'] = .9624\n",
    "p14_dict['k_pivot'] = 0.05\n",
    "p14_dict['tau_reio'] = 0.0925\n",
    "p14_dict['N_ncdm'] = 1\n",
    "p14_dict['N_ur'] = 0.00641\n",
    "p14_dict['deg_ncdm'] = 3\n",
    "p14_dict['m_ncdm'] = 0.02\n",
    "p14_dict['T_ncdm'] = 0.71611"
   ]
  },
  {
   "attachments": {},
   "cell_type": "markdown",
   "metadata": {},
   "source": [
    "Since `cosmopower` requires certain cosmological parameters, we'll create a second dictionary for them."
   ]
  },
  {
   "cell_type": "code",
   "execution_count": 19,
   "metadata": {},
   "outputs": [],
   "source": [
    "#Parameters for Cosmology Planck 14, https://arxiv.org/pdf/1303.5076.pdf, best-fit\n",
    "p_cp_dict={}\n",
    "p_cp_dict['H0'] = 67.11      # need this because this is what is used by the emulators\n",
    "p_cp_dict['omega_b'] = 0.022068\n",
    "p_cp_dict['omega_cdm'] = (0.3175 * p_cp_dict['H0']**2) - p_cp_dict['omega_b']    # need this because this is what is used by the emulators\n",
    "p_cp_dict['ln10^{10}A_s'] = 3.0980           # need this because this is what is used by the emulators\n",
    "p_cp_dict['n_s'] = .9624\n",
    "p_cp_dict['k_pivot'] = 0.05\n",
    "p_cp_dict['tau_reio'] = 0.0925\n",
    "p_cp_dict['N_ncdm'] = 1\n",
    "p_cp_dict['N_ur'] = 0.00641\n",
    "p_cp_dict['deg_ncdm'] = 3\n",
    "p_cp_dict['m_ncdm'] = 0.02\n",
    "p_cp_dict['T_ncdm'] = 0.71611"
   ]
  },
  {
   "attachments": {},
   "cell_type": "markdown",
   "metadata": {},
   "source": [
    "Halo Model and grid parameters:"
   ]
  },
  {
   "cell_type": "code",
   "execution_count": 20,
   "metadata": {},
   "outputs": [],
   "source": [
    "p_hm_dict = {}\n",
    "\n",
    "p_hm_dict['mass function'] = 'T10'\n",
    "p_hm_dict['concentration parameter'] = 'D08'\n",
    "p_hm_dict['delta for cib'] = '200m'\n",
    "p_hm_dict['hm_consistency'] = 1\n",
    "p_hm_dict['damping_1h_term'] = 0\n",
    "# Precision\n",
    "p_hm_dict['pressure_profile_epsabs'] = 1.e-8\n",
    "p_hm_dict['pressure_profile_epsrel'] = 1.e-3\n",
    "# HOD parameters for CIB\n",
    "p_hm_dict['M_min_HOD'] = pow(10.,10)  # was M_min_HOD_cib\n",
    "\n",
    "#Grid Parameters\n",
    "# Mass bounds\n",
    "p_hm_dict['M_min'] = 1e8 * p14_dict['h']    # was M_min_cib\n",
    "p_hm_dict['M_max'] = 1e16 * p14_dict['h']   # was M_max_cib\n",
    "# Redshift bounds\n",
    "p_hm_dict['z_min'] = 0.07\n",
    "p_hm_dict['z_max'] = 6. # fiducial for MM20 : 6\n",
    "p_hm_dict['freq_min'] = 10.\n",
    "p_hm_dict['freq_max'] = 5e4 # fiducial for MM20 : 6\n",
    "p_hm_dict['z_max_pk'] = p_hm_dict['z_max']\n",
    "\n",
    "#Precision Parameters\n",
    "# Precision for redshift integal\n",
    "p_hm_dict['redshift_epsabs'] = 1e-40#1.e-40\n",
    "p_hm_dict['redshift_epsrel'] = 1e-4#1.e-10 # fiducial value 1e-8\n",
    "# Precision for mass integal\n",
    "p_hm_dict['mass_epsabs'] = 1e-40 #1.e-40\n",
    "p_hm_dict['mass_epsrel'] = 1e-4#1e-10\n",
    "# Precision for Luminosity integral (sub-halo mass function)\n",
    "p_hm_dict['L_sat_epsabs'] = 1e-40 #1.e-40\n",
    "p_hm_dict['L_sat_epsrel'] = 1e-3#1e-10\n",
    "# Multipole array\n",
    "p_hm_dict['dlogell'] = 0.1\n",
    "p_hm_dict['ell_max'] = 8000.\n",
    "p_hm_dict['ell_min'] = 10"
   ]
  },
  {
   "attachments": {},
   "cell_type": "markdown",
   "metadata": {},
   "source": [
    "CIB Model parameters (see McCarthy et al. at https://journals.aps.org/prd/abstract/10.1103/PhysRevD.103.103515):"
   ]
  },
  {
   "cell_type": "code",
   "execution_count": 7,
   "metadata": {},
   "outputs": [],
   "source": [
    "#CIB Parameters\n",
    "p_CIB_dict = {}\n",
    "p_CIB_dict['Redshift evolution of dust temperature'] =  0.36\n",
    "p_CIB_dict['Dust temperature today in Kelvins'] = 24.4\n",
    "p_CIB_dict['Emissivity index of sed'] = 1.75\n",
    "p_CIB_dict['Power law index of SED at high frequency'] = 1.7\n",
    "p_CIB_dict['Redshift evolution of L - M normalisation'] = 3.6\n",
    "p_CIB_dict['Most efficient halo mass in Msun'] = 10**12.6\n",
    "p_CIB_dict['Normalisation of L - M relation in [Jy MPc2/Msun]'] = 6.4e-8\n",
    "p_CIB_dict['Size of of halo masses sourcing CIB emission'] = 0.5"
   ]
  },
  {
   "attachments": {},
   "cell_type": "markdown",
   "metadata": {},
   "source": [
    "Select your frequencies. Here, we choose some Planck frequencies. Note that the frequency lists (both for the observed CIB frequencies and the flux cuts) must be a single string, not a list of strings."
   ]
  },
  {
   "cell_type": "code",
   "execution_count": 8,
   "metadata": {},
   "outputs": [],
   "source": [
    "nu_list = [353,545,857]\n",
    "nu_list_str = str(nu_list)[1:-1]  # Note: this must be a single string, not a list of strings!\n",
    "\n",
    "#Frequency Parameters\n",
    "p_freq_dict = {}\n",
    "p_freq_dict['cib_frequency_list_num'] = len(nu_list)\n",
    "p_freq_dict['cib_frequency_list_in_GHz'] = nu_list_str"
   ]
  },
  {
   "attachments": {},
   "cell_type": "markdown",
   "metadata": {},
   "source": [
    "We choose flux cuts from Planck 2013 (see https://journals.aps.org/prd/abstract/10.1103/PhysRevD.103.103515)."
   ]
  },
  {
   "cell_type": "code",
   "execution_count": 9,
   "metadata": {},
   "outputs": [],
   "source": [
    "#Flux Cuts\n",
    "cib_fcut_dict = {}\n",
    "\n",
    "#Planck flux cut, Table 1 in https://arxiv.org/pdf/1309.0382.pdf\n",
    "cib_fcut_dict['100'] = 400\n",
    "cib_fcut_dict['143'] = 350\n",
    "cib_fcut_dict['217'] = 225\n",
    "cib_fcut_dict['353'] = 315\n",
    "cib_fcut_dict['545'] = 350\n",
    "cib_fcut_dict['857'] = 710\n",
    "cib_fcut_dict['3000'] = 1000\n",
    "\n",
    "def make_flux_cut_list(cib_flux, nu_list):\n",
    "    \"\"\"\n",
    "    Make a string of flux cut values for given frequency list to pass into class_sz\n",
    "    Beware: if frequency not in the flux_cut dictionary, it assigns 0\n",
    "    \"\"\"\n",
    "    cib_flux_list = []\n",
    "    keys = list(cib_flux.keys())\n",
    "    for i,nu in enumerate(nu_list):\n",
    "        if str(nu) in keys:\n",
    "            cib_flux_list.append(cib_flux[str(nu)])\n",
    "        else:\n",
    "            cib_flux_list.append(0)\n",
    "    return cib_flux_list\n",
    "\n",
    "cib_flux_list = make_flux_cut_list(cib_fcut_dict, nu_list)\n",
    "\n",
    "#Add Flux Cuts\n",
    "p_freq_dict['cib_Snu_cutoff_list [mJy]'] = str(list(cib_flux_list))[1:-1]\n",
    "p_freq_dict['has_cib_flux_cut'] = 1\n"
   ]
  },
  {
   "attachments": {},
   "cell_type": "markdown",
   "metadata": {},
   "source": [
    "## Compute Power Spectrum"
   ]
  },
  {
   "attachments": {},
   "cell_type": "markdown",
   "metadata": {},
   "source": [
    "### Standard `class_sz` computation"
   ]
  },
  {
   "cell_type": "code",
   "execution_count": 10,
   "metadata": {},
   "outputs": [
    {
     "data": {
      "text/plain": [
       "True"
      ]
     },
     "execution_count": 10,
     "metadata": {},
     "output_type": "execute_result"
    }
   ],
   "source": [
    "M = Class()\n",
    "\n",
    "#Set Parameters\n",
    "M.set(p14_dict)\n",
    "M.set(p_hm_dict)\n",
    "M.set(p_CIB_dict)\n",
    "M.set(p_freq_dict)\n",
    "\n",
    "#Tell It What You Want\n",
    "M.set({\n",
    "    # 'output': 'lens_cib_1h,lens_cib_2h' \n",
    "    'output': 'lens_cib_1h,lens_cib_2h,lCl'\n",
    "})"
   ]
  },
  {
   "cell_type": "code",
   "execution_count": 11,
   "metadata": {},
   "outputs": [
    {
     "name": "stdout",
     "output_type": "stream",
     "text": [
      "CPU times: user 2min 21s, sys: 0 ns, total: 2min 21s\n",
      "Wall time: 9.88 s\n"
     ]
    }
   ],
   "source": [
    "%%time\n",
    "#Calculate Spectra\n",
    "M.compute()\n",
    "Dl_lens_cib = M.cl_lens_cib()\n",
    "M.struct_cleanup()\n",
    "M.empty()"
   ]
  },
  {
   "attachments": {},
   "cell_type": "markdown",
   "metadata": {},
   "source": [
    "### Fast `Cosmopower` computation"
   ]
  },
  {
   "cell_type": "code",
   "execution_count": 21,
   "metadata": {},
   "outputs": [
    {
     "data": {
      "text/plain": [
       "True"
      ]
     },
     "execution_count": 21,
     "metadata": {},
     "output_type": "execute_result"
    }
   ],
   "source": [
    "N = Class()\n",
    "\n",
    "#Set Parameters\n",
    "N.set(p_cp_dict)\n",
    "N.set(p_hm_dict)\n",
    "N.set(p_CIB_dict)\n",
    "N.set(p_freq_dict)\n",
    "\n",
    "#Tell It What You Want\n",
    "N.set({\n",
    "    'output': 'lens_cib_1h,lens_cib_2h' \n",
    "})"
   ]
  },
  {
   "cell_type": "code",
   "execution_count": 12,
   "metadata": {},
   "outputs": [
    {
     "ename": "CosmoComputationError",
     "evalue": "\n\nError in Class: thermodynamics_init(L:434) :error in thermodynamics_recombination(ppr,pba,pth,preco,pvecback);\n=>thermodynamics_recombination(L:3099) :error in thermodynamics_recombination_with_recfast(ppr,pba,pth,preco,pvecback);\n=>thermodynamics_recombination_with_recfast(L:3740) :error in generic_integrator(thermodynamics_derivs_with_recfast, zstart, zend, y, &tpaw, ppr->tol_thermo_integration, ppr->smallest_allowed_variation, &gi);\n=>generic_integrator(L:103) :error in rkqs(&x, h, eps, &hdid, &hnext, derivs, parameters_and_workspace_for_derivs, pgi);\n=>rkqs(L:154) :condition (xnew == *x) is true; stepsize underflow at x=2.988499e+01",
     "output_type": "error",
     "traceback": [
      "\u001b[0;31m---------------------------------------------------------------------------\u001b[0m",
      "\u001b[0;31mCosmoComputationError\u001b[0m                     Traceback (most recent call last)",
      "\u001b[0;32m<timed exec>\u001b[0m in \u001b[0;36m<module>\u001b[0;34m\u001b[0m\n",
      "\u001b[0;32mclassy.pyx\u001b[0m in \u001b[0;36mclassy_sz.Class.compute_class_szfast\u001b[0;34m()\u001b[0m\n",
      "\u001b[0;32mclassy.pyx\u001b[0m in \u001b[0;36mclassy_sz.Class.compute\u001b[0;34m()\u001b[0m\n",
      "\u001b[0;31mCosmoComputationError\u001b[0m: \n\nError in Class: thermodynamics_init(L:434) :error in thermodynamics_recombination(ppr,pba,pth,preco,pvecback);\n=>thermodynamics_recombination(L:3099) :error in thermodynamics_recombination_with_recfast(ppr,pba,pth,preco,pvecback);\n=>thermodynamics_recombination_with_recfast(L:3740) :error in generic_integrator(thermodynamics_derivs_with_recfast, zstart, zend, y, &tpaw, ppr->tol_thermo_integration, ppr->smallest_allowed_variation, &gi);\n=>generic_integrator(L:103) :error in rkqs(&x, h, eps, &hdid, &hnext, derivs, parameters_and_workspace_for_derivs, pgi);\n=>rkqs(L:154) :condition (xnew == *x) is true; stepsize underflow at x=2.988499e+01"
     ]
    }
   ],
   "source": [
    "%%time\n",
    "#Calculate Spectra\n",
    "N.compute_class_szfast()\n",
    "Dl_lens_cib = N.cl_lens_cib()\n",
    "N.struct_cleanup()\n",
    "N.empty()"
   ]
  },
  {
   "attachments": {},
   "cell_type": "markdown",
   "metadata": {},
   "source": [
    "## Plot"
   ]
  },
  {
   "cell_type": "code",
   "execution_count": 23,
   "metadata": {},
   "outputs": [
    {
     "data": {
      "image/svg+xml": "<?xml version=\"1.0\" encoding=\"utf-8\" standalone=\"no\"?>\n<!DOCTYPE svg PUBLIC \"-//W3C//DTD SVG 1.1//EN\"\n  \"http://www.w3.org/Graphics/SVG/1.1/DTD/svg11.dtd\">\n<svg height=\"387.86pt\" version=\"1.1\" viewBox=\"0 0 684.28931 387.86\" width=\"684.28931pt\" xmlns=\"http://www.w3.org/2000/svg\" xmlns:xlink=\"http://www.w3.org/1999/xlink\">\n <metadata>\n  <rdf:RDF xmlns:cc=\"http://creativecommons.org/ns#\" xmlns:dc=\"http://purl.org/dc/elements/1.1/\" xmlns:rdf=\"http://www.w3.org/1999/02/22-rdf-syntax-ns#\">\n   <cc:Work>\n    <dc:type rdf:resource=\"http://purl.org/dc/dcmitype/StillImage\"/>\n    <dc:date>2023-03-23T14:47:10.576282</dc:date>\n    <dc:format>image/svg+xml</dc:format>\n    <dc:creator>\n     <cc:Agent>\n      <dc:title>Matplotlib v3.4.3, https://matplotlib.org/</dc:title>\n     </cc:Agent>\n    </dc:creator>\n   </cc:Work>\n  </rdf:RDF>\n </metadata>\n <defs>\n  <style type=\"text/css\">*{stroke-linecap:butt;stroke-linejoin:round;}</style>\n </defs>\n <g id=\"figure_1\">\n  <g id=\"patch_1\">\n   <path d=\"M 0 387.86 \nL 684.28931 387.86 \nL 684.28931 0 \nL 0 0 \nz\n\" style=\"fill:none;\"/>\n  </g>\n  <g id=\"axes_1\">\n   <g id=\"patch_2\">\n    <path d=\"M 54.52 333.36 \nL 668.32 333.36 \nL 668.32 7.2 \nL 54.52 7.2 \nz\n\" style=\"fill:#ffffff;\"/>\n   </g>\n   <g id=\"matplotlib.axis_1\">\n    <g id=\"xtick_1\">\n     <g id=\"line2d_1\">\n      <path clip-path=\"url(#p57df2a395d)\" d=\"M 82.42 333.36 \nL 82.42 7.2 \n\" style=\"fill:none;stroke:#b0b0b0;stroke-dasharray:2.96,1.28;stroke-dashoffset:0;stroke-opacity:0.2;stroke-width:0.8;\"/>\n     </g>\n     <g id=\"line2d_2\">\n      <defs>\n       <path d=\"M 0 0 \nL 0 -5 \n\" id=\"m1e87559f52\" style=\"stroke:#000000;stroke-width:0.8;\"/>\n      </defs>\n      <g>\n       <use style=\"stroke:#000000;stroke-width:0.8;\" x=\"82.42\" xlink:href=\"#m1e87559f52\" y=\"333.36\"/>\n      </g>\n     </g>\n     <g id=\"line2d_3\">\n      <defs>\n       <path d=\"M 0 0 \nL 0 5 \n\" id=\"m9a0cb54057\" style=\"stroke:#000000;stroke-width:0.8;\"/>\n      </defs>\n      <g>\n       <use style=\"stroke:#000000;stroke-width:0.8;\" x=\"82.42\" xlink:href=\"#m9a0cb54057\" y=\"7.2\"/>\n      </g>\n     </g>\n     <g id=\"text_1\">\n      <!-- $\\mathdefault{10^{1}}$ -->\n      <g transform=\"translate(71.77 353.604531)scale(0.15 -0.15)\">\n       <defs>\n        <path d=\"M 2522 0 \nL 755 0 \nL 755 96 \nQ 1107 115 1235 227 \nQ 1363 339 1363 608 \nL 1363 3482 \nQ 1363 3795 1171 3795 \nQ 1082 3795 883 3718 \nL 710 3654 \nL 710 3744 \nL 1856 4326 \nL 1914 4307 \nL 1914 486 \nQ 1914 275 2042 185 \nQ 2170 96 2522 96 \nL 2522 0 \nz\n\" id=\"STIXGeneral-Regular-31\" transform=\"scale(0.015625)\"/>\n        <path d=\"M 3046 2112 \nQ 3046 1683 2963 1302 \nQ 2880 922 2717 602 \nQ 2554 282 2266 96 \nQ 1978 -90 1600 -90 \nQ 1210 -90 915 108 \nQ 621 307 461 640 \nQ 301 973 227 1350 \nQ 154 1728 154 2150 \nQ 154 2746 301 3222 \nQ 448 3699 790 4012 \nQ 1133 4326 1626 4326 \nQ 2253 4326 2649 3712 \nQ 3046 3098 3046 2112 \nz\nM 2432 2080 \nQ 2432 3091 2217 3625 \nQ 2003 4160 1587 4160 \nQ 1190 4160 979 3622 \nQ 768 3085 768 2106 \nQ 768 1120 979 598 \nQ 1190 77 1600 77 \nQ 2003 77 2217 598 \nQ 2432 1120 2432 2080 \nz\n\" id=\"STIXGeneral-Regular-30\" transform=\"scale(0.015625)\"/>\n       </defs>\n       <use transform=\"translate(0 0.684375)\" xlink:href=\"#STIXGeneral-Regular-31\"/>\n       <use transform=\"translate(49.999985 0.684375)\" xlink:href=\"#STIXGeneral-Regular-30\"/>\n       <use transform=\"translate(101.574969 36.684375)scale(0.7)\" xlink:href=\"#STIXGeneral-Regular-31\"/>\n      </g>\n     </g>\n    </g>\n    <g id=\"xtick_2\">\n     <g id=\"line2d_4\">\n      <path clip-path=\"url(#p57df2a395d)\" d=\"M 277.093103 333.36 \nL 277.093103 7.2 \n\" style=\"fill:none;stroke:#b0b0b0;stroke-dasharray:2.96,1.28;stroke-dashoffset:0;stroke-opacity:0.2;stroke-width:0.8;\"/>\n     </g>\n     <g id=\"line2d_5\">\n      <g>\n       <use style=\"stroke:#000000;stroke-width:0.8;\" x=\"277.093103\" xlink:href=\"#m1e87559f52\" y=\"333.36\"/>\n      </g>\n     </g>\n     <g id=\"line2d_6\">\n      <g>\n       <use style=\"stroke:#000000;stroke-width:0.8;\" x=\"277.093103\" xlink:href=\"#m9a0cb54057\" y=\"7.2\"/>\n      </g>\n     </g>\n     <g id=\"text_2\">\n      <!-- $\\mathdefault{10^{2}}$ -->\n      <g transform=\"translate(266.443103 353.604531)scale(0.15 -0.15)\">\n       <defs>\n        <path d=\"M 3034 877 \nL 2688 0 \nL 186 0 \nL 186 77 \nL 1325 1286 \nQ 1773 1754 1965 2144 \nQ 2157 2534 2157 2950 \nQ 2157 3379 1920 3616 \nQ 1683 3853 1267 3853 \nQ 922 3853 720 3673 \nQ 518 3494 326 3021 \nL 192 3053 \nQ 301 3648 630 3987 \nQ 960 4326 1523 4326 \nQ 2054 4326 2380 4006 \nQ 2707 3686 2707 3200 \nQ 2707 2477 1888 1613 \nL 832 486 \nL 2330 486 \nQ 2541 486 2665 569 \nQ 2790 653 2944 915 \nL 3034 877 \nz\n\" id=\"STIXGeneral-Regular-32\" transform=\"scale(0.015625)\"/>\n       </defs>\n       <use transform=\"translate(0 0.684375)\" xlink:href=\"#STIXGeneral-Regular-31\"/>\n       <use transform=\"translate(49.999985 0.684375)\" xlink:href=\"#STIXGeneral-Regular-30\"/>\n       <use transform=\"translate(101.574969 36.684375)scale(0.7)\" xlink:href=\"#STIXGeneral-Regular-32\"/>\n      </g>\n     </g>\n    </g>\n    <g id=\"xtick_3\">\n     <g id=\"line2d_7\">\n      <path clip-path=\"url(#p57df2a395d)\" d=\"M 471.766207 333.36 \nL 471.766207 7.2 \n\" style=\"fill:none;stroke:#b0b0b0;stroke-dasharray:2.96,1.28;stroke-dashoffset:0;stroke-opacity:0.2;stroke-width:0.8;\"/>\n     </g>\n     <g id=\"line2d_8\">\n      <g>\n       <use style=\"stroke:#000000;stroke-width:0.8;\" x=\"471.766207\" xlink:href=\"#m1e87559f52\" y=\"333.36\"/>\n      </g>\n     </g>\n     <g id=\"line2d_9\">\n      <g>\n       <use style=\"stroke:#000000;stroke-width:0.8;\" x=\"471.766207\" xlink:href=\"#m9a0cb54057\" y=\"7.2\"/>\n      </g>\n     </g>\n     <g id=\"text_3\">\n      <!-- $\\mathdefault{10^{3}}$ -->\n      <g transform=\"translate(461.116207 353.604531)scale(0.15 -0.15)\">\n       <defs>\n        <path d=\"M 390 3264 \nL 288 3290 \nQ 435 3770 748 4048 \nQ 1062 4326 1542 4326 \nQ 1990 4326 2265 4083 \nQ 2541 3840 2541 3450 \nQ 2541 2925 1946 2566 \nQ 2298 2413 2477 2227 \nQ 2758 1914 2758 1402 \nQ 2758 890 2464 506 \nQ 2246 211 1840 60 \nQ 1434 -90 979 -90 \nQ 262 -90 262 275 \nQ 262 378 339 442 \nQ 416 506 525 506 \nQ 685 506 915 339 \nQ 1197 141 1466 141 \nQ 1818 141 2058 425 \nQ 2298 710 2298 1120 \nQ 2298 1856 1632 2048 \nQ 1434 2112 979 2112 \nL 979 2202 \nQ 1338 2323 1517 2432 \nQ 2035 2726 2035 3290 \nQ 2035 3610 1852 3776 \nQ 1670 3942 1344 3942 \nQ 768 3942 390 3264 \nz\n\" id=\"STIXGeneral-Regular-33\" transform=\"scale(0.015625)\"/>\n       </defs>\n       <use transform=\"translate(0 0.684375)\" xlink:href=\"#STIXGeneral-Regular-31\"/>\n       <use transform=\"translate(49.999985 0.684375)\" xlink:href=\"#STIXGeneral-Regular-30\"/>\n       <use transform=\"translate(101.574969 36.684375)scale(0.7)\" xlink:href=\"#STIXGeneral-Regular-33\"/>\n      </g>\n     </g>\n    </g>\n    <g id=\"xtick_4\">\n     <g id=\"line2d_10\">\n      <path clip-path=\"url(#p57df2a395d)\" d=\"M 666.43931 333.36 \nL 666.43931 7.2 \n\" style=\"fill:none;stroke:#b0b0b0;stroke-dasharray:2.96,1.28;stroke-dashoffset:0;stroke-opacity:0.2;stroke-width:0.8;\"/>\n     </g>\n     <g id=\"line2d_11\">\n      <g>\n       <use style=\"stroke:#000000;stroke-width:0.8;\" x=\"666.43931\" xlink:href=\"#m1e87559f52\" y=\"333.36\"/>\n      </g>\n     </g>\n     <g id=\"line2d_12\">\n      <g>\n       <use style=\"stroke:#000000;stroke-width:0.8;\" x=\"666.43931\" xlink:href=\"#m9a0cb54057\" y=\"7.2\"/>\n      </g>\n     </g>\n     <g id=\"text_4\">\n      <!-- $\\mathdefault{10^{4}}$ -->\n      <g transform=\"translate(655.78931 353.604531)scale(0.15 -0.15)\">\n       <defs>\n        <path d=\"M 3027 1069 \nL 2368 1069 \nL 2368 0 \nL 1869 0 \nL 1869 1069 \nL 77 1069 \nL 77 1478 \nL 2086 4326 \nL 2368 4326 \nL 2368 1478 \nL 3027 1478 \nL 3027 1069 \nz\nM 1869 1478 \nL 1869 3674 \nL 333 1478 \nL 1869 1478 \nz\n\" id=\"STIXGeneral-Regular-34\" transform=\"scale(0.015625)\"/>\n       </defs>\n       <use transform=\"translate(0 0.684375)\" xlink:href=\"#STIXGeneral-Regular-31\"/>\n       <use transform=\"translate(49.999985 0.684375)\" xlink:href=\"#STIXGeneral-Regular-30\"/>\n       <use transform=\"translate(101.574969 36.684375)scale(0.7)\" xlink:href=\"#STIXGeneral-Regular-34\"/>\n      </g>\n     </g>\n    </g>\n    <g id=\"xtick_5\">\n     <g id=\"line2d_13\">\n      <path clip-path=\"url(#p57df2a395d)\" d=\"M 63.554227 333.36 \nL 63.554227 7.2 \n\" style=\"fill:none;stroke:#b0b0b0;stroke-dasharray:2.96,1.28;stroke-dashoffset:0;stroke-opacity:0.2;stroke-width:0.8;\"/>\n     </g>\n     <g id=\"line2d_14\">\n      <defs>\n       <path d=\"M 0 0 \nL 0 -5 \n\" id=\"md1e07b7b0e\" style=\"stroke:#000000;stroke-width:0.6;\"/>\n      </defs>\n      <g>\n       <use style=\"stroke:#000000;stroke-width:0.6;\" x=\"63.554227\" xlink:href=\"#md1e07b7b0e\" y=\"333.36\"/>\n      </g>\n     </g>\n     <g id=\"line2d_15\">\n      <defs>\n       <path d=\"M 0 0 \nL 0 5 \n\" id=\"m07c670c8c0\" style=\"stroke:#000000;stroke-width:0.6;\"/>\n      </defs>\n      <g>\n       <use style=\"stroke:#000000;stroke-width:0.6;\" x=\"63.554227\" xlink:href=\"#m07c670c8c0\" y=\"7.2\"/>\n      </g>\n     </g>\n    </g>\n    <g id=\"xtick_6\">\n     <g id=\"line2d_16\">\n      <path clip-path=\"url(#p57df2a395d)\" d=\"M 73.512247 333.36 \nL 73.512247 7.2 \n\" style=\"fill:none;stroke:#b0b0b0;stroke-dasharray:2.96,1.28;stroke-dashoffset:0;stroke-opacity:0.2;stroke-width:0.8;\"/>\n     </g>\n     <g id=\"line2d_17\">\n      <g>\n       <use style=\"stroke:#000000;stroke-width:0.6;\" x=\"73.512247\" xlink:href=\"#md1e07b7b0e\" y=\"333.36\"/>\n      </g>\n     </g>\n     <g id=\"line2d_18\">\n      <g>\n       <use style=\"stroke:#000000;stroke-width:0.6;\" x=\"73.512247\" xlink:href=\"#m07c670c8c0\" y=\"7.2\"/>\n      </g>\n     </g>\n    </g>\n    <g id=\"xtick_7\">\n     <g id=\"line2d_19\">\n      <path clip-path=\"url(#p57df2a395d)\" d=\"M 141.022443 333.36 \nL 141.022443 7.2 \n\" style=\"fill:none;stroke:#b0b0b0;stroke-dasharray:2.96,1.28;stroke-dashoffset:0;stroke-opacity:0.2;stroke-width:0.8;\"/>\n     </g>\n     <g id=\"line2d_20\">\n      <g>\n       <use style=\"stroke:#000000;stroke-width:0.6;\" x=\"141.022443\" xlink:href=\"#md1e07b7b0e\" y=\"333.36\"/>\n      </g>\n     </g>\n     <g id=\"line2d_21\">\n      <g>\n       <use style=\"stroke:#000000;stroke-width:0.6;\" x=\"141.022443\" xlink:href=\"#m07c670c8c0\" y=\"7.2\"/>\n      </g>\n     </g>\n    </g>\n    <g id=\"xtick_8\">\n     <g id=\"line2d_22\">\n      <path clip-path=\"url(#p57df2a395d)\" d=\"M 175.302675 333.36 \nL 175.302675 7.2 \n\" style=\"fill:none;stroke:#b0b0b0;stroke-dasharray:2.96,1.28;stroke-dashoffset:0;stroke-opacity:0.2;stroke-width:0.8;\"/>\n     </g>\n     <g id=\"line2d_23\">\n      <g>\n       <use style=\"stroke:#000000;stroke-width:0.6;\" x=\"175.302675\" xlink:href=\"#md1e07b7b0e\" y=\"333.36\"/>\n      </g>\n     </g>\n     <g id=\"line2d_24\">\n      <g>\n       <use style=\"stroke:#000000;stroke-width:0.6;\" x=\"175.302675\" xlink:href=\"#m07c670c8c0\" y=\"7.2\"/>\n      </g>\n     </g>\n    </g>\n    <g id=\"xtick_9\">\n     <g id=\"line2d_25\">\n      <path clip-path=\"url(#p57df2a395d)\" d=\"M 199.624887 333.36 \nL 199.624887 7.2 \n\" style=\"fill:none;stroke:#b0b0b0;stroke-dasharray:2.96,1.28;stroke-dashoffset:0;stroke-opacity:0.2;stroke-width:0.8;\"/>\n     </g>\n     <g id=\"line2d_26\">\n      <g>\n       <use style=\"stroke:#000000;stroke-width:0.6;\" x=\"199.624887\" xlink:href=\"#md1e07b7b0e\" y=\"333.36\"/>\n      </g>\n     </g>\n     <g id=\"line2d_27\">\n      <g>\n       <use style=\"stroke:#000000;stroke-width:0.6;\" x=\"199.624887\" xlink:href=\"#m07c670c8c0\" y=\"7.2\"/>\n      </g>\n     </g>\n    </g>\n    <g id=\"xtick_10\">\n     <g id=\"line2d_28\">\n      <path clip-path=\"url(#p57df2a395d)\" d=\"M 218.49066 333.36 \nL 218.49066 7.2 \n\" style=\"fill:none;stroke:#b0b0b0;stroke-dasharray:2.96,1.28;stroke-dashoffset:0;stroke-opacity:0.2;stroke-width:0.8;\"/>\n     </g>\n     <g id=\"line2d_29\">\n      <g>\n       <use style=\"stroke:#000000;stroke-width:0.6;\" x=\"218.49066\" xlink:href=\"#md1e07b7b0e\" y=\"333.36\"/>\n      </g>\n     </g>\n     <g id=\"line2d_30\">\n      <g>\n       <use style=\"stroke:#000000;stroke-width:0.6;\" x=\"218.49066\" xlink:href=\"#m07c670c8c0\" y=\"7.2\"/>\n      </g>\n     </g>\n    </g>\n    <g id=\"xtick_11\">\n     <g id=\"line2d_31\">\n      <path clip-path=\"url(#p57df2a395d)\" d=\"M 233.905119 333.36 \nL 233.905119 7.2 \n\" style=\"fill:none;stroke:#b0b0b0;stroke-dasharray:2.96,1.28;stroke-dashoffset:0;stroke-opacity:0.2;stroke-width:0.8;\"/>\n     </g>\n     <g id=\"line2d_32\">\n      <g>\n       <use style=\"stroke:#000000;stroke-width:0.6;\" x=\"233.905119\" xlink:href=\"#md1e07b7b0e\" y=\"333.36\"/>\n      </g>\n     </g>\n     <g id=\"line2d_33\">\n      <g>\n       <use style=\"stroke:#000000;stroke-width:0.6;\" x=\"233.905119\" xlink:href=\"#m07c670c8c0\" y=\"7.2\"/>\n      </g>\n     </g>\n    </g>\n    <g id=\"xtick_12\">\n     <g id=\"line2d_34\">\n      <path clip-path=\"url(#p57df2a395d)\" d=\"M 246.937858 333.36 \nL 246.937858 7.2 \n\" style=\"fill:none;stroke:#b0b0b0;stroke-dasharray:2.96,1.28;stroke-dashoffset:0;stroke-opacity:0.2;stroke-width:0.8;\"/>\n     </g>\n     <g id=\"line2d_35\">\n      <g>\n       <use style=\"stroke:#000000;stroke-width:0.6;\" x=\"246.937858\" xlink:href=\"#md1e07b7b0e\" y=\"333.36\"/>\n      </g>\n     </g>\n     <g id=\"line2d_36\">\n      <g>\n       <use style=\"stroke:#000000;stroke-width:0.6;\" x=\"246.937858\" xlink:href=\"#m07c670c8c0\" y=\"7.2\"/>\n      </g>\n     </g>\n    </g>\n    <g id=\"xtick_13\">\n     <g id=\"line2d_37\">\n      <path clip-path=\"url(#p57df2a395d)\" d=\"M 258.22733 333.36 \nL 258.22733 7.2 \n\" style=\"fill:none;stroke:#b0b0b0;stroke-dasharray:2.96,1.28;stroke-dashoffset:0;stroke-opacity:0.2;stroke-width:0.8;\"/>\n     </g>\n     <g id=\"line2d_38\">\n      <g>\n       <use style=\"stroke:#000000;stroke-width:0.6;\" x=\"258.22733\" xlink:href=\"#md1e07b7b0e\" y=\"333.36\"/>\n      </g>\n     </g>\n     <g id=\"line2d_39\">\n      <g>\n       <use style=\"stroke:#000000;stroke-width:0.6;\" x=\"258.22733\" xlink:href=\"#m07c670c8c0\" y=\"7.2\"/>\n      </g>\n     </g>\n    </g>\n    <g id=\"xtick_14\">\n     <g id=\"line2d_40\">\n      <path clip-path=\"url(#p57df2a395d)\" d=\"M 268.185351 333.36 \nL 268.185351 7.2 \n\" style=\"fill:none;stroke:#b0b0b0;stroke-dasharray:2.96,1.28;stroke-dashoffset:0;stroke-opacity:0.2;stroke-width:0.8;\"/>\n     </g>\n     <g id=\"line2d_41\">\n      <g>\n       <use style=\"stroke:#000000;stroke-width:0.6;\" x=\"268.185351\" xlink:href=\"#md1e07b7b0e\" y=\"333.36\"/>\n      </g>\n     </g>\n     <g id=\"line2d_42\">\n      <g>\n       <use style=\"stroke:#000000;stroke-width:0.6;\" x=\"268.185351\" xlink:href=\"#m07c670c8c0\" y=\"7.2\"/>\n      </g>\n     </g>\n    </g>\n    <g id=\"xtick_15\">\n     <g id=\"line2d_43\">\n      <path clip-path=\"url(#p57df2a395d)\" d=\"M 335.695547 333.36 \nL 335.695547 7.2 \n\" style=\"fill:none;stroke:#b0b0b0;stroke-dasharray:2.96,1.28;stroke-dashoffset:0;stroke-opacity:0.2;stroke-width:0.8;\"/>\n     </g>\n     <g id=\"line2d_44\">\n      <g>\n       <use style=\"stroke:#000000;stroke-width:0.6;\" x=\"335.695547\" xlink:href=\"#md1e07b7b0e\" y=\"333.36\"/>\n      </g>\n     </g>\n     <g id=\"line2d_45\">\n      <g>\n       <use style=\"stroke:#000000;stroke-width:0.6;\" x=\"335.695547\" xlink:href=\"#m07c670c8c0\" y=\"7.2\"/>\n      </g>\n     </g>\n    </g>\n    <g id=\"xtick_16\">\n     <g id=\"line2d_46\">\n      <path clip-path=\"url(#p57df2a395d)\" d=\"M 369.975779 333.36 \nL 369.975779 7.2 \n\" style=\"fill:none;stroke:#b0b0b0;stroke-dasharray:2.96,1.28;stroke-dashoffset:0;stroke-opacity:0.2;stroke-width:0.8;\"/>\n     </g>\n     <g id=\"line2d_47\">\n      <g>\n       <use style=\"stroke:#000000;stroke-width:0.6;\" x=\"369.975779\" xlink:href=\"#md1e07b7b0e\" y=\"333.36\"/>\n      </g>\n     </g>\n     <g id=\"line2d_48\">\n      <g>\n       <use style=\"stroke:#000000;stroke-width:0.6;\" x=\"369.975779\" xlink:href=\"#m07c670c8c0\" y=\"7.2\"/>\n      </g>\n     </g>\n    </g>\n    <g id=\"xtick_17\">\n     <g id=\"line2d_49\">\n      <path clip-path=\"url(#p57df2a395d)\" d=\"M 394.29799 333.36 \nL 394.29799 7.2 \n\" style=\"fill:none;stroke:#b0b0b0;stroke-dasharray:2.96,1.28;stroke-dashoffset:0;stroke-opacity:0.2;stroke-width:0.8;\"/>\n     </g>\n     <g id=\"line2d_50\">\n      <g>\n       <use style=\"stroke:#000000;stroke-width:0.6;\" x=\"394.29799\" xlink:href=\"#md1e07b7b0e\" y=\"333.36\"/>\n      </g>\n     </g>\n     <g id=\"line2d_51\">\n      <g>\n       <use style=\"stroke:#000000;stroke-width:0.6;\" x=\"394.29799\" xlink:href=\"#m07c670c8c0\" y=\"7.2\"/>\n      </g>\n     </g>\n    </g>\n    <g id=\"xtick_18\">\n     <g id=\"line2d_52\">\n      <path clip-path=\"url(#p57df2a395d)\" d=\"M 413.163763 333.36 \nL 413.163763 7.2 \n\" style=\"fill:none;stroke:#b0b0b0;stroke-dasharray:2.96,1.28;stroke-dashoffset:0;stroke-opacity:0.2;stroke-width:0.8;\"/>\n     </g>\n     <g id=\"line2d_53\">\n      <g>\n       <use style=\"stroke:#000000;stroke-width:0.6;\" x=\"413.163763\" xlink:href=\"#md1e07b7b0e\" y=\"333.36\"/>\n      </g>\n     </g>\n     <g id=\"line2d_54\">\n      <g>\n       <use style=\"stroke:#000000;stroke-width:0.6;\" x=\"413.163763\" xlink:href=\"#m07c670c8c0\" y=\"7.2\"/>\n      </g>\n     </g>\n    </g>\n    <g id=\"xtick_19\">\n     <g id=\"line2d_55\">\n      <path clip-path=\"url(#p57df2a395d)\" d=\"M 428.578222 333.36 \nL 428.578222 7.2 \n\" style=\"fill:none;stroke:#b0b0b0;stroke-dasharray:2.96,1.28;stroke-dashoffset:0;stroke-opacity:0.2;stroke-width:0.8;\"/>\n     </g>\n     <g id=\"line2d_56\">\n      <g>\n       <use style=\"stroke:#000000;stroke-width:0.6;\" x=\"428.578222\" xlink:href=\"#md1e07b7b0e\" y=\"333.36\"/>\n      </g>\n     </g>\n     <g id=\"line2d_57\">\n      <g>\n       <use style=\"stroke:#000000;stroke-width:0.6;\" x=\"428.578222\" xlink:href=\"#m07c670c8c0\" y=\"7.2\"/>\n      </g>\n     </g>\n    </g>\n    <g id=\"xtick_20\">\n     <g id=\"line2d_58\">\n      <path clip-path=\"url(#p57df2a395d)\" d=\"M 441.610961 333.36 \nL 441.610961 7.2 \n\" style=\"fill:none;stroke:#b0b0b0;stroke-dasharray:2.96,1.28;stroke-dashoffset:0;stroke-opacity:0.2;stroke-width:0.8;\"/>\n     </g>\n     <g id=\"line2d_59\">\n      <g>\n       <use style=\"stroke:#000000;stroke-width:0.6;\" x=\"441.610961\" xlink:href=\"#md1e07b7b0e\" y=\"333.36\"/>\n      </g>\n     </g>\n     <g id=\"line2d_60\">\n      <g>\n       <use style=\"stroke:#000000;stroke-width:0.6;\" x=\"441.610961\" xlink:href=\"#m07c670c8c0\" y=\"7.2\"/>\n      </g>\n     </g>\n    </g>\n    <g id=\"xtick_21\">\n     <g id=\"line2d_61\">\n      <path clip-path=\"url(#p57df2a395d)\" d=\"M 452.900434 333.36 \nL 452.900434 7.2 \n\" style=\"fill:none;stroke:#b0b0b0;stroke-dasharray:2.96,1.28;stroke-dashoffset:0;stroke-opacity:0.2;stroke-width:0.8;\"/>\n     </g>\n     <g id=\"line2d_62\">\n      <g>\n       <use style=\"stroke:#000000;stroke-width:0.6;\" x=\"452.900434\" xlink:href=\"#md1e07b7b0e\" y=\"333.36\"/>\n      </g>\n     </g>\n     <g id=\"line2d_63\">\n      <g>\n       <use style=\"stroke:#000000;stroke-width:0.6;\" x=\"452.900434\" xlink:href=\"#m07c670c8c0\" y=\"7.2\"/>\n      </g>\n     </g>\n    </g>\n    <g id=\"xtick_22\">\n     <g id=\"line2d_64\">\n      <path clip-path=\"url(#p57df2a395d)\" d=\"M 462.858454 333.36 \nL 462.858454 7.2 \n\" style=\"fill:none;stroke:#b0b0b0;stroke-dasharray:2.96,1.28;stroke-dashoffset:0;stroke-opacity:0.2;stroke-width:0.8;\"/>\n     </g>\n     <g id=\"line2d_65\">\n      <g>\n       <use style=\"stroke:#000000;stroke-width:0.6;\" x=\"462.858454\" xlink:href=\"#md1e07b7b0e\" y=\"333.36\"/>\n      </g>\n     </g>\n     <g id=\"line2d_66\">\n      <g>\n       <use style=\"stroke:#000000;stroke-width:0.6;\" x=\"462.858454\" xlink:href=\"#m07c670c8c0\" y=\"7.2\"/>\n      </g>\n     </g>\n    </g>\n    <g id=\"xtick_23\">\n     <g id=\"line2d_67\">\n      <path clip-path=\"url(#p57df2a395d)\" d=\"M 530.36865 333.36 \nL 530.36865 7.2 \n\" style=\"fill:none;stroke:#b0b0b0;stroke-dasharray:2.96,1.28;stroke-dashoffset:0;stroke-opacity:0.2;stroke-width:0.8;\"/>\n     </g>\n     <g id=\"line2d_68\">\n      <g>\n       <use style=\"stroke:#000000;stroke-width:0.6;\" x=\"530.36865\" xlink:href=\"#md1e07b7b0e\" y=\"333.36\"/>\n      </g>\n     </g>\n     <g id=\"line2d_69\">\n      <g>\n       <use style=\"stroke:#000000;stroke-width:0.6;\" x=\"530.36865\" xlink:href=\"#m07c670c8c0\" y=\"7.2\"/>\n      </g>\n     </g>\n    </g>\n    <g id=\"xtick_24\">\n     <g id=\"line2d_70\">\n      <path clip-path=\"url(#p57df2a395d)\" d=\"M 564.648882 333.36 \nL 564.648882 7.2 \n\" style=\"fill:none;stroke:#b0b0b0;stroke-dasharray:2.96,1.28;stroke-dashoffset:0;stroke-opacity:0.2;stroke-width:0.8;\"/>\n     </g>\n     <g id=\"line2d_71\">\n      <g>\n       <use style=\"stroke:#000000;stroke-width:0.6;\" x=\"564.648882\" xlink:href=\"#md1e07b7b0e\" y=\"333.36\"/>\n      </g>\n     </g>\n     <g id=\"line2d_72\">\n      <g>\n       <use style=\"stroke:#000000;stroke-width:0.6;\" x=\"564.648882\" xlink:href=\"#m07c670c8c0\" y=\"7.2\"/>\n      </g>\n     </g>\n    </g>\n    <g id=\"xtick_25\">\n     <g id=\"line2d_73\">\n      <path clip-path=\"url(#p57df2a395d)\" d=\"M 588.971094 333.36 \nL 588.971094 7.2 \n\" style=\"fill:none;stroke:#b0b0b0;stroke-dasharray:2.96,1.28;stroke-dashoffset:0;stroke-opacity:0.2;stroke-width:0.8;\"/>\n     </g>\n     <g id=\"line2d_74\">\n      <g>\n       <use style=\"stroke:#000000;stroke-width:0.6;\" x=\"588.971094\" xlink:href=\"#md1e07b7b0e\" y=\"333.36\"/>\n      </g>\n     </g>\n     <g id=\"line2d_75\">\n      <g>\n       <use style=\"stroke:#000000;stroke-width:0.6;\" x=\"588.971094\" xlink:href=\"#m07c670c8c0\" y=\"7.2\"/>\n      </g>\n     </g>\n    </g>\n    <g id=\"xtick_26\">\n     <g id=\"line2d_76\">\n      <path clip-path=\"url(#p57df2a395d)\" d=\"M 607.836867 333.36 \nL 607.836867 7.2 \n\" style=\"fill:none;stroke:#b0b0b0;stroke-dasharray:2.96,1.28;stroke-dashoffset:0;stroke-opacity:0.2;stroke-width:0.8;\"/>\n     </g>\n     <g id=\"line2d_77\">\n      <g>\n       <use style=\"stroke:#000000;stroke-width:0.6;\" x=\"607.836867\" xlink:href=\"#md1e07b7b0e\" y=\"333.36\"/>\n      </g>\n     </g>\n     <g id=\"line2d_78\">\n      <g>\n       <use style=\"stroke:#000000;stroke-width:0.6;\" x=\"607.836867\" xlink:href=\"#m07c670c8c0\" y=\"7.2\"/>\n      </g>\n     </g>\n    </g>\n    <g id=\"xtick_27\">\n     <g id=\"line2d_79\">\n      <path clip-path=\"url(#p57df2a395d)\" d=\"M 623.251325 333.36 \nL 623.251325 7.2 \n\" style=\"fill:none;stroke:#b0b0b0;stroke-dasharray:2.96,1.28;stroke-dashoffset:0;stroke-opacity:0.2;stroke-width:0.8;\"/>\n     </g>\n     <g id=\"line2d_80\">\n      <g>\n       <use style=\"stroke:#000000;stroke-width:0.6;\" x=\"623.251325\" xlink:href=\"#md1e07b7b0e\" y=\"333.36\"/>\n      </g>\n     </g>\n     <g id=\"line2d_81\">\n      <g>\n       <use style=\"stroke:#000000;stroke-width:0.6;\" x=\"623.251325\" xlink:href=\"#m07c670c8c0\" y=\"7.2\"/>\n      </g>\n     </g>\n    </g>\n    <g id=\"xtick_28\">\n     <g id=\"line2d_82\">\n      <path clip-path=\"url(#p57df2a395d)\" d=\"M 636.284065 333.36 \nL 636.284065 7.2 \n\" style=\"fill:none;stroke:#b0b0b0;stroke-dasharray:2.96,1.28;stroke-dashoffset:0;stroke-opacity:0.2;stroke-width:0.8;\"/>\n     </g>\n     <g id=\"line2d_83\">\n      <g>\n       <use style=\"stroke:#000000;stroke-width:0.6;\" x=\"636.284065\" xlink:href=\"#md1e07b7b0e\" y=\"333.36\"/>\n      </g>\n     </g>\n     <g id=\"line2d_84\">\n      <g>\n       <use style=\"stroke:#000000;stroke-width:0.6;\" x=\"636.284065\" xlink:href=\"#m07c670c8c0\" y=\"7.2\"/>\n      </g>\n     </g>\n    </g>\n    <g id=\"xtick_29\">\n     <g id=\"line2d_85\">\n      <path clip-path=\"url(#p57df2a395d)\" d=\"M 647.573537 333.36 \nL 647.573537 7.2 \n\" style=\"fill:none;stroke:#b0b0b0;stroke-dasharray:2.96,1.28;stroke-dashoffset:0;stroke-opacity:0.2;stroke-width:0.8;\"/>\n     </g>\n     <g id=\"line2d_86\">\n      <g>\n       <use style=\"stroke:#000000;stroke-width:0.6;\" x=\"647.573537\" xlink:href=\"#md1e07b7b0e\" y=\"333.36\"/>\n      </g>\n     </g>\n     <g id=\"line2d_87\">\n      <g>\n       <use style=\"stroke:#000000;stroke-width:0.6;\" x=\"647.573537\" xlink:href=\"#m07c670c8c0\" y=\"7.2\"/>\n      </g>\n     </g>\n    </g>\n    <g id=\"xtick_30\">\n     <g id=\"line2d_88\">\n      <path clip-path=\"url(#p57df2a395d)\" d=\"M 657.531557 333.36 \nL 657.531557 7.2 \n\" style=\"fill:none;stroke:#b0b0b0;stroke-dasharray:2.96,1.28;stroke-dashoffset:0;stroke-opacity:0.2;stroke-width:0.8;\"/>\n     </g>\n     <g id=\"line2d_89\">\n      <g>\n       <use style=\"stroke:#000000;stroke-width:0.6;\" x=\"657.531557\" xlink:href=\"#md1e07b7b0e\" y=\"333.36\"/>\n      </g>\n     </g>\n     <g id=\"line2d_90\">\n      <g>\n       <use style=\"stroke:#000000;stroke-width:0.6;\" x=\"657.531557\" xlink:href=\"#m07c670c8c0\" y=\"7.2\"/>\n      </g>\n     </g>\n    </g>\n    <g id=\"text_5\">\n     <!-- $\\ell$ -->\n     <g transform=\"translate(356.8 375.885312)scale(0.22 -0.22)\">\n      <defs>\n       <path d=\"M 950 838 \nQ 1078 213 1350 213 \nQ 1531 213 1766 572 \nL 2181 572 \nQ 1994 253 1775 88 \nQ 1538 -91 1319 -91 \nQ 831 -91 634 344 \nL 400 0 \nL -88 0 \nQ 250 459 500 888 \nQ 469 1131 469 1397 \nQ 469 1872 566 2347 \nQ 931 4131 1256 4497 \nQ 1481 4750 1866 4750 \nQ 2256 4750 2256 4209 \nQ 2253 3966 2197 3675 \nQ 1972 2484 950 838 \nz\nM 947 1656 \nQ 1531 2744 1709 3613 \nQ 1803 4072 1803 4191 \nQ 1803 4406 1725 4406 \nQ 1384 4134 1081 2516 \nQ 997 2063 947 1656 \nz\n\" id=\"DejaVuSans-Oblique-2113\" transform=\"scale(0.015625)\"/>\n      </defs>\n      <use transform=\"translate(0 0.78125)\" xlink:href=\"#DejaVuSans-Oblique-2113\"/>\n     </g>\n    </g>\n   </g>\n   <g id=\"matplotlib.axis_2\">\n    <g id=\"ytick_1\">\n     <g id=\"line2d_91\">\n      <path clip-path=\"url(#p57df2a395d)\" d=\"M 54.52 318.589187 \nL 668.32 318.589187 \n\" style=\"fill:none;stroke:#b0b0b0;stroke-dasharray:2.96,1.28;stroke-dashoffset:0;stroke-opacity:0.2;stroke-width:0.8;\"/>\n     </g>\n     <g id=\"line2d_92\">\n      <defs>\n       <path d=\"M 0 0 \nL 5 0 \n\" id=\"m81f4a0bd2b\" style=\"stroke:#000000;stroke-width:0.8;\"/>\n      </defs>\n      <g>\n       <use style=\"stroke:#000000;stroke-width:0.8;\" x=\"54.52\" xlink:href=\"#m81f4a0bd2b\" y=\"318.589187\"/>\n      </g>\n     </g>\n     <g id=\"line2d_93\">\n      <defs>\n       <path d=\"M 0 0 \nL -5 0 \n\" id=\"m95c843d05e\" style=\"stroke:#000000;stroke-width:0.8;\"/>\n      </defs>\n      <g>\n       <use style=\"stroke:#000000;stroke-width:0.8;\" x=\"668.32\" xlink:href=\"#m95c843d05e\" y=\"318.589187\"/>\n      </g>\n     </g>\n     <g id=\"text_6\">\n      <!-- 0 -->\n      <g transform=\"translate(42.02 323.711453)scale(0.15 -0.15)\">\n       <use xlink:href=\"#STIXGeneral-Regular-30\"/>\n      </g>\n     </g>\n    </g>\n    <g id=\"ytick_2\">\n     <g id=\"line2d_94\">\n      <path clip-path=\"url(#p57df2a395d)\" d=\"M 54.52 277.493358 \nL 668.32 277.493358 \n\" style=\"fill:none;stroke:#b0b0b0;stroke-dasharray:2.96,1.28;stroke-dashoffset:0;stroke-opacity:0.2;stroke-width:0.8;\"/>\n     </g>\n     <g id=\"line2d_95\">\n      <g>\n       <use style=\"stroke:#000000;stroke-width:0.8;\" x=\"54.52\" xlink:href=\"#m81f4a0bd2b\" y=\"277.493358\"/>\n      </g>\n     </g>\n     <g id=\"line2d_96\">\n      <g>\n       <use style=\"stroke:#000000;stroke-width:0.8;\" x=\"668.32\" xlink:href=\"#m95c843d05e\" y=\"277.493358\"/>\n      </g>\n     </g>\n     <g id=\"text_7\">\n      <!-- 2 -->\n      <g transform=\"translate(42.02 282.615623)scale(0.15 -0.15)\">\n       <use xlink:href=\"#STIXGeneral-Regular-32\"/>\n      </g>\n     </g>\n    </g>\n    <g id=\"ytick_3\">\n     <g id=\"line2d_97\">\n      <path clip-path=\"url(#p57df2a395d)\" d=\"M 54.52 236.397529 \nL 668.32 236.397529 \n\" style=\"fill:none;stroke:#b0b0b0;stroke-dasharray:2.96,1.28;stroke-dashoffset:0;stroke-opacity:0.2;stroke-width:0.8;\"/>\n     </g>\n     <g id=\"line2d_98\">\n      <g>\n       <use style=\"stroke:#000000;stroke-width:0.8;\" x=\"54.52\" xlink:href=\"#m81f4a0bd2b\" y=\"236.397529\"/>\n      </g>\n     </g>\n     <g id=\"line2d_99\">\n      <g>\n       <use style=\"stroke:#000000;stroke-width:0.8;\" x=\"668.32\" xlink:href=\"#m95c843d05e\" y=\"236.397529\"/>\n      </g>\n     </g>\n     <g id=\"text_8\">\n      <!-- 4 -->\n      <g transform=\"translate(42.02 241.519794)scale(0.15 -0.15)\">\n       <use xlink:href=\"#STIXGeneral-Regular-34\"/>\n      </g>\n     </g>\n    </g>\n    <g id=\"ytick_4\">\n     <g id=\"line2d_100\">\n      <path clip-path=\"url(#p57df2a395d)\" d=\"M 54.52 195.301699 \nL 668.32 195.301699 \n\" style=\"fill:none;stroke:#b0b0b0;stroke-dasharray:2.96,1.28;stroke-dashoffset:0;stroke-opacity:0.2;stroke-width:0.8;\"/>\n     </g>\n     <g id=\"line2d_101\">\n      <g>\n       <use style=\"stroke:#000000;stroke-width:0.8;\" x=\"54.52\" xlink:href=\"#m81f4a0bd2b\" y=\"195.301699\"/>\n      </g>\n     </g>\n     <g id=\"line2d_102\">\n      <g>\n       <use style=\"stroke:#000000;stroke-width:0.8;\" x=\"668.32\" xlink:href=\"#m95c843d05e\" y=\"195.301699\"/>\n      </g>\n     </g>\n     <g id=\"text_9\">\n      <!-- 6 -->\n      <g transform=\"translate(42.02 200.423965)scale(0.15 -0.15)\">\n       <defs>\n        <path d=\"M 2854 4378 \nL 2867 4275 \nQ 2112 4154 1606 3664 \nQ 1101 3174 973 2451 \nQ 1344 2739 1786 2739 \nQ 2349 2739 2672 2380 \nQ 2995 2022 2995 1402 \nQ 2995 774 2669 378 \nQ 2291 -90 1651 -90 \nQ 870 -90 518 557 \nQ 218 1107 218 1786 \nQ 218 2835 915 3552 \nQ 1312 3962 1731 4131 \nQ 2150 4301 2854 4378 \nz\nM 2419 1203 \nQ 2419 2445 1555 2445 \nQ 1235 2445 1024 2275 \nQ 813 2106 813 1702 \nQ 813 954 1046 522 \nQ 1280 90 1722 90 \nQ 2061 90 2240 394 \nQ 2419 698 2419 1203 \nz\n\" id=\"STIXGeneral-Regular-36\" transform=\"scale(0.015625)\"/>\n       </defs>\n       <use xlink:href=\"#STIXGeneral-Regular-36\"/>\n      </g>\n     </g>\n    </g>\n    <g id=\"ytick_5\">\n     <g id=\"line2d_103\">\n      <path clip-path=\"url(#p57df2a395d)\" d=\"M 54.52 154.20587 \nL 668.32 154.20587 \n\" style=\"fill:none;stroke:#b0b0b0;stroke-dasharray:2.96,1.28;stroke-dashoffset:0;stroke-opacity:0.2;stroke-width:0.8;\"/>\n     </g>\n     <g id=\"line2d_104\">\n      <g>\n       <use style=\"stroke:#000000;stroke-width:0.8;\" x=\"54.52\" xlink:href=\"#m81f4a0bd2b\" y=\"154.20587\"/>\n      </g>\n     </g>\n     <g id=\"line2d_105\">\n      <g>\n       <use style=\"stroke:#000000;stroke-width:0.8;\" x=\"668.32\" xlink:href=\"#m95c843d05e\" y=\"154.20587\"/>\n      </g>\n     </g>\n     <g id=\"text_10\">\n      <!-- 8 -->\n      <g transform=\"translate(42.02 159.328136)scale(0.15 -0.15)\">\n       <defs>\n        <path d=\"M 2848 992 \nQ 2848 499 2505 204 \nQ 2163 -90 1587 -90 \nQ 1050 -90 704 204 \nQ 358 499 358 954 \nQ 358 1293 524 1533 \nQ 691 1773 1190 2125 \nQ 710 2522 553 2765 \nQ 397 3008 397 3328 \nQ 397 3782 745 4054 \nQ 1094 4326 1638 4326 \nQ 2106 4326 2410 4060 \nQ 2714 3795 2714 3411 \nQ 2714 3059 2531 2848 \nQ 2349 2637 1856 2374 \nQ 2432 1990 2640 1689 \nQ 2848 1389 2848 992 \nz\nM 2272 3411 \nQ 2272 3744 2086 3945 \nQ 1901 4147 1574 4147 \nQ 1248 4147 1059 3977 \nQ 870 3808 870 3513 \nQ 870 3219 1059 2979 \nQ 1248 2739 1670 2490 \nQ 1997 2682 2134 2896 \nQ 2272 3110 2272 3411 \nz\nM 1734 1741 \nL 1357 1997 \nQ 1075 1766 960 1545 \nQ 845 1325 845 1011 \nQ 845 576 1065 333 \nQ 1286 90 1658 90 \nQ 1971 90 2166 285 \nQ 2362 480 2362 794 \nQ 2362 1082 2214 1299 \nQ 2067 1517 1734 1741 \nz\n\" id=\"STIXGeneral-Regular-38\" transform=\"scale(0.015625)\"/>\n       </defs>\n       <use xlink:href=\"#STIXGeneral-Regular-38\"/>\n      </g>\n     </g>\n    </g>\n    <g id=\"ytick_6\">\n     <g id=\"line2d_106\">\n      <path clip-path=\"url(#p57df2a395d)\" d=\"M 54.52 113.110041 \nL 668.32 113.110041 \n\" style=\"fill:none;stroke:#b0b0b0;stroke-dasharray:2.96,1.28;stroke-dashoffset:0;stroke-opacity:0.2;stroke-width:0.8;\"/>\n     </g>\n     <g id=\"line2d_107\">\n      <g>\n       <use style=\"stroke:#000000;stroke-width:0.8;\" x=\"54.52\" xlink:href=\"#m81f4a0bd2b\" y=\"113.110041\"/>\n      </g>\n     </g>\n     <g id=\"line2d_108\">\n      <g>\n       <use style=\"stroke:#000000;stroke-width:0.8;\" x=\"668.32\" xlink:href=\"#m95c843d05e\" y=\"113.110041\"/>\n      </g>\n     </g>\n     <g id=\"text_11\">\n      <!-- 10 -->\n      <g transform=\"translate(34.52 118.232307)scale(0.15 -0.15)\">\n       <use xlink:href=\"#STIXGeneral-Regular-31\"/>\n       <use x=\"49.999985\" xlink:href=\"#STIXGeneral-Regular-30\"/>\n      </g>\n     </g>\n    </g>\n    <g id=\"ytick_7\">\n     <g id=\"line2d_109\">\n      <path clip-path=\"url(#p57df2a395d)\" d=\"M 54.52 72.014212 \nL 668.32 72.014212 \n\" style=\"fill:none;stroke:#b0b0b0;stroke-dasharray:2.96,1.28;stroke-dashoffset:0;stroke-opacity:0.2;stroke-width:0.8;\"/>\n     </g>\n     <g id=\"line2d_110\">\n      <g>\n       <use style=\"stroke:#000000;stroke-width:0.8;\" x=\"54.52\" xlink:href=\"#m81f4a0bd2b\" y=\"72.014212\"/>\n      </g>\n     </g>\n     <g id=\"line2d_111\">\n      <g>\n       <use style=\"stroke:#000000;stroke-width:0.8;\" x=\"668.32\" xlink:href=\"#m95c843d05e\" y=\"72.014212\"/>\n      </g>\n     </g>\n     <g id=\"text_12\">\n      <!-- 12 -->\n      <g transform=\"translate(34.52 77.136477)scale(0.15 -0.15)\">\n       <use xlink:href=\"#STIXGeneral-Regular-31\"/>\n       <use x=\"49.999985\" xlink:href=\"#STIXGeneral-Regular-32\"/>\n      </g>\n     </g>\n    </g>\n    <g id=\"ytick_8\">\n     <g id=\"line2d_112\">\n      <path clip-path=\"url(#p57df2a395d)\" d=\"M 54.52 30.918383 \nL 668.32 30.918383 \n\" style=\"fill:none;stroke:#b0b0b0;stroke-dasharray:2.96,1.28;stroke-dashoffset:0;stroke-opacity:0.2;stroke-width:0.8;\"/>\n     </g>\n     <g id=\"line2d_113\">\n      <g>\n       <use style=\"stroke:#000000;stroke-width:0.8;\" x=\"54.52\" xlink:href=\"#m81f4a0bd2b\" y=\"30.918383\"/>\n      </g>\n     </g>\n     <g id=\"line2d_114\">\n      <g>\n       <use style=\"stroke:#000000;stroke-width:0.8;\" x=\"668.32\" xlink:href=\"#m95c843d05e\" y=\"30.918383\"/>\n      </g>\n     </g>\n     <g id=\"text_13\">\n      <!-- 14 -->\n      <g transform=\"translate(34.52 36.040648)scale(0.15 -0.15)\">\n       <use xlink:href=\"#STIXGeneral-Regular-31\"/>\n       <use x=\"49.999985\" xlink:href=\"#STIXGeneral-Regular-34\"/>\n      </g>\n     </g>\n    </g>\n    <g id=\"ytick_9\">\n     <g id=\"line2d_115\">\n      <path clip-path=\"url(#p57df2a395d)\" d=\"M 54.52 328.863144 \nL 668.32 328.863144 \n\" style=\"fill:none;stroke:#b0b0b0;stroke-dasharray:2.96,1.28;stroke-dashoffset:0;stroke-opacity:0.2;stroke-width:0.8;\"/>\n     </g>\n     <g id=\"line2d_116\">\n      <defs>\n       <path d=\"M 0 0 \nL 5 0 \n\" id=\"mf625bc94e4\" style=\"stroke:#000000;stroke-width:0.6;\"/>\n      </defs>\n      <g>\n       <use style=\"stroke:#000000;stroke-width:0.6;\" x=\"54.52\" xlink:href=\"#mf625bc94e4\" y=\"328.863144\"/>\n      </g>\n     </g>\n     <g id=\"line2d_117\">\n      <defs>\n       <path d=\"M 0 0 \nL -5 0 \n\" id=\"m65b10e5612\" style=\"stroke:#000000;stroke-width:0.6;\"/>\n      </defs>\n      <g>\n       <use style=\"stroke:#000000;stroke-width:0.6;\" x=\"668.32\" xlink:href=\"#m65b10e5612\" y=\"328.863144\"/>\n      </g>\n     </g>\n    </g>\n    <g id=\"ytick_10\">\n     <g id=\"line2d_118\">\n      <path clip-path=\"url(#p57df2a395d)\" d=\"M 54.52 308.31523 \nL 668.32 308.31523 \n\" style=\"fill:none;stroke:#b0b0b0;stroke-dasharray:2.96,1.28;stroke-dashoffset:0;stroke-opacity:0.2;stroke-width:0.8;\"/>\n     </g>\n     <g id=\"line2d_119\">\n      <g>\n       <use style=\"stroke:#000000;stroke-width:0.6;\" x=\"54.52\" xlink:href=\"#mf625bc94e4\" y=\"308.31523\"/>\n      </g>\n     </g>\n     <g id=\"line2d_120\">\n      <g>\n       <use style=\"stroke:#000000;stroke-width:0.6;\" x=\"668.32\" xlink:href=\"#m65b10e5612\" y=\"308.31523\"/>\n      </g>\n     </g>\n    </g>\n    <g id=\"ytick_11\">\n     <g id=\"line2d_121\">\n      <path clip-path=\"url(#p57df2a395d)\" d=\"M 54.52 298.041272 \nL 668.32 298.041272 \n\" style=\"fill:none;stroke:#b0b0b0;stroke-dasharray:2.96,1.28;stroke-dashoffset:0;stroke-opacity:0.2;stroke-width:0.8;\"/>\n     </g>\n     <g id=\"line2d_122\">\n      <g>\n       <use style=\"stroke:#000000;stroke-width:0.6;\" x=\"54.52\" xlink:href=\"#mf625bc94e4\" y=\"298.041272\"/>\n      </g>\n     </g>\n     <g id=\"line2d_123\">\n      <g>\n       <use style=\"stroke:#000000;stroke-width:0.6;\" x=\"668.32\" xlink:href=\"#m65b10e5612\" y=\"298.041272\"/>\n      </g>\n     </g>\n    </g>\n    <g id=\"ytick_12\">\n     <g id=\"line2d_124\">\n      <path clip-path=\"url(#p57df2a395d)\" d=\"M 54.52 287.767315 \nL 668.32 287.767315 \n\" style=\"fill:none;stroke:#b0b0b0;stroke-dasharray:2.96,1.28;stroke-dashoffset:0;stroke-opacity:0.2;stroke-width:0.8;\"/>\n     </g>\n     <g id=\"line2d_125\">\n      <g>\n       <use style=\"stroke:#000000;stroke-width:0.6;\" x=\"54.52\" xlink:href=\"#mf625bc94e4\" y=\"287.767315\"/>\n      </g>\n     </g>\n     <g id=\"line2d_126\">\n      <g>\n       <use style=\"stroke:#000000;stroke-width:0.6;\" x=\"668.32\" xlink:href=\"#m65b10e5612\" y=\"287.767315\"/>\n      </g>\n     </g>\n    </g>\n    <g id=\"ytick_13\">\n     <g id=\"line2d_127\">\n      <path clip-path=\"url(#p57df2a395d)\" d=\"M 54.52 267.2194 \nL 668.32 267.2194 \n\" style=\"fill:none;stroke:#b0b0b0;stroke-dasharray:2.96,1.28;stroke-dashoffset:0;stroke-opacity:0.2;stroke-width:0.8;\"/>\n     </g>\n     <g id=\"line2d_128\">\n      <g>\n       <use style=\"stroke:#000000;stroke-width:0.6;\" x=\"54.52\" xlink:href=\"#mf625bc94e4\" y=\"267.2194\"/>\n      </g>\n     </g>\n     <g id=\"line2d_129\">\n      <g>\n       <use style=\"stroke:#000000;stroke-width:0.6;\" x=\"668.32\" xlink:href=\"#m65b10e5612\" y=\"267.2194\"/>\n      </g>\n     </g>\n    </g>\n    <g id=\"ytick_14\">\n     <g id=\"line2d_130\">\n      <path clip-path=\"url(#p57df2a395d)\" d=\"M 54.52 256.945443 \nL 668.32 256.945443 \n\" style=\"fill:none;stroke:#b0b0b0;stroke-dasharray:2.96,1.28;stroke-dashoffset:0;stroke-opacity:0.2;stroke-width:0.8;\"/>\n     </g>\n     <g id=\"line2d_131\">\n      <g>\n       <use style=\"stroke:#000000;stroke-width:0.6;\" x=\"54.52\" xlink:href=\"#mf625bc94e4\" y=\"256.945443\"/>\n      </g>\n     </g>\n     <g id=\"line2d_132\">\n      <g>\n       <use style=\"stroke:#000000;stroke-width:0.6;\" x=\"668.32\" xlink:href=\"#m65b10e5612\" y=\"256.945443\"/>\n      </g>\n     </g>\n    </g>\n    <g id=\"ytick_15\">\n     <g id=\"line2d_133\">\n      <path clip-path=\"url(#p57df2a395d)\" d=\"M 54.52 246.671486 \nL 668.32 246.671486 \n\" style=\"fill:none;stroke:#b0b0b0;stroke-dasharray:2.96,1.28;stroke-dashoffset:0;stroke-opacity:0.2;stroke-width:0.8;\"/>\n     </g>\n     <g id=\"line2d_134\">\n      <g>\n       <use style=\"stroke:#000000;stroke-width:0.6;\" x=\"54.52\" xlink:href=\"#mf625bc94e4\" y=\"246.671486\"/>\n      </g>\n     </g>\n     <g id=\"line2d_135\">\n      <g>\n       <use style=\"stroke:#000000;stroke-width:0.6;\" x=\"668.32\" xlink:href=\"#m65b10e5612\" y=\"246.671486\"/>\n      </g>\n     </g>\n    </g>\n    <g id=\"ytick_16\">\n     <g id=\"line2d_136\">\n      <path clip-path=\"url(#p57df2a395d)\" d=\"M 54.52 226.123571 \nL 668.32 226.123571 \n\" style=\"fill:none;stroke:#b0b0b0;stroke-dasharray:2.96,1.28;stroke-dashoffset:0;stroke-opacity:0.2;stroke-width:0.8;\"/>\n     </g>\n     <g id=\"line2d_137\">\n      <g>\n       <use style=\"stroke:#000000;stroke-width:0.6;\" x=\"54.52\" xlink:href=\"#mf625bc94e4\" y=\"226.123571\"/>\n      </g>\n     </g>\n     <g id=\"line2d_138\">\n      <g>\n       <use style=\"stroke:#000000;stroke-width:0.6;\" x=\"668.32\" xlink:href=\"#m65b10e5612\" y=\"226.123571\"/>\n      </g>\n     </g>\n    </g>\n    <g id=\"ytick_17\">\n     <g id=\"line2d_139\">\n      <path clip-path=\"url(#p57df2a395d)\" d=\"M 54.52 215.849614 \nL 668.32 215.849614 \n\" style=\"fill:none;stroke:#b0b0b0;stroke-dasharray:2.96,1.28;stroke-dashoffset:0;stroke-opacity:0.2;stroke-width:0.8;\"/>\n     </g>\n     <g id=\"line2d_140\">\n      <g>\n       <use style=\"stroke:#000000;stroke-width:0.6;\" x=\"54.52\" xlink:href=\"#mf625bc94e4\" y=\"215.849614\"/>\n      </g>\n     </g>\n     <g id=\"line2d_141\">\n      <g>\n       <use style=\"stroke:#000000;stroke-width:0.6;\" x=\"668.32\" xlink:href=\"#m65b10e5612\" y=\"215.849614\"/>\n      </g>\n     </g>\n    </g>\n    <g id=\"ytick_18\">\n     <g id=\"line2d_142\">\n      <path clip-path=\"url(#p57df2a395d)\" d=\"M 54.52 205.575657 \nL 668.32 205.575657 \n\" style=\"fill:none;stroke:#b0b0b0;stroke-dasharray:2.96,1.28;stroke-dashoffset:0;stroke-opacity:0.2;stroke-width:0.8;\"/>\n     </g>\n     <g id=\"line2d_143\">\n      <g>\n       <use style=\"stroke:#000000;stroke-width:0.6;\" x=\"54.52\" xlink:href=\"#mf625bc94e4\" y=\"205.575657\"/>\n      </g>\n     </g>\n     <g id=\"line2d_144\">\n      <g>\n       <use style=\"stroke:#000000;stroke-width:0.6;\" x=\"668.32\" xlink:href=\"#m65b10e5612\" y=\"205.575657\"/>\n      </g>\n     </g>\n    </g>\n    <g id=\"ytick_19\">\n     <g id=\"line2d_145\">\n      <path clip-path=\"url(#p57df2a395d)\" d=\"M 54.52 185.027742 \nL 668.32 185.027742 \n\" style=\"fill:none;stroke:#b0b0b0;stroke-dasharray:2.96,1.28;stroke-dashoffset:0;stroke-opacity:0.2;stroke-width:0.8;\"/>\n     </g>\n     <g id=\"line2d_146\">\n      <g>\n       <use style=\"stroke:#000000;stroke-width:0.6;\" x=\"54.52\" xlink:href=\"#mf625bc94e4\" y=\"185.027742\"/>\n      </g>\n     </g>\n     <g id=\"line2d_147\">\n      <g>\n       <use style=\"stroke:#000000;stroke-width:0.6;\" x=\"668.32\" xlink:href=\"#m65b10e5612\" y=\"185.027742\"/>\n      </g>\n     </g>\n    </g>\n    <g id=\"ytick_20\">\n     <g id=\"line2d_148\">\n      <path clip-path=\"url(#p57df2a395d)\" d=\"M 54.52 174.753785 \nL 668.32 174.753785 \n\" style=\"fill:none;stroke:#b0b0b0;stroke-dasharray:2.96,1.28;stroke-dashoffset:0;stroke-opacity:0.2;stroke-width:0.8;\"/>\n     </g>\n     <g id=\"line2d_149\">\n      <g>\n       <use style=\"stroke:#000000;stroke-width:0.6;\" x=\"54.52\" xlink:href=\"#mf625bc94e4\" y=\"174.753785\"/>\n      </g>\n     </g>\n     <g id=\"line2d_150\">\n      <g>\n       <use style=\"stroke:#000000;stroke-width:0.6;\" x=\"668.32\" xlink:href=\"#m65b10e5612\" y=\"174.753785\"/>\n      </g>\n     </g>\n    </g>\n    <g id=\"ytick_21\">\n     <g id=\"line2d_151\">\n      <path clip-path=\"url(#p57df2a395d)\" d=\"M 54.52 164.479827 \nL 668.32 164.479827 \n\" style=\"fill:none;stroke:#b0b0b0;stroke-dasharray:2.96,1.28;stroke-dashoffset:0;stroke-opacity:0.2;stroke-width:0.8;\"/>\n     </g>\n     <g id=\"line2d_152\">\n      <g>\n       <use style=\"stroke:#000000;stroke-width:0.6;\" x=\"54.52\" xlink:href=\"#mf625bc94e4\" y=\"164.479827\"/>\n      </g>\n     </g>\n     <g id=\"line2d_153\">\n      <g>\n       <use style=\"stroke:#000000;stroke-width:0.6;\" x=\"668.32\" xlink:href=\"#m65b10e5612\" y=\"164.479827\"/>\n      </g>\n     </g>\n    </g>\n    <g id=\"ytick_22\">\n     <g id=\"line2d_154\">\n      <path clip-path=\"url(#p57df2a395d)\" d=\"M 54.52 143.931913 \nL 668.32 143.931913 \n\" style=\"fill:none;stroke:#b0b0b0;stroke-dasharray:2.96,1.28;stroke-dashoffset:0;stroke-opacity:0.2;stroke-width:0.8;\"/>\n     </g>\n     <g id=\"line2d_155\">\n      <g>\n       <use style=\"stroke:#000000;stroke-width:0.6;\" x=\"54.52\" xlink:href=\"#mf625bc94e4\" y=\"143.931913\"/>\n      </g>\n     </g>\n     <g id=\"line2d_156\">\n      <g>\n       <use style=\"stroke:#000000;stroke-width:0.6;\" x=\"668.32\" xlink:href=\"#m65b10e5612\" y=\"143.931913\"/>\n      </g>\n     </g>\n    </g>\n    <g id=\"ytick_23\">\n     <g id=\"line2d_157\">\n      <path clip-path=\"url(#p57df2a395d)\" d=\"M 54.52 133.657956 \nL 668.32 133.657956 \n\" style=\"fill:none;stroke:#b0b0b0;stroke-dasharray:2.96,1.28;stroke-dashoffset:0;stroke-opacity:0.2;stroke-width:0.8;\"/>\n     </g>\n     <g id=\"line2d_158\">\n      <g>\n       <use style=\"stroke:#000000;stroke-width:0.6;\" x=\"54.52\" xlink:href=\"#mf625bc94e4\" y=\"133.657956\"/>\n      </g>\n     </g>\n     <g id=\"line2d_159\">\n      <g>\n       <use style=\"stroke:#000000;stroke-width:0.6;\" x=\"668.32\" xlink:href=\"#m65b10e5612\" y=\"133.657956\"/>\n      </g>\n     </g>\n    </g>\n    <g id=\"ytick_24\">\n     <g id=\"line2d_160\">\n      <path clip-path=\"url(#p57df2a395d)\" d=\"M 54.52 123.383998 \nL 668.32 123.383998 \n\" style=\"fill:none;stroke:#b0b0b0;stroke-dasharray:2.96,1.28;stroke-dashoffset:0;stroke-opacity:0.2;stroke-width:0.8;\"/>\n     </g>\n     <g id=\"line2d_161\">\n      <g>\n       <use style=\"stroke:#000000;stroke-width:0.6;\" x=\"54.52\" xlink:href=\"#mf625bc94e4\" y=\"123.383998\"/>\n      </g>\n     </g>\n     <g id=\"line2d_162\">\n      <g>\n       <use style=\"stroke:#000000;stroke-width:0.6;\" x=\"668.32\" xlink:href=\"#m65b10e5612\" y=\"123.383998\"/>\n      </g>\n     </g>\n    </g>\n    <g id=\"ytick_25\">\n     <g id=\"line2d_163\">\n      <path clip-path=\"url(#p57df2a395d)\" d=\"M 54.52 102.836084 \nL 668.32 102.836084 \n\" style=\"fill:none;stroke:#b0b0b0;stroke-dasharray:2.96,1.28;stroke-dashoffset:0;stroke-opacity:0.2;stroke-width:0.8;\"/>\n     </g>\n     <g id=\"line2d_164\">\n      <g>\n       <use style=\"stroke:#000000;stroke-width:0.6;\" x=\"54.52\" xlink:href=\"#mf625bc94e4\" y=\"102.836084\"/>\n      </g>\n     </g>\n     <g id=\"line2d_165\">\n      <g>\n       <use style=\"stroke:#000000;stroke-width:0.6;\" x=\"668.32\" xlink:href=\"#m65b10e5612\" y=\"102.836084\"/>\n      </g>\n     </g>\n    </g>\n    <g id=\"ytick_26\">\n     <g id=\"line2d_166\">\n      <path clip-path=\"url(#p57df2a395d)\" d=\"M 54.52 92.562126 \nL 668.32 92.562126 \n\" style=\"fill:none;stroke:#b0b0b0;stroke-dasharray:2.96,1.28;stroke-dashoffset:0;stroke-opacity:0.2;stroke-width:0.8;\"/>\n     </g>\n     <g id=\"line2d_167\">\n      <g>\n       <use style=\"stroke:#000000;stroke-width:0.6;\" x=\"54.52\" xlink:href=\"#mf625bc94e4\" y=\"92.562126\"/>\n      </g>\n     </g>\n     <g id=\"line2d_168\">\n      <g>\n       <use style=\"stroke:#000000;stroke-width:0.6;\" x=\"668.32\" xlink:href=\"#m65b10e5612\" y=\"92.562126\"/>\n      </g>\n     </g>\n    </g>\n    <g id=\"ytick_27\">\n     <g id=\"line2d_169\">\n      <path clip-path=\"url(#p57df2a395d)\" d=\"M 54.52 82.288169 \nL 668.32 82.288169 \n\" style=\"fill:none;stroke:#b0b0b0;stroke-dasharray:2.96,1.28;stroke-dashoffset:0;stroke-opacity:0.2;stroke-width:0.8;\"/>\n     </g>\n     <g id=\"line2d_170\">\n      <g>\n       <use style=\"stroke:#000000;stroke-width:0.6;\" x=\"54.52\" xlink:href=\"#mf625bc94e4\" y=\"82.288169\"/>\n      </g>\n     </g>\n     <g id=\"line2d_171\">\n      <g>\n       <use style=\"stroke:#000000;stroke-width:0.6;\" x=\"668.32\" xlink:href=\"#m65b10e5612\" y=\"82.288169\"/>\n      </g>\n     </g>\n    </g>\n    <g id=\"ytick_28\">\n     <g id=\"line2d_172\">\n      <path clip-path=\"url(#p57df2a395d)\" d=\"M 54.52 61.740255 \nL 668.32 61.740255 \n\" style=\"fill:none;stroke:#b0b0b0;stroke-dasharray:2.96,1.28;stroke-dashoffset:0;stroke-opacity:0.2;stroke-width:0.8;\"/>\n     </g>\n     <g id=\"line2d_173\">\n      <g>\n       <use style=\"stroke:#000000;stroke-width:0.6;\" x=\"54.52\" xlink:href=\"#mf625bc94e4\" y=\"61.740255\"/>\n      </g>\n     </g>\n     <g id=\"line2d_174\">\n      <g>\n       <use style=\"stroke:#000000;stroke-width:0.6;\" x=\"668.32\" xlink:href=\"#m65b10e5612\" y=\"61.740255\"/>\n      </g>\n     </g>\n    </g>\n    <g id=\"ytick_29\">\n     <g id=\"line2d_175\">\n      <path clip-path=\"url(#p57df2a395d)\" d=\"M 54.52 51.466297 \nL 668.32 51.466297 \n\" style=\"fill:none;stroke:#b0b0b0;stroke-dasharray:2.96,1.28;stroke-dashoffset:0;stroke-opacity:0.2;stroke-width:0.8;\"/>\n     </g>\n     <g id=\"line2d_176\">\n      <g>\n       <use style=\"stroke:#000000;stroke-width:0.6;\" x=\"54.52\" xlink:href=\"#mf625bc94e4\" y=\"51.466297\"/>\n      </g>\n     </g>\n     <g id=\"line2d_177\">\n      <g>\n       <use style=\"stroke:#000000;stroke-width:0.6;\" x=\"668.32\" xlink:href=\"#m65b10e5612\" y=\"51.466297\"/>\n      </g>\n     </g>\n    </g>\n    <g id=\"ytick_30\">\n     <g id=\"line2d_178\">\n      <path clip-path=\"url(#p57df2a395d)\" d=\"M 54.52 41.19234 \nL 668.32 41.19234 \n\" style=\"fill:none;stroke:#b0b0b0;stroke-dasharray:2.96,1.28;stroke-dashoffset:0;stroke-opacity:0.2;stroke-width:0.8;\"/>\n     </g>\n     <g id=\"line2d_179\">\n      <g>\n       <use style=\"stroke:#000000;stroke-width:0.6;\" x=\"54.52\" xlink:href=\"#mf625bc94e4\" y=\"41.19234\"/>\n      </g>\n     </g>\n     <g id=\"line2d_180\">\n      <g>\n       <use style=\"stroke:#000000;stroke-width:0.6;\" x=\"668.32\" xlink:href=\"#m65b10e5612\" y=\"41.19234\"/>\n      </g>\n     </g>\n    </g>\n    <g id=\"ytick_31\">\n     <g id=\"line2d_181\">\n      <path clip-path=\"url(#p57df2a395d)\" d=\"M 54.52 20.644425 \nL 668.32 20.644425 \n\" style=\"fill:none;stroke:#b0b0b0;stroke-dasharray:2.96,1.28;stroke-dashoffset:0;stroke-opacity:0.2;stroke-width:0.8;\"/>\n     </g>\n     <g id=\"line2d_182\">\n      <g>\n       <use style=\"stroke:#000000;stroke-width:0.6;\" x=\"54.52\" xlink:href=\"#mf625bc94e4\" y=\"20.644425\"/>\n      </g>\n     </g>\n     <g id=\"line2d_183\">\n      <g>\n       <use style=\"stroke:#000000;stroke-width:0.6;\" x=\"668.32\" xlink:href=\"#m65b10e5612\" y=\"20.644425\"/>\n      </g>\n     </g>\n    </g>\n    <g id=\"ytick_32\">\n     <g id=\"line2d_184\">\n      <path clip-path=\"url(#p57df2a395d)\" d=\"M 54.52 10.370468 \nL 668.32 10.370468 \n\" style=\"fill:none;stroke:#b0b0b0;stroke-dasharray:2.96,1.28;stroke-dashoffset:0;stroke-opacity:0.2;stroke-width:0.8;\"/>\n     </g>\n     <g id=\"line2d_185\">\n      <g>\n       <use style=\"stroke:#000000;stroke-width:0.6;\" x=\"54.52\" xlink:href=\"#mf625bc94e4\" y=\"10.370468\"/>\n      </g>\n     </g>\n     <g id=\"line2d_186\">\n      <g>\n       <use style=\"stroke:#000000;stroke-width:0.6;\" x=\"668.32\" xlink:href=\"#m65b10e5612\" y=\"10.370468\"/>\n      </g>\n     </g>\n    </g>\n    <g id=\"text_14\">\n     <!-- $\\ell C^{\\nu\\kappa}_{\\ell}$ [Jy/sr] -->\n     <g transform=\"translate(24.14 223.19)rotate(-90)scale(0.22 -0.22)\">\n      <defs>\n       <path d=\"M 4447 4306 \nL 4319 3641 \nQ 4019 3944 3683 4091 \nQ 3347 4238 2956 4238 \nQ 2422 4238 2017 3981 \nQ 1613 3725 1319 3200 \nQ 1131 2863 1032 2486 \nQ 934 2109 934 1728 \nQ 934 1091 1264 756 \nQ 1594 422 2222 422 \nQ 2656 422 3056 561 \nQ 3456 700 3834 978 \nL 3688 231 \nQ 3316 72 2936 -9 \nQ 2556 -91 2175 -91 \nQ 1278 -91 773 396 \nQ 269 884 269 1753 \nQ 269 2309 461 2846 \nQ 653 3384 1013 3828 \nQ 1394 4300 1883 4525 \nQ 2372 4750 3022 4750 \nQ 3422 4750 3780 4639 \nQ 4138 4528 4447 4306 \nz\n\" id=\"DejaVuSans-Oblique-43\" transform=\"scale(0.015625)\"/>\n       <path d=\"M 959 0 \nL 572 3500 \nL 1191 3500 \nL 1522 563 \nQ 1972 950 2391 1488 \nQ 2706 1891 2788 2241 \nQ 2825 2406 2809 2719 \nQ 2794 3091 2544 3500 \nL 3125 3500 \nL 3125 3500 \nQ 3288 3222 3353 2834 \nQ 3416 2478 3369 2234 \nQ 3250 1622 2719 1075 \nQ 2025 363 1572 0 \nL 959 0 \nz\n\" id=\"DejaVuSans-Oblique-3bd\" transform=\"scale(0.015625)\"/>\n       <path d=\"M 938 3500 \nL 1531 3500 \nL 1247 2047 \nL 3041 3500 \nL 3741 3500 \nL 2106 2181 \nL 3275 0 \nL 2572 0 \nL 1628 1806 \nL 1122 1403 \nL 850 0 \nL 256 0 \nL 938 3500 \nz\n\" id=\"DejaVuSans-Oblique-3ba\" transform=\"scale(0.015625)\"/>\n       <path id=\"STIXGeneral-Regular-20\" transform=\"scale(0.015625)\"/>\n       <path d=\"M 1914 -998 \nL 563 -998 \nL 563 4237 \nL 1914 4237 \nL 1914 4077 \nL 1382 4077 \nQ 1216 4077 1133 4006 \nQ 1050 3936 1050 3770 \nL 1050 -493 \nQ 1050 -838 1382 -838 \nL 1914 -838 \nL 1914 -998 \nz\n\" id=\"STIXGeneral-Regular-5b\" transform=\"scale(0.015625)\"/>\n       <path d=\"M 2266 4237 \nL 2266 4115 \nQ 1875 4083 1776 3984 \nQ 1677 3885 1677 3514 \nL 1677 1184 \nQ 1677 -90 608 -90 \nQ 314 -90 138 32 \nQ -38 154 -38 371 \nQ -38 499 54 601 \nQ 147 704 275 704 \nQ 486 704 589 435 \nQ 602 403 621 348 \nQ 640 294 649 265 \nQ 659 237 678 208 \nQ 698 179 723 166 \nQ 749 154 787 154 \nQ 928 154 976 253 \nQ 1024 352 1024 602 \nL 1024 3520 \nQ 1024 3898 928 3990 \nQ 832 4083 429 4115 \nL 429 4237 \nL 2266 4237 \nz\n\" id=\"STIXGeneral-Regular-4a\" transform=\"scale(0.015625)\"/>\n       <path d=\"M 3040 2880 \nL 3040 2784 \nQ 2925 2771 2854 2700 \nQ 2784 2630 2720 2458 \nL 1760 -160 \nQ 1510 -838 1257 -1116 \nQ 1005 -1395 640 -1395 \nQ 435 -1395 313 -1289 \nQ 192 -1184 192 -1024 \nQ 192 -902 272 -816 \nQ 352 -730 467 -730 \nQ 653 -730 800 -813 \nQ 883 -858 966 -858 \nQ 1101 -858 1286 -576 \nQ 1376 -448 1459 -211 \nQ 1542 26 1542 115 \nQ 1542 198 1274 762 \nL 429 2566 \nQ 346 2752 90 2790 \nL 90 2880 \nL 1402 2880 \nL 1402 2784 \nQ 1197 2778 1117 2739 \nQ 1037 2701 1037 2611 \nQ 1037 2541 1120 2349 \nL 1837 749 \nL 2458 2515 \nQ 2483 2573 2483 2630 \nQ 2483 2784 2189 2784 \nL 2189 2880 \nL 3040 2880 \nz\n\" id=\"STIXGeneral-Regular-79\" transform=\"scale(0.015625)\"/>\n       <path d=\"M 1837 4326 \nL 378 -90 \nL -58 -90 \nL 1408 4326 \nL 1837 4326 \nz\n\" id=\"STIXGeneral-Regular-2f\" transform=\"scale(0.015625)\"/>\n       <path d=\"M 998 1926 \nL 1664 1523 \nQ 1984 1331 2105 1164 \nQ 2227 998 2227 736 \nQ 2227 416 1961 176 \nQ 1696 -64 1331 -64 \nQ 1030 -64 864 -6 \nQ 691 51 570 51 \nQ 461 51 416 -26 \nL 333 -26 \nL 333 979 \nL 435 979 \nQ 538 512 730 294 \nQ 922 77 1248 77 \nQ 1485 77 1632 211 \nQ 1779 346 1779 550 \nQ 1779 845 1440 1030 \nL 1094 1222 \nQ 326 1651 326 2150 \nQ 326 2522 566 2730 \nQ 806 2938 1210 2938 \nQ 1491 2938 1638 2867 \nQ 1754 2816 1818 2816 \nQ 1862 2816 1920 2880 \nL 1990 2880 \nL 2022 2010 \nL 1926 2010 \nQ 1818 2445 1654 2621 \nQ 1491 2797 1203 2797 \nQ 986 2797 854 2688 \nQ 723 2579 723 2362 \nQ 723 2253 796 2128 \nQ 870 2003 998 1926 \nz\n\" id=\"STIXGeneral-Regular-73\" transform=\"scale(0.015625)\"/>\n       <path d=\"M 1024 2931 \nL 1024 2342 \nQ 1267 2688 1430 2816 \nQ 1594 2944 1792 2944 \nQ 1958 2944 2051 2854 \nQ 2144 2765 2144 2605 \nQ 2144 2470 2077 2393 \nQ 2010 2317 1894 2317 \nQ 1773 2317 1638 2445 \nQ 1536 2541 1472 2541 \nQ 1338 2541 1181 2355 \nQ 1024 2170 1024 2016 \nL 1024 576 \nQ 1024 301 1133 205 \nQ 1242 109 1568 96 \nL 1568 0 \nL 32 0 \nL 32 96 \nQ 339 154 412 224 \nQ 486 294 486 538 \nL 486 2138 \nQ 486 2349 438 2435 \nQ 390 2522 269 2522 \nQ 166 2522 45 2496 \nL 45 2598 \nQ 448 2726 992 2944 \nL 1024 2931 \nz\n\" id=\"STIXGeneral-Regular-72\" transform=\"scale(0.015625)\"/>\n       <path d=\"M 1568 -998 \nL 218 -998 \nL 218 -838 \nL 781 -838 \nQ 947 -838 1014 -768 \nQ 1082 -698 1082 -544 \nL 1082 3731 \nQ 1082 4077 755 4077 \nL 218 4077 \nL 218 4237 \nL 1568 4237 \nL 1568 -998 \nz\n\" id=\"STIXGeneral-Regular-5d\" transform=\"scale(0.015625)\"/>\n      </defs>\n      <use transform=\"translate(0 0.4375)\" xlink:href=\"#DejaVuSans-Oblique-2113\"/>\n      <use transform=\"translate(41.308594 0.4375)\" xlink:href=\"#DejaVuSans-Oblique-43\"/>\n      <use transform=\"translate(118.333333 38.71875)scale(0.7)\" xlink:href=\"#DejaVuSans-Oblique-3bd\"/>\n      <use transform=\"translate(157.434896 38.71875)scale(0.7)\" xlink:href=\"#DejaVuSans-Oblique-3ba\"/>\n      <use transform=\"translate(111.132812 -26.90625)scale(0.7)\" xlink:href=\"#DejaVuSans-Oblique-2113\"/>\n      <use transform=\"translate(201.424154 0.4375)\" xlink:href=\"#STIXGeneral-Regular-20\"/>\n      <use transform=\"translate(226.424138 0.4375)\" xlink:href=\"#STIXGeneral-Regular-5b\"/>\n      <use transform=\"translate(259.724126 0.4375)\" xlink:href=\"#STIXGeneral-Regular-4a\"/>\n      <use transform=\"translate(297.024114 0.4375)\" xlink:href=\"#STIXGeneral-Regular-79\"/>\n      <use transform=\"translate(347.024099 0.4375)\" xlink:href=\"#STIXGeneral-Regular-2f\"/>\n      <use transform=\"translate(374.824087 0.4375)\" xlink:href=\"#STIXGeneral-Regular-73\"/>\n      <use transform=\"translate(413.72408 0.4375)\" xlink:href=\"#STIXGeneral-Regular-72\"/>\n      <use transform=\"translate(447.024068 0.4375)\" xlink:href=\"#STIXGeneral-Regular-5d\"/>\n     </g>\n    </g>\n   </g>\n   <g id=\"line2d_187\">\n    <path clip-path=\"url(#p57df2a395d)\" d=\"M 82.42 315.503884 \nL 90.874545 315.00861 \nL 99.329091 314.440527 \nL 107.783636 313.790848 \nL 116.238182 313.050629 \nL 124.692727 312.210944 \nL 133.147273 311.262999 \nL 141.601818 310.198053 \nL 150.056364 309.0075 \nL 158.510909 307.683546 \nL 166.965455 306.220603 \nL 175.42 304.616717 \nL 183.874545 302.873824 \nL 192.329091 300.997459 \nL 200.783636 298.994228 \nL 209.238182 296.895145 \nL 217.692727 294.71393 \nL 226.147273 292.488013 \nL 234.601818 290.259324 \nL 243.056364 288.076602 \nL 251.510909 285.993216 \nL 259.965455 284.06387 \nL 268.42 282.339391 \nL 276.874545 280.860817 \nL 285.329091 279.652687 \nL 293.783636 278.717288 \nL 302.238182 278.031767 \nL 310.692727 277.550178 \nL 319.147273 277.202554 \nL 327.601818 276.960382 \nL 336.056364 276.757533 \nL 344.510909 276.622593 \nL 352.965455 276.607593 \nL 361.42 276.852344 \nL 369.874545 277.456514 \nL 378.329091 278.498737 \nL 386.783636 279.939587 \nL 395.238182 281.612077 \nL 403.692727 283.297023 \nL 412.147273 284.823289 \nL 420.601818 286.208532 \nL 429.056364 287.601657 \nL 437.510909 289.143891 \nL 445.965455 290.791491 \nL 454.42 292.340637 \nL 462.874545 293.687775 \nL 471.329091 294.953068 \nL 479.783636 296.181706 \nL 488.238182 297.286857 \nL 496.692727 298.229313 \nL 505.147273 299.0755 \nL 513.601818 299.78099 \nL 522.056364 300.348829 \nL 530.510909 300.786749 \nL 538.965455 301.088479 \nL 547.42 301.260507 \nL 555.874545 301.305335 \nL 564.329091 301.227023 \nL 572.783636 301.031733 \nL 581.238182 300.724654 \nL 589.692727 300.314091 \nL 598.147273 299.806349 \nL 606.601818 299.210114 \nL 615.056364 298.53496 \nL 623.510909 297.789893 \nL 631.965455 296.985747 \nL 640.42 296.134121 \n\" style=\"fill:none;stroke:#1f77b4;stroke-linecap:square;stroke-width:1.5;\"/>\n   </g>\n   <g id=\"line2d_188\">\n    <path clip-path=\"url(#p57df2a395d)\" d=\"M 82.42 318.534545 \nL 90.874545 318.528799 \nL 99.329091 318.522456 \nL 107.783636 318.515431 \nL 116.238182 318.507675 \nL 124.692727 318.499103 \nL 133.147273 318.489631 \nL 141.601818 318.479163 \nL 150.056364 318.467595 \nL 158.510909 318.454812 \nL 166.965455 318.440685 \nL 175.42 318.425075 \nL 183.874545 318.407827 \nL 192.329091 318.388768 \nL 200.783636 318.36771 \nL 209.238182 318.344443 \nL 217.692727 318.31874 \nL 226.147273 318.290345 \nL 234.601818 318.258982 \nL 243.056364 318.224342 \nL 251.510909 318.186089 \nL 259.965455 318.143854 \nL 268.42 318.097231 \nL 276.874545 318.045778 \nL 285.329091 317.989009 \nL 293.783636 317.926405 \nL 302.238182 317.857383 \nL 310.692727 317.781322 \nL 319.147273 317.697556 \nL 327.601818 317.605449 \nL 336.056364 317.504064 \nL 344.510909 317.392657 \nL 352.965455 317.270351 \nL 361.42 317.136216 \nL 369.874545 316.98927 \nL 378.329091 316.828472 \nL 386.783636 316.652726 \nL 395.238182 316.460869 \nL 403.692727 316.251509 \nL 412.147273 316.02365 \nL 420.601818 315.775762 \nL 429.056364 315.506382 \nL 437.510909 315.213971 \nL 445.965455 314.896913 \nL 454.42 314.55353 \nL 462.874545 314.182085 \nL 471.329091 313.791596 \nL 479.783636 313.347916 \nL 488.238182 312.881613 \nL 496.692727 312.380034 \nL 505.147273 311.841607 \nL 513.601818 311.264661 \nL 522.056364 310.647684 \nL 530.510909 309.989401 \nL 538.965455 309.288703 \nL 547.42 308.544904 \nL 555.874545 307.757561 \nL 564.329091 306.926431 \nL 572.783636 306.052457 \nL 581.238182 305.135863 \nL 589.692727 304.179835 \nL 598.147273 303.185553 \nL 606.601818 302.156699 \nL 615.056364 301.09804 \nL 623.510909 300.013997 \nL 631.965455 298.91107 \nL 640.42 297.796814 \n\" style=\"fill:none;stroke:#1f77b4;stroke-dasharray:9.6,2.4,1.5,2.4;stroke-dashoffset:0;stroke-opacity:0.5;stroke-width:1.5;\"/>\n   </g>\n   <g id=\"line2d_189\">\n    <path clip-path=\"url(#p57df2a395d)\" d=\"M 82.42 315.558525 \nL 90.874545 315.068997 \nL 99.329091 314.507258 \nL 107.783636 313.864604 \nL 116.238182 313.132141 \nL 124.692727 312.301028 \nL 133.147273 311.362555 \nL 141.601818 310.308077 \nL 150.056364 309.129092 \nL 158.510909 307.817921 \nL 166.965455 306.369105 \nL 175.42 304.780829 \nL 183.874545 303.055184 \nL 192.329091 301.197878 \nL 200.783636 299.215705 \nL 209.238182 297.139888 \nL 217.692727 294.984377 \nL 226.147273 292.786854 \nL 234.601818 290.589529 \nL 243.056364 288.441447 \nL 251.510909 286.396314 \nL 259.965455 284.509203 \nL 268.42 282.831346 \nL 276.874545 281.404226 \nL 285.329091 280.252865 \nL 293.783636 279.38007 \nL 302.238182 278.763571 \nL 310.692727 278.358042 \nL 319.147273 278.094184 \nL 327.601818 277.94412 \nL 336.056364 277.842655 \nL 344.510909 277.819123 \nL 352.965455 277.926429 \nL 361.42 278.305314 \nL 369.874545 279.056431 \nL 378.329091 280.259451 \nL 386.783636 281.876049 \nL 395.238182 283.740395 \nL 403.692727 285.634701 \nL 412.147273 287.388826 \nL 420.601818 289.021957 \nL 429.056364 290.684462 \nL 437.510909 292.519107 \nL 445.965455 294.483765 \nL 454.42 296.376294 \nL 462.874545 298.094878 \nL 471.329091 299.750659 \nL 479.783636 301.422977 \nL 488.238182 302.994431 \nL 496.692727 304.438466 \nL 505.147273 305.823081 \nL 513.601818 307.105516 \nL 522.056364 308.290332 \nL 530.510909 309.386536 \nL 538.965455 310.388964 \nL 547.42 311.30479 \nL 555.874545 312.136961 \nL 564.329091 312.889779 \nL 572.783636 313.568463 \nL 581.238182 314.177978 \nL 589.692727 314.723444 \nL 598.147273 315.209983 \nL 606.601818 315.642602 \nL 615.056364 316.026106 \nL 623.510909 316.365083 \nL 631.965455 316.663863 \nL 640.42 316.926494 \n\" style=\"fill:none;stroke:#1f77b4;stroke-dasharray:5.55,2.4;stroke-dashoffset:0;stroke-opacity:0.5;stroke-width:1.5;\"/>\n   </g>\n   <g id=\"line2d_190\">\n    <path clip-path=\"url(#p57df2a395d)\" d=\"M 82.42 307.921817 \nL 90.874545 306.252757 \nL 99.329091 304.347568 \nL 107.783636 302.179569 \nL 116.238182 299.722055 \nL 124.692727 296.949214 \nL 133.147273 293.836423 \nL 141.601818 290.359907 \nL 150.056364 286.496859 \nL 158.510909 282.227641 \nL 166.965455 277.540578 \nL 175.42 272.436785 \nL 183.874545 266.930572 \nL 192.329091 261.036503 \nL 200.783636 254.829588 \nL 209.238182 248.343184 \nL 217.692727 241.677588 \nL 226.147273 234.941594 \nL 234.601818 228.268091 \nL 243.056364 221.80654 \nL 251.510909 215.692543 \nL 259.965455 210.149437 \nL 268.42 205.247132 \nL 276.874545 201.109799 \nL 285.329091 197.785479 \nL 293.783636 195.235908 \nL 302.238182 193.431692 \nL 310.692727 192.169458 \nL 319.147273 191.300015 \nL 327.601818 190.681804 \nL 336.056364 190.253604 \nL 344.510909 190.119849 \nL 352.965455 190.480839 \nL 361.42 191.696266 \nL 369.874545 194.03588 \nL 378.329091 197.604037 \nL 386.783636 202.168877 \nL 395.238182 207.205109 \nL 403.692727 212.148239 \nL 412.147273 216.652411 \nL 420.601818 220.875491 \nL 429.056364 225.201744 \nL 437.510909 229.87608 \nL 445.965455 234.677969 \nL 454.42 239.119033 \nL 462.874545 243.038668 \nL 471.329091 246.700018 \nL 479.783636 250.215575 \nL 488.238182 253.303055 \nL 496.692727 255.933718 \nL 505.147273 258.235512 \nL 513.601818 260.107404 \nL 522.056364 261.565162 \nL 530.510909 262.624348 \nL 538.965455 263.277361 \nL 547.42 263.541475 \nL 555.874545 263.428572 \nL 564.329091 262.953456 \nL 572.783636 262.137428 \nL 581.238182 260.999169 \nL 589.692727 259.5672 \nL 598.147273 257.867548 \nL 606.601818 255.921487 \nL 615.056364 253.758367 \nL 623.510909 251.420735 \nL 631.965455 248.938693 \nL 640.42 246.350103 \n\" style=\"fill:none;stroke:#ff7f0e;stroke-linecap:square;stroke-width:1.5;\"/>\n   </g>\n   <g id=\"line2d_191\">\n    <path clip-path=\"url(#p57df2a395d)\" d=\"M 82.42 318.401225 \nL 90.874545 318.381458 \nL 99.329091 318.359612 \nL 107.783636 318.335469 \nL 116.238182 318.308788 \nL 124.692727 318.279301 \nL 133.147273 318.246715 \nL 141.601818 318.210703 \nL 150.056364 318.170906 \nL 158.510909 318.126926 \nL 166.965455 318.078325 \nL 175.42 318.024617 \nL 183.874545 317.965268 \nL 192.329091 317.899686 \nL 200.783636 317.82722 \nL 209.238182 317.747149 \nL 217.692727 317.658681 \nL 226.147273 317.560939 \nL 234.601818 317.45296 \nL 243.056364 317.33368 \nL 251.510909 317.201932 \nL 259.965455 317.056429 \nL 268.42 316.89576 \nL 276.874545 316.718378 \nL 285.329091 316.522587 \nL 293.783636 316.306536 \nL 302.238182 316.068204 \nL 310.692727 315.805398 \nL 319.147273 315.515741 \nL 327.601818 315.196667 \nL 336.056364 314.845424 \nL 344.510909 314.459072 \nL 352.965455 314.032961 \nL 361.42 313.566816 \nL 369.874545 313.055751 \nL 378.329091 312.497855 \nL 386.783636 311.885197 \nL 395.238182 311.217598 \nL 403.692727 310.490322 \nL 412.147273 309.699501 \nL 420.601818 308.841167 \nL 429.056364 307.911207 \nL 437.510909 306.905291 \nL 445.965455 305.818808 \nL 454.42 304.646594 \nL 462.874545 303.384112 \nL 471.329091 302.024979 \nL 479.783636 300.564518 \nL 488.238182 298.998152 \nL 496.692727 297.319432 \nL 505.147273 295.523618 \nL 513.601818 293.607681 \nL 522.056364 291.566618 \nL 530.510909 289.400571 \nL 538.965455 287.106321 \nL 547.42 284.683455 \nL 555.874545 282.132686 \nL 564.329091 279.455224 \nL 572.783636 276.656593 \nL 581.238182 273.740153 \nL 589.692727 270.718871 \nL 598.147273 267.603332 \nL 606.601818 264.399816 \nL 615.056364 261.123311 \nL 623.510909 257.802723 \nL 631.965455 254.455316 \nL 640.42 251.106983 \n\" style=\"fill:none;stroke:#ff7f0e;stroke-dasharray:9.6,2.4,1.5,2.4;stroke-dashoffset:0;stroke-opacity:0.5;stroke-width:1.5;\"/>\n   </g>\n   <g id=\"line2d_192\">\n    <path clip-path=\"url(#p57df2a395d)\" d=\"M 82.42 308.10978 \nL 90.874545 306.460486 \nL 99.329091 304.577144 \nL 107.783636 302.433287 \nL 116.238182 300.002454 \nL 124.692727 297.2591 \nL 133.147273 294.178895 \nL 141.601818 290.738391 \nL 150.056364 286.91514 \nL 158.510909 282.689902 \nL 166.965455 278.05144 \nL 175.42 273.001356 \nL 183.874545 267.554491 \nL 192.329091 261.726004 \nL 200.783636 255.591555 \nL 209.238182 249.185222 \nL 217.692727 242.608094 \nL 226.147273 235.969842 \nL 234.601818 229.404318 \nL 243.056364 223.062046 \nL 251.510909 217.079798 \nL 259.965455 211.682195 \nL 268.42 206.940558 \nL 276.874545 202.980607 \nL 285.329091 199.852079 \nL 293.783636 197.518559 \nL 302.238182 195.952675 \nL 310.692727 194.953247 \nL 319.147273 194.373462 \nL 327.601818 194.074324 \nL 336.056364 193.997367 \nL 344.510909 194.249964 \nL 352.965455 195.037065 \nL 361.42 196.718637 \nL 369.874545 199.569316 \nL 378.329091 203.695368 \nL 386.783636 208.872867 \nL 395.238182 214.576698 \nL 403.692727 220.247104 \nL 412.147273 225.542097 \nL 420.601818 230.623511 \nL 429.056364 235.879724 \nL 437.510909 241.559976 \nL 445.965455 247.448347 \nL 454.42 253.061626 \nL 462.874545 258.243743 \nL 471.329091 263.264226 \nL 479.783636 268.240244 \nL 488.238182 272.89409 \nL 496.692727 277.203473 \nL 505.147273 281.30108 \nL 513.601818 285.08891 \nL 522.056364 288.587731 \nL 530.510909 291.812964 \nL 538.965455 294.760227 \nL 547.42 297.447207 \nL 555.874545 299.885073 \nL 564.329091 302.087419 \nL 572.783636 304.070021 \nL 581.238182 305.848203 \nL 589.692727 307.437516 \nL 598.147273 308.853403 \nL 606.601818 310.110858 \nL 615.056364 311.224243 \nL 623.510909 312.207199 \nL 631.965455 313.072564 \nL 640.42 313.832307 \n\" style=\"fill:none;stroke:#ff7f0e;stroke-dasharray:5.55,2.4;stroke-dashoffset:0;stroke-opacity:0.5;stroke-width:1.5;\"/>\n   </g>\n   <g id=\"line2d_193\">\n    <path clip-path=\"url(#p57df2a395d)\" d=\"M 82.42 288.181407 \nL 90.874545 283.63351 \nL 99.329091 278.486905 \nL 107.783636 272.694326 \nL 116.238182 266.176934 \nL 124.692727 258.895058 \nL 133.147273 250.789117 \nL 141.601818 241.849194 \nL 150.056364 232.026007 \nL 158.510909 221.315197 \nL 166.965455 209.674733 \nL 175.42 197.158377 \nL 183.874545 183.835879 \nL 192.329091 169.802084 \nL 200.783636 155.188416 \nL 209.238182 140.147563 \nL 217.692727 125.029476 \nL 226.147273 109.991884 \nL 234.601818 95.33761 \nL 243.056364 81.546085 \nL 251.510909 68.799954 \nL 259.965455 57.44866 \nL 268.42 47.713508 \nL 276.874545 39.771677 \nL 285.329091 33.593012 \nL 293.783636 29.049257 \nL 302.238182 25.940043 \nL 310.692727 23.888185 \nL 319.147273 22.656508 \nL 327.601818 22.025455 \nL 336.056364 22.049472 \nL 344.510909 23.099765 \nL 352.965455 25.661082 \nL 361.42 30.372452 \nL 369.874545 37.508038 \nL 378.329091 46.866369 \nL 386.783636 57.700464 \nL 395.238182 68.842498 \nL 403.692727 79.473582 \nL 412.147273 89.354478 \nL 420.601818 99.016473 \nL 429.056364 108.964871 \nL 437.510909 119.242912 \nL 445.965455 129.198857 \nL 454.42 138.255223 \nL 462.874545 146.381372 \nL 471.329091 153.90019 \nL 479.783636 160.780152 \nL 488.238182 166.691876 \nL 496.692727 171.638498 \nL 505.147273 175.741075 \nL 513.601818 178.875391 \nL 522.056364 181.087373 \nL 530.510909 182.402182 \nL 538.965455 182.82698 \nL 547.42 182.397889 \nL 555.874545 181.181865 \nL 564.329091 179.213599 \nL 572.783636 176.525109 \nL 581.238182 173.226489 \nL 589.692727 169.343882 \nL 598.147273 164.956346 \nL 606.601818 160.141806 \nL 615.056364 154.981265 \nL 623.510909 149.568542 \nL 631.965455 143.968354 \nL 640.42 138.291526 \n\" style=\"fill:none;stroke:#2ca02c;stroke-linecap:square;stroke-width:1.5;\"/>\n   </g>\n   <g id=\"line2d_194\">\n    <path clip-path=\"url(#p57df2a395d)\" d=\"M 82.42 318.061824 \nL 90.874545 318.006364 \nL 99.329091 317.945071 \nL 107.783636 317.877332 \nL 116.238182 317.802472 \nL 124.692727 317.71974 \nL 133.147273 317.628309 \nL 141.601818 317.527267 \nL 150.056364 317.415602 \nL 158.510909 317.2922 \nL 166.965455 317.155829 \nL 175.42 317.005126 \nL 183.874545 316.83859 \nL 192.329091 316.654561 \nL 200.783636 316.451205 \nL 209.238182 316.226501 \nL 217.692727 315.978217 \nL 226.147273 315.70389 \nL 234.601818 315.400807 \nL 243.056364 315.065975 \nL 251.510909 314.6961 \nL 259.965455 314.287557 \nL 268.42 313.836356 \nL 276.874545 313.338122 \nL 285.329091 312.78805 \nL 293.783636 312.180882 \nL 302.238182 311.510875 \nL 310.692727 310.771765 \nL 319.147273 309.956749 \nL 327.601818 309.058461 \nL 336.056364 308.068964 \nL 344.510909 306.97975 \nL 352.965455 305.781763 \nL 361.42 304.465438 \nL 369.874545 303.020773 \nL 378.329091 301.437394 \nL 386.783636 299.704833 \nL 395.238182 297.812488 \nL 403.692727 295.749993 \nL 412.147273 293.50725 \nL 420.601818 291.074744 \nL 429.056364 288.443744 \nL 437.510909 285.606476 \nL 445.965455 282.538156 \nL 454.42 279.267054 \nL 462.874545 275.768069 \nL 471.329091 272.033502 \nL 479.783636 268.049727 \nL 488.238182 263.823029 \nL 496.692727 259.327164 \nL 505.147273 254.561101 \nL 513.601818 249.516927 \nL 522.056364 244.191528 \nL 530.510909 238.593775 \nL 538.965455 232.715239 \nL 547.42 226.559095 \nL 555.874545 220.161575 \nL 564.329091 213.524452 \nL 572.783636 206.643915 \nL 581.238182 199.594679 \nL 589.692727 192.367745 \nL 598.147273 185.007676 \nL 606.601818 177.559234 \nL 615.056364 170.07183 \nL 623.510909 162.609509 \nL 631.965455 155.209096 \nL 640.42 147.955541 \n\" style=\"fill:none;stroke:#2ca02c;stroke-dasharray:9.6,2.4,1.5,2.4;stroke-dashoffset:0;stroke-opacity:0.5;stroke-width:1.5;\"/>\n   </g>\n   <g id=\"line2d_195\">\n    <path clip-path=\"url(#p57df2a395d)\" d=\"M 82.42 288.708769 \nL 90.874545 284.216333 \nL 99.329091 279.131021 \nL 107.783636 273.40618 \nL 116.238182 266.963649 \nL 124.692727 259.764506 \nL 133.147273 251.749995 \nL 141.601818 242.911114 \nL 150.056364 233.199592 \nL 158.510909 222.612183 \nL 166.965455 211.108091 \nL 175.42 198.742437 \nL 183.874545 185.586475 \nL 192.329091 171.73671 \nL 200.783636 157.326397 \nL 209.238182 142.510249 \nL 217.692727 127.640446 \nL 226.147273 112.877181 \nL 234.601818 98.52599 \nL 243.056364 85.069297 \nL 251.510909 72.69304 \nL 259.965455 61.75029 \nL 268.42 52.466338 \nL 276.874545 45.022743 \nL 285.329091 39.394149 \nL 293.783636 35.457561 \nL 302.238182 33.018355 \nL 310.692727 31.705607 \nL 319.147273 31.288945 \nL 327.601818 31.55618 \nL 336.056364 32.569695 \nL 344.510909 34.709202 \nL 352.965455 38.468506 \nL 361.42 44.496201 \nL 369.874545 53.076451 \nL 378.329091 64.018161 \nL 386.783636 76.584818 \nL 395.238182 89.619198 \nL 403.692727 102.312776 \nL 412.147273 114.436414 \nL 420.601818 126.530916 \nL 429.056364 139.110314 \nL 437.510909 152.225623 \nL 445.965455 165.249888 \nL 454.42 177.577355 \nL 462.874545 189.20249 \nL 471.329091 200.455875 \nL 479.783636 211.319613 \nL 488.238182 221.458034 \nL 496.692727 230.90052 \nL 505.147273 239.769161 \nL 513.601818 247.947651 \nL 522.056364 255.485032 \nL 530.510909 262.397594 \nL 538.965455 268.700928 \nL 547.42 274.427981 \nL 555.874545 279.609476 \nL 564.329091 284.278334 \nL 572.783636 288.470382 \nL 581.238182 292.220997 \nL 589.692727 295.565324 \nL 598.147273 298.537857 \nL 606.601818 301.171758 \nL 615.056364 303.498622 \nL 623.510909 305.54822 \nL 631.965455 307.348445 \nL 640.42 308.925171 \n\" style=\"fill:none;stroke:#2ca02c;stroke-dasharray:5.55,2.4;stroke-dashoffset:0;stroke-opacity:0.5;stroke-width:1.5;\"/>\n   </g>\n   <g id=\"patch_3\">\n    <path d=\"M 54.52 333.36 \nL 54.52 7.2 \n\" style=\"fill:none;stroke:#000000;stroke-linecap:square;stroke-linejoin:miter;stroke-width:0.8;\"/>\n   </g>\n   <g id=\"patch_4\">\n    <path d=\"M 668.32 333.36 \nL 668.32 7.2 \n\" style=\"fill:none;stroke:#000000;stroke-linecap:square;stroke-linejoin:miter;stroke-width:0.8;\"/>\n   </g>\n   <g id=\"patch_5\">\n    <path d=\"M 54.52 333.36 \nL 668.32 333.36 \n\" style=\"fill:none;stroke:#000000;stroke-linecap:square;stroke-linejoin:miter;stroke-width:0.8;\"/>\n   </g>\n   <g id=\"patch_6\">\n    <path d=\"M 54.52 7.2 \nL 668.32 7.2 \n\" style=\"fill:none;stroke:#000000;stroke-linecap:square;stroke-linejoin:miter;stroke-width:0.8;\"/>\n   </g>\n   <g id=\"legend_1\">\n    <g id=\"patch_7\">\n     <path d=\"M 547.71 133.3625 \nL 657.12 133.3625 \nQ 660.32 133.3625 660.32 130.1625 \nL 660.32 18.4 \nQ 660.32 15.2 657.12 15.2 \nL 547.71 15.2 \nQ 544.51 15.2 544.51 18.4 \nL 544.51 130.1625 \nQ 544.51 133.3625 547.71 133.3625 \nz\n\" style=\"fill:#ffffff;opacity:0.8;stroke:#cccccc;stroke-linejoin:miter;\"/>\n    </g>\n    <g id=\"line2d_196\">\n     <path d=\"M 550.91 27.2 \nL 582.91 27.2 \n\" style=\"fill:none;stroke:#1f77b4;stroke-linecap:square;stroke-width:1.5;\"/>\n    </g>\n    <g id=\"line2d_197\"/>\n    <g id=\"text_15\">\n     <!-- 353 GHz -->\n     <g transform=\"translate(595.71 32.8)scale(0.16 -0.16)\">\n      <defs>\n       <path d=\"M 2803 4358 \nL 2573 3814 \nQ 2534 3731 2400 3731 \nL 1158 3731 \nL 902 3187 \nQ 1606 3053 1920 2896 \nQ 2234 2739 2502 2368 \nQ 2726 2061 2726 1555 \nQ 2726 1094 2576 780 \nQ 2426 467 2099 224 \nQ 1664 -90 1011 -90 \nQ 646 -90 422 19 \nQ 198 128 198 307 \nQ 198 550 486 550 \nQ 717 550 960 352 \nQ 1210 147 1414 147 \nQ 1747 147 2012 480 \nQ 2278 813 2278 1229 \nQ 2278 1843 1850 2189 \nQ 1293 2637 486 2637 \nQ 410 2637 410 2688 \nL 416 2720 \nL 1114 4237 \nL 2438 4237 \nQ 2547 4237 2608 4269 \nQ 2669 4301 2746 4403 \nL 2803 4358 \nz\n\" id=\"STIXGeneral-Regular-35\" transform=\"scale(0.015625)\"/>\n       <path d=\"M 4538 2266 \nL 4538 2150 \nQ 4256 2125 4173 2035 \nQ 4090 1946 4090 1638 \nL 4090 358 \nQ 3539 -90 2464 -90 \nQ 1965 -90 1507 89 \nQ 1050 269 736 595 \nQ 205 1152 205 2093 \nQ 205 3155 890 3776 \nQ 1491 4326 2419 4326 \nQ 2829 4326 3270 4179 \nQ 3443 4115 3552 4115 \nQ 3654 4115 3731 4176 \nQ 3808 4237 3840 4326 \nL 3981 4326 \nL 4032 2976 \nL 3885 2976 \nQ 3680 3475 3430 3718 \nQ 3059 4070 2496 4070 \nQ 1856 4070 1427 3629 \nQ 934 3136 934 2074 \nQ 934 1190 1395 678 \nQ 1856 166 2618 166 \nQ 2982 166 3225 281 \nQ 3469 397 3469 557 \nL 3469 1562 \nQ 3469 1933 3376 2025 \nQ 3283 2118 2899 2150 \nL 2899 2266 \nL 4538 2266 \nz\n\" id=\"STIXGeneral-Regular-47\" transform=\"scale(0.015625)\"/>\n       <path d=\"M 4499 0 \nL 2714 0 \nL 2714 122 \nQ 3085 147 3181 265 \nQ 3277 384 3277 794 \nL 3277 2016 \nL 1338 2016 \nL 1338 723 \nQ 1338 371 1440 256 \nQ 1542 141 1894 122 \nL 1901 0 \nL 115 0 \nL 115 122 \nQ 493 147 589 259 \nQ 685 371 685 781 \nL 685 3507 \nQ 685 3878 585 3980 \nQ 486 4083 115 4115 \nL 115 4237 \nL 1907 4237 \nL 1907 4115 \nQ 1549 4083 1443 3977 \nQ 1338 3872 1338 3507 \nL 1338 2298 \nL 3277 2298 \nL 3277 3507 \nQ 3277 3878 3177 3980 \nQ 3078 4083 2707 4115 \nL 2707 4237 \nL 4499 4237 \nL 4499 4115 \nQ 4141 4083 4035 3977 \nQ 3930 3872 3930 3507 \nL 3930 710 \nQ 3930 371 4035 259 \nQ 4141 147 4499 122 \nL 4499 0 \nz\n\" id=\"STIXGeneral-Regular-48\" transform=\"scale(0.015625)\"/>\n       <path d=\"M 2675 870 \nL 2579 0 \nL 173 0 \nL 173 96 \nL 1875 2688 \nL 1011 2688 \nQ 710 2688 604 2582 \nQ 499 2477 454 2125 \nL 339 2125 \nL 365 2880 \nL 2579 2880 \nL 2579 2784 \nL 858 192 \nL 1709 192 \nQ 2246 192 2387 365 \nQ 2477 474 2560 896 \nL 2675 870 \nz\n\" id=\"STIXGeneral-Regular-7a\" transform=\"scale(0.015625)\"/>\n      </defs>\n      <use xlink:href=\"#STIXGeneral-Regular-33\"/>\n      <use x=\"49.999985\" xlink:href=\"#STIXGeneral-Regular-35\"/>\n      <use x=\"99.999969\" xlink:href=\"#STIXGeneral-Regular-33\"/>\n      <use x=\"149.999954\" xlink:href=\"#STIXGeneral-Regular-20\"/>\n      <use x=\"174.999939\" xlink:href=\"#STIXGeneral-Regular-47\"/>\n      <use x=\"247.199921\" xlink:href=\"#STIXGeneral-Regular-48\"/>\n      <use x=\"319.399902\" xlink:href=\"#STIXGeneral-Regular-7a\"/>\n     </g>\n    </g>\n    <g id=\"line2d_198\">\n     <path d=\"M 550.91 49.8725 \nL 582.91 49.8725 \n\" style=\"fill:none;stroke:#ff7f0e;stroke-linecap:square;stroke-width:1.5;\"/>\n    </g>\n    <g id=\"line2d_199\"/>\n    <g id=\"text_16\">\n     <!-- 545 GHz -->\n     <g transform=\"translate(595.71 55.4725)scale(0.16 -0.16)\">\n      <use xlink:href=\"#STIXGeneral-Regular-35\"/>\n      <use x=\"49.999985\" xlink:href=\"#STIXGeneral-Regular-34\"/>\n      <use x=\"99.999969\" xlink:href=\"#STIXGeneral-Regular-35\"/>\n      <use x=\"149.999954\" xlink:href=\"#STIXGeneral-Regular-20\"/>\n      <use x=\"174.999939\" xlink:href=\"#STIXGeneral-Regular-47\"/>\n      <use x=\"247.199921\" xlink:href=\"#STIXGeneral-Regular-48\"/>\n      <use x=\"319.399902\" xlink:href=\"#STIXGeneral-Regular-7a\"/>\n     </g>\n    </g>\n    <g id=\"line2d_200\">\n     <path d=\"M 550.91 72.545 \nL 582.91 72.545 \n\" style=\"fill:none;stroke:#2ca02c;stroke-linecap:square;stroke-width:1.5;\"/>\n    </g>\n    <g id=\"line2d_201\"/>\n    <g id=\"text_17\">\n     <!-- 857 GHz -->\n     <g transform=\"translate(595.71 78.145)scale(0.16 -0.16)\">\n      <defs>\n       <path d=\"M 2874 4134 \nL 1517 -51 \nL 1101 -51 \nL 2368 3763 \nL 992 3763 \nQ 717 3763 582 3667 \nQ 448 3571 243 3238 \nL 128 3296 \nL 512 4237 \nL 2874 4237 \nL 2874 4134 \nz\n\" id=\"STIXGeneral-Regular-37\" transform=\"scale(0.015625)\"/>\n      </defs>\n      <use xlink:href=\"#STIXGeneral-Regular-38\"/>\n      <use x=\"49.999985\" xlink:href=\"#STIXGeneral-Regular-35\"/>\n      <use x=\"99.999969\" xlink:href=\"#STIXGeneral-Regular-37\"/>\n      <use x=\"149.999954\" xlink:href=\"#STIXGeneral-Regular-20\"/>\n      <use x=\"174.999939\" xlink:href=\"#STIXGeneral-Regular-47\"/>\n      <use x=\"247.199921\" xlink:href=\"#STIXGeneral-Regular-48\"/>\n      <use x=\"319.399902\" xlink:href=\"#STIXGeneral-Regular-7a\"/>\n     </g>\n    </g>\n    <g id=\"line2d_202\">\n     <path d=\"M 550.91 95.2175 \nL 582.91 95.2175 \n\" style=\"fill:none;stroke:#000000;stroke-dasharray:5.55,2.4;stroke-dashoffset:0;stroke-opacity:0.5;stroke-width:1.5;\"/>\n    </g>\n    <g id=\"line2d_203\"/>\n    <g id=\"text_18\">\n     <!-- 1h -->\n     <g transform=\"translate(595.71 100.8175)scale(0.16 -0.16)\">\n      <defs>\n       <path d=\"M 3117 0 \nL 1760 0 \nL 1760 96 \nQ 2042 128 2118 224 \nQ 2195 320 2195 653 \nL 2195 1920 \nQ 2195 2598 1722 2598 \nQ 1530 2598 1370 2508 \nQ 1210 2419 1005 2195 \nL 1005 653 \nQ 1005 320 1081 224 \nQ 1158 128 1440 96 \nL 1440 0 \nL 58 0 \nL 58 96 \nQ 333 134 400 224 \nQ 467 314 467 653 \nL 467 3667 \nQ 467 3872 406 3933 \nQ 346 3994 141 3994 \nQ 83 3994 64 3987 \nL 64 4090 \nL 237 4141 \nQ 730 4288 973 4371 \nL 1005 4352 \nL 1005 2406 \nQ 1229 2694 1446 2819 \nQ 1664 2944 1946 2944 \nQ 2733 2944 2733 1926 \nL 2733 653 \nQ 2733 320 2793 233 \nQ 2854 147 3117 96 \nL 3117 0 \nz\n\" id=\"STIXGeneral-Regular-68\" transform=\"scale(0.015625)\"/>\n      </defs>\n      <use xlink:href=\"#STIXGeneral-Regular-31\"/>\n      <use x=\"49.999985\" xlink:href=\"#STIXGeneral-Regular-68\"/>\n     </g>\n    </g>\n    <g id=\"line2d_204\">\n     <path d=\"M 550.91 117.89 \nL 582.91 117.89 \n\" style=\"fill:none;stroke:#000000;stroke-dasharray:9.6,2.4,1.5,2.4;stroke-dashoffset:0;stroke-width:1.5;\"/>\n    </g>\n    <g id=\"line2d_205\"/>\n    <g id=\"text_19\">\n     <!-- 2h -->\n     <g transform=\"translate(595.71 123.49)scale(0.16 -0.16)\">\n      <use xlink:href=\"#STIXGeneral-Regular-32\"/>\n      <use x=\"49.999985\" xlink:href=\"#STIXGeneral-Regular-68\"/>\n     </g>\n    </g>\n   </g>\n  </g>\n </g>\n <defs>\n  <clipPath id=\"p57df2a395d\">\n   <rect height=\"326.16\" width=\"613.8\" x=\"54.52\" y=\"7.2\"/>\n  </clipPath>\n </defs>\n</svg>\n",
      "text/plain": [
       "<Figure size 792x432 with 1 Axes>"
      ]
     },
     "metadata": {
      "needs_background": "light"
     },
     "output_type": "display_data"
    }
   ],
   "source": [
    "#Get Data\n",
    "ells = np.asarray(Dl_lens_cib['545']['ell'])\n",
    "factor = cl_to_dl(ells)\n",
    "\n",
    "#Font Settings\n",
    "label_size = 15\n",
    "title_size = 22\n",
    "legend_size = 13\n",
    "# font = {'size'   : 16, 'family':'STIXGeneral'}\n",
    "# axislabelfontsize='large'\n",
    "# mpl.rc('font', **font)\n",
    "\n",
    "#Colors\n",
    "colors = plt.rcParams['axes.prop_cycle'].by_key()['color']\n",
    "a = 0.5\n",
    "\n",
    "for i, nu in enumerate(nu_list):\n",
    "    #Extract Data\n",
    "    nu_name = str(nu)\n",
    "    cl_1h = np.asarray(Dl_lens_cib[str(nu)]['1h']) / factor\n",
    "    cl_2h = np.asarray(Dl_lens_cib[str(nu)]['2h']) / factor\n",
    "    cl_tot = cl_1h + cl_2h\n",
    "\n",
    "    #Plot\n",
    "    plt.plot(ells, ells * cl_tot, label= nu_name + ' GHz', color=colors[i])\n",
    "    plt.plot(ells, ells * cl_1h, '-.', alpha= a, color=colors[i])\n",
    "    plt.plot(ells, ells * cl_2h, '--', alpha= a, color=colors[i])\n",
    "\n",
    "    #Figure Size\n",
    "    ax = plt.gca()\n",
    "    fig = plt.gcf()\n",
    "    fig.set_figheight(6)\n",
    "    fig.set_figwidth(11)\n",
    "    \n",
    "\n",
    "    #Legend\n",
    "    line_1h = mpl.lines.Line2D([0], [0], label='1h', color='black', linestyle='--', alpha= a)\n",
    "    line_2h = mpl.lines.Line2D([0], [0], label='2h', color='black', linestyle='-.')\n",
    "    h, l = ax.get_legend_handles_labels()\n",
    "    h.extend([line_1h, line_2h])\n",
    "    plt.legend(handles= h)\n",
    "\n",
    "    #Labels\n",
    "    plt.xlabel(r'$\\ell$', fontsize= title_size)\n",
    "    plt.ylabel(r'$\\ell C^{\\nu\\kappa}_{\\ell}$ [Jy/sr]', size= title_size)\n",
    "    plt.xscale('log')\n",
    "    \n",
    "    #Ticks\n",
    "    ax.yaxis.set_minor_locator(mpl.ticker.MultipleLocator(0.5))\n",
    "    ax.tick_params(axis = 'x',which='both',length=5,direction='in', top=True, right=True, labelsize=label_size, pad=10)\n",
    "    ax.tick_params(axis = 'y',which='both',length=5,direction='in', top=True, right=True, labelsize=label_size, pad=5)\n",
    "    ax.grid( visible=True, which=\"both\", alpha=0.2, linestyle='--')"
   ]
  },
  {
   "cell_type": "code",
   "execution_count": null,
   "metadata": {},
   "outputs": [],
   "source": []
  }
 ],
 "metadata": {
  "kernelspec": {
   "display_name": "Python 3.9.13 ('base': conda)",
   "language": "python",
   "name": "python3"
  },
  "language_info": {
   "codemirror_mode": {
    "name": "ipython",
    "version": 3
   },
   "file_extension": ".py",
   "mimetype": "text/x-python",
   "name": "python",
   "nbconvert_exporter": "python",
   "pygments_lexer": "ipython3",
   "version": "3.9.13"
  },
  "orig_nbformat": 4,
  "vscode": {
   "interpreter": {
    "hash": "2ad565f1b5e7dbf9f0330bb692af7394eacf839d42e6c67731ff37b5e1249471"
   }
  }
 },
 "nbformat": 4,
 "nbformat_minor": 2
}
