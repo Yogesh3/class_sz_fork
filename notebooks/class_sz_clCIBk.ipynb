{
 "cells": [
  {
   "attachments": {},
   "cell_type": "markdown",
   "metadata": {},
   "source": [
    "This notebook is very similar to `class_sz_CIB.ipynb`. Refer to that notebook for CIB autospectrum with `class_sz`."
   ]
  },
  {
   "cell_type": "code",
   "execution_count": 1,
   "metadata": {},
   "outputs": [
    {
     "name": "stderr",
     "output_type": "stream",
     "text": [
      "2023-03-23 15:15:39.669203: W tensorflow/compiler/tf2tensorrt/utils/py_utils.cc:38] TF-TRT Warning: Could not find TensorRT\n"
     ]
    },
    {
     "name": "stdout",
     "output_type": "stream",
     "text": [
      "WARNING:tensorflow:Please fix your imports. Module tensorflow.python.training.tracking.data_structures has been moved to tensorflow.python.trackable.data_structures. The old module will be deleted in version 2.11.\n"
     ]
    },
    {
     "name": "stderr",
     "output_type": "stream",
     "text": [
      "2023-03-23 15:15:42.361949: W tensorflow/core/common_runtime/gpu/gpu_device.cc:1956] Cannot dlopen some GPU libraries. Please make sure the missing libraries mentioned above are installed properly if you would like to use GPU. Follow the guide at https://www.tensorflow.org/install/gpu for how to download and setup the required libraries for your platform.\n",
      "Skipping registering GPU devices...\n"
     ]
    }
   ],
   "source": [
    "import numpy as np\n",
    "import matplotlib as mpl\n",
    "from matplotlib import pyplot as plt\n",
    "from matplotlib_inline.backend_inline import set_matplotlib_formats\n",
    "set_matplotlib_formats('svg')\n",
    "from classy_sz import Class\n",
    "import os\n",
    "import time"
   ]
  },
  {
   "cell_type": "code",
   "execution_count": 2,
   "metadata": {},
   "outputs": [],
   "source": [
    "# a simple conversion from cl's to dl's\n",
    "def cl_to_dl(lp):\n",
    "    return lp*(lp+1.)/2./np.pi"
   ]
  },
  {
   "attachments": {},
   "cell_type": "markdown",
   "metadata": {},
   "source": [
    "# CIB x $\\kappa$ Power Spectrum"
   ]
  },
  {
   "attachments": {},
   "cell_type": "markdown",
   "metadata": {},
   "source": [
    "## Set Parameters"
   ]
  },
  {
   "attachments": {},
   "cell_type": "markdown",
   "metadata": {},
   "source": [
    "You can set `class_sz` parameters individually, in a single dictionary, or multiple dictionaries."
   ]
  },
  {
   "attachments": {},
   "cell_type": "markdown",
   "metadata": {},
   "source": [
    "First, let's establish the cosmology. McCarthy et al. use Planck 2014 cosmology (https://arxiv.org/pdf/1303.5076.pdf, best-fit)."
   ]
  },
  {
   "cell_type": "code",
   "execution_count": 5,
   "metadata": {},
   "outputs": [],
   "source": [
    "#Parameters for Cosmology Planck 14, https://arxiv.org/pdf/1303.5076.pdf, best-fit\n",
    "p14_dict={}\n",
    "p14_dict['h'] = 0.6711      \n",
    "p14_dict['omega_b'] = 0.022068\n",
    "p14_dict['Omega_cdm'] = 0.3175-0.022068/0.6711/0.6711\n",
    "p14_dict['A_s'] = 2.2e-9\n",
    "p14_dict['n_s'] = .9624\n",
    "p14_dict['k_pivot'] = 0.05\n",
    "p14_dict['tau_reio'] = 0.0925\n",
    "p14_dict['N_ncdm'] = 1\n",
    "p14_dict['N_ur'] = 0.00641\n",
    "p14_dict['deg_ncdm'] = 3\n",
    "p14_dict['m_ncdm'] = 0.02\n",
    "p14_dict['T_ncdm'] = 0.71611"
   ]
  },
  {
   "attachments": {},
   "cell_type": "markdown",
   "metadata": {},
   "source": [
    "Since `cosmopower` requires certain cosmological parameters, we'll create a second dictionary for them."
   ]
  },
  {
   "cell_type": "code",
   "execution_count": 3,
   "metadata": {},
   "outputs": [],
   "source": [
    "#Parameters for Cosmology Planck 14, https://arxiv.org/pdf/1303.5076.pdf, best-fit\n",
    "p_cp_dict={}\n",
    "p_cp_dict['H0'] = 67.11      # need this because this is what is used by the emulators\n",
    "p_cp_dict['omega_b'] = 0.022068\n",
    "p_cp_dict['omega_cdm'] = (0.3175 * p_cp_dict['H0']**2) - p_cp_dict['omega_b']    # need this because this is what is used by the emulators\n",
    "p_cp_dict['ln10^{10}A_s'] = 3.0980           # need this because this is what is used by the emulators\n",
    "p_cp_dict['n_s'] = .9624\n",
    "p_cp_dict['k_pivot'] = 0.05\n",
    "p_cp_dict['tau_reio'] = 0.0925\n",
    "p_cp_dict['N_ncdm'] = 1\n",
    "p_cp_dict['N_ur'] = 0.00641\n",
    "p_cp_dict['deg_ncdm'] = 3\n",
    "p_cp_dict['m_ncdm'] = 0.02\n",
    "p_cp_dict['T_ncdm'] = 0.71611"
   ]
  },
  {
   "attachments": {},
   "cell_type": "markdown",
   "metadata": {},
   "source": [
    "Halo Model and grid parameters:"
   ]
  },
  {
   "cell_type": "code",
   "execution_count": 6,
   "metadata": {},
   "outputs": [],
   "source": [
    "p_hm_dict = {}\n",
    "\n",
    "p_hm_dict['mass function'] = 'T10'\n",
    "p_hm_dict['concentration parameter'] = 'D08'\n",
    "p_hm_dict['delta for cib'] = '200m'\n",
    "p_hm_dict['hm_consistency'] = 1\n",
    "p_hm_dict['damping_1h_term'] = 0\n",
    "# Precision\n",
    "p_hm_dict['pressure_profile_epsabs'] = 1.e-8\n",
    "p_hm_dict['pressure_profile_epsrel'] = 1.e-3\n",
    "# HOD parameters for CIB\n",
    "p_hm_dict['M_min_HOD'] = pow(10.,10)  # was M_min_HOD_cib\n",
    "\n",
    "#Grid Parameters\n",
    "# Mass bounds\n",
    "p_hm_dict['M_min'] = 1e8 * p14_dict['h']    # was M_min_cib\n",
    "p_hm_dict['M_max'] = 1e16 * p14_dict['h']   # was M_max_cib\n",
    "# Redshift bounds\n",
    "p_hm_dict['z_min'] = 0.07\n",
    "p_hm_dict['z_max'] = 6. # fiducial for MM20 : 6\n",
    "p_hm_dict['freq_min'] = 10.\n",
    "p_hm_dict['freq_max'] = 5e4 # fiducial for MM20 : 6\n",
    "p_hm_dict['z_max_pk'] = p_hm_dict['z_max']\n",
    "\n",
    "#Precision Parameters\n",
    "# Precision for redshift integal\n",
    "p_hm_dict['redshift_epsabs'] = 1e-40#1.e-40\n",
    "p_hm_dict['redshift_epsrel'] = 1e-4#1.e-10 # fiducial value 1e-8\n",
    "# Precision for mass integal\n",
    "p_hm_dict['mass_epsabs'] = 1e-40 #1.e-40\n",
    "p_hm_dict['mass_epsrel'] = 1e-4#1e-10\n",
    "# Precision for Luminosity integral (sub-halo mass function)\n",
    "p_hm_dict['L_sat_epsabs'] = 1e-40 #1.e-40\n",
    "p_hm_dict['L_sat_epsrel'] = 1e-3#1e-10\n",
    "# Multipole array\n",
    "p_hm_dict['dlogell'] = 0.1\n",
    "p_hm_dict['ell_max'] = 8000.\n",
    "p_hm_dict['ell_min'] = 10"
   ]
  },
  {
   "attachments": {},
   "cell_type": "markdown",
   "metadata": {},
   "source": [
    "CIB Model parameters (see McCarthy et al. at https://journals.aps.org/prd/abstract/10.1103/PhysRevD.103.103515):"
   ]
  },
  {
   "cell_type": "code",
   "execution_count": 7,
   "metadata": {},
   "outputs": [],
   "source": [
    "#CIB Parameters\n",
    "p_CIB_dict = {}\n",
    "p_CIB_dict['Redshift evolution of dust temperature'] =  0.36\n",
    "p_CIB_dict['Dust temperature today in Kelvins'] = 24.4\n",
    "p_CIB_dict['Emissivity index of sed'] = 1.75\n",
    "p_CIB_dict['Power law index of SED at high frequency'] = 1.7\n",
    "p_CIB_dict['Redshift evolution of L - M normalisation'] = 3.6\n",
    "p_CIB_dict['Most efficient halo mass in Msun'] = 10**12.6\n",
    "p_CIB_dict['Normalisation of L - M relation in [Jy MPc2/Msun]'] = 6.4e-8\n",
    "p_CIB_dict['Size of of halo masses sourcing CIB emission'] = 0.5"
   ]
  },
  {
   "attachments": {},
   "cell_type": "markdown",
   "metadata": {},
   "source": [
    "Select your frequencies. Here, we choose some Planck frequencies. Note that the frequency lists (both for the observed CIB frequencies and the flux cuts) must be a single string, not a list of strings."
   ]
  },
  {
   "cell_type": "code",
   "execution_count": 8,
   "metadata": {},
   "outputs": [],
   "source": [
    "nu_list = [353,545,857]\n",
    "nu_list_str = str(nu_list)[1:-1]  # Note: this must be a single string, not a list of strings!\n",
    "\n",
    "#Frequency Parameters\n",
    "p_freq_dict = {}\n",
    "p_freq_dict['cib_frequency_list_num'] = len(nu_list)\n",
    "p_freq_dict['cib_frequency_list_in_GHz'] = nu_list_str"
   ]
  },
  {
   "attachments": {},
   "cell_type": "markdown",
   "metadata": {},
   "source": [
    "We choose flux cuts from Planck 2013 (see https://journals.aps.org/prd/abstract/10.1103/PhysRevD.103.103515)."
   ]
  },
  {
   "cell_type": "code",
   "execution_count": 9,
   "metadata": {},
   "outputs": [],
   "source": [
    "#Flux Cuts\n",
    "cib_fcut_dict = {}\n",
    "\n",
    "#Planck flux cut, Table 1 in https://arxiv.org/pdf/1309.0382.pdf\n",
    "cib_fcut_dict['100'] = 400\n",
    "cib_fcut_dict['143'] = 350\n",
    "cib_fcut_dict['217'] = 225\n",
    "cib_fcut_dict['353'] = 315\n",
    "cib_fcut_dict['545'] = 350\n",
    "cib_fcut_dict['857'] = 710\n",
    "cib_fcut_dict['3000'] = 1000\n",
    "\n",
    "def make_flux_cut_list(cib_flux, nu_list):\n",
    "    \"\"\"\n",
    "    Make a string of flux cut values for given frequency list to pass into class_sz\n",
    "    Beware: if frequency not in the flux_cut dictionary, it assigns 0\n",
    "    \"\"\"\n",
    "    cib_flux_list = []\n",
    "    keys = list(cib_flux.keys())\n",
    "    for i,nu in enumerate(nu_list):\n",
    "        if str(nu) in keys:\n",
    "            cib_flux_list.append(cib_flux[str(nu)])\n",
    "        else:\n",
    "            cib_flux_list.append(0)\n",
    "    return cib_flux_list\n",
    "\n",
    "cib_flux_list = make_flux_cut_list(cib_fcut_dict, nu_list)\n",
    "\n",
    "#Add Flux Cuts\n",
    "p_freq_dict['cib_Snu_cutoff_list [mJy]'] = str(list(cib_flux_list))[1:-1]\n",
    "p_freq_dict['has_cib_flux_cut'] = 1\n"
   ]
  },
  {
   "attachments": {},
   "cell_type": "markdown",
   "metadata": {},
   "source": [
    "## Compute Power Spectrum"
   ]
  },
  {
   "attachments": {},
   "cell_type": "markdown",
   "metadata": {},
   "source": [
    "### Standard `class_sz` computation"
   ]
  },
  {
   "cell_type": "code",
   "execution_count": 12,
   "metadata": {},
   "outputs": [
    {
     "data": {
      "text/plain": [
       "True"
      ]
     },
     "execution_count": 12,
     "metadata": {},
     "output_type": "execute_result"
    }
   ],
   "source": [
    "M = Class()\n",
    "\n",
    "#Set Parameters\n",
    "M.set(p14_dict)\n",
    "M.set(p_hm_dict)\n",
    "M.set(p_CIB_dict)\n",
    "M.set(p_freq_dict)\n",
    "\n",
    "#Tell It What You Want\n",
    "M.set({\n",
    "    'output': 'lens_cib_1h,lens_cib_2h'\n",
    "})"
   ]
  },
  {
   "cell_type": "code",
   "execution_count": 13,
   "metadata": {},
   "outputs": [
    {
     "name": "stdout",
     "output_type": "stream",
     "text": [
      "CPU times: user 1min 16s, sys: 0 ns, total: 1min 16s\n",
      "Wall time: 5.94 s\n"
     ]
    }
   ],
   "source": [
    "%%time\n",
    "#Calculate Spectra\n",
    "M.compute()\n",
    "Dl_lens_cib = M.cl_lens_cib()\n",
    "M.struct_cleanup()\n",
    "M.empty()"
   ]
  },
  {
   "attachments": {},
   "cell_type": "markdown",
   "metadata": {},
   "source": [
    "### Fast `Cosmopower` computation"
   ]
  },
  {
   "cell_type": "code",
   "execution_count": 10,
   "metadata": {},
   "outputs": [
    {
     "data": {
      "text/plain": [
       "True"
      ]
     },
     "execution_count": 10,
     "metadata": {},
     "output_type": "execute_result"
    }
   ],
   "source": [
    "N = Class()\n",
    "\n",
    "#Set Parameters\n",
    "N.set(p_cp_dict)\n",
    "N.set(p_hm_dict)\n",
    "N.set(p_CIB_dict)\n",
    "N.set(p_freq_dict)\n",
    "\n",
    "#Tell It What You Want\n",
    "N.set({\n",
    "    'output': 'lens_cib_1h,lens_cib_2h' \n",
    "})"
   ]
  },
  {
   "cell_type": "code",
   "execution_count": 11,
   "metadata": {},
   "outputs": [
    {
     "ename": "CosmoComputationError",
     "evalue": "\n\nError in Class: thermodynamics_init(L:434) :error in thermodynamics_recombination(ppr,pba,pth,preco,pvecback);\n=>thermodynamics_recombination(L:3099) :error in thermodynamics_recombination_with_recfast(ppr,pba,pth,preco,pvecback);\n=>thermodynamics_recombination_with_recfast(L:3740) :error in generic_integrator(thermodynamics_derivs_with_recfast, zstart, zend, y, &tpaw, ppr->tol_thermo_integration, ppr->smallest_allowed_variation, &gi);\n=>generic_integrator(L:103) :error in rkqs(&x, h, eps, &hdid, &hnext, derivs, parameters_and_workspace_for_derivs, pgi);\n=>rkqs(L:154) :condition (xnew == *x) is true; stepsize underflow at x=2.988499e+01",
     "output_type": "error",
     "traceback": [
      "\u001b[0;31m---------------------------------------------------------------------------\u001b[0m",
      "\u001b[0;31mCosmoComputationError\u001b[0m                     Traceback (most recent call last)",
      "\u001b[0;32m<timed exec>\u001b[0m in \u001b[0;36m<module>\u001b[0;34m\u001b[0m\n",
      "\u001b[0;32mclassy.pyx\u001b[0m in \u001b[0;36mclassy_sz.Class.compute_class_szfast\u001b[0;34m()\u001b[0m\n",
      "\u001b[0;32mclassy.pyx\u001b[0m in \u001b[0;36mclassy_sz.Class.compute\u001b[0;34m()\u001b[0m\n",
      "\u001b[0;31mCosmoComputationError\u001b[0m: \n\nError in Class: thermodynamics_init(L:434) :error in thermodynamics_recombination(ppr,pba,pth,preco,pvecback);\n=>thermodynamics_recombination(L:3099) :error in thermodynamics_recombination_with_recfast(ppr,pba,pth,preco,pvecback);\n=>thermodynamics_recombination_with_recfast(L:3740) :error in generic_integrator(thermodynamics_derivs_with_recfast, zstart, zend, y, &tpaw, ppr->tol_thermo_integration, ppr->smallest_allowed_variation, &gi);\n=>generic_integrator(L:103) :error in rkqs(&x, h, eps, &hdid, &hnext, derivs, parameters_and_workspace_for_derivs, pgi);\n=>rkqs(L:154) :condition (xnew == *x) is true; stepsize underflow at x=2.988499e+01"
     ]
    }
   ],
   "source": [
    "%%time\n",
    "#Calculate Spectra\n",
    "N.compute_class_szfast()\n",
    "Dl_lens_cib = N.cl_lens_cib()\n",
    "N.struct_cleanup()\n",
    "N.empty()"
   ]
  },
  {
   "attachments": {},
   "cell_type": "markdown",
   "metadata": {},
   "source": [
    "## Plot"
   ]
  },
  {
   "cell_type": "code",
   "execution_count": 14,
   "metadata": {},
   "outputs": [
    {
     "data": {
      "image/svg+xml": "<?xml version=\"1.0\" encoding=\"utf-8\" standalone=\"no\"?>\n<!DOCTYPE svg PUBLIC \"-//W3C//DTD SVG 1.1//EN\"\n  \"http://www.w3.org/Graphics/SVG/1.1/DTD/svg11.dtd\">\n<svg height=\"390.369062pt\" version=\"1.1\" viewBox=\"0 0 690.92681 390.369062\" width=\"690.92681pt\" xmlns=\"http://www.w3.org/2000/svg\" xmlns:xlink=\"http://www.w3.org/1999/xlink\">\n <metadata>\n  <rdf:RDF xmlns:cc=\"http://creativecommons.org/ns#\" xmlns:dc=\"http://purl.org/dc/elements/1.1/\" xmlns:rdf=\"http://www.w3.org/1999/02/22-rdf-syntax-ns#\">\n   <cc:Work>\n    <dc:type rdf:resource=\"http://purl.org/dc/dcmitype/StillImage\"/>\n    <dc:date>2023-03-23T15:16:50.600885</dc:date>\n    <dc:format>image/svg+xml</dc:format>\n    <dc:creator>\n     <cc:Agent>\n      <dc:title>Matplotlib v3.4.3, https://matplotlib.org/</dc:title>\n     </cc:Agent>\n    </dc:creator>\n   </cc:Work>\n  </rdf:RDF>\n </metadata>\n <defs>\n  <style type=\"text/css\">*{stroke-linecap:butt;stroke-linejoin:round;}</style>\n </defs>\n <g id=\"figure_1\">\n  <g id=\"patch_1\">\n   <path d=\"M 0 390.369062 \nL 690.92681 390.369062 \nL 690.92681 0 \nL 0 0 \nz\n\" style=\"fill:none;\"/>\n  </g>\n  <g id=\"axes_1\">\n   <g id=\"patch_2\">\n    <path d=\"M 58.6075 333.36 \nL 672.4075 333.36 \nL 672.4075 7.2 \nL 58.6075 7.2 \nz\n\" style=\"fill:#ffffff;\"/>\n   </g>\n   <g id=\"matplotlib.axis_1\">\n    <g id=\"xtick_1\">\n     <g id=\"line2d_1\">\n      <path clip-path=\"url(#p51a30411ba)\" d=\"M 86.5075 333.36 \nL 86.5075 7.2 \n\" style=\"fill:none;stroke:#b0b0b0;stroke-dasharray:2.96,1.28;stroke-dashoffset:0;stroke-opacity:0.2;stroke-width:0.8;\"/>\n     </g>\n     <g id=\"line2d_2\">\n      <defs>\n       <path d=\"M 0 0 \nL 0 -5 \n\" id=\"mba412973fe\" style=\"stroke:#000000;stroke-width:0.8;\"/>\n      </defs>\n      <g>\n       <use style=\"stroke:#000000;stroke-width:0.8;\" x=\"86.5075\" xlink:href=\"#mba412973fe\" y=\"333.36\"/>\n      </g>\n     </g>\n     <g id=\"line2d_3\">\n      <defs>\n       <path d=\"M 0 0 \nL 0 5 \n\" id=\"m454cc7652b\" style=\"stroke:#000000;stroke-width:0.8;\"/>\n      </defs>\n      <g>\n       <use style=\"stroke:#000000;stroke-width:0.8;\" x=\"86.5075\" xlink:href=\"#m454cc7652b\" y=\"7.2\"/>\n      </g>\n     </g>\n     <g id=\"text_1\">\n      <!-- $\\mathdefault{10^{1}}$ -->\n      <g transform=\"translate(73.3075 354.757656)scale(0.15 -0.15)\">\n       <defs>\n        <path d=\"M 794 531 \nL 1825 531 \nL 1825 4091 \nL 703 3866 \nL 703 4441 \nL 1819 4666 \nL 2450 4666 \nL 2450 531 \nL 3481 531 \nL 3481 0 \nL 794 0 \nL 794 531 \nz\n\" id=\"DejaVuSans-31\" transform=\"scale(0.015625)\"/>\n        <path d=\"M 2034 4250 \nQ 1547 4250 1301 3770 \nQ 1056 3291 1056 2328 \nQ 1056 1369 1301 889 \nQ 1547 409 2034 409 \nQ 2525 409 2770 889 \nQ 3016 1369 3016 2328 \nQ 3016 3291 2770 3770 \nQ 2525 4250 2034 4250 \nz\nM 2034 4750 \nQ 2819 4750 3233 4129 \nQ 3647 3509 3647 2328 \nQ 3647 1150 3233 529 \nQ 2819 -91 2034 -91 \nQ 1250 -91 836 529 \nQ 422 1150 422 2328 \nQ 422 3509 836 4129 \nQ 1250 4750 2034 4750 \nz\n\" id=\"DejaVuSans-30\" transform=\"scale(0.015625)\"/>\n       </defs>\n       <use transform=\"translate(0 0.684375)\" xlink:href=\"#DejaVuSans-31\"/>\n       <use transform=\"translate(63.623047 0.684375)\" xlink:href=\"#DejaVuSans-30\"/>\n       <use transform=\"translate(128.203125 38.965625)scale(0.7)\" xlink:href=\"#DejaVuSans-31\"/>\n      </g>\n     </g>\n    </g>\n    <g id=\"xtick_2\">\n     <g id=\"line2d_4\">\n      <path clip-path=\"url(#p51a30411ba)\" d=\"M 281.180603 333.36 \nL 281.180603 7.2 \n\" style=\"fill:none;stroke:#b0b0b0;stroke-dasharray:2.96,1.28;stroke-dashoffset:0;stroke-opacity:0.2;stroke-width:0.8;\"/>\n     </g>\n     <g id=\"line2d_5\">\n      <g>\n       <use style=\"stroke:#000000;stroke-width:0.8;\" x=\"281.180603\" xlink:href=\"#mba412973fe\" y=\"333.36\"/>\n      </g>\n     </g>\n     <g id=\"line2d_6\">\n      <g>\n       <use style=\"stroke:#000000;stroke-width:0.8;\" x=\"281.180603\" xlink:href=\"#m454cc7652b\" y=\"7.2\"/>\n      </g>\n     </g>\n     <g id=\"text_2\">\n      <!-- $\\mathdefault{10^{2}}$ -->\n      <g transform=\"translate(267.980603 354.757656)scale(0.15 -0.15)\">\n       <defs>\n        <path d=\"M 1228 531 \nL 3431 531 \nL 3431 0 \nL 469 0 \nL 469 531 \nQ 828 903 1448 1529 \nQ 2069 2156 2228 2338 \nQ 2531 2678 2651 2914 \nQ 2772 3150 2772 3378 \nQ 2772 3750 2511 3984 \nQ 2250 4219 1831 4219 \nQ 1534 4219 1204 4116 \nQ 875 4013 500 3803 \nL 500 4441 \nQ 881 4594 1212 4672 \nQ 1544 4750 1819 4750 \nQ 2544 4750 2975 4387 \nQ 3406 4025 3406 3419 \nQ 3406 3131 3298 2873 \nQ 3191 2616 2906 2266 \nQ 2828 2175 2409 1742 \nQ 1991 1309 1228 531 \nz\n\" id=\"DejaVuSans-32\" transform=\"scale(0.015625)\"/>\n       </defs>\n       <use transform=\"translate(0 0.765625)\" xlink:href=\"#DejaVuSans-31\"/>\n       <use transform=\"translate(63.623047 0.765625)\" xlink:href=\"#DejaVuSans-30\"/>\n       <use transform=\"translate(128.203125 39.046875)scale(0.7)\" xlink:href=\"#DejaVuSans-32\"/>\n      </g>\n     </g>\n    </g>\n    <g id=\"xtick_3\">\n     <g id=\"line2d_7\">\n      <path clip-path=\"url(#p51a30411ba)\" d=\"M 475.853707 333.36 \nL 475.853707 7.2 \n\" style=\"fill:none;stroke:#b0b0b0;stroke-dasharray:2.96,1.28;stroke-dashoffset:0;stroke-opacity:0.2;stroke-width:0.8;\"/>\n     </g>\n     <g id=\"line2d_8\">\n      <g>\n       <use style=\"stroke:#000000;stroke-width:0.8;\" x=\"475.853707\" xlink:href=\"#mba412973fe\" y=\"333.36\"/>\n      </g>\n     </g>\n     <g id=\"line2d_9\">\n      <g>\n       <use style=\"stroke:#000000;stroke-width:0.8;\" x=\"475.853707\" xlink:href=\"#m454cc7652b\" y=\"7.2\"/>\n      </g>\n     </g>\n     <g id=\"text_3\">\n      <!-- $\\mathdefault{10^{3}}$ -->\n      <g transform=\"translate(462.653707 354.757656)scale(0.15 -0.15)\">\n       <defs>\n        <path d=\"M 2597 2516 \nQ 3050 2419 3304 2112 \nQ 3559 1806 3559 1356 \nQ 3559 666 3084 287 \nQ 2609 -91 1734 -91 \nQ 1441 -91 1130 -33 \nQ 819 25 488 141 \nL 488 750 \nQ 750 597 1062 519 \nQ 1375 441 1716 441 \nQ 2309 441 2620 675 \nQ 2931 909 2931 1356 \nQ 2931 1769 2642 2001 \nQ 2353 2234 1838 2234 \nL 1294 2234 \nL 1294 2753 \nL 1863 2753 \nQ 2328 2753 2575 2939 \nQ 2822 3125 2822 3475 \nQ 2822 3834 2567 4026 \nQ 2313 4219 1838 4219 \nQ 1578 4219 1281 4162 \nQ 984 4106 628 3988 \nL 628 4550 \nQ 988 4650 1302 4700 \nQ 1616 4750 1894 4750 \nQ 2613 4750 3031 4423 \nQ 3450 4097 3450 3541 \nQ 3450 3153 3228 2886 \nQ 3006 2619 2597 2516 \nz\n\" id=\"DejaVuSans-33\" transform=\"scale(0.015625)\"/>\n       </defs>\n       <use transform=\"translate(0 0.765625)\" xlink:href=\"#DejaVuSans-31\"/>\n       <use transform=\"translate(63.623047 0.765625)\" xlink:href=\"#DejaVuSans-30\"/>\n       <use transform=\"translate(128.203125 39.046875)scale(0.7)\" xlink:href=\"#DejaVuSans-33\"/>\n      </g>\n     </g>\n    </g>\n    <g id=\"xtick_4\">\n     <g id=\"line2d_10\">\n      <path clip-path=\"url(#p51a30411ba)\" d=\"M 670.52681 333.36 \nL 670.52681 7.2 \n\" style=\"fill:none;stroke:#b0b0b0;stroke-dasharray:2.96,1.28;stroke-dashoffset:0;stroke-opacity:0.2;stroke-width:0.8;\"/>\n     </g>\n     <g id=\"line2d_11\">\n      <g>\n       <use style=\"stroke:#000000;stroke-width:0.8;\" x=\"670.52681\" xlink:href=\"#mba412973fe\" y=\"333.36\"/>\n      </g>\n     </g>\n     <g id=\"line2d_12\">\n      <g>\n       <use style=\"stroke:#000000;stroke-width:0.8;\" x=\"670.52681\" xlink:href=\"#m454cc7652b\" y=\"7.2\"/>\n      </g>\n     </g>\n     <g id=\"text_4\">\n      <!-- $\\mathdefault{10^{4}}$ -->\n      <g transform=\"translate(657.32681 354.757656)scale(0.15 -0.15)\">\n       <defs>\n        <path d=\"M 2419 4116 \nL 825 1625 \nL 2419 1625 \nL 2419 4116 \nz\nM 2253 4666 \nL 3047 4666 \nL 3047 1625 \nL 3713 1625 \nL 3713 1100 \nL 3047 1100 \nL 3047 0 \nL 2419 0 \nL 2419 1100 \nL 313 1100 \nL 313 1709 \nL 2253 4666 \nz\n\" id=\"DejaVuSans-34\" transform=\"scale(0.015625)\"/>\n       </defs>\n       <use transform=\"translate(0 0.684375)\" xlink:href=\"#DejaVuSans-31\"/>\n       <use transform=\"translate(63.623047 0.684375)\" xlink:href=\"#DejaVuSans-30\"/>\n       <use transform=\"translate(128.203125 38.965625)scale(0.7)\" xlink:href=\"#DejaVuSans-34\"/>\n      </g>\n     </g>\n    </g>\n    <g id=\"xtick_5\">\n     <g id=\"line2d_13\">\n      <path clip-path=\"url(#p51a30411ba)\" d=\"M 67.641727 333.36 \nL 67.641727 7.2 \n\" style=\"fill:none;stroke:#b0b0b0;stroke-dasharray:2.96,1.28;stroke-dashoffset:0;stroke-opacity:0.2;stroke-width:0.8;\"/>\n     </g>\n     <g id=\"line2d_14\">\n      <defs>\n       <path d=\"M 0 0 \nL 0 -5 \n\" id=\"mffdddb0195\" style=\"stroke:#000000;stroke-width:0.6;\"/>\n      </defs>\n      <g>\n       <use style=\"stroke:#000000;stroke-width:0.6;\" x=\"67.641727\" xlink:href=\"#mffdddb0195\" y=\"333.36\"/>\n      </g>\n     </g>\n     <g id=\"line2d_15\">\n      <defs>\n       <path d=\"M 0 0 \nL 0 5 \n\" id=\"m54538ea3ad\" style=\"stroke:#000000;stroke-width:0.6;\"/>\n      </defs>\n      <g>\n       <use style=\"stroke:#000000;stroke-width:0.6;\" x=\"67.641727\" xlink:href=\"#m54538ea3ad\" y=\"7.2\"/>\n      </g>\n     </g>\n    </g>\n    <g id=\"xtick_6\">\n     <g id=\"line2d_16\">\n      <path clip-path=\"url(#p51a30411ba)\" d=\"M 77.599747 333.36 \nL 77.599747 7.2 \n\" style=\"fill:none;stroke:#b0b0b0;stroke-dasharray:2.96,1.28;stroke-dashoffset:0;stroke-opacity:0.2;stroke-width:0.8;\"/>\n     </g>\n     <g id=\"line2d_17\">\n      <g>\n       <use style=\"stroke:#000000;stroke-width:0.6;\" x=\"77.599747\" xlink:href=\"#mffdddb0195\" y=\"333.36\"/>\n      </g>\n     </g>\n     <g id=\"line2d_18\">\n      <g>\n       <use style=\"stroke:#000000;stroke-width:0.6;\" x=\"77.599747\" xlink:href=\"#m54538ea3ad\" y=\"7.2\"/>\n      </g>\n     </g>\n    </g>\n    <g id=\"xtick_7\">\n     <g id=\"line2d_19\">\n      <path clip-path=\"url(#p51a30411ba)\" d=\"M 145.109943 333.36 \nL 145.109943 7.2 \n\" style=\"fill:none;stroke:#b0b0b0;stroke-dasharray:2.96,1.28;stroke-dashoffset:0;stroke-opacity:0.2;stroke-width:0.8;\"/>\n     </g>\n     <g id=\"line2d_20\">\n      <g>\n       <use style=\"stroke:#000000;stroke-width:0.6;\" x=\"145.109943\" xlink:href=\"#mffdddb0195\" y=\"333.36\"/>\n      </g>\n     </g>\n     <g id=\"line2d_21\">\n      <g>\n       <use style=\"stroke:#000000;stroke-width:0.6;\" x=\"145.109943\" xlink:href=\"#m54538ea3ad\" y=\"7.2\"/>\n      </g>\n     </g>\n    </g>\n    <g id=\"xtick_8\">\n     <g id=\"line2d_22\">\n      <path clip-path=\"url(#p51a30411ba)\" d=\"M 179.390175 333.36 \nL 179.390175 7.2 \n\" style=\"fill:none;stroke:#b0b0b0;stroke-dasharray:2.96,1.28;stroke-dashoffset:0;stroke-opacity:0.2;stroke-width:0.8;\"/>\n     </g>\n     <g id=\"line2d_23\">\n      <g>\n       <use style=\"stroke:#000000;stroke-width:0.6;\" x=\"179.390175\" xlink:href=\"#mffdddb0195\" y=\"333.36\"/>\n      </g>\n     </g>\n     <g id=\"line2d_24\">\n      <g>\n       <use style=\"stroke:#000000;stroke-width:0.6;\" x=\"179.390175\" xlink:href=\"#m54538ea3ad\" y=\"7.2\"/>\n      </g>\n     </g>\n    </g>\n    <g id=\"xtick_9\">\n     <g id=\"line2d_25\">\n      <path clip-path=\"url(#p51a30411ba)\" d=\"M 203.712387 333.36 \nL 203.712387 7.2 \n\" style=\"fill:none;stroke:#b0b0b0;stroke-dasharray:2.96,1.28;stroke-dashoffset:0;stroke-opacity:0.2;stroke-width:0.8;\"/>\n     </g>\n     <g id=\"line2d_26\">\n      <g>\n       <use style=\"stroke:#000000;stroke-width:0.6;\" x=\"203.712387\" xlink:href=\"#mffdddb0195\" y=\"333.36\"/>\n      </g>\n     </g>\n     <g id=\"line2d_27\">\n      <g>\n       <use style=\"stroke:#000000;stroke-width:0.6;\" x=\"203.712387\" xlink:href=\"#m54538ea3ad\" y=\"7.2\"/>\n      </g>\n     </g>\n    </g>\n    <g id=\"xtick_10\">\n     <g id=\"line2d_28\">\n      <path clip-path=\"url(#p51a30411ba)\" d=\"M 222.57816 333.36 \nL 222.57816 7.2 \n\" style=\"fill:none;stroke:#b0b0b0;stroke-dasharray:2.96,1.28;stroke-dashoffset:0;stroke-opacity:0.2;stroke-width:0.8;\"/>\n     </g>\n     <g id=\"line2d_29\">\n      <g>\n       <use style=\"stroke:#000000;stroke-width:0.6;\" x=\"222.57816\" xlink:href=\"#mffdddb0195\" y=\"333.36\"/>\n      </g>\n     </g>\n     <g id=\"line2d_30\">\n      <g>\n       <use style=\"stroke:#000000;stroke-width:0.6;\" x=\"222.57816\" xlink:href=\"#m54538ea3ad\" y=\"7.2\"/>\n      </g>\n     </g>\n    </g>\n    <g id=\"xtick_11\">\n     <g id=\"line2d_31\">\n      <path clip-path=\"url(#p51a30411ba)\" d=\"M 237.992619 333.36 \nL 237.992619 7.2 \n\" style=\"fill:none;stroke:#b0b0b0;stroke-dasharray:2.96,1.28;stroke-dashoffset:0;stroke-opacity:0.2;stroke-width:0.8;\"/>\n     </g>\n     <g id=\"line2d_32\">\n      <g>\n       <use style=\"stroke:#000000;stroke-width:0.6;\" x=\"237.992619\" xlink:href=\"#mffdddb0195\" y=\"333.36\"/>\n      </g>\n     </g>\n     <g id=\"line2d_33\">\n      <g>\n       <use style=\"stroke:#000000;stroke-width:0.6;\" x=\"237.992619\" xlink:href=\"#m54538ea3ad\" y=\"7.2\"/>\n      </g>\n     </g>\n    </g>\n    <g id=\"xtick_12\">\n     <g id=\"line2d_34\">\n      <path clip-path=\"url(#p51a30411ba)\" d=\"M 251.025358 333.36 \nL 251.025358 7.2 \n\" style=\"fill:none;stroke:#b0b0b0;stroke-dasharray:2.96,1.28;stroke-dashoffset:0;stroke-opacity:0.2;stroke-width:0.8;\"/>\n     </g>\n     <g id=\"line2d_35\">\n      <g>\n       <use style=\"stroke:#000000;stroke-width:0.6;\" x=\"251.025358\" xlink:href=\"#mffdddb0195\" y=\"333.36\"/>\n      </g>\n     </g>\n     <g id=\"line2d_36\">\n      <g>\n       <use style=\"stroke:#000000;stroke-width:0.6;\" x=\"251.025358\" xlink:href=\"#m54538ea3ad\" y=\"7.2\"/>\n      </g>\n     </g>\n    </g>\n    <g id=\"xtick_13\">\n     <g id=\"line2d_37\">\n      <path clip-path=\"url(#p51a30411ba)\" d=\"M 262.31483 333.36 \nL 262.31483 7.2 \n\" style=\"fill:none;stroke:#b0b0b0;stroke-dasharray:2.96,1.28;stroke-dashoffset:0;stroke-opacity:0.2;stroke-width:0.8;\"/>\n     </g>\n     <g id=\"line2d_38\">\n      <g>\n       <use style=\"stroke:#000000;stroke-width:0.6;\" x=\"262.31483\" xlink:href=\"#mffdddb0195\" y=\"333.36\"/>\n      </g>\n     </g>\n     <g id=\"line2d_39\">\n      <g>\n       <use style=\"stroke:#000000;stroke-width:0.6;\" x=\"262.31483\" xlink:href=\"#m54538ea3ad\" y=\"7.2\"/>\n      </g>\n     </g>\n    </g>\n    <g id=\"xtick_14\">\n     <g id=\"line2d_40\">\n      <path clip-path=\"url(#p51a30411ba)\" d=\"M 272.272851 333.36 \nL 272.272851 7.2 \n\" style=\"fill:none;stroke:#b0b0b0;stroke-dasharray:2.96,1.28;stroke-dashoffset:0;stroke-opacity:0.2;stroke-width:0.8;\"/>\n     </g>\n     <g id=\"line2d_41\">\n      <g>\n       <use style=\"stroke:#000000;stroke-width:0.6;\" x=\"272.272851\" xlink:href=\"#mffdddb0195\" y=\"333.36\"/>\n      </g>\n     </g>\n     <g id=\"line2d_42\">\n      <g>\n       <use style=\"stroke:#000000;stroke-width:0.6;\" x=\"272.272851\" xlink:href=\"#m54538ea3ad\" y=\"7.2\"/>\n      </g>\n     </g>\n    </g>\n    <g id=\"xtick_15\">\n     <g id=\"line2d_43\">\n      <path clip-path=\"url(#p51a30411ba)\" d=\"M 339.783047 333.36 \nL 339.783047 7.2 \n\" style=\"fill:none;stroke:#b0b0b0;stroke-dasharray:2.96,1.28;stroke-dashoffset:0;stroke-opacity:0.2;stroke-width:0.8;\"/>\n     </g>\n     <g id=\"line2d_44\">\n      <g>\n       <use style=\"stroke:#000000;stroke-width:0.6;\" x=\"339.783047\" xlink:href=\"#mffdddb0195\" y=\"333.36\"/>\n      </g>\n     </g>\n     <g id=\"line2d_45\">\n      <g>\n       <use style=\"stroke:#000000;stroke-width:0.6;\" x=\"339.783047\" xlink:href=\"#m54538ea3ad\" y=\"7.2\"/>\n      </g>\n     </g>\n    </g>\n    <g id=\"xtick_16\">\n     <g id=\"line2d_46\">\n      <path clip-path=\"url(#p51a30411ba)\" d=\"M 374.063279 333.36 \nL 374.063279 7.2 \n\" style=\"fill:none;stroke:#b0b0b0;stroke-dasharray:2.96,1.28;stroke-dashoffset:0;stroke-opacity:0.2;stroke-width:0.8;\"/>\n     </g>\n     <g id=\"line2d_47\">\n      <g>\n       <use style=\"stroke:#000000;stroke-width:0.6;\" x=\"374.063279\" xlink:href=\"#mffdddb0195\" y=\"333.36\"/>\n      </g>\n     </g>\n     <g id=\"line2d_48\">\n      <g>\n       <use style=\"stroke:#000000;stroke-width:0.6;\" x=\"374.063279\" xlink:href=\"#m54538ea3ad\" y=\"7.2\"/>\n      </g>\n     </g>\n    </g>\n    <g id=\"xtick_17\">\n     <g id=\"line2d_49\">\n      <path clip-path=\"url(#p51a30411ba)\" d=\"M 398.38549 333.36 \nL 398.38549 7.2 \n\" style=\"fill:none;stroke:#b0b0b0;stroke-dasharray:2.96,1.28;stroke-dashoffset:0;stroke-opacity:0.2;stroke-width:0.8;\"/>\n     </g>\n     <g id=\"line2d_50\">\n      <g>\n       <use style=\"stroke:#000000;stroke-width:0.6;\" x=\"398.38549\" xlink:href=\"#mffdddb0195\" y=\"333.36\"/>\n      </g>\n     </g>\n     <g id=\"line2d_51\">\n      <g>\n       <use style=\"stroke:#000000;stroke-width:0.6;\" x=\"398.38549\" xlink:href=\"#m54538ea3ad\" y=\"7.2\"/>\n      </g>\n     </g>\n    </g>\n    <g id=\"xtick_18\">\n     <g id=\"line2d_52\">\n      <path clip-path=\"url(#p51a30411ba)\" d=\"M 417.251263 333.36 \nL 417.251263 7.2 \n\" style=\"fill:none;stroke:#b0b0b0;stroke-dasharray:2.96,1.28;stroke-dashoffset:0;stroke-opacity:0.2;stroke-width:0.8;\"/>\n     </g>\n     <g id=\"line2d_53\">\n      <g>\n       <use style=\"stroke:#000000;stroke-width:0.6;\" x=\"417.251263\" xlink:href=\"#mffdddb0195\" y=\"333.36\"/>\n      </g>\n     </g>\n     <g id=\"line2d_54\">\n      <g>\n       <use style=\"stroke:#000000;stroke-width:0.6;\" x=\"417.251263\" xlink:href=\"#m54538ea3ad\" y=\"7.2\"/>\n      </g>\n     </g>\n    </g>\n    <g id=\"xtick_19\">\n     <g id=\"line2d_55\">\n      <path clip-path=\"url(#p51a30411ba)\" d=\"M 432.665722 333.36 \nL 432.665722 7.2 \n\" style=\"fill:none;stroke:#b0b0b0;stroke-dasharray:2.96,1.28;stroke-dashoffset:0;stroke-opacity:0.2;stroke-width:0.8;\"/>\n     </g>\n     <g id=\"line2d_56\">\n      <g>\n       <use style=\"stroke:#000000;stroke-width:0.6;\" x=\"432.665722\" xlink:href=\"#mffdddb0195\" y=\"333.36\"/>\n      </g>\n     </g>\n     <g id=\"line2d_57\">\n      <g>\n       <use style=\"stroke:#000000;stroke-width:0.6;\" x=\"432.665722\" xlink:href=\"#m54538ea3ad\" y=\"7.2\"/>\n      </g>\n     </g>\n    </g>\n    <g id=\"xtick_20\">\n     <g id=\"line2d_58\">\n      <path clip-path=\"url(#p51a30411ba)\" d=\"M 445.698461 333.36 \nL 445.698461 7.2 \n\" style=\"fill:none;stroke:#b0b0b0;stroke-dasharray:2.96,1.28;stroke-dashoffset:0;stroke-opacity:0.2;stroke-width:0.8;\"/>\n     </g>\n     <g id=\"line2d_59\">\n      <g>\n       <use style=\"stroke:#000000;stroke-width:0.6;\" x=\"445.698461\" xlink:href=\"#mffdddb0195\" y=\"333.36\"/>\n      </g>\n     </g>\n     <g id=\"line2d_60\">\n      <g>\n       <use style=\"stroke:#000000;stroke-width:0.6;\" x=\"445.698461\" xlink:href=\"#m54538ea3ad\" y=\"7.2\"/>\n      </g>\n     </g>\n    </g>\n    <g id=\"xtick_21\">\n     <g id=\"line2d_61\">\n      <path clip-path=\"url(#p51a30411ba)\" d=\"M 456.987934 333.36 \nL 456.987934 7.2 \n\" style=\"fill:none;stroke:#b0b0b0;stroke-dasharray:2.96,1.28;stroke-dashoffset:0;stroke-opacity:0.2;stroke-width:0.8;\"/>\n     </g>\n     <g id=\"line2d_62\">\n      <g>\n       <use style=\"stroke:#000000;stroke-width:0.6;\" x=\"456.987934\" xlink:href=\"#mffdddb0195\" y=\"333.36\"/>\n      </g>\n     </g>\n     <g id=\"line2d_63\">\n      <g>\n       <use style=\"stroke:#000000;stroke-width:0.6;\" x=\"456.987934\" xlink:href=\"#m54538ea3ad\" y=\"7.2\"/>\n      </g>\n     </g>\n    </g>\n    <g id=\"xtick_22\">\n     <g id=\"line2d_64\">\n      <path clip-path=\"url(#p51a30411ba)\" d=\"M 466.945954 333.36 \nL 466.945954 7.2 \n\" style=\"fill:none;stroke:#b0b0b0;stroke-dasharray:2.96,1.28;stroke-dashoffset:0;stroke-opacity:0.2;stroke-width:0.8;\"/>\n     </g>\n     <g id=\"line2d_65\">\n      <g>\n       <use style=\"stroke:#000000;stroke-width:0.6;\" x=\"466.945954\" xlink:href=\"#mffdddb0195\" y=\"333.36\"/>\n      </g>\n     </g>\n     <g id=\"line2d_66\">\n      <g>\n       <use style=\"stroke:#000000;stroke-width:0.6;\" x=\"466.945954\" xlink:href=\"#m54538ea3ad\" y=\"7.2\"/>\n      </g>\n     </g>\n    </g>\n    <g id=\"xtick_23\">\n     <g id=\"line2d_67\">\n      <path clip-path=\"url(#p51a30411ba)\" d=\"M 534.45615 333.36 \nL 534.45615 7.2 \n\" style=\"fill:none;stroke:#b0b0b0;stroke-dasharray:2.96,1.28;stroke-dashoffset:0;stroke-opacity:0.2;stroke-width:0.8;\"/>\n     </g>\n     <g id=\"line2d_68\">\n      <g>\n       <use style=\"stroke:#000000;stroke-width:0.6;\" x=\"534.45615\" xlink:href=\"#mffdddb0195\" y=\"333.36\"/>\n      </g>\n     </g>\n     <g id=\"line2d_69\">\n      <g>\n       <use style=\"stroke:#000000;stroke-width:0.6;\" x=\"534.45615\" xlink:href=\"#m54538ea3ad\" y=\"7.2\"/>\n      </g>\n     </g>\n    </g>\n    <g id=\"xtick_24\">\n     <g id=\"line2d_70\">\n      <path clip-path=\"url(#p51a30411ba)\" d=\"M 568.736382 333.36 \nL 568.736382 7.2 \n\" style=\"fill:none;stroke:#b0b0b0;stroke-dasharray:2.96,1.28;stroke-dashoffset:0;stroke-opacity:0.2;stroke-width:0.8;\"/>\n     </g>\n     <g id=\"line2d_71\">\n      <g>\n       <use style=\"stroke:#000000;stroke-width:0.6;\" x=\"568.736382\" xlink:href=\"#mffdddb0195\" y=\"333.36\"/>\n      </g>\n     </g>\n     <g id=\"line2d_72\">\n      <g>\n       <use style=\"stroke:#000000;stroke-width:0.6;\" x=\"568.736382\" xlink:href=\"#m54538ea3ad\" y=\"7.2\"/>\n      </g>\n     </g>\n    </g>\n    <g id=\"xtick_25\">\n     <g id=\"line2d_73\">\n      <path clip-path=\"url(#p51a30411ba)\" d=\"M 593.058594 333.36 \nL 593.058594 7.2 \n\" style=\"fill:none;stroke:#b0b0b0;stroke-dasharray:2.96,1.28;stroke-dashoffset:0;stroke-opacity:0.2;stroke-width:0.8;\"/>\n     </g>\n     <g id=\"line2d_74\">\n      <g>\n       <use style=\"stroke:#000000;stroke-width:0.6;\" x=\"593.058594\" xlink:href=\"#mffdddb0195\" y=\"333.36\"/>\n      </g>\n     </g>\n     <g id=\"line2d_75\">\n      <g>\n       <use style=\"stroke:#000000;stroke-width:0.6;\" x=\"593.058594\" xlink:href=\"#m54538ea3ad\" y=\"7.2\"/>\n      </g>\n     </g>\n    </g>\n    <g id=\"xtick_26\">\n     <g id=\"line2d_76\">\n      <path clip-path=\"url(#p51a30411ba)\" d=\"M 611.924367 333.36 \nL 611.924367 7.2 \n\" style=\"fill:none;stroke:#b0b0b0;stroke-dasharray:2.96,1.28;stroke-dashoffset:0;stroke-opacity:0.2;stroke-width:0.8;\"/>\n     </g>\n     <g id=\"line2d_77\">\n      <g>\n       <use style=\"stroke:#000000;stroke-width:0.6;\" x=\"611.924367\" xlink:href=\"#mffdddb0195\" y=\"333.36\"/>\n      </g>\n     </g>\n     <g id=\"line2d_78\">\n      <g>\n       <use style=\"stroke:#000000;stroke-width:0.6;\" x=\"611.924367\" xlink:href=\"#m54538ea3ad\" y=\"7.2\"/>\n      </g>\n     </g>\n    </g>\n    <g id=\"xtick_27\">\n     <g id=\"line2d_79\">\n      <path clip-path=\"url(#p51a30411ba)\" d=\"M 627.338825 333.36 \nL 627.338825 7.2 \n\" style=\"fill:none;stroke:#b0b0b0;stroke-dasharray:2.96,1.28;stroke-dashoffset:0;stroke-opacity:0.2;stroke-width:0.8;\"/>\n     </g>\n     <g id=\"line2d_80\">\n      <g>\n       <use style=\"stroke:#000000;stroke-width:0.6;\" x=\"627.338825\" xlink:href=\"#mffdddb0195\" y=\"333.36\"/>\n      </g>\n     </g>\n     <g id=\"line2d_81\">\n      <g>\n       <use style=\"stroke:#000000;stroke-width:0.6;\" x=\"627.338825\" xlink:href=\"#m54538ea3ad\" y=\"7.2\"/>\n      </g>\n     </g>\n    </g>\n    <g id=\"xtick_28\">\n     <g id=\"line2d_82\">\n      <path clip-path=\"url(#p51a30411ba)\" d=\"M 640.371565 333.36 \nL 640.371565 7.2 \n\" style=\"fill:none;stroke:#b0b0b0;stroke-dasharray:2.96,1.28;stroke-dashoffset:0;stroke-opacity:0.2;stroke-width:0.8;\"/>\n     </g>\n     <g id=\"line2d_83\">\n      <g>\n       <use style=\"stroke:#000000;stroke-width:0.6;\" x=\"640.371565\" xlink:href=\"#mffdddb0195\" y=\"333.36\"/>\n      </g>\n     </g>\n     <g id=\"line2d_84\">\n      <g>\n       <use style=\"stroke:#000000;stroke-width:0.6;\" x=\"640.371565\" xlink:href=\"#m54538ea3ad\" y=\"7.2\"/>\n      </g>\n     </g>\n    </g>\n    <g id=\"xtick_29\">\n     <g id=\"line2d_85\">\n      <path clip-path=\"url(#p51a30411ba)\" d=\"M 651.661037 333.36 \nL 651.661037 7.2 \n\" style=\"fill:none;stroke:#b0b0b0;stroke-dasharray:2.96,1.28;stroke-dashoffset:0;stroke-opacity:0.2;stroke-width:0.8;\"/>\n     </g>\n     <g id=\"line2d_86\">\n      <g>\n       <use style=\"stroke:#000000;stroke-width:0.6;\" x=\"651.661037\" xlink:href=\"#mffdddb0195\" y=\"333.36\"/>\n      </g>\n     </g>\n     <g id=\"line2d_87\">\n      <g>\n       <use style=\"stroke:#000000;stroke-width:0.6;\" x=\"651.661037\" xlink:href=\"#m54538ea3ad\" y=\"7.2\"/>\n      </g>\n     </g>\n    </g>\n    <g id=\"xtick_30\">\n     <g id=\"line2d_88\">\n      <path clip-path=\"url(#p51a30411ba)\" d=\"M 661.619057 333.36 \nL 661.619057 7.2 \n\" style=\"fill:none;stroke:#b0b0b0;stroke-dasharray:2.96,1.28;stroke-dashoffset:0;stroke-opacity:0.2;stroke-width:0.8;\"/>\n     </g>\n     <g id=\"line2d_89\">\n      <g>\n       <use style=\"stroke:#000000;stroke-width:0.6;\" x=\"661.619057\" xlink:href=\"#mffdddb0195\" y=\"333.36\"/>\n      </g>\n     </g>\n     <g id=\"line2d_90\">\n      <g>\n       <use style=\"stroke:#000000;stroke-width:0.6;\" x=\"661.619057\" xlink:href=\"#m54538ea3ad\" y=\"7.2\"/>\n      </g>\n     </g>\n    </g>\n    <g id=\"text_5\">\n     <!-- $\\ell$ -->\n     <g transform=\"translate(360.8875 378.59375)scale(0.22 -0.22)\">\n      <defs>\n       <path d=\"M 950 838 \nQ 1078 213 1350 213 \nQ 1531 213 1766 572 \nL 2181 572 \nQ 1994 253 1775 88 \nQ 1538 -91 1319 -91 \nQ 831 -91 634 344 \nL 400 0 \nL -88 0 \nQ 250 459 500 888 \nQ 469 1131 469 1397 \nQ 469 1872 566 2347 \nQ 931 4131 1256 4497 \nQ 1481 4750 1866 4750 \nQ 2256 4750 2256 4209 \nQ 2253 3966 2197 3675 \nQ 1972 2484 950 838 \nz\nM 947 1656 \nQ 1531 2744 1709 3613 \nQ 1803 4072 1803 4191 \nQ 1803 4406 1725 4406 \nQ 1384 4134 1081 2516 \nQ 997 2063 947 1656 \nz\n\" id=\"DejaVuSans-Oblique-2113\" transform=\"scale(0.015625)\"/>\n      </defs>\n      <use transform=\"translate(0 0.78125)\" xlink:href=\"#DejaVuSans-Oblique-2113\"/>\n     </g>\n    </g>\n   </g>\n   <g id=\"matplotlib.axis_2\">\n    <g id=\"ytick_1\">\n     <g id=\"line2d_91\">\n      <path clip-path=\"url(#p51a30411ba)\" d=\"M 58.6075 318.589187 \nL 672.4075 318.589187 \n\" style=\"fill:none;stroke:#b0b0b0;stroke-dasharray:2.96,1.28;stroke-dashoffset:0;stroke-opacity:0.2;stroke-width:0.8;\"/>\n     </g>\n     <g id=\"line2d_92\">\n      <defs>\n       <path d=\"M 0 0 \nL 5 0 \n\" id=\"mba8357b0d9\" style=\"stroke:#000000;stroke-width:0.8;\"/>\n      </defs>\n      <g>\n       <use style=\"stroke:#000000;stroke-width:0.8;\" x=\"58.6075\" xlink:href=\"#mba8357b0d9\" y=\"318.589187\"/>\n      </g>\n     </g>\n     <g id=\"line2d_93\">\n      <defs>\n       <path d=\"M 0 0 \nL -5 0 \n\" id=\"m036f008c4a\" style=\"stroke:#000000;stroke-width:0.8;\"/>\n      </defs>\n      <g>\n       <use style=\"stroke:#000000;stroke-width:0.8;\" x=\"672.4075\" xlink:href=\"#m036f008c4a\" y=\"318.589187\"/>\n      </g>\n     </g>\n     <g id=\"text_6\">\n      <!-- 0 -->\n      <g transform=\"translate(44.06375 324.288015)scale(0.15 -0.15)\">\n       <use xlink:href=\"#DejaVuSans-30\"/>\n      </g>\n     </g>\n    </g>\n    <g id=\"ytick_2\">\n     <g id=\"line2d_94\">\n      <path clip-path=\"url(#p51a30411ba)\" d=\"M 58.6075 277.493325 \nL 672.4075 277.493325 \n\" style=\"fill:none;stroke:#b0b0b0;stroke-dasharray:2.96,1.28;stroke-dashoffset:0;stroke-opacity:0.2;stroke-width:0.8;\"/>\n     </g>\n     <g id=\"line2d_95\">\n      <g>\n       <use style=\"stroke:#000000;stroke-width:0.8;\" x=\"58.6075\" xlink:href=\"#mba8357b0d9\" y=\"277.493325\"/>\n      </g>\n     </g>\n     <g id=\"line2d_96\">\n      <g>\n       <use style=\"stroke:#000000;stroke-width:0.8;\" x=\"672.4075\" xlink:href=\"#m036f008c4a\" y=\"277.493325\"/>\n      </g>\n     </g>\n     <g id=\"text_7\">\n      <!-- 2 -->\n      <g transform=\"translate(44.06375 283.192153)scale(0.15 -0.15)\">\n       <use xlink:href=\"#DejaVuSans-32\"/>\n      </g>\n     </g>\n    </g>\n    <g id=\"ytick_3\">\n     <g id=\"line2d_97\">\n      <path clip-path=\"url(#p51a30411ba)\" d=\"M 58.6075 236.397462 \nL 672.4075 236.397462 \n\" style=\"fill:none;stroke:#b0b0b0;stroke-dasharray:2.96,1.28;stroke-dashoffset:0;stroke-opacity:0.2;stroke-width:0.8;\"/>\n     </g>\n     <g id=\"line2d_98\">\n      <g>\n       <use style=\"stroke:#000000;stroke-width:0.8;\" x=\"58.6075\" xlink:href=\"#mba8357b0d9\" y=\"236.397462\"/>\n      </g>\n     </g>\n     <g id=\"line2d_99\">\n      <g>\n       <use style=\"stroke:#000000;stroke-width:0.8;\" x=\"672.4075\" xlink:href=\"#m036f008c4a\" y=\"236.397462\"/>\n      </g>\n     </g>\n     <g id=\"text_8\">\n      <!-- 4 -->\n      <g transform=\"translate(44.06375 242.09629)scale(0.15 -0.15)\">\n       <use xlink:href=\"#DejaVuSans-34\"/>\n      </g>\n     </g>\n    </g>\n    <g id=\"ytick_4\">\n     <g id=\"line2d_100\">\n      <path clip-path=\"url(#p51a30411ba)\" d=\"M 58.6075 195.3016 \nL 672.4075 195.3016 \n\" style=\"fill:none;stroke:#b0b0b0;stroke-dasharray:2.96,1.28;stroke-dashoffset:0;stroke-opacity:0.2;stroke-width:0.8;\"/>\n     </g>\n     <g id=\"line2d_101\">\n      <g>\n       <use style=\"stroke:#000000;stroke-width:0.8;\" x=\"58.6075\" xlink:href=\"#mba8357b0d9\" y=\"195.3016\"/>\n      </g>\n     </g>\n     <g id=\"line2d_102\">\n      <g>\n       <use style=\"stroke:#000000;stroke-width:0.8;\" x=\"672.4075\" xlink:href=\"#m036f008c4a\" y=\"195.3016\"/>\n      </g>\n     </g>\n     <g id=\"text_9\">\n      <!-- 6 -->\n      <g transform=\"translate(44.06375 201.000428)scale(0.15 -0.15)\">\n       <defs>\n        <path d=\"M 2113 2584 \nQ 1688 2584 1439 2293 \nQ 1191 2003 1191 1497 \nQ 1191 994 1439 701 \nQ 1688 409 2113 409 \nQ 2538 409 2786 701 \nQ 3034 994 3034 1497 \nQ 3034 2003 2786 2293 \nQ 2538 2584 2113 2584 \nz\nM 3366 4563 \nL 3366 3988 \nQ 3128 4100 2886 4159 \nQ 2644 4219 2406 4219 \nQ 1781 4219 1451 3797 \nQ 1122 3375 1075 2522 \nQ 1259 2794 1537 2939 \nQ 1816 3084 2150 3084 \nQ 2853 3084 3261 2657 \nQ 3669 2231 3669 1497 \nQ 3669 778 3244 343 \nQ 2819 -91 2113 -91 \nQ 1303 -91 875 529 \nQ 447 1150 447 2328 \nQ 447 3434 972 4092 \nQ 1497 4750 2381 4750 \nQ 2619 4750 2861 4703 \nQ 3103 4656 3366 4563 \nz\n\" id=\"DejaVuSans-36\" transform=\"scale(0.015625)\"/>\n       </defs>\n       <use xlink:href=\"#DejaVuSans-36\"/>\n      </g>\n     </g>\n    </g>\n    <g id=\"ytick_5\">\n     <g id=\"line2d_103\">\n      <path clip-path=\"url(#p51a30411ba)\" d=\"M 58.6075 154.205738 \nL 672.4075 154.205738 \n\" style=\"fill:none;stroke:#b0b0b0;stroke-dasharray:2.96,1.28;stroke-dashoffset:0;stroke-opacity:0.2;stroke-width:0.8;\"/>\n     </g>\n     <g id=\"line2d_104\">\n      <g>\n       <use style=\"stroke:#000000;stroke-width:0.8;\" x=\"58.6075\" xlink:href=\"#mba8357b0d9\" y=\"154.205738\"/>\n      </g>\n     </g>\n     <g id=\"line2d_105\">\n      <g>\n       <use style=\"stroke:#000000;stroke-width:0.8;\" x=\"672.4075\" xlink:href=\"#m036f008c4a\" y=\"154.205738\"/>\n      </g>\n     </g>\n     <g id=\"text_10\">\n      <!-- 8 -->\n      <g transform=\"translate(44.06375 159.904566)scale(0.15 -0.15)\">\n       <defs>\n        <path d=\"M 2034 2216 \nQ 1584 2216 1326 1975 \nQ 1069 1734 1069 1313 \nQ 1069 891 1326 650 \nQ 1584 409 2034 409 \nQ 2484 409 2743 651 \nQ 3003 894 3003 1313 \nQ 3003 1734 2745 1975 \nQ 2488 2216 2034 2216 \nz\nM 1403 2484 \nQ 997 2584 770 2862 \nQ 544 3141 544 3541 \nQ 544 4100 942 4425 \nQ 1341 4750 2034 4750 \nQ 2731 4750 3128 4425 \nQ 3525 4100 3525 3541 \nQ 3525 3141 3298 2862 \nQ 3072 2584 2669 2484 \nQ 3125 2378 3379 2068 \nQ 3634 1759 3634 1313 \nQ 3634 634 3220 271 \nQ 2806 -91 2034 -91 \nQ 1263 -91 848 271 \nQ 434 634 434 1313 \nQ 434 1759 690 2068 \nQ 947 2378 1403 2484 \nz\nM 1172 3481 \nQ 1172 3119 1398 2916 \nQ 1625 2713 2034 2713 \nQ 2441 2713 2670 2916 \nQ 2900 3119 2900 3481 \nQ 2900 3844 2670 4047 \nQ 2441 4250 2034 4250 \nQ 1625 4250 1398 4047 \nQ 1172 3844 1172 3481 \nz\n\" id=\"DejaVuSans-38\" transform=\"scale(0.015625)\"/>\n       </defs>\n       <use xlink:href=\"#DejaVuSans-38\"/>\n      </g>\n     </g>\n    </g>\n    <g id=\"ytick_6\">\n     <g id=\"line2d_106\">\n      <path clip-path=\"url(#p51a30411ba)\" d=\"M 58.6075 113.109876 \nL 672.4075 113.109876 \n\" style=\"fill:none;stroke:#b0b0b0;stroke-dasharray:2.96,1.28;stroke-dashoffset:0;stroke-opacity:0.2;stroke-width:0.8;\"/>\n     </g>\n     <g id=\"line2d_107\">\n      <g>\n       <use style=\"stroke:#000000;stroke-width:0.8;\" x=\"58.6075\" xlink:href=\"#mba8357b0d9\" y=\"113.109876\"/>\n      </g>\n     </g>\n     <g id=\"line2d_108\">\n      <g>\n       <use style=\"stroke:#000000;stroke-width:0.8;\" x=\"672.4075\" xlink:href=\"#m036f008c4a\" y=\"113.109876\"/>\n      </g>\n     </g>\n     <g id=\"text_11\">\n      <!-- 10 -->\n      <g transform=\"translate(34.52 118.808704)scale(0.15 -0.15)\">\n       <use xlink:href=\"#DejaVuSans-31\"/>\n       <use x=\"63.623047\" xlink:href=\"#DejaVuSans-30\"/>\n      </g>\n     </g>\n    </g>\n    <g id=\"ytick_7\">\n     <g id=\"line2d_109\">\n      <path clip-path=\"url(#p51a30411ba)\" d=\"M 58.6075 72.014013 \nL 672.4075 72.014013 \n\" style=\"fill:none;stroke:#b0b0b0;stroke-dasharray:2.96,1.28;stroke-dashoffset:0;stroke-opacity:0.2;stroke-width:0.8;\"/>\n     </g>\n     <g id=\"line2d_110\">\n      <g>\n       <use style=\"stroke:#000000;stroke-width:0.8;\" x=\"58.6075\" xlink:href=\"#mba8357b0d9\" y=\"72.014013\"/>\n      </g>\n     </g>\n     <g id=\"line2d_111\">\n      <g>\n       <use style=\"stroke:#000000;stroke-width:0.8;\" x=\"672.4075\" xlink:href=\"#m036f008c4a\" y=\"72.014013\"/>\n      </g>\n     </g>\n     <g id=\"text_12\">\n      <!-- 12 -->\n      <g transform=\"translate(34.52 77.712841)scale(0.15 -0.15)\">\n       <use xlink:href=\"#DejaVuSans-31\"/>\n       <use x=\"63.623047\" xlink:href=\"#DejaVuSans-32\"/>\n      </g>\n     </g>\n    </g>\n    <g id=\"ytick_8\">\n     <g id=\"line2d_112\">\n      <path clip-path=\"url(#p51a30411ba)\" d=\"M 58.6075 30.918151 \nL 672.4075 30.918151 \n\" style=\"fill:none;stroke:#b0b0b0;stroke-dasharray:2.96,1.28;stroke-dashoffset:0;stroke-opacity:0.2;stroke-width:0.8;\"/>\n     </g>\n     <g id=\"line2d_113\">\n      <g>\n       <use style=\"stroke:#000000;stroke-width:0.8;\" x=\"58.6075\" xlink:href=\"#mba8357b0d9\" y=\"30.918151\"/>\n      </g>\n     </g>\n     <g id=\"line2d_114\">\n      <g>\n       <use style=\"stroke:#000000;stroke-width:0.8;\" x=\"672.4075\" xlink:href=\"#m036f008c4a\" y=\"30.918151\"/>\n      </g>\n     </g>\n     <g id=\"text_13\">\n      <!-- 14 -->\n      <g transform=\"translate(34.52 36.616979)scale(0.15 -0.15)\">\n       <use xlink:href=\"#DejaVuSans-31\"/>\n       <use x=\"63.623047\" xlink:href=\"#DejaVuSans-34\"/>\n      </g>\n     </g>\n    </g>\n    <g id=\"ytick_9\">\n     <g id=\"line2d_115\">\n      <path clip-path=\"url(#p51a30411ba)\" d=\"M 58.6075 328.863152 \nL 672.4075 328.863152 \n\" style=\"fill:none;stroke:#b0b0b0;stroke-dasharray:2.96,1.28;stroke-dashoffset:0;stroke-opacity:0.2;stroke-width:0.8;\"/>\n     </g>\n     <g id=\"line2d_116\">\n      <defs>\n       <path d=\"M 0 0 \nL 5 0 \n\" id=\"m5836e3f3fd\" style=\"stroke:#000000;stroke-width:0.6;\"/>\n      </defs>\n      <g>\n       <use style=\"stroke:#000000;stroke-width:0.6;\" x=\"58.6075\" xlink:href=\"#m5836e3f3fd\" y=\"328.863152\"/>\n      </g>\n     </g>\n     <g id=\"line2d_117\">\n      <defs>\n       <path d=\"M 0 0 \nL -5 0 \n\" id=\"m8887b0de81\" style=\"stroke:#000000;stroke-width:0.6;\"/>\n      </defs>\n      <g>\n       <use style=\"stroke:#000000;stroke-width:0.6;\" x=\"672.4075\" xlink:href=\"#m8887b0de81\" y=\"328.863152\"/>\n      </g>\n     </g>\n    </g>\n    <g id=\"ytick_10\">\n     <g id=\"line2d_118\">\n      <path clip-path=\"url(#p51a30411ba)\" d=\"M 58.6075 308.315221 \nL 672.4075 308.315221 \n\" style=\"fill:none;stroke:#b0b0b0;stroke-dasharray:2.96,1.28;stroke-dashoffset:0;stroke-opacity:0.2;stroke-width:0.8;\"/>\n     </g>\n     <g id=\"line2d_119\">\n      <g>\n       <use style=\"stroke:#000000;stroke-width:0.6;\" x=\"58.6075\" xlink:href=\"#m5836e3f3fd\" y=\"308.315221\"/>\n      </g>\n     </g>\n     <g id=\"line2d_120\">\n      <g>\n       <use style=\"stroke:#000000;stroke-width:0.6;\" x=\"672.4075\" xlink:href=\"#m8887b0de81\" y=\"308.315221\"/>\n      </g>\n     </g>\n    </g>\n    <g id=\"ytick_11\">\n     <g id=\"line2d_121\">\n      <path clip-path=\"url(#p51a30411ba)\" d=\"M 58.6075 298.041256 \nL 672.4075 298.041256 \n\" style=\"fill:none;stroke:#b0b0b0;stroke-dasharray:2.96,1.28;stroke-dashoffset:0;stroke-opacity:0.2;stroke-width:0.8;\"/>\n     </g>\n     <g id=\"line2d_122\">\n      <g>\n       <use style=\"stroke:#000000;stroke-width:0.6;\" x=\"58.6075\" xlink:href=\"#m5836e3f3fd\" y=\"298.041256\"/>\n      </g>\n     </g>\n     <g id=\"line2d_123\">\n      <g>\n       <use style=\"stroke:#000000;stroke-width:0.6;\" x=\"672.4075\" xlink:href=\"#m8887b0de81\" y=\"298.041256\"/>\n      </g>\n     </g>\n    </g>\n    <g id=\"ytick_12\">\n     <g id=\"line2d_124\">\n      <path clip-path=\"url(#p51a30411ba)\" d=\"M 58.6075 287.76729 \nL 672.4075 287.76729 \n\" style=\"fill:none;stroke:#b0b0b0;stroke-dasharray:2.96,1.28;stroke-dashoffset:0;stroke-opacity:0.2;stroke-width:0.8;\"/>\n     </g>\n     <g id=\"line2d_125\">\n      <g>\n       <use style=\"stroke:#000000;stroke-width:0.6;\" x=\"58.6075\" xlink:href=\"#m5836e3f3fd\" y=\"287.76729\"/>\n      </g>\n     </g>\n     <g id=\"line2d_126\">\n      <g>\n       <use style=\"stroke:#000000;stroke-width:0.6;\" x=\"672.4075\" xlink:href=\"#m8887b0de81\" y=\"287.76729\"/>\n      </g>\n     </g>\n    </g>\n    <g id=\"ytick_13\">\n     <g id=\"line2d_127\">\n      <path clip-path=\"url(#p51a30411ba)\" d=\"M 58.6075 267.219359 \nL 672.4075 267.219359 \n\" style=\"fill:none;stroke:#b0b0b0;stroke-dasharray:2.96,1.28;stroke-dashoffset:0;stroke-opacity:0.2;stroke-width:0.8;\"/>\n     </g>\n     <g id=\"line2d_128\">\n      <g>\n       <use style=\"stroke:#000000;stroke-width:0.6;\" x=\"58.6075\" xlink:href=\"#m5836e3f3fd\" y=\"267.219359\"/>\n      </g>\n     </g>\n     <g id=\"line2d_129\">\n      <g>\n       <use style=\"stroke:#000000;stroke-width:0.6;\" x=\"672.4075\" xlink:href=\"#m8887b0de81\" y=\"267.219359\"/>\n      </g>\n     </g>\n    </g>\n    <g id=\"ytick_14\">\n     <g id=\"line2d_130\">\n      <path clip-path=\"url(#p51a30411ba)\" d=\"M 58.6075 256.945393 \nL 672.4075 256.945393 \n\" style=\"fill:none;stroke:#b0b0b0;stroke-dasharray:2.96,1.28;stroke-dashoffset:0;stroke-opacity:0.2;stroke-width:0.8;\"/>\n     </g>\n     <g id=\"line2d_131\">\n      <g>\n       <use style=\"stroke:#000000;stroke-width:0.6;\" x=\"58.6075\" xlink:href=\"#m5836e3f3fd\" y=\"256.945393\"/>\n      </g>\n     </g>\n     <g id=\"line2d_132\">\n      <g>\n       <use style=\"stroke:#000000;stroke-width:0.6;\" x=\"672.4075\" xlink:href=\"#m8887b0de81\" y=\"256.945393\"/>\n      </g>\n     </g>\n    </g>\n    <g id=\"ytick_15\">\n     <g id=\"line2d_133\">\n      <path clip-path=\"url(#p51a30411ba)\" d=\"M 58.6075 246.671428 \nL 672.4075 246.671428 \n\" style=\"fill:none;stroke:#b0b0b0;stroke-dasharray:2.96,1.28;stroke-dashoffset:0;stroke-opacity:0.2;stroke-width:0.8;\"/>\n     </g>\n     <g id=\"line2d_134\">\n      <g>\n       <use style=\"stroke:#000000;stroke-width:0.6;\" x=\"58.6075\" xlink:href=\"#m5836e3f3fd\" y=\"246.671428\"/>\n      </g>\n     </g>\n     <g id=\"line2d_135\">\n      <g>\n       <use style=\"stroke:#000000;stroke-width:0.6;\" x=\"672.4075\" xlink:href=\"#m8887b0de81\" y=\"246.671428\"/>\n      </g>\n     </g>\n    </g>\n    <g id=\"ytick_16\">\n     <g id=\"line2d_136\">\n      <path clip-path=\"url(#p51a30411ba)\" d=\"M 58.6075 226.123497 \nL 672.4075 226.123497 \n\" style=\"fill:none;stroke:#b0b0b0;stroke-dasharray:2.96,1.28;stroke-dashoffset:0;stroke-opacity:0.2;stroke-width:0.8;\"/>\n     </g>\n     <g id=\"line2d_137\">\n      <g>\n       <use style=\"stroke:#000000;stroke-width:0.6;\" x=\"58.6075\" xlink:href=\"#m5836e3f3fd\" y=\"226.123497\"/>\n      </g>\n     </g>\n     <g id=\"line2d_138\">\n      <g>\n       <use style=\"stroke:#000000;stroke-width:0.6;\" x=\"672.4075\" xlink:href=\"#m8887b0de81\" y=\"226.123497\"/>\n      </g>\n     </g>\n    </g>\n    <g id=\"ytick_17\">\n     <g id=\"line2d_139\">\n      <path clip-path=\"url(#p51a30411ba)\" d=\"M 58.6075 215.849531 \nL 672.4075 215.849531 \n\" style=\"fill:none;stroke:#b0b0b0;stroke-dasharray:2.96,1.28;stroke-dashoffset:0;stroke-opacity:0.2;stroke-width:0.8;\"/>\n     </g>\n     <g id=\"line2d_140\">\n      <g>\n       <use style=\"stroke:#000000;stroke-width:0.6;\" x=\"58.6075\" xlink:href=\"#m5836e3f3fd\" y=\"215.849531\"/>\n      </g>\n     </g>\n     <g id=\"line2d_141\">\n      <g>\n       <use style=\"stroke:#000000;stroke-width:0.6;\" x=\"672.4075\" xlink:href=\"#m8887b0de81\" y=\"215.849531\"/>\n      </g>\n     </g>\n    </g>\n    <g id=\"ytick_18\">\n     <g id=\"line2d_142\">\n      <path clip-path=\"url(#p51a30411ba)\" d=\"M 58.6075 205.575566 \nL 672.4075 205.575566 \n\" style=\"fill:none;stroke:#b0b0b0;stroke-dasharray:2.96,1.28;stroke-dashoffset:0;stroke-opacity:0.2;stroke-width:0.8;\"/>\n     </g>\n     <g id=\"line2d_143\">\n      <g>\n       <use style=\"stroke:#000000;stroke-width:0.6;\" x=\"58.6075\" xlink:href=\"#m5836e3f3fd\" y=\"205.575566\"/>\n      </g>\n     </g>\n     <g id=\"line2d_144\">\n      <g>\n       <use style=\"stroke:#000000;stroke-width:0.6;\" x=\"672.4075\" xlink:href=\"#m8887b0de81\" y=\"205.575566\"/>\n      </g>\n     </g>\n    </g>\n    <g id=\"ytick_19\">\n     <g id=\"line2d_145\">\n      <path clip-path=\"url(#p51a30411ba)\" d=\"M 58.6075 185.027635 \nL 672.4075 185.027635 \n\" style=\"fill:none;stroke:#b0b0b0;stroke-dasharray:2.96,1.28;stroke-dashoffset:0;stroke-opacity:0.2;stroke-width:0.8;\"/>\n     </g>\n     <g id=\"line2d_146\">\n      <g>\n       <use style=\"stroke:#000000;stroke-width:0.6;\" x=\"58.6075\" xlink:href=\"#m5836e3f3fd\" y=\"185.027635\"/>\n      </g>\n     </g>\n     <g id=\"line2d_147\">\n      <g>\n       <use style=\"stroke:#000000;stroke-width:0.6;\" x=\"672.4075\" xlink:href=\"#m8887b0de81\" y=\"185.027635\"/>\n      </g>\n     </g>\n    </g>\n    <g id=\"ytick_20\">\n     <g id=\"line2d_148\">\n      <path clip-path=\"url(#p51a30411ba)\" d=\"M 58.6075 174.753669 \nL 672.4075 174.753669 \n\" style=\"fill:none;stroke:#b0b0b0;stroke-dasharray:2.96,1.28;stroke-dashoffset:0;stroke-opacity:0.2;stroke-width:0.8;\"/>\n     </g>\n     <g id=\"line2d_149\">\n      <g>\n       <use style=\"stroke:#000000;stroke-width:0.6;\" x=\"58.6075\" xlink:href=\"#m5836e3f3fd\" y=\"174.753669\"/>\n      </g>\n     </g>\n     <g id=\"line2d_150\">\n      <g>\n       <use style=\"stroke:#000000;stroke-width:0.6;\" x=\"672.4075\" xlink:href=\"#m8887b0de81\" y=\"174.753669\"/>\n      </g>\n     </g>\n    </g>\n    <g id=\"ytick_21\">\n     <g id=\"line2d_151\">\n      <path clip-path=\"url(#p51a30411ba)\" d=\"M 58.6075 164.479703 \nL 672.4075 164.479703 \n\" style=\"fill:none;stroke:#b0b0b0;stroke-dasharray:2.96,1.28;stroke-dashoffset:0;stroke-opacity:0.2;stroke-width:0.8;\"/>\n     </g>\n     <g id=\"line2d_152\">\n      <g>\n       <use style=\"stroke:#000000;stroke-width:0.6;\" x=\"58.6075\" xlink:href=\"#m5836e3f3fd\" y=\"164.479703\"/>\n      </g>\n     </g>\n     <g id=\"line2d_153\">\n      <g>\n       <use style=\"stroke:#000000;stroke-width:0.6;\" x=\"672.4075\" xlink:href=\"#m8887b0de81\" y=\"164.479703\"/>\n      </g>\n     </g>\n    </g>\n    <g id=\"ytick_22\">\n     <g id=\"line2d_154\">\n      <path clip-path=\"url(#p51a30411ba)\" d=\"M 58.6075 143.931772 \nL 672.4075 143.931772 \n\" style=\"fill:none;stroke:#b0b0b0;stroke-dasharray:2.96,1.28;stroke-dashoffset:0;stroke-opacity:0.2;stroke-width:0.8;\"/>\n     </g>\n     <g id=\"line2d_155\">\n      <g>\n       <use style=\"stroke:#000000;stroke-width:0.6;\" x=\"58.6075\" xlink:href=\"#m5836e3f3fd\" y=\"143.931772\"/>\n      </g>\n     </g>\n     <g id=\"line2d_156\">\n      <g>\n       <use style=\"stroke:#000000;stroke-width:0.6;\" x=\"672.4075\" xlink:href=\"#m8887b0de81\" y=\"143.931772\"/>\n      </g>\n     </g>\n    </g>\n    <g id=\"ytick_23\">\n     <g id=\"line2d_157\">\n      <path clip-path=\"url(#p51a30411ba)\" d=\"M 58.6075 133.657807 \nL 672.4075 133.657807 \n\" style=\"fill:none;stroke:#b0b0b0;stroke-dasharray:2.96,1.28;stroke-dashoffset:0;stroke-opacity:0.2;stroke-width:0.8;\"/>\n     </g>\n     <g id=\"line2d_158\">\n      <g>\n       <use style=\"stroke:#000000;stroke-width:0.6;\" x=\"58.6075\" xlink:href=\"#m5836e3f3fd\" y=\"133.657807\"/>\n      </g>\n     </g>\n     <g id=\"line2d_159\">\n      <g>\n       <use style=\"stroke:#000000;stroke-width:0.6;\" x=\"672.4075\" xlink:href=\"#m8887b0de81\" y=\"133.657807\"/>\n      </g>\n     </g>\n    </g>\n    <g id=\"ytick_24\">\n     <g id=\"line2d_160\">\n      <path clip-path=\"url(#p51a30411ba)\" d=\"M 58.6075 123.383841 \nL 672.4075 123.383841 \n\" style=\"fill:none;stroke:#b0b0b0;stroke-dasharray:2.96,1.28;stroke-dashoffset:0;stroke-opacity:0.2;stroke-width:0.8;\"/>\n     </g>\n     <g id=\"line2d_161\">\n      <g>\n       <use style=\"stroke:#000000;stroke-width:0.6;\" x=\"58.6075\" xlink:href=\"#m5836e3f3fd\" y=\"123.383841\"/>\n      </g>\n     </g>\n     <g id=\"line2d_162\">\n      <g>\n       <use style=\"stroke:#000000;stroke-width:0.6;\" x=\"672.4075\" xlink:href=\"#m8887b0de81\" y=\"123.383841\"/>\n      </g>\n     </g>\n    </g>\n    <g id=\"ytick_25\">\n     <g id=\"line2d_163\">\n      <path clip-path=\"url(#p51a30411ba)\" d=\"M 58.6075 102.83591 \nL 672.4075 102.83591 \n\" style=\"fill:none;stroke:#b0b0b0;stroke-dasharray:2.96,1.28;stroke-dashoffset:0;stroke-opacity:0.2;stroke-width:0.8;\"/>\n     </g>\n     <g id=\"line2d_164\">\n      <g>\n       <use style=\"stroke:#000000;stroke-width:0.6;\" x=\"58.6075\" xlink:href=\"#m5836e3f3fd\" y=\"102.83591\"/>\n      </g>\n     </g>\n     <g id=\"line2d_165\">\n      <g>\n       <use style=\"stroke:#000000;stroke-width:0.6;\" x=\"672.4075\" xlink:href=\"#m8887b0de81\" y=\"102.83591\"/>\n      </g>\n     </g>\n    </g>\n    <g id=\"ytick_26\">\n     <g id=\"line2d_166\">\n      <path clip-path=\"url(#p51a30411ba)\" d=\"M 58.6075 92.561944 \nL 672.4075 92.561944 \n\" style=\"fill:none;stroke:#b0b0b0;stroke-dasharray:2.96,1.28;stroke-dashoffset:0;stroke-opacity:0.2;stroke-width:0.8;\"/>\n     </g>\n     <g id=\"line2d_167\">\n      <g>\n       <use style=\"stroke:#000000;stroke-width:0.6;\" x=\"58.6075\" xlink:href=\"#m5836e3f3fd\" y=\"92.561944\"/>\n      </g>\n     </g>\n     <g id=\"line2d_168\">\n      <g>\n       <use style=\"stroke:#000000;stroke-width:0.6;\" x=\"672.4075\" xlink:href=\"#m8887b0de81\" y=\"92.561944\"/>\n      </g>\n     </g>\n    </g>\n    <g id=\"ytick_27\">\n     <g id=\"line2d_169\">\n      <path clip-path=\"url(#p51a30411ba)\" d=\"M 58.6075 82.287979 \nL 672.4075 82.287979 \n\" style=\"fill:none;stroke:#b0b0b0;stroke-dasharray:2.96,1.28;stroke-dashoffset:0;stroke-opacity:0.2;stroke-width:0.8;\"/>\n     </g>\n     <g id=\"line2d_170\">\n      <g>\n       <use style=\"stroke:#000000;stroke-width:0.6;\" x=\"58.6075\" xlink:href=\"#m5836e3f3fd\" y=\"82.287979\"/>\n      </g>\n     </g>\n     <g id=\"line2d_171\">\n      <g>\n       <use style=\"stroke:#000000;stroke-width:0.6;\" x=\"672.4075\" xlink:href=\"#m8887b0de81\" y=\"82.287979\"/>\n      </g>\n     </g>\n    </g>\n    <g id=\"ytick_28\">\n     <g id=\"line2d_172\">\n      <path clip-path=\"url(#p51a30411ba)\" d=\"M 58.6075 61.740048 \nL 672.4075 61.740048 \n\" style=\"fill:none;stroke:#b0b0b0;stroke-dasharray:2.96,1.28;stroke-dashoffset:0;stroke-opacity:0.2;stroke-width:0.8;\"/>\n     </g>\n     <g id=\"line2d_173\">\n      <g>\n       <use style=\"stroke:#000000;stroke-width:0.6;\" x=\"58.6075\" xlink:href=\"#m5836e3f3fd\" y=\"61.740048\"/>\n      </g>\n     </g>\n     <g id=\"line2d_174\">\n      <g>\n       <use style=\"stroke:#000000;stroke-width:0.6;\" x=\"672.4075\" xlink:href=\"#m8887b0de81\" y=\"61.740048\"/>\n      </g>\n     </g>\n    </g>\n    <g id=\"ytick_29\">\n     <g id=\"line2d_175\">\n      <path clip-path=\"url(#p51a30411ba)\" d=\"M 58.6075 51.466082 \nL 672.4075 51.466082 \n\" style=\"fill:none;stroke:#b0b0b0;stroke-dasharray:2.96,1.28;stroke-dashoffset:0;stroke-opacity:0.2;stroke-width:0.8;\"/>\n     </g>\n     <g id=\"line2d_176\">\n      <g>\n       <use style=\"stroke:#000000;stroke-width:0.6;\" x=\"58.6075\" xlink:href=\"#m5836e3f3fd\" y=\"51.466082\"/>\n      </g>\n     </g>\n     <g id=\"line2d_177\">\n      <g>\n       <use style=\"stroke:#000000;stroke-width:0.6;\" x=\"672.4075\" xlink:href=\"#m8887b0de81\" y=\"51.466082\"/>\n      </g>\n     </g>\n    </g>\n    <g id=\"ytick_30\">\n     <g id=\"line2d_178\">\n      <path clip-path=\"url(#p51a30411ba)\" d=\"M 58.6075 41.192117 \nL 672.4075 41.192117 \n\" style=\"fill:none;stroke:#b0b0b0;stroke-dasharray:2.96,1.28;stroke-dashoffset:0;stroke-opacity:0.2;stroke-width:0.8;\"/>\n     </g>\n     <g id=\"line2d_179\">\n      <g>\n       <use style=\"stroke:#000000;stroke-width:0.6;\" x=\"58.6075\" xlink:href=\"#m5836e3f3fd\" y=\"41.192117\"/>\n      </g>\n     </g>\n     <g id=\"line2d_180\">\n      <g>\n       <use style=\"stroke:#000000;stroke-width:0.6;\" x=\"672.4075\" xlink:href=\"#m8887b0de81\" y=\"41.192117\"/>\n      </g>\n     </g>\n    </g>\n    <g id=\"ytick_31\">\n     <g id=\"line2d_181\">\n      <path clip-path=\"url(#p51a30411ba)\" d=\"M 58.6075 20.644186 \nL 672.4075 20.644186 \n\" style=\"fill:none;stroke:#b0b0b0;stroke-dasharray:2.96,1.28;stroke-dashoffset:0;stroke-opacity:0.2;stroke-width:0.8;\"/>\n     </g>\n     <g id=\"line2d_182\">\n      <g>\n       <use style=\"stroke:#000000;stroke-width:0.6;\" x=\"58.6075\" xlink:href=\"#m5836e3f3fd\" y=\"20.644186\"/>\n      </g>\n     </g>\n     <g id=\"line2d_183\">\n      <g>\n       <use style=\"stroke:#000000;stroke-width:0.6;\" x=\"672.4075\" xlink:href=\"#m8887b0de81\" y=\"20.644186\"/>\n      </g>\n     </g>\n    </g>\n    <g id=\"ytick_32\">\n     <g id=\"line2d_184\">\n      <path clip-path=\"url(#p51a30411ba)\" d=\"M 58.6075 10.37022 \nL 672.4075 10.37022 \n\" style=\"fill:none;stroke:#b0b0b0;stroke-dasharray:2.96,1.28;stroke-dashoffset:0;stroke-opacity:0.2;stroke-width:0.8;\"/>\n     </g>\n     <g id=\"line2d_185\">\n      <g>\n       <use style=\"stroke:#000000;stroke-width:0.6;\" x=\"58.6075\" xlink:href=\"#m5836e3f3fd\" y=\"10.37022\"/>\n      </g>\n     </g>\n     <g id=\"line2d_186\">\n      <g>\n       <use style=\"stroke:#000000;stroke-width:0.6;\" x=\"672.4075\" xlink:href=\"#m8887b0de81\" y=\"10.37022\"/>\n      </g>\n     </g>\n    </g>\n    <g id=\"text_14\">\n     <!-- $\\ell C^{\\nu\\kappa}_{\\ell}$ [Jy/sr] -->\n     <g transform=\"translate(24.14 228.25)rotate(-90)scale(0.22 -0.22)\">\n      <defs>\n       <path d=\"M 4447 4306 \nL 4319 3641 \nQ 4019 3944 3683 4091 \nQ 3347 4238 2956 4238 \nQ 2422 4238 2017 3981 \nQ 1613 3725 1319 3200 \nQ 1131 2863 1032 2486 \nQ 934 2109 934 1728 \nQ 934 1091 1264 756 \nQ 1594 422 2222 422 \nQ 2656 422 3056 561 \nQ 3456 700 3834 978 \nL 3688 231 \nQ 3316 72 2936 -9 \nQ 2556 -91 2175 -91 \nQ 1278 -91 773 396 \nQ 269 884 269 1753 \nQ 269 2309 461 2846 \nQ 653 3384 1013 3828 \nQ 1394 4300 1883 4525 \nQ 2372 4750 3022 4750 \nQ 3422 4750 3780 4639 \nQ 4138 4528 4447 4306 \nz\n\" id=\"DejaVuSans-Oblique-43\" transform=\"scale(0.015625)\"/>\n       <path d=\"M 959 0 \nL 572 3500 \nL 1191 3500 \nL 1522 563 \nQ 1972 950 2391 1488 \nQ 2706 1891 2788 2241 \nQ 2825 2406 2809 2719 \nQ 2794 3091 2544 3500 \nL 3125 3500 \nL 3125 3500 \nQ 3288 3222 3353 2834 \nQ 3416 2478 3369 2234 \nQ 3250 1622 2719 1075 \nQ 2025 363 1572 0 \nL 959 0 \nz\n\" id=\"DejaVuSans-Oblique-3bd\" transform=\"scale(0.015625)\"/>\n       <path d=\"M 938 3500 \nL 1531 3500 \nL 1247 2047 \nL 3041 3500 \nL 3741 3500 \nL 2106 2181 \nL 3275 0 \nL 2572 0 \nL 1628 1806 \nL 1122 1403 \nL 850 0 \nL 256 0 \nL 938 3500 \nz\n\" id=\"DejaVuSans-Oblique-3ba\" transform=\"scale(0.015625)\"/>\n       <path id=\"DejaVuSans-20\" transform=\"scale(0.015625)\"/>\n       <path d=\"M 550 4863 \nL 1875 4863 \nL 1875 4416 \nL 1125 4416 \nL 1125 -397 \nL 1875 -397 \nL 1875 -844 \nL 550 -844 \nL 550 4863 \nz\n\" id=\"DejaVuSans-5b\" transform=\"scale(0.015625)\"/>\n       <path d=\"M 628 4666 \nL 1259 4666 \nL 1259 325 \nQ 1259 -519 939 -900 \nQ 619 -1281 -91 -1281 \nL -331 -1281 \nL -331 -750 \nL -134 -750 \nQ 284 -750 456 -515 \nQ 628 -281 628 325 \nL 628 4666 \nz\n\" id=\"DejaVuSans-4a\" transform=\"scale(0.015625)\"/>\n       <path d=\"M 2059 -325 \nQ 1816 -950 1584 -1140 \nQ 1353 -1331 966 -1331 \nL 506 -1331 \nL 506 -850 \nL 844 -850 \nQ 1081 -850 1212 -737 \nQ 1344 -625 1503 -206 \nL 1606 56 \nL 191 3500 \nL 800 3500 \nL 1894 763 \nL 2988 3500 \nL 3597 3500 \nL 2059 -325 \nz\n\" id=\"DejaVuSans-79\" transform=\"scale(0.015625)\"/>\n       <path d=\"M 1625 4666 \nL 2156 4666 \nL 531 -594 \nL 0 -594 \nL 1625 4666 \nz\n\" id=\"DejaVuSans-2f\" transform=\"scale(0.015625)\"/>\n       <path d=\"M 2834 3397 \nL 2834 2853 \nQ 2591 2978 2328 3040 \nQ 2066 3103 1784 3103 \nQ 1356 3103 1142 2972 \nQ 928 2841 928 2578 \nQ 928 2378 1081 2264 \nQ 1234 2150 1697 2047 \nL 1894 2003 \nQ 2506 1872 2764 1633 \nQ 3022 1394 3022 966 \nQ 3022 478 2636 193 \nQ 2250 -91 1575 -91 \nQ 1294 -91 989 -36 \nQ 684 19 347 128 \nL 347 722 \nQ 666 556 975 473 \nQ 1284 391 1588 391 \nQ 1994 391 2212 530 \nQ 2431 669 2431 922 \nQ 2431 1156 2273 1281 \nQ 2116 1406 1581 1522 \nL 1381 1569 \nQ 847 1681 609 1914 \nQ 372 2147 372 2553 \nQ 372 3047 722 3315 \nQ 1072 3584 1716 3584 \nQ 2034 3584 2315 3537 \nQ 2597 3491 2834 3397 \nz\n\" id=\"DejaVuSans-73\" transform=\"scale(0.015625)\"/>\n       <path d=\"M 2631 2963 \nQ 2534 3019 2420 3045 \nQ 2306 3072 2169 3072 \nQ 1681 3072 1420 2755 \nQ 1159 2438 1159 1844 \nL 1159 0 \nL 581 0 \nL 581 3500 \nL 1159 3500 \nL 1159 2956 \nQ 1341 3275 1631 3429 \nQ 1922 3584 2338 3584 \nQ 2397 3584 2469 3576 \nQ 2541 3569 2628 3553 \nL 2631 2963 \nz\n\" id=\"DejaVuSans-72\" transform=\"scale(0.015625)\"/>\n       <path d=\"M 1947 4863 \nL 1947 -844 \nL 622 -844 \nL 622 -397 \nL 1369 -397 \nL 1369 4416 \nL 622 4416 \nL 622 4863 \nL 1947 4863 \nz\n\" id=\"DejaVuSans-5d\" transform=\"scale(0.015625)\"/>\n      </defs>\n      <use transform=\"translate(0 0.4375)\" xlink:href=\"#DejaVuSans-Oblique-2113\"/>\n      <use transform=\"translate(41.308594 0.4375)\" xlink:href=\"#DejaVuSans-Oblique-43\"/>\n      <use transform=\"translate(118.333333 38.71875)scale(0.7)\" xlink:href=\"#DejaVuSans-Oblique-3bd\"/>\n      <use transform=\"translate(157.434896 38.71875)scale(0.7)\" xlink:href=\"#DejaVuSans-Oblique-3ba\"/>\n      <use transform=\"translate(111.132812 -26.90625)scale(0.7)\" xlink:href=\"#DejaVuSans-Oblique-2113\"/>\n      <use transform=\"translate(201.424154 0.4375)\" xlink:href=\"#DejaVuSans-20\"/>\n      <use transform=\"translate(233.211263 0.4375)\" xlink:href=\"#DejaVuSans-5b\"/>\n      <use transform=\"translate(272.224935 0.4375)\" xlink:href=\"#DejaVuSans-4a\"/>\n      <use transform=\"translate(301.717122 0.4375)\" xlink:href=\"#DejaVuSans-79\"/>\n      <use transform=\"translate(360.89681 0.4375)\" xlink:href=\"#DejaVuSans-2f\"/>\n      <use transform=\"translate(394.588216 0.4375)\" xlink:href=\"#DejaVuSans-73\"/>\n      <use transform=\"translate(446.687826 0.4375)\" xlink:href=\"#DejaVuSans-72\"/>\n      <use transform=\"translate(487.801107 0.4375)\" xlink:href=\"#DejaVuSans-5d\"/>\n     </g>\n    </g>\n   </g>\n   <g id=\"line2d_187\">\n    <path clip-path=\"url(#p51a30411ba)\" d=\"M 86.5075 315.503884 \nL 94.962045 315.00861 \nL 103.416591 314.440527 \nL 111.871136 313.790847 \nL 120.325682 313.050625 \nL 128.780227 312.210938 \nL 137.234773 311.262995 \nL 145.689318 310.198056 \nL 154.143864 309.007506 \nL 162.598409 307.683546 \nL 171.052955 306.220593 \nL 179.5075 304.616714 \nL 187.962045 302.873848 \nL 196.416591 300.997511 \nL 204.871136 298.994358 \nL 213.325682 296.895262 \nL 221.780227 294.714057 \nL 230.234773 292.488092 \nL 238.689318 290.259361 \nL 247.143864 288.076726 \nL 255.598409 285.993557 \nL 264.052955 284.064478 \nL 272.5075 282.340248 \nL 280.962045 280.861883 \nL 289.416591 279.65396 \nL 297.871136 278.718727 \nL 306.325682 278.033264 \nL 314.780227 277.551502 \nL 323.234773 277.203309 \nL 331.689318 276.960733 \nL 340.143864 276.757417 \nL 348.598409 276.62214 \nL 357.052955 276.607325 \nL 365.5075 276.852221 \nL 373.962045 277.456405 \nL 382.416591 278.498626 \nL 390.871136 279.939468 \nL 399.325682 281.611992 \nL 407.780227 283.296926 \nL 416.234773 284.823216 \nL 424.689318 286.208443 \nL 433.143864 287.601599 \nL 441.598409 289.143796 \nL 450.052955 290.791421 \nL 458.5075 292.340576 \nL 466.962045 293.687719 \nL 475.416591 294.953019 \nL 483.871136 296.181675 \nL 492.325682 297.28682 \nL 500.780227 298.229287 \nL 509.234773 299.075471 \nL 517.689318 299.780966 \nL 526.143864 300.348807 \nL 534.598409 300.786728 \nL 543.052955 301.088462 \nL 551.5075 301.260493 \nL 559.962045 301.305319 \nL 568.416591 301.22701 \nL 576.871136 301.031722 \nL 585.325682 300.724641 \nL 593.780227 300.314069 \nL 602.234773 299.806329 \nL 610.689318 299.21009 \nL 619.143864 298.534933 \nL 627.598409 297.78987 \nL 636.052955 296.985727 \nL 644.5075 296.134104 \n\" style=\"fill:none;stroke:#1f77b4;stroke-linecap:square;stroke-width:1.5;\"/>\n   </g>\n   <g id=\"line2d_188\">\n    <path clip-path=\"url(#p51a30411ba)\" d=\"M 86.5075 318.534545 \nL 94.962045 318.528799 \nL 103.416591 318.522456 \nL 111.871136 318.515431 \nL 120.325682 318.507675 \nL 128.780227 318.499103 \nL 137.234773 318.489631 \nL 145.689318 318.479163 \nL 154.143864 318.467595 \nL 162.598409 318.454812 \nL 171.052955 318.440685 \nL 179.5075 318.425076 \nL 187.962045 318.407827 \nL 196.416591 318.388768 \nL 204.871136 318.36771 \nL 213.325682 318.344444 \nL 221.780227 318.31874 \nL 230.234773 318.290346 \nL 238.689318 318.258982 \nL 247.143864 318.224342 \nL 255.598409 318.186089 \nL 264.052955 318.143854 \nL 272.5075 318.097232 \nL 280.962045 318.045778 \nL 289.416591 317.98901 \nL 297.871136 317.926405 \nL 306.325682 317.857384 \nL 314.780227 317.781323 \nL 323.234773 317.697557 \nL 331.689318 317.60545 \nL 340.143864 317.504065 \nL 348.598409 317.392658 \nL 357.052955 317.270352 \nL 365.5075 317.136217 \nL 373.962045 316.989271 \nL 382.416591 316.828474 \nL 390.871136 316.652727 \nL 399.325682 316.46087 \nL 407.780227 316.25151 \nL 416.234773 316.023652 \nL 424.689318 315.775764 \nL 433.143864 315.506384 \nL 441.598409 315.213973 \nL 450.052955 314.896915 \nL 458.5075 314.553532 \nL 466.962045 314.182087 \nL 475.416591 313.791599 \nL 483.871136 313.347919 \nL 492.325682 312.881616 \nL 500.780227 312.380037 \nL 509.234773 311.84161 \nL 517.689318 311.264664 \nL 526.143864 310.647686 \nL 534.598409 309.989403 \nL 543.052955 309.288705 \nL 551.5075 308.544906 \nL 559.962045 307.757563 \nL 568.416591 306.926433 \nL 576.871136 306.052458 \nL 585.325682 305.135863 \nL 593.780227 304.179834 \nL 602.234773 303.185551 \nL 610.689318 302.156696 \nL 619.143864 301.098036 \nL 627.598409 300.013991 \nL 636.052955 298.911063 \nL 644.5075 297.796804 \n\" style=\"fill:none;stroke:#1f77b4;stroke-dasharray:9.6,2.4,1.5,2.4;stroke-dashoffset:0;stroke-opacity:0.5;stroke-width:1.5;\"/>\n   </g>\n   <g id=\"line2d_189\">\n    <path clip-path=\"url(#p51a30411ba)\" d=\"M 86.5075 315.558525 \nL 94.962045 315.068997 \nL 103.416591 314.507258 \nL 111.871136 313.864603 \nL 120.325682 313.132137 \nL 128.780227 312.301021 \nL 137.234773 311.362551 \nL 145.689318 310.30808 \nL 154.143864 309.129098 \nL 162.598409 307.817921 \nL 171.052955 306.369094 \nL 179.5075 304.780825 \nL 187.962045 303.055208 \nL 196.416591 301.19793 \nL 204.871136 299.215836 \nL 213.325682 297.140005 \nL 221.780227 294.984504 \nL 230.234773 292.786933 \nL 238.689318 290.589566 \nL 247.143864 288.441571 \nL 255.598409 286.396654 \nL 264.052955 284.509811 \nL 272.5075 282.832203 \nL 280.962045 281.405291 \nL 289.416591 280.254138 \nL 297.871136 279.381508 \nL 306.325682 278.765067 \nL 314.780227 278.359366 \nL 323.234773 278.094939 \nL 331.689318 277.94447 \nL 340.143864 277.842539 \nL 348.598409 277.818669 \nL 357.052955 277.92616 \nL 365.5075 278.305191 \nL 373.962045 279.056321 \nL 382.416591 280.259339 \nL 390.871136 281.875928 \nL 399.325682 283.740308 \nL 407.780227 285.634603 \nL 416.234773 287.388752 \nL 424.689318 289.021866 \nL 433.143864 290.684402 \nL 441.598409 292.519011 \nL 450.052955 294.483693 \nL 458.5075 296.37623 \nL 466.962045 298.094819 \nL 475.416591 299.750607 \nL 483.871136 301.422943 \nL 492.325682 302.994391 \nL 500.780227 304.438437 \nL 509.234773 305.823048 \nL 517.689318 307.105489 \nL 526.143864 308.290308 \nL 534.598409 309.386512 \nL 543.052955 310.388944 \nL 551.5075 311.304773 \nL 559.962045 312.136943 \nL 568.416591 312.889765 \nL 576.871136 313.568451 \nL 585.325682 314.177964 \nL 593.780227 314.723422 \nL 602.234773 315.209964 \nL 610.689318 315.642581 \nL 619.143864 316.026084 \nL 627.598409 316.365065 \nL 636.052955 316.663851 \nL 644.5075 316.926486 \n\" style=\"fill:none;stroke:#1f77b4;stroke-dasharray:5.55,2.4;stroke-dashoffset:0;stroke-opacity:0.5;stroke-width:1.5;\"/>\n   </g>\n   <g id=\"line2d_190\">\n    <path clip-path=\"url(#p51a30411ba)\" d=\"M 86.5075 307.921821 \nL 94.962045 306.252763 \nL 103.416591 304.347576 \nL 111.871136 302.179574 \nL 120.325682 299.722052 \nL 128.780227 296.949205 \nL 137.234773 293.836425 \nL 145.689318 290.359932 \nL 154.143864 286.496896 \nL 162.598409 282.227668 \nL 171.052955 277.540582 \nL 179.5075 272.436822 \nL 187.962045 266.930697 \nL 196.416591 261.036499 \nL 204.871136 254.82991 \nL 213.325682 248.343634 \nL 221.780227 241.678063 \nL 230.234773 234.941965 \nL 238.689318 228.268433 \nL 247.143864 221.807217 \nL 255.598409 215.693852 \nL 264.052955 210.151569 \nL 272.5075 205.249981 \nL 280.962045 201.113235 \nL 289.416591 197.78944 \nL 297.871136 195.24028 \nL 306.325682 193.435899 \nL 314.780227 192.1729 \nL 323.234773 191.301929 \nL 331.689318 190.682423 \nL 340.143864 190.253039 \nL 348.598409 190.118668 \nL 357.052955 190.480161 \nL 365.5075 191.695933 \nL 373.962045 194.035566 \nL 382.416591 197.603705 \nL 390.871136 202.168519 \nL 399.325682 207.204882 \nL 407.780227 212.147976 \nL 416.234773 216.652222 \nL 424.689318 220.875236 \nL 433.143864 225.201589 \nL 441.598409 229.875791 \nL 450.052955 234.677774 \nL 458.5075 239.118865 \nL 466.962045 243.038526 \nL 475.416591 246.69988 \nL 483.871136 250.215494 \nL 492.325682 253.302956 \nL 500.780227 255.933646 \nL 509.234773 258.235434 \nL 517.689318 260.107343 \nL 526.143864 261.565106 \nL 534.598409 262.624295 \nL 543.052955 263.277316 \nL 551.5075 263.541437 \nL 559.962045 263.428531 \nL 568.416591 262.953421 \nL 576.871136 262.137396 \nL 585.325682 260.999129 \nL 593.780227 259.567139 \nL 602.234773 257.867489 \nL 610.689318 255.92142 \nL 619.143864 253.758296 \nL 627.598409 251.420673 \nL 636.052955 248.93864 \nL 644.5075 246.350055 \n\" style=\"fill:none;stroke:#ff7f0e;stroke-linecap:square;stroke-width:1.5;\"/>\n   </g>\n   <g id=\"line2d_191\">\n    <path clip-path=\"url(#p51a30411ba)\" d=\"M 86.5075 318.401225 \nL 94.962045 318.381458 \nL 103.416591 318.359612 \nL 111.871136 318.335469 \nL 120.325682 318.308788 \nL 128.780227 318.279302 \nL 137.234773 318.246715 \nL 145.689318 318.210703 \nL 154.143864 318.170906 \nL 162.598409 318.126926 \nL 171.052955 318.078325 \nL 179.5075 318.024617 \nL 187.962045 317.965268 \nL 196.416591 317.899687 \nL 204.871136 317.82722 \nL 213.325682 317.74715 \nL 221.780227 317.658682 \nL 230.234773 317.56094 \nL 238.689318 317.452961 \nL 247.143864 317.333681 \nL 255.598409 317.201933 \nL 264.052955 317.05643 \nL 272.5075 316.895762 \nL 280.962045 316.71838 \nL 289.416591 316.522589 \nL 297.871136 316.306537 \nL 306.325682 316.068206 \nL 314.780227 315.8054 \nL 323.234773 315.515743 \nL 331.689318 315.19667 \nL 340.143864 314.845427 \nL 348.598409 314.459076 \nL 357.052955 314.032964 \nL 365.5075 313.56682 \nL 373.962045 313.055755 \nL 382.416591 312.49786 \nL 390.871136 311.885202 \nL 399.325682 311.217603 \nL 407.780227 310.490328 \nL 416.234773 309.699507 \nL 424.689318 308.841174 \nL 433.143864 307.911215 \nL 441.598409 306.905299 \nL 450.052955 305.818817 \nL 458.5075 304.646603 \nL 466.962045 303.384121 \nL 475.416591 302.024989 \nL 483.871136 300.564529 \nL 492.325682 298.998162 \nL 500.780227 297.319443 \nL 509.234773 295.52363 \nL 517.689318 293.607693 \nL 526.143864 291.566629 \nL 534.598409 289.400582 \nL 543.052955 287.106331 \nL 551.5075 284.683465 \nL 559.962045 282.132695 \nL 568.416591 279.455232 \nL 576.871136 276.656599 \nL 585.325682 273.740157 \nL 593.780227 270.718872 \nL 602.234773 267.603331 \nL 610.689318 264.399812 \nL 619.143864 261.1233 \nL 627.598409 257.802708 \nL 636.052955 254.455295 \nL 644.5075 251.106955 \n\" style=\"fill:none;stroke:#ff7f0e;stroke-dasharray:9.6,2.4,1.5,2.4;stroke-dashoffset:0;stroke-opacity:0.5;stroke-width:1.5;\"/>\n   </g>\n   <g id=\"line2d_192\">\n    <path clip-path=\"url(#p51a30411ba)\" d=\"M 86.5075 308.109783 \nL 94.962045 306.460492 \nL 103.416591 304.57715 \nL 111.871136 302.433292 \nL 120.325682 300.00245 \nL 128.780227 297.25909 \nL 137.234773 294.178896 \nL 145.689318 290.738416 \nL 154.143864 286.915176 \nL 162.598409 282.689929 \nL 171.052955 278.051444 \nL 179.5075 273.001392 \nL 187.962045 267.554616 \nL 196.416591 261.725999 \nL 204.871136 255.591876 \nL 213.325682 249.185671 \nL 221.780227 242.608568 \nL 230.234773 235.970212 \nL 238.689318 229.404659 \nL 247.143864 223.062723 \nL 255.598409 217.081106 \nL 264.052955 211.684326 \nL 272.5075 206.943406 \nL 280.962045 202.984042 \nL 289.416591 199.856038 \nL 297.871136 197.522929 \nL 306.325682 195.956879 \nL 314.780227 194.956686 \nL 323.234773 194.375373 \nL 331.689318 194.07494 \nL 340.143864 193.996799 \nL 348.598409 194.248779 \nL 357.052955 195.036383 \nL 365.5075 196.7183 \nL 373.962045 199.568997 \nL 382.416591 203.695032 \nL 390.871136 208.872504 \nL 399.325682 214.576466 \nL 407.780227 220.246834 \nL 416.234773 225.541901 \nL 424.689318 230.623248 \nL 433.143864 235.879561 \nL 441.598409 241.559678 \nL 450.052955 247.448144 \nL 458.5075 253.061448 \nL 466.962045 258.243591 \nL 475.416591 263.264078 \nL 483.871136 268.240152 \nL 492.325682 272.893981 \nL 500.780227 277.20339 \nL 509.234773 281.300991 \nL 517.689318 285.088837 \nL 526.143864 288.587664 \nL 534.598409 291.812899 \nL 543.052955 294.760171 \nL 551.5075 297.447159 \nL 559.962045 299.885023 \nL 568.416591 302.087377 \nL 576.871136 304.069983 \nL 585.325682 305.848159 \nL 593.780227 307.437453 \nL 602.234773 308.853345 \nL 610.689318 310.110795 \nL 619.143864 311.224182 \nL 627.598409 312.207152 \nL 636.052955 313.072533 \nL 644.5075 313.832287 \n\" style=\"fill:none;stroke:#ff7f0e;stroke-dasharray:5.55,2.4;stroke-dashoffset:0;stroke-opacity:0.5;stroke-width:1.5;\"/>\n   </g>\n   <g id=\"line2d_193\">\n    <path clip-path=\"url(#p51a30411ba)\" d=\"M 86.5075 288.18131 \nL 94.962045 283.633612 \nL 103.416591 278.487067 \nL 111.871136 272.694377 \nL 120.325682 266.176975 \nL 128.780227 258.895097 \nL 137.234773 250.788969 \nL 145.689318 241.849833 \nL 154.143864 232.025578 \nL 162.598409 221.315405 \nL 171.052955 209.674941 \nL 179.5075 197.158705 \nL 187.962045 183.836447 \nL 196.416591 169.802952 \nL 204.871136 155.189558 \nL 213.325682 140.148288 \nL 221.780227 125.031009 \nL 230.234773 109.993382 \nL 238.689318 95.339328 \nL 247.143864 81.548863 \nL 255.598409 68.804233 \nL 264.052955 57.454531 \nL 272.5075 47.720669 \nL 280.962045 39.779987 \nL 289.416591 33.601975 \nL 297.871136 29.05825 \nL 306.325682 25.947936 \nL 314.780227 23.893812 \nL 323.234773 22.658911 \nL 331.689318 22.025455 \nL 340.143864 22.047804 \nL 348.598409 23.097771 \nL 357.052955 25.659955 \nL 365.5075 30.371825 \nL 373.962045 37.507378 \nL 382.416591 46.865512 \nL 390.871136 57.699671 \nL 399.325682 68.842118 \nL 407.780227 79.473104 \nL 416.234773 89.354148 \nL 424.689318 99.015932 \nL 433.143864 108.964166 \nL 441.598409 119.242244 \nL 450.052955 129.198485 \nL 458.5075 138.254901 \nL 466.962045 146.38114 \nL 475.416591 153.899917 \nL 483.871136 160.779953 \nL 492.325682 166.691693 \nL 500.780227 171.638357 \nL 509.234773 175.740941 \nL 517.689318 178.875285 \nL 526.143864 181.087278 \nL 534.598409 182.402095 \nL 543.052955 182.826905 \nL 551.5075 182.397824 \nL 559.962045 181.181798 \nL 568.416591 179.213533 \nL 576.871136 176.52504 \nL 585.325682 173.2264 \nL 593.780227 169.34376 \nL 602.234773 164.956221 \nL 610.689318 160.141671 \nL 619.143864 154.981135 \nL 627.598409 149.568433 \nL 636.052955 143.968257 \nL 644.5075 138.291433 \n\" style=\"fill:none;stroke:#2ca02c;stroke-linecap:square;stroke-width:1.5;\"/>\n   </g>\n   <g id=\"line2d_194\">\n    <path clip-path=\"url(#p51a30411ba)\" d=\"M 86.5075 318.061825 \nL 94.962045 318.006364 \nL 103.416591 317.945071 \nL 111.871136 317.877333 \nL 120.325682 317.802472 \nL 128.780227 317.71974 \nL 137.234773 317.62831 \nL 145.689318 317.527268 \nL 154.143864 317.415603 \nL 162.598409 317.292201 \nL 171.052955 317.15583 \nL 179.5075 317.005128 \nL 187.962045 316.838592 \nL 196.416591 316.654562 \nL 204.871136 316.451207 \nL 213.325682 316.226503 \nL 221.780227 315.978219 \nL 230.234773 315.703893 \nL 238.689318 315.40081 \nL 247.143864 315.065978 \nL 255.598409 314.696104 \nL 264.052955 314.28756 \nL 272.5075 313.83636 \nL 280.962045 313.338126 \nL 289.416591 312.788054 \nL 297.871136 312.180888 \nL 306.325682 311.510881 \nL 314.780227 310.771772 \nL 323.234773 309.956756 \nL 331.689318 309.058469 \nL 340.143864 308.068973 \nL 348.598409 306.97976 \nL 357.052955 305.781773 \nL 365.5075 304.465449 \nL 373.962045 303.020786 \nL 382.416591 301.437408 \nL 390.871136 299.704849 \nL 399.325682 297.812505 \nL 407.780227 295.750012 \nL 416.234773 293.50727 \nL 424.689318 291.074766 \nL 433.143864 288.443767 \nL 441.598409 285.606501 \nL 450.052955 282.538183 \nL 458.5075 279.267083 \nL 466.962045 275.768099 \nL 475.416591 272.033531 \nL 483.871136 268.049761 \nL 492.325682 263.823061 \nL 500.780227 259.3272 \nL 509.234773 254.561137 \nL 517.689318 249.516964 \nL 526.143864 244.191565 \nL 534.598409 238.593812 \nL 543.052955 232.715274 \nL 551.5075 226.559129 \nL 559.962045 220.161607 \nL 568.416591 213.52448 \nL 576.871136 206.643938 \nL 585.325682 199.594699 \nL 593.780227 192.367756 \nL 602.234773 185.007679 \nL 610.689318 177.559228 \nL 619.143864 170.071813 \nL 627.598409 162.609481 \nL 636.052955 155.209051 \nL 644.5075 147.95548 \n\" style=\"fill:none;stroke:#2ca02c;stroke-dasharray:9.6,2.4,1.5,2.4;stroke-dashoffset:0;stroke-opacity:0.5;stroke-width:1.5;\"/>\n   </g>\n   <g id=\"line2d_195\">\n    <path clip-path=\"url(#p51a30411ba)\" d=\"M 86.5075 288.708672 \nL 94.962045 284.216435 \nL 103.416591 279.131183 \nL 111.871136 273.406231 \nL 120.325682 266.96369 \nL 128.780227 259.764543 \nL 137.234773 251.749846 \nL 145.689318 242.911752 \nL 154.143864 233.199162 \nL 162.598409 222.612391 \nL 171.052955 211.108298 \nL 179.5075 198.742765 \nL 187.962045 185.587042 \nL 196.416591 171.737576 \nL 204.871136 157.327538 \nL 213.325682 142.510971 \nL 221.780227 127.641977 \nL 230.234773 112.878677 \nL 238.689318 98.527706 \nL 247.143864 85.072071 \nL 255.598409 72.697316 \nL 264.052955 61.756158 \nL 272.5075 52.473496 \nL 280.962045 45.031048 \nL 289.416591 39.403107 \nL 297.871136 35.466549 \nL 306.325682 33.026242 \nL 314.780227 31.711228 \nL 323.234773 31.291342 \nL 331.689318 31.556172 \nL 340.143864 32.568018 \nL 348.598409 34.707198 \nL 357.052955 38.467369 \nL 365.5075 44.495563 \nL 373.962045 53.075779 \nL 382.416591 64.017291 \nL 390.871136 76.584009 \nL 399.325682 89.6188 \nL 407.780227 102.31228 \nL 416.234773 114.436065 \nL 424.689318 126.530353 \nL 433.143864 139.109586 \nL 441.598409 152.22493 \nL 450.052955 165.249489 \nL 458.5075 177.577005 \nL 466.962045 189.202228 \nL 475.416591 200.455573 \nL 483.871136 211.31938 \nL 492.325682 221.45782 \nL 500.780227 230.900343 \nL 509.234773 239.768991 \nL 517.689318 247.947508 \nL 526.143864 255.4849 \nL 534.598409 262.397469 \nL 543.052955 268.700818 \nL 551.5075 274.427881 \nL 559.962045 279.609378 \nL 568.416591 284.27824 \nL 576.871136 288.470288 \nL 585.325682 292.220888 \nL 593.780227 295.565191 \nL 602.234773 298.537729 \nL 610.689318 301.171629 \nL 619.143864 303.498509 \nL 627.598409 305.548139 \nL 636.052955 307.348393 \nL 644.5075 308.92514 \n\" style=\"fill:none;stroke:#2ca02c;stroke-dasharray:5.55,2.4;stroke-dashoffset:0;stroke-opacity:0.5;stroke-width:1.5;\"/>\n   </g>\n   <g id=\"patch_3\">\n    <path d=\"M 58.6075 333.36 \nL 58.6075 7.2 \n\" style=\"fill:none;stroke:#000000;stroke-linecap:square;stroke-linejoin:miter;stroke-width:0.8;\"/>\n   </g>\n   <g id=\"patch_4\">\n    <path d=\"M 672.4075 333.36 \nL 672.4075 7.2 \n\" style=\"fill:none;stroke:#000000;stroke-linecap:square;stroke-linejoin:miter;stroke-width:0.8;\"/>\n   </g>\n   <g id=\"patch_5\">\n    <path d=\"M 58.6075 333.36 \nL 672.4075 333.36 \n\" style=\"fill:none;stroke:#000000;stroke-linecap:square;stroke-linejoin:miter;stroke-width:0.8;\"/>\n   </g>\n   <g id=\"patch_6\">\n    <path d=\"M 58.6075 7.2 \nL 672.4075 7.2 \n\" style=\"fill:none;stroke:#000000;stroke-linecap:square;stroke-linejoin:miter;stroke-width:0.8;\"/>\n   </g>\n   <g id=\"legend_1\">\n    <g id=\"patch_7\">\n     <path d=\"M 590.624687 88.590625 \nL 665.4075 88.590625 \nQ 667.4075 88.590625 667.4075 86.590625 \nL 667.4075 14.2 \nQ 667.4075 12.2 665.4075 12.2 \nL 590.624687 12.2 \nQ 588.624687 12.2 588.624687 14.2 \nL 588.624687 86.590625 \nQ 588.624687 88.590625 590.624687 88.590625 \nz\n\" style=\"fill:#ffffff;opacity:0.8;stroke:#cccccc;stroke-linejoin:miter;\"/>\n    </g>\n    <g id=\"line2d_196\">\n     <path d=\"M 592.624687 20.298437 \nL 612.624687 20.298437 \n\" style=\"fill:none;stroke:#1f77b4;stroke-linecap:square;stroke-width:1.5;\"/>\n    </g>\n    <g id=\"line2d_197\"/>\n    <g id=\"text_15\">\n     <!-- 353 GHz -->\n     <g transform=\"translate(620.624687 23.798437)scale(0.1 -0.1)\">\n      <defs>\n       <path d=\"M 691 4666 \nL 3169 4666 \nL 3169 4134 \nL 1269 4134 \nL 1269 2991 \nQ 1406 3038 1543 3061 \nQ 1681 3084 1819 3084 \nQ 2600 3084 3056 2656 \nQ 3513 2228 3513 1497 \nQ 3513 744 3044 326 \nQ 2575 -91 1722 -91 \nQ 1428 -91 1123 -41 \nQ 819 9 494 109 \nL 494 744 \nQ 775 591 1075 516 \nQ 1375 441 1709 441 \nQ 2250 441 2565 725 \nQ 2881 1009 2881 1497 \nQ 2881 1984 2565 2268 \nQ 2250 2553 1709 2553 \nQ 1456 2553 1204 2497 \nQ 953 2441 691 2322 \nL 691 4666 \nz\n\" id=\"DejaVuSans-35\" transform=\"scale(0.015625)\"/>\n       <path d=\"M 3809 666 \nL 3809 1919 \nL 2778 1919 \nL 2778 2438 \nL 4434 2438 \nL 4434 434 \nQ 4069 175 3628 42 \nQ 3188 -91 2688 -91 \nQ 1594 -91 976 548 \nQ 359 1188 359 2328 \nQ 359 3472 976 4111 \nQ 1594 4750 2688 4750 \nQ 3144 4750 3555 4637 \nQ 3966 4525 4313 4306 \nL 4313 3634 \nQ 3963 3931 3569 4081 \nQ 3175 4231 2741 4231 \nQ 1884 4231 1454 3753 \nQ 1025 3275 1025 2328 \nQ 1025 1384 1454 906 \nQ 1884 428 2741 428 \nQ 3075 428 3337 486 \nQ 3600 544 3809 666 \nz\n\" id=\"DejaVuSans-47\" transform=\"scale(0.015625)\"/>\n       <path d=\"M 628 4666 \nL 1259 4666 \nL 1259 2753 \nL 3553 2753 \nL 3553 4666 \nL 4184 4666 \nL 4184 0 \nL 3553 0 \nL 3553 2222 \nL 1259 2222 \nL 1259 0 \nL 628 0 \nL 628 4666 \nz\n\" id=\"DejaVuSans-48\" transform=\"scale(0.015625)\"/>\n       <path d=\"M 353 3500 \nL 3084 3500 \nL 3084 2975 \nL 922 459 \nL 3084 459 \nL 3084 0 \nL 275 0 \nL 275 525 \nL 2438 3041 \nL 353 3041 \nL 353 3500 \nz\n\" id=\"DejaVuSans-7a\" transform=\"scale(0.015625)\"/>\n      </defs>\n      <use xlink:href=\"#DejaVuSans-33\"/>\n      <use x=\"63.623047\" xlink:href=\"#DejaVuSans-35\"/>\n      <use x=\"127.246094\" xlink:href=\"#DejaVuSans-33\"/>\n      <use x=\"190.869141\" xlink:href=\"#DejaVuSans-20\"/>\n      <use x=\"222.65625\" xlink:href=\"#DejaVuSans-47\"/>\n      <use x=\"300.146484\" xlink:href=\"#DejaVuSans-48\"/>\n      <use x=\"375.341797\" xlink:href=\"#DejaVuSans-7a\"/>\n     </g>\n    </g>\n    <g id=\"line2d_198\">\n     <path d=\"M 592.624687 34.976562 \nL 612.624687 34.976562 \n\" style=\"fill:none;stroke:#ff7f0e;stroke-linecap:square;stroke-width:1.5;\"/>\n    </g>\n    <g id=\"line2d_199\"/>\n    <g id=\"text_16\">\n     <!-- 545 GHz -->\n     <g transform=\"translate(620.624687 38.476562)scale(0.1 -0.1)\">\n      <use xlink:href=\"#DejaVuSans-35\"/>\n      <use x=\"63.623047\" xlink:href=\"#DejaVuSans-34\"/>\n      <use x=\"127.246094\" xlink:href=\"#DejaVuSans-35\"/>\n      <use x=\"190.869141\" xlink:href=\"#DejaVuSans-20\"/>\n      <use x=\"222.65625\" xlink:href=\"#DejaVuSans-47\"/>\n      <use x=\"300.146484\" xlink:href=\"#DejaVuSans-48\"/>\n      <use x=\"375.341797\" xlink:href=\"#DejaVuSans-7a\"/>\n     </g>\n    </g>\n    <g id=\"line2d_200\">\n     <path d=\"M 592.624687 49.654687 \nL 612.624687 49.654687 \n\" style=\"fill:none;stroke:#2ca02c;stroke-linecap:square;stroke-width:1.5;\"/>\n    </g>\n    <g id=\"line2d_201\"/>\n    <g id=\"text_17\">\n     <!-- 857 GHz -->\n     <g transform=\"translate(620.624687 53.154687)scale(0.1 -0.1)\">\n      <defs>\n       <path d=\"M 525 4666 \nL 3525 4666 \nL 3525 4397 \nL 1831 0 \nL 1172 0 \nL 2766 4134 \nL 525 4134 \nL 525 4666 \nz\n\" id=\"DejaVuSans-37\" transform=\"scale(0.015625)\"/>\n      </defs>\n      <use xlink:href=\"#DejaVuSans-38\"/>\n      <use x=\"63.623047\" xlink:href=\"#DejaVuSans-35\"/>\n      <use x=\"127.246094\" xlink:href=\"#DejaVuSans-37\"/>\n      <use x=\"190.869141\" xlink:href=\"#DejaVuSans-20\"/>\n      <use x=\"222.65625\" xlink:href=\"#DejaVuSans-47\"/>\n      <use x=\"300.146484\" xlink:href=\"#DejaVuSans-48\"/>\n      <use x=\"375.341797\" xlink:href=\"#DejaVuSans-7a\"/>\n     </g>\n    </g>\n    <g id=\"line2d_202\">\n     <path d=\"M 592.624687 64.332812 \nL 612.624687 64.332812 \n\" style=\"fill:none;stroke:#000000;stroke-dasharray:9.6,2.4,1.5,2.4;stroke-dashoffset:0;stroke-opacity:0.5;stroke-width:1.5;\"/>\n    </g>\n    <g id=\"line2d_203\"/>\n    <g id=\"text_18\">\n     <!-- 1h -->\n     <g transform=\"translate(620.624687 67.832812)scale(0.1 -0.1)\">\n      <defs>\n       <path d=\"M 3513 2113 \nL 3513 0 \nL 2938 0 \nL 2938 2094 \nQ 2938 2591 2744 2837 \nQ 2550 3084 2163 3084 \nQ 1697 3084 1428 2787 \nQ 1159 2491 1159 1978 \nL 1159 0 \nL 581 0 \nL 581 4863 \nL 1159 4863 \nL 1159 2956 \nQ 1366 3272 1645 3428 \nQ 1925 3584 2291 3584 \nQ 2894 3584 3203 3211 \nQ 3513 2838 3513 2113 \nz\n\" id=\"DejaVuSans-68\" transform=\"scale(0.015625)\"/>\n      </defs>\n      <use xlink:href=\"#DejaVuSans-31\"/>\n      <use x=\"63.623047\" xlink:href=\"#DejaVuSans-68\"/>\n     </g>\n    </g>\n    <g id=\"line2d_204\">\n     <path d=\"M 592.624687 79.010937 \nL 612.624687 79.010937 \n\" style=\"fill:none;stroke:#000000;stroke-dasharray:5.55,2.4;stroke-dashoffset:0;stroke-width:1.5;\"/>\n    </g>\n    <g id=\"line2d_205\"/>\n    <g id=\"text_19\">\n     <!-- 2h -->\n     <g transform=\"translate(620.624687 82.510937)scale(0.1 -0.1)\">\n      <use xlink:href=\"#DejaVuSans-32\"/>\n      <use x=\"63.623047\" xlink:href=\"#DejaVuSans-68\"/>\n     </g>\n    </g>\n   </g>\n  </g>\n </g>\n <defs>\n  <clipPath id=\"p51a30411ba\">\n   <rect height=\"326.16\" width=\"613.8\" x=\"58.6075\" y=\"7.2\"/>\n  </clipPath>\n </defs>\n</svg>\n",
      "text/plain": [
       "<Figure size 792x432 with 1 Axes>"
      ]
     },
     "metadata": {
      "needs_background": "light"
     },
     "output_type": "display_data"
    }
   ],
   "source": [
    "#Get Data\n",
    "ells = np.asarray(Dl_lens_cib['545']['ell'])\n",
    "factor = cl_to_dl(ells)\n",
    "\n",
    "#Font Settings\n",
    "label_size = 15\n",
    "title_size = 22\n",
    "legend_size = 13\n",
    "\n",
    "#Colors\n",
    "colors = plt.rcParams['axes.prop_cycle'].by_key()['color']\n",
    "a = 0.5\n",
    "\n",
    "for i, nu in enumerate(nu_list):\n",
    "    #Extract Data\n",
    "    nu_name = str(nu)\n",
    "    cl_1h = np.asarray(Dl_lens_cib[str(nu)]['1h']) / factor\n",
    "    cl_2h = np.asarray(Dl_lens_cib[str(nu)]['2h']) / factor\n",
    "    cl_tot = cl_1h + cl_2h\n",
    "\n",
    "    #Plot\n",
    "    plt.plot(ells, ells * cl_tot, label= nu_name + ' GHz', color=colors[i])\n",
    "    plt.plot(ells, ells * cl_1h, '-.', alpha= a, color=colors[i])\n",
    "    plt.plot(ells, ells * cl_2h, '--', alpha= a, color=colors[i])\n",
    "\n",
    "    #Figure Size\n",
    "    ax = plt.gca()\n",
    "    fig = plt.gcf()\n",
    "    fig.set_figheight(6)\n",
    "    fig.set_figwidth(11)\n",
    "    \n",
    "\n",
    "    #Legend\n",
    "    line_1h = mpl.lines.Line2D([0], [0], label='1h', color='black', linestyle='-.', alpha= a)\n",
    "    line_2h = mpl.lines.Line2D([0], [0], label='2h', color='black', linestyle='--')\n",
    "    h, l = ax.get_legend_handles_labels()\n",
    "    h.extend([line_1h, line_2h])\n",
    "    plt.legend(handles= h)\n",
    "\n",
    "    #Labels\n",
    "    plt.xlabel(r'$\\ell$', fontsize= title_size)\n",
    "    plt.ylabel(r'$\\ell C^{\\nu\\kappa}_{\\ell}$ [Jy/sr]', size= title_size)\n",
    "    plt.xscale('log')\n",
    "    # plt.yscale('log')\n",
    "    \n",
    "    #Ticks\n",
    "    ax.yaxis.set_minor_locator(mpl.ticker.MultipleLocator(0.5))\n",
    "    ax.tick_params(axis = 'x',which='both',length=5,direction='in', top=True, right=True, labelsize=label_size, pad=10)\n",
    "    ax.tick_params(axis = 'y',which='both',length=5,direction='in', top=True, right=True, labelsize=label_size, pad=5)\n",
    "    ax.grid( visible=True, which=\"both\", alpha=0.2, linestyle='--')"
   ]
  }
 ],
 "metadata": {
  "kernelspec": {
   "display_name": "Python 3.9.13 ('base': conda)",
   "language": "python",
   "name": "python3"
  },
  "language_info": {
   "codemirror_mode": {
    "name": "ipython",
    "version": 3
   },
   "file_extension": ".py",
   "mimetype": "text/x-python",
   "name": "python",
   "nbconvert_exporter": "python",
   "pygments_lexer": "ipython3",
   "version": "3.9.13"
  },
  "orig_nbformat": 4,
  "vscode": {
   "interpreter": {
    "hash": "2ad565f1b5e7dbf9f0330bb692af7394eacf839d42e6c67731ff37b5e1249471"
   }
  }
 },
 "nbformat": 4,
 "nbformat_minor": 2
}
